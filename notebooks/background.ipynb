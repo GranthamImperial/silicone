{
 "cells": [
  {
   "cell_type": "markdown",
   "metadata": {},
   "source": [
    "# Background\n",
    "\n",
    "Note: this notebook is a work in progress, simply a scribbling of notes at the moment."
   ]
  },
  {
   "cell_type": "markdown",
   "metadata": {},
   "source": [
    "## Imports"
   ]
  },
  {
   "cell_type": "code",
   "execution_count": 1,
   "metadata": {},
   "outputs": [
    {
     "data": {
      "application/javascript": [
       "IPython.OutputArea.prototype._should_scroll = function(lines) { return false; }"
      ],
      "text/plain": [
       "<IPython.core.display.Javascript object>"
      ]
     },
     "metadata": {},
     "output_type": "display_data"
    },
    {
     "name": "stderr",
     "output_type": "stream",
     "text": [
      "numpy.ufunc size changed, may indicate binary incompatibility. Expected 192 from C header, got 216 from PyObject\n"
     ]
    }
   ],
   "source": [
    "# NBVAL_IGNORE_OUTPUT\n",
    "import os.path\n",
    "\n",
    "import numpy as np\n",
    "import pandas as pd\n",
    "import pyam\n",
    "import seaborn as sns\n",
    "import statsmodels.api as sm\n",
    "import statsmodels.formula.api as smf"
   ]
  },
  {
   "cell_type": "markdown",
   "metadata": {},
   "source": [
    "## Constants"
   ]
  },
  {
   "cell_type": "code",
   "execution_count": 2,
   "metadata": {},
   "outputs": [],
   "source": [
    "SR15_SCENARIOS = \"./sr15_scenarios.csv\""
   ]
  },
  {
   "cell_type": "markdown",
   "metadata": {},
   "source": [
    "## Download SR1.5 scenarios\n",
    "\n",
    "Here we download the SR1.5 scenarios from the SR1.5 database."
   ]
  },
  {
   "cell_type": "code",
   "execution_count": 3,
   "metadata": {},
   "outputs": [],
   "source": [
    "def get_sr15_scenarios(output_file):\n",
    "    conn = pyam.iiasa.Connection(\"iamc15\")\n",
    "    valid_model_ids = [\n",
    "        \"MESSAGE*\",\n",
    "        \"AIM*\",\n",
    "        \"C-ROADS*\",\n",
    "         # \"GCAM*\", # These are commented out for brevity of runs\n",
    "        # \"IEA*\",\n",
    "        # \"IMAGE*\",\n",
    "        # \"MERGE*\",\n",
    "        # \"POLES*\",\n",
    "        # \"REMIND*\",\n",
    "        # \"Reference*\",  # missing required columns, not sure why\n",
    "        # \"Shell*\",  # missing required columns, not sure why\n",
    "        \"WITCH*\"\n",
    "        # \"GENeSYS-MOD\",  # can't download, not sure why\n",
    "    ]\n",
    "    variables_to_fetch = [\n",
    "        \"Emissions*\",\n",
    "    ]\n",
    "    for model in valid_model_ids:\n",
    "        print(\"Fetching data for {}\".format(model))\n",
    "        for variable in variables_to_fetch:\n",
    "            print(\"Fetching {}\".format(variable))\n",
    "            var_df = conn.query(model=model, variable=variable, region='World')\n",
    "            try:\n",
    "                df.append(var_df, inplace=True)\n",
    "            except NameError:\n",
    "                df = pyam.IamDataFrame(var_df)\n",
    "\n",
    "    print(\"Writing to {}\".format(output_file))\n",
    "    df.to_csv(output_file)"
   ]
  },
  {
   "cell_type": "code",
   "execution_count": 4,
   "metadata": {},
   "outputs": [],
   "source": [
    "# NBVAL_IGNORE_OUTPUT\n",
    "if not os.path.isfile(SR15_SCENARIOS):\n",
    "    get_sr15_scenarios(SR15_SCENARIOS)"
   ]
  },
  {
   "cell_type": "markdown",
   "metadata": {},
   "source": [
    "## Load SR1.5 data\n",
    "\n",
    "Here we load the SR1.5 data into an `pyam.IamDataFrame`."
   ]
  },
  {
   "cell_type": "code",
   "execution_count": 5,
   "metadata": {},
   "outputs": [
    {
     "name": "stderr",
     "output_type": "stream",
     "text": [
      "INFO:root:Reading `./sr15_scenarios.csv`\n"
     ]
    },
    {
     "data": {
      "text/html": [
       "<div>\n",
       "<style scoped>\n",
       "    .dataframe tbody tr th:only-of-type {\n",
       "        vertical-align: middle;\n",
       "    }\n",
       "\n",
       "    .dataframe tbody tr th {\n",
       "        vertical-align: top;\n",
       "    }\n",
       "\n",
       "    .dataframe thead th {\n",
       "        text-align: right;\n",
       "    }\n",
       "</style>\n",
       "<table border=\"1\" class=\"dataframe\">\n",
       "  <thead>\n",
       "    <tr style=\"text-align: right;\">\n",
       "      <th></th>\n",
       "      <th>model</th>\n",
       "      <th>scenario</th>\n",
       "      <th>region</th>\n",
       "      <th>variable</th>\n",
       "      <th>unit</th>\n",
       "      <th>year</th>\n",
       "      <th>value</th>\n",
       "    </tr>\n",
       "  </thead>\n",
       "  <tbody>\n",
       "    <tr>\n",
       "      <th>0</th>\n",
       "      <td>AIM/CGE 2.0</td>\n",
       "      <td>ADVANCE_2020_1.5C-2100</td>\n",
       "      <td>World</td>\n",
       "      <td>Emissions|BC</td>\n",
       "      <td>Mt BC/yr</td>\n",
       "      <td>2005</td>\n",
       "      <td>8.3367</td>\n",
       "    </tr>\n",
       "    <tr>\n",
       "      <th>1</th>\n",
       "      <td>AIM/CGE 2.0</td>\n",
       "      <td>ADVANCE_2020_1.5C-2100</td>\n",
       "      <td>World</td>\n",
       "      <td>Emissions|BC</td>\n",
       "      <td>Mt BC/yr</td>\n",
       "      <td>2010</td>\n",
       "      <td>7.6408</td>\n",
       "    </tr>\n",
       "    <tr>\n",
       "      <th>2</th>\n",
       "      <td>AIM/CGE 2.0</td>\n",
       "      <td>ADVANCE_2020_1.5C-2100</td>\n",
       "      <td>World</td>\n",
       "      <td>Emissions|BC</td>\n",
       "      <td>Mt BC/yr</td>\n",
       "      <td>2015</td>\n",
       "      <td>7.2724</td>\n",
       "    </tr>\n",
       "    <tr>\n",
       "      <th>3</th>\n",
       "      <td>AIM/CGE 2.0</td>\n",
       "      <td>ADVANCE_2020_1.5C-2100</td>\n",
       "      <td>World</td>\n",
       "      <td>Emissions|BC</td>\n",
       "      <td>Mt BC/yr</td>\n",
       "      <td>2020</td>\n",
       "      <td>7.0752</td>\n",
       "    </tr>\n",
       "    <tr>\n",
       "      <th>4</th>\n",
       "      <td>AIM/CGE 2.0</td>\n",
       "      <td>ADVANCE_2020_1.5C-2100</td>\n",
       "      <td>World</td>\n",
       "      <td>Emissions|BC</td>\n",
       "      <td>Mt BC/yr</td>\n",
       "      <td>2025</td>\n",
       "      <td>5.8486</td>\n",
       "    </tr>\n",
       "  </tbody>\n",
       "</table>\n",
       "</div>"
      ],
      "text/plain": [
       "         model                scenario region      variable      unit  year  \\\n",
       "0  AIM/CGE 2.0  ADVANCE_2020_1.5C-2100  World  Emissions|BC  Mt BC/yr  2005   \n",
       "1  AIM/CGE 2.0  ADVANCE_2020_1.5C-2100  World  Emissions|BC  Mt BC/yr  2010   \n",
       "2  AIM/CGE 2.0  ADVANCE_2020_1.5C-2100  World  Emissions|BC  Mt BC/yr  2015   \n",
       "3  AIM/CGE 2.0  ADVANCE_2020_1.5C-2100  World  Emissions|BC  Mt BC/yr  2020   \n",
       "4  AIM/CGE 2.0  ADVANCE_2020_1.5C-2100  World  Emissions|BC  Mt BC/yr  2025   \n",
       "\n",
       "    value  \n",
       "0  8.3367  \n",
       "1  7.6408  \n",
       "2  7.2724  \n",
       "3  7.0752  \n",
       "4  5.8486  "
      ]
     },
     "execution_count": 5,
     "metadata": {},
     "output_type": "execute_result"
    }
   ],
   "source": [
    "sr15_data = pyam.IamDataFrame(SR15_SCENARIOS)\n",
    "sr15_data.head()"
   ]
  },
  {
   "cell_type": "markdown",
   "metadata": {},
   "source": [
    "## GQW\n",
    "\n",
    "From here onwards we discuss the generalised quantile walk (GQW). The idea is, roughly, to be able to take a scenario with only a limited number of gas timeseries and infer what the emissions of other species would look like.\n",
    "\n",
    "### Scenario database\n",
    "\n",
    "To do this, the first thing we need is some information about how emissions look over time and how emissions of one gas correlate with emissions of another. In other words, we're looking at plots like the below, which show how emissions of one gas correlate with emissions of another in a specific region in a specific year."
   ]
  },
  {
   "cell_type": "code",
   "execution_count": 6,
   "metadata": {},
   "outputs": [],
   "source": [
    "example_x_gas = \"Emissions|CO2\"\n",
    "example_y_gas = \"Emissions|CH4\"\n",
    "# example_y_gas = \"Emissions|N2O\"  # a difficult example\n",
    "# example_y_gas = \"Emissions|HFC|HFC23\"  # a more problematic example"
   ]
  },
  {
   "cell_type": "code",
   "execution_count": 7,
   "metadata": {},
   "outputs": [
    {
     "data": {
      "text/html": [
       "<div>\n",
       "<style scoped>\n",
       "    .dataframe tbody tr th:only-of-type {\n",
       "        vertical-align: middle;\n",
       "    }\n",
       "\n",
       "    .dataframe tbody tr th {\n",
       "        vertical-align: top;\n",
       "    }\n",
       "\n",
       "    .dataframe thead th {\n",
       "        text-align: right;\n",
       "    }\n",
       "</style>\n",
       "<table border=\"1\" class=\"dataframe\">\n",
       "  <thead>\n",
       "    <tr style=\"text-align: right;\">\n",
       "      <th></th>\n",
       "      <th>model</th>\n",
       "      <th>scenario</th>\n",
       "      <th>region</th>\n",
       "      <th>variable</th>\n",
       "      <th>unit</th>\n",
       "      <th>year</th>\n",
       "      <th>value</th>\n",
       "    </tr>\n",
       "  </thead>\n",
       "  <tbody>\n",
       "    <tr>\n",
       "      <th>29</th>\n",
       "      <td>AIM/CGE 2.0</td>\n",
       "      <td>ADVANCE_2020_1.5C-2100</td>\n",
       "      <td>World</td>\n",
       "      <td>Emissions|CH4</td>\n",
       "      <td>Mt CH4/yr</td>\n",
       "      <td>2050</td>\n",
       "      <td>106.6429</td>\n",
       "    </tr>\n",
       "    <tr>\n",
       "      <th>169</th>\n",
       "      <td>AIM/CGE 2.0</td>\n",
       "      <td>ADVANCE_2020_1.5C-2100</td>\n",
       "      <td>World</td>\n",
       "      <td>Emissions|CO2</td>\n",
       "      <td>Mt CO2/yr</td>\n",
       "      <td>2050</td>\n",
       "      <td>-413.2438</td>\n",
       "    </tr>\n",
       "    <tr>\n",
       "      <th>801</th>\n",
       "      <td>AIM/CGE 2.0</td>\n",
       "      <td>ADVANCE_2020_Med2C</td>\n",
       "      <td>World</td>\n",
       "      <td>Emissions|CH4</td>\n",
       "      <td>Mt CH4/yr</td>\n",
       "      <td>2050</td>\n",
       "      <td>190.1391</td>\n",
       "    </tr>\n",
       "    <tr>\n",
       "      <th>941</th>\n",
       "      <td>AIM/CGE 2.0</td>\n",
       "      <td>ADVANCE_2020_Med2C</td>\n",
       "      <td>World</td>\n",
       "      <td>Emissions|CO2</td>\n",
       "      <td>Mt CO2/yr</td>\n",
       "      <td>2050</td>\n",
       "      <td>18343.4203</td>\n",
       "    </tr>\n",
       "    <tr>\n",
       "      <th>1573</th>\n",
       "      <td>AIM/CGE 2.0</td>\n",
       "      <td>ADVANCE_2020_WB2C</td>\n",
       "      <td>World</td>\n",
       "      <td>Emissions|CH4</td>\n",
       "      <td>Mt CH4/yr</td>\n",
       "      <td>2050</td>\n",
       "      <td>156.8023</td>\n",
       "    </tr>\n",
       "  </tbody>\n",
       "</table>\n",
       "</div>"
      ],
      "text/plain": [
       "            model                scenario region       variable       unit  \\\n",
       "29    AIM/CGE 2.0  ADVANCE_2020_1.5C-2100  World  Emissions|CH4  Mt CH4/yr   \n",
       "169   AIM/CGE 2.0  ADVANCE_2020_1.5C-2100  World  Emissions|CO2  Mt CO2/yr   \n",
       "801   AIM/CGE 2.0      ADVANCE_2020_Med2C  World  Emissions|CH4  Mt CH4/yr   \n",
       "941   AIM/CGE 2.0      ADVANCE_2020_Med2C  World  Emissions|CO2  Mt CO2/yr   \n",
       "1573  AIM/CGE 2.0       ADVANCE_2020_WB2C  World  Emissions|CH4  Mt CH4/yr   \n",
       "\n",
       "      year       value  \n",
       "29    2050    106.6429  \n",
       "169   2050   -413.2438  \n",
       "801   2050    190.1391  \n",
       "941   2050  18343.4203  \n",
       "1573  2050    156.8023  "
      ]
     },
     "execution_count": 7,
     "metadata": {},
     "output_type": "execute_result"
    }
   ],
   "source": [
    "sr15_data.filter(\n",
    "    variable=[example_y_gas, example_x_gas],\n",
    "    region=\"World\",\n",
    "    year=2050,\n",
    ").head()"
   ]
  },
  {
   "cell_type": "code",
   "execution_count": 8,
   "metadata": {},
   "outputs": [
    {
     "name": "stderr",
     "output_type": "stream",
     "text": [
      "elementwise comparison failed; returning scalar instead, but in the future will perform elementwise comparison\n",
      "\n",
      "A value is trying to be set on a copy of a slice from a DataFrame\n",
      "\n",
      "See the caveats in the documentation: http://pandas.pydata.org/pandas-docs/stable/indexing.html#indexing-view-versus-copy\n"
     ]
    },
    {
     "data": {
      "text/html": [
       "<div>\n",
       "<style scoped>\n",
       "    .dataframe tbody tr th:only-of-type {\n",
       "        vertical-align: middle;\n",
       "    }\n",
       "\n",
       "    .dataframe tbody tr th {\n",
       "        vertical-align: top;\n",
       "    }\n",
       "\n",
       "    .dataframe thead th {\n",
       "        text-align: right;\n",
       "    }\n",
       "</style>\n",
       "<table border=\"1\" class=\"dataframe\">\n",
       "  <thead>\n",
       "    <tr style=\"text-align: right;\">\n",
       "      <th>variable</th>\n",
       "      <th>year</th>\n",
       "      <th>model</th>\n",
       "      <th>scenario</th>\n",
       "      <th>region</th>\n",
       "      <th>Emissions|CH4</th>\n",
       "      <th>Emissions|CO2</th>\n",
       "    </tr>\n",
       "  </thead>\n",
       "  <tbody>\n",
       "    <tr>\n",
       "      <th>0</th>\n",
       "      <td>2050</td>\n",
       "      <td>AIM/CGE 2.0</td>\n",
       "      <td>ADVANCE_2020_1.5C-2100</td>\n",
       "      <td>World</td>\n",
       "      <td>106.64</td>\n",
       "      <td>-413.24</td>\n",
       "    </tr>\n",
       "    <tr>\n",
       "      <th>1</th>\n",
       "      <td>2050</td>\n",
       "      <td>AIM/CGE 2.0</td>\n",
       "      <td>ADVANCE_2020_Med2C</td>\n",
       "      <td>World</td>\n",
       "      <td>190.14</td>\n",
       "      <td>18343.42</td>\n",
       "    </tr>\n",
       "    <tr>\n",
       "      <th>2</th>\n",
       "      <td>2050</td>\n",
       "      <td>AIM/CGE 2.0</td>\n",
       "      <td>ADVANCE_2020_WB2C</td>\n",
       "      <td>World</td>\n",
       "      <td>156.80</td>\n",
       "      <td>8213.44</td>\n",
       "    </tr>\n",
       "    <tr>\n",
       "      <th>3</th>\n",
       "      <td>2050</td>\n",
       "      <td>AIM/CGE 2.0</td>\n",
       "      <td>ADVANCE_2030_Med2C</td>\n",
       "      <td>World</td>\n",
       "      <td>170.36</td>\n",
       "      <td>13654.11</td>\n",
       "    </tr>\n",
       "    <tr>\n",
       "      <th>4</th>\n",
       "      <td>2050</td>\n",
       "      <td>AIM/CGE 2.0</td>\n",
       "      <td>ADVANCE_2030_Price1.5C</td>\n",
       "      <td>World</td>\n",
       "      <td>124.91</td>\n",
       "      <td>87.15</td>\n",
       "    </tr>\n",
       "  </tbody>\n",
       "</table>\n",
       "</div>"
      ],
      "text/plain": [
       "variable  year        model                scenario region  Emissions|CH4  \\\n",
       "0         2050  AIM/CGE 2.0  ADVANCE_2020_1.5C-2100  World         106.64   \n",
       "1         2050  AIM/CGE 2.0      ADVANCE_2020_Med2C  World         190.14   \n",
       "2         2050  AIM/CGE 2.0       ADVANCE_2020_WB2C  World         156.80   \n",
       "3         2050  AIM/CGE 2.0      ADVANCE_2030_Med2C  World         170.36   \n",
       "4         2050  AIM/CGE 2.0  ADVANCE_2030_Price1.5C  World         124.91   \n",
       "\n",
       "variable  Emissions|CO2  \n",
       "0               -413.24  \n",
       "1              18343.42  \n",
       "2               8213.44  \n",
       "3              13654.11  \n",
       "4                 87.15  "
      ]
     },
     "execution_count": 8,
     "metadata": {},
     "output_type": "execute_result"
    }
   ],
   "source": [
    "seaborn_df = sr15_data.filter(\n",
    "    variable=[example_y_gas, example_x_gas],\n",
    "    region=\"World\",\n",
    "    year=2050,\n",
    ").pivot_table(\n",
    "    [\"year\", \"model\", \"scenario\", \"region\"],\n",
    "    [\"variable\"],\n",
    "    aggfunc=\"mean\"\n",
    ").reset_index()\n",
    "\n",
    "# here we do some quick data cleaning...\n",
    "seaborn_df[example_y_gas].loc[seaborn_df[example_y_gas]==\"\"] = np.nan\n",
    "seaborn_df[example_x_gas].loc[seaborn_df[example_x_gas]==\"\"] = np.nan\n",
    "seaborn_df = seaborn_df.dropna()\n",
    "seaborn_df.loc[:, [example_y_gas, example_x_gas]] = seaborn_df[\n",
    "    [example_y_gas, example_x_gas]\n",
    "].astype(float)\n",
    "seaborn_df.head()"
   ]
  },
  {
   "cell_type": "code",
   "execution_count": 9,
   "metadata": {},
   "outputs": [
    {
     "data": {
      "image/png": "[encoded data removed]",
      "text/plain": [
       "<Figure size 432x432 with 3 Axes>"
      ]
     },
     "metadata": {
      "needs_background": "light"
     },
     "output_type": "display_data"
    }
   ],
   "source": [
    "sns.jointplot(\n",
    "    x=example_x_gas,\n",
    "    y=example_y_gas,\n",
    "    data=seaborn_df,\n",
    ");"
   ]
  },
  {
   "cell_type": "markdown",
   "metadata": {},
   "source": [
    "With this data, we can take quantile regressions such that we develop relationships of the form $E_{BC} = a * E_{CO_2} + b$. These quantiles can then inform our infilling."
   ]
  },
  {
   "cell_type": "code",
   "execution_count": 10,
   "metadata": {},
   "outputs": [
    {
     "name": "stderr",
     "output_type": "stream",
     "text": [
      "INFO:numexpr.utils:Note: NumExpr detected 12 cores but \"NUMEXPR_MAX_THREADS\" not set, so enforcing safe limit of 8.\n",
      "INFO:numexpr.utils:NumExpr defaulting to 8 threads.\n"
     ]
    },
    {
     "data": {
      "text/html": [
       "<div>\n",
       "<style scoped>\n",
       "    .dataframe tbody tr th:only-of-type {\n",
       "        vertical-align: middle;\n",
       "    }\n",
       "\n",
       "    .dataframe tbody tr th {\n",
       "        vertical-align: top;\n",
       "    }\n",
       "\n",
       "    .dataframe thead th {\n",
       "        text-align: right;\n",
       "    }\n",
       "</style>\n",
       "<table border=\"1\" class=\"dataframe\">\n",
       "  <thead>\n",
       "    <tr style=\"text-align: right;\">\n",
       "      <th></th>\n",
       "      <th>quantile</th>\n",
       "      <th>a</th>\n",
       "      <th>b</th>\n",
       "    </tr>\n",
       "  </thead>\n",
       "  <tbody>\n",
       "    <tr>\n",
       "      <th>0</th>\n",
       "      <td>0.05</td>\n",
       "      <td>0.004367</td>\n",
       "      <td>85.337936</td>\n",
       "    </tr>\n",
       "    <tr>\n",
       "      <th>1</th>\n",
       "      <td>0.20</td>\n",
       "      <td>0.005250</td>\n",
       "      <td>92.137447</td>\n",
       "    </tr>\n",
       "    <tr>\n",
       "      <th>2</th>\n",
       "      <td>0.35</td>\n",
       "      <td>0.005456</td>\n",
       "      <td>100.398360</td>\n",
       "    </tr>\n",
       "    <tr>\n",
       "      <th>3</th>\n",
       "      <td>0.50</td>\n",
       "      <td>0.006079</td>\n",
       "      <td>111.882463</td>\n",
       "    </tr>\n",
       "    <tr>\n",
       "      <th>4</th>\n",
       "      <td>0.65</td>\n",
       "      <td>0.006849</td>\n",
       "      <td>125.762849</td>\n",
       "    </tr>\n",
       "    <tr>\n",
       "      <th>5</th>\n",
       "      <td>0.80</td>\n",
       "      <td>0.006404</td>\n",
       "      <td>162.886796</td>\n",
       "    </tr>\n",
       "    <tr>\n",
       "      <th>6</th>\n",
       "      <td>0.95</td>\n",
       "      <td>0.004714</td>\n",
       "      <td>293.978719</td>\n",
       "    </tr>\n",
       "  </tbody>\n",
       "</table>\n",
       "</div>"
      ],
      "text/plain": [
       "   quantile         a           b\n",
       "0      0.05  0.004367   85.337936\n",
       "1      0.20  0.005250   92.137447\n",
       "2      0.35  0.005456  100.398360\n",
       "3      0.50  0.006079  111.882463\n",
       "4      0.65  0.006849  125.762849\n",
       "5      0.80  0.006404  162.886796\n",
       "6      0.95  0.004714  293.978719"
      ]
     },
     "execution_count": 10,
     "metadata": {},
     "output_type": "execute_result"
    }
   ],
   "source": [
    "# NBVAL_IGNORE_OUTPUT\n",
    "# This cell produces info that does not appear on the test\n",
    "quantiles = np.arange(.05, .96, .15)\n",
    "\n",
    "# some more data cleaning\n",
    "sm_df = seaborn_df.copy()\n",
    "sm_df.columns = sm_df.columns.map(\n",
    "    lambda x: x.replace(\"|\", \"_\")\n",
    ")\n",
    "model = smf.quantreg(\n",
    "    \"{} ~ {}\".format(\n",
    "        example_y_gas, example_x_gas\n",
    "    ).replace(\"|\", \"_\"), \n",
    "    sm_df\n",
    ")\n",
    "\n",
    "def fit_model(q):\n",
    "    res = model.fit(q=q)\n",
    "    return [\n",
    "        q,\n",
    "        res.params[\n",
    "            \"{}\".format(\n",
    "                example_x_gas\n",
    "            ).replace(\"|\", \"_\")\n",
    "        ],\n",
    "        res.params[\"Intercept\"],\n",
    "    ]\n",
    "\n",
    "models = [fit_model(q) for q in quantiles]\n",
    "models = pd.DataFrame(models, columns=[\"quantile\", \"a\", \"b\",])\n",
    "\n",
    "models"
   ]
  },
  {
   "cell_type": "markdown",
   "metadata": {},
   "source": [
    "We can see how these look."
   ]
  },
  {
   "cell_type": "code",
   "execution_count": 11,
   "metadata": {},
   "outputs": [
    {
     "data": {
      "image/png": "[encoded data removed]",
      "text/plain": [
       "<Figure size 432x432 with 3 Axes>"
      ]
     },
     "metadata": {
      "needs_background": "light"
     },
     "output_type": "display_data"
    }
   ],
   "source": [
    "sbag = sns.jointplot(\n",
    "    x=example_x_gas,\n",
    "    y=example_y_gas,\n",
    "    data=seaborn_df,\n",
    ")\n",
    "for _, row in models.iterrows():\n",
    "    sbag.ax_joint.plot(\n",
    "        seaborn_df[example_x_gas], \n",
    "        row[\"a\"]*seaborn_df[example_x_gas] + row[\"b\"],\n",
    "        label=\"{:.2f}\".format(row[\"quantile\"]),\n",
    "    )\n",
    "sbag.ax_joint.legend(title=\"Quantile\");"
   ]
  },
  {
   "cell_type": "markdown",
   "metadata": {},
   "source": [
    "One of the trickier bits is going to be working out a way to do these quantile regressions sensibly, particularly if we want them to work in multiple dimensions (Nicolai has some clever way of doing it apparently, we need to ask him)."
   ]
  },
  {
   "cell_type": "markdown",
   "metadata": {},
   "source": [
    "### Developing a pathway\n",
    "\n",
    "With relationships like the one above (over all variable-region-year combinations) we can then take a 'lead' emissions pathway (e.g. CO$_2$ emissions) and from it, infer the emissions of all other gases in all regions in all years.\n",
    "\n",
    "The process is something like the following:\n",
    "\n",
    "1. Consider emissions of your lead gas in a given year\n",
    "1. Determine where this level of emissions sits within the range of scenarios in your database (i.e. its quantile)\n",
    "1. Use this quantile to determine the emissions which 'match' for the gas you're trying to infill (your 'following' gas)\n",
    "    - in the equal quantile walk (EQW), your following gas is always taken from the 50th quantile regression (i.e. the median) that your leads gas comes from\n",
    "    - in the generalised quantile walk, you can choose which quantile of your following gas you take (potentially as a function of time and space) e.g. you might use the 90th percentile quantile regression for N$_2$O emissions in 2020 but the 75th percentile in 2050 and the 50th percentile in Europe but the 30th percentile in R5ASIA)\n",
    "1. Repeat over all gases, over all spatial regions over all times to develop your infilled timeseries."
   ]
  }
 ],
 "metadata": {
  "kernelspec": {
   "display_name": "Python 3",
   "language": "python",
   "name": "python3"
  },
  "language_info": {
   "codemirror_mode": {
    "name": "ipython",
    "version": 3
   },
   "file_extension": ".py",
   "mimetype": "text/x-python",
   "name": "python",
   "nbconvert_exporter": "python",
   "pygments_lexer": "ipython3",
   "version": "3.7.4"
  }
 },
 "nbformat": 4,
 "nbformat_minor": 2
}
