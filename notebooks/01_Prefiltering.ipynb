{
 "cells": [
  {
   "cell_type": "markdown",
   "metadata": {},
   "source": [
    "# Pre-filtering data\n",
    "The crunchers use the relationships between variables in the infiller database, however these may depend on very different political and economic assumptions to the scenarios you wish to infill. It can therefore be helpful to feed only a subset of the downloaded data into the cruncher. This may be done by leaving out models that make radically different assumptions to yours, or by selecting only scenarios that are similar in some way.\n",
    "\n",
    "## Imports"
   ]
  },
  {
   "cell_type": "code",
   "execution_count": 1,
   "metadata": {},
   "outputs": [
    {
     "data": {
      "application/javascript": [
       "IPython.OutputArea.prototype._should_scroll = function(lines) { return false; }"
      ],
      "text/plain": [
       "<IPython.core.display.Javascript object>"
      ]
     },
     "metadata": {},
     "output_type": "display_data"
    }
   ],
   "source": [
    "import os.path\n",
    "import traceback\n",
    "\n",
    "import pandas as pd\n",
    "import pyam\n",
    "import matplotlib.pyplot as plt\n",
    "import numpy as np\n",
    "\n",
    "import silicone.database_crunchers\n",
    "from silicone.utils import (\n",
    "    _get_unit_of_variable,\n",
    "    find_matching_scenarios,\n",
    "    _make_interpolator,\n",
    "    _make_wide_db,\n",
    "    download_or_load_sr15,\n",
    ")"
   ]
  },
  {
   "cell_type": "code",
   "execution_count": 2,
   "metadata": {},
   "outputs": [
    {
     "name": "stderr",
     "output_type": "stream",
     "text": [
      "pyam - INFO: Running in a notebook, setting up a basic logging at level INFO\n",
      "pyam.core - INFO: Reading file sr15_scenarios.csv\n"
     ]
    }
   ],
   "source": [
    "valid_model_ids = [\n",
    "    \"MESSAGE*\",\n",
    "    \"AIM*\",\n",
    "    \"C-ROADS*\",\n",
    "    \"GCAM*\",\n",
    "    \"WITCH*\",\n",
    "]\n",
    "sr15_data = download_or_load_sr15(\"./sr15_scenarios.csv\", valid_model_ids)"
   ]
  },
  {
   "cell_type": "markdown",
   "metadata": {},
   "source": [
    "## Filtering\n",
    "\n",
    "A simple way to filter for similarity is by completing SSP-labelled scenarios using only scenarios with the same SSP labelling. The silicone package has a function for detecting which of a group of scenarios creates an interpolation that best matches a dataset. Using this tool, we see that the CO$_2$-CH$_4$ relations in some SSP2 scenarios in the AIM data are more similar to SSP3/SSP1 data from MESSAGE models. Below you can see examples of how to use this. "
   ]
  },
  {
   "cell_type": "code",
   "execution_count": 3,
   "metadata": {},
   "outputs": [
    {
     "data": {
      "text/plain": [
       "('*', 'SSP2*')"
      ]
     },
     "execution_count": 3,
     "metadata": {},
     "output_type": "execute_result"
    }
   ],
   "source": [
    "data_to_classify = sr15_data.filter(model=\"AIM/CGE 2.0\", scenario=\"SSP2-34\")\n",
    "data_to_search = sr15_data.filter(model=[\"MESSAGE*\", \"WITCH*\"])\n",
    "possible_ssps = [\"SSP1*\", \"SSP2*\", \"SSP3*\", \"SSP4*\", \"SSP5*\"]\n",
    "find_matching_scenarios(\n",
    "    data_to_search,\n",
    "    data_to_classify,\n",
    "    \"Emissions|CH4\",\n",
    "    [\"Emissions|CO2\"],\n",
    "    possible_ssps,\n",
    ")"
   ]
  },
  {
   "cell_type": "markdown",
   "metadata": {},
   "source": [
    "You can break down results by models and scenarios at the same time:"
   ]
  },
  {
   "cell_type": "code",
   "execution_count": 4,
   "metadata": {},
   "outputs": [
    {
     "name": "stderr",
     "output_type": "stream",
     "text": [
      "pyam.core - WARNING: Filtered IamDataFrame is empty!\n",
      "silicone.utils - WARNING: Data with scenario SSP4* and model MESSAGE* not found in data\n",
      "pyam.core - WARNING: Filtered IamDataFrame is empty!\n",
      "silicone.utils - WARNING: Data with scenario SSP5* and model MESSAGE* not found in data\n"
     ]
    },
    {
     "data": {
      "text/plain": [
       "('MESSAGE*', 'SSP2*')"
      ]
     },
     "execution_count": 4,
     "metadata": {},
     "output_type": "execute_result"
    }
   ],
   "source": [
    "possible_models = [\"MESSAGE*\", \"WITCH*\"]\n",
    "find_matching_scenarios(\n",
    "    data_to_search,\n",
    "    data_to_classify,\n",
    "    \"Emissions|CH4\",\n",
    "    [\"Emissions|CO2\"],\n",
    "    possible_ssps,\n",
    "    possible_models,\n",
    ")"
   ]
  },
  {
   "cell_type": "markdown",
   "metadata": {},
   "source": [
    "The answer returned is a tuple with first the model filter (* if none selected), then the scenario filter. It's also possible to get the results back in numerical form (they are reported in increasing order of distance, so the top result is the closest). In the event that a model/scenario combination doesn't have any data, a warning is displayed and the 'distance' is reported as infinity. We see that in this case, SSP2 matches best. It's possible to quantify how much better:"
   ]
  },
  {
   "cell_type": "code",
   "execution_count": 5,
   "metadata": {},
   "outputs": [
    {
     "data": {
      "text/plain": [
       "[(('*', 'SSP2*'), 14517.36329466991),\n",
       " (('*', 'SSP1*'), 16694.15692871152),\n",
       " (('*', 'SSP4*'), 20872.869446778597),\n",
       " (('*', 'SSP5*'), 25842.838070253136),\n",
       " (('*', 'SSP3*'), 48537.48868242612)]"
      ]
     },
     "execution_count": 5,
     "metadata": {},
     "output_type": "execute_result"
    }
   ],
   "source": [
    "find_matching_scenarios(\n",
    "    data_to_search,\n",
    "    data_to_classify,\n",
    "    \"Emissions|CH4\",\n",
    "    [\"Emissions|CO2\"],\n",
    "    possible_ssps,\n",
    "    return_all_info=True,\n",
    ")"
   ]
  },
  {
   "cell_type": "code",
   "execution_count": 6,
   "metadata": {},
   "outputs": [
    {
     "name": "stderr",
     "output_type": "stream",
     "text": [
      "pyam.core - WARNING: Filtered IamDataFrame is empty!\n",
      "silicone.utils - WARNING: Data with scenario SSP4* and model MESSAGE* not found in data\n",
      "pyam.core - WARNING: Filtered IamDataFrame is empty!\n",
      "silicone.utils - WARNING: Data with scenario SSP5* and model MESSAGE* not found in data\n"
     ]
    },
    {
     "data": {
      "text/plain": [
       "[(('MESSAGE*', 'SSP2*'), 14355.224200509294),\n",
       " (('MESSAGE*', 'SSP1*'), 20613.85546902908),\n",
       " (('WITCH*', 'SSP4*'), 20872.869446778597),\n",
       " (('WITCH*', 'SSP2*'), 23523.40135904596),\n",
       " (('WITCH*', 'SSP5*'), 25842.838070253136),\n",
       " (('WITCH*', 'SSP1*'), 30654.27642887084),\n",
       " (('WITCH*', 'SSP3*'), 50374.836302783006),\n",
       " (('MESSAGE*', 'SSP3*'), 58008.896480477604),\n",
       " (('MESSAGE*', 'SSP4*'), inf),\n",
       " (('MESSAGE*', 'SSP5*'), inf)]"
      ]
     },
     "execution_count": 6,
     "metadata": {},
     "output_type": "execute_result"
    }
   ],
   "source": [
    "find_matching_scenarios(\n",
    "    data_to_search,\n",
    "    data_to_classify,\n",
    "    \"Emissions|CH4\",\n",
    "    [\"Emissions|CO2\"],\n",
    "    possible_ssps,\n",
    "    possible_models,\n",
    "    return_all_info=True,\n",
    ")"
   ]
  },
  {
   "cell_type": "markdown",
   "metadata": {},
   "source": [
    "Here we see that specific SSP2 scenarios in some models do not necesssarily match up best with SSP2 scenarios in other models, and that SSP1 and 4 models may be a closer match in this space than SSP2 in WITCH models. \n",
    "\n",
    "In some cases, we may wish to ignore the initial differences and only look for the closest trendlines, i.e. match the differentials. This is equivalent to setting all initial values to the same number, then performing the above analysis. This can be done by setting the \"use_change_not_abs\" value to True. Unfortunately, this requires a slightly more consistent database than when using absolute values (as we must subtract the initial point).  "
   ]
  },
  {
   "cell_type": "code",
   "execution_count": 7,
   "metadata": {},
   "outputs": [
    {
     "name": "stdout",
     "output_type": "stream",
     "text": [
      "Key error for:  ('AIM/CGE 2.0', 'SSP2-34', 2015)\n"
     ]
    }
   ],
   "source": [
    "try:\n",
    "    find_matching_scenarios(\n",
    "        data_to_search,\n",
    "        data_to_classify,\n",
    "        \"Emissions|CH4\",\n",
    "        [\"Emissions|CO2\"],\n",
    "        possible_ssps,\n",
    "        possible_models,\n",
    "        return_all_info=True,\n",
    "        use_change_not_abs=True,\n",
    "    )\n",
    "except KeyError as w:\n",
    "    print(\"Key error for: \", w)"
   ]
  },
  {
   "cell_type": "code",
   "execution_count": 8,
   "metadata": {},
   "outputs": [
    {
     "name": "stderr",
     "output_type": "stream",
     "text": [
      "pyam.core - WARNING: Filtered IamDataFrame is empty!\n",
      "silicone.utils - WARNING: Data with scenario SSP4* and model MESSAGE* not found in data\n",
      "pyam.core - WARNING: Filtered IamDataFrame is empty!\n",
      "silicone.utils - WARNING: Data with scenario SSP5* and model MESSAGE* not found in data\n"
     ]
    },
    {
     "data": {
      "text/plain": [
       "[(('MESSAGE*', 'SSP1*'), 12997.669096039546),\n",
       " (('WITCH*', 'SSP5*'), 17260.059013121267),\n",
       " (('WITCH*', 'SSP4*'), 18136.618660962344),\n",
       " (('WITCH*', 'SSP2*'), 19634.197414024595),\n",
       " (('WITCH*', 'SSP1*'), 28837.13352613093),\n",
       " (('MESSAGE*', 'SSP2*'), 29675.623275766597),\n",
       " (('WITCH*', 'SSP3*'), 42931.63612144407),\n",
       " (('MESSAGE*', 'SSP3*'), 99308.44011621371),\n",
       " (('MESSAGE*', 'SSP4*'), inf),\n",
       " (('MESSAGE*', 'SSP5*'), inf)]"
      ]
     },
     "execution_count": 8,
     "metadata": {},
     "output_type": "execute_result"
    }
   ],
   "source": [
    "find_matching_scenarios(\n",
    "    data_to_search.filter(year=2015, keep=False),\n",
    "    data_to_classify.filter(year=2015, keep=False),\n",
    "    \"Emissions|CH4\",\n",
    "    [\"Emissions|CO2\"],\n",
    "    possible_ssps,\n",
    "    possible_models,\n",
    "    return_all_info=True,\n",
    "    use_change_not_abs=True,\n",
    ")"
   ]
  },
  {
   "cell_type": "markdown",
   "metadata": {},
   "source": [
    "So in terms of differentials, SSP2 models do not match up very well. Since the original scenario was an SSP2 scenario, this shows that filtering by SSP value is not necessarily the most appropriate. We will use Message data to perform the calculations in later chapters. "
   ]
  }
 ],
 "metadata": {
  "kernelspec": {
   "display_name": "Python 3",
   "language": "python",
   "name": "python3"
  },
  "language_info": {
   "codemirror_mode": {
    "name": "ipython",
    "version": 3
   },
   "file_extension": ".py",
   "mimetype": "text/x-python",
   "name": "python",
   "nbconvert_exporter": "python",
   "pygments_lexer": "ipython3",
   "version": "3.7.9"
  }
 },
 "nbformat": 4,
 "nbformat_minor": 4
}
