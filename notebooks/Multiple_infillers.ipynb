{
 "cells": [
  {
   "cell_type": "markdown",
   "metadata": {},
   "source": [
    "# Multiple infillers\n",
    "\n",
    "Here we investigate two infillers that perform many cruncher operations. One is designed to break down composits, like the Kyoto gases or HFCs, the other designed to infill all required data. These functions are purposefully not as object-oriented as the crunchers so that modellers unfamiliar with this coding structure can use them. \n",
    "\n",
    "You will need to install silicone from https://github.com/znicholls/silicone/ in order to run this code. "
   ]
  },
  {
   "cell_type": "markdown",
   "metadata": {},
   "source": [
    "## Imports"
   ]
  },
  {
   "cell_type": "code",
   "execution_count": 1,
   "metadata": {},
   "outputs": [
    {
     "data": {
      "application/javascript": [
       "IPython.OutputArea.prototype._should_scroll = function(lines) { return false; }"
      ],
      "text/plain": [
       "<IPython.core.display.Javascript object>"
      ]
     },
     "metadata": {},
     "output_type": "display_data"
    },
    {
     "name": "stderr",
     "output_type": "stream",
     "text": [
      "pyam - INFO: Running in a notebook, setting `pyam` logging level to `logging.INFO` and adding stderr handler\n"
     ]
    }
   ],
   "source": [
    "import os.path\n",
    "import traceback\n",
    "\n",
    "import pandas as pd\n",
    "import pyam\n",
    "import matplotlib.pyplot as plt\n",
    "import numpy as np\n",
    "\n",
    "import silicone.multiple_infillers as mi\n",
    "from silicone.utils import (\n",
    "    _get_unit_of_variable,\n",
    "    find_matching_scenarios,\n",
    "    _make_interpolator,\n",
    "    _make_wide_db,\n",
    "    get_sr15_scenarios, \n",
    "    return_cases_which_consistently_split,\n",
    "    convert_units_to_MtCO2_equiv\n",
    ")\n"
   ]
  },
  {
   "cell_type": "code",
   "execution_count": 2,
   "metadata": {},
   "outputs": [],
   "source": [
    "SR15_SCENARIOS = \"./sr15_scenarios.csv\""
   ]
  },
  {
   "cell_type": "markdown",
   "metadata": {},
   "source": [
    "## Example data\n",
    "\n",
    "Here we pull some example data by downloading a selection of the SR1.5 scenarios."
   ]
  },
  {
   "cell_type": "code",
   "execution_count": 3,
   "metadata": {
    "scrolled": true
   },
   "outputs": [],
   "source": [
    "valid_model_ids = [\n",
    "        \"MESSAGE*\",\n",
    "        \"AIM*\",\n",
    "        \"C-ROADS*\",\n",
    "        \"GCAM*\",\n",
    "        \"IEA*\",\n",
    "        \"IMAGE*\",\n",
    "        \"MERGE*\",\n",
    "        \"POLES*\",\n",
    "        \"REMIND*\",\n",
    "        \"WITCH*\"\n",
    "    ]\n",
    "if not os.path.isfile(SR15_SCENARIOS):\n",
    "    get_sr15_scenarios(SR15_SCENARIOS, valid_model_ids)"
   ]
  },
  {
   "cell_type": "markdown",
   "metadata": {},
   "source": [
    "### Starting point\n",
    "\n",
    "Our starting point is the test data, loaded a `pyam.IamDataFrame`."
   ]
  },
  {
   "cell_type": "code",
   "execution_count": 4,
   "metadata": {
    "scrolled": false
   },
   "outputs": [
    {
     "name": "stderr",
     "output_type": "stream",
     "text": [
      "pyam.utils - INFO: Reading `./sr15_scenarios.csv`\n"
     ]
    },
    {
     "data": {
      "text/html": [
       "<div>\n",
       "<style scoped>\n",
       "    .dataframe tbody tr th:only-of-type {\n",
       "        vertical-align: middle;\n",
       "    }\n",
       "\n",
       "    .dataframe tbody tr th {\n",
       "        vertical-align: top;\n",
       "    }\n",
       "\n",
       "    .dataframe thead th {\n",
       "        text-align: right;\n",
       "    }\n",
       "</style>\n",
       "<table border=\"1\" class=\"dataframe\">\n",
       "  <thead>\n",
       "    <tr style=\"text-align: right;\">\n",
       "      <th></th>\n",
       "      <th>model</th>\n",
       "      <th>scenario</th>\n",
       "      <th>region</th>\n",
       "      <th>variable</th>\n",
       "      <th>unit</th>\n",
       "      <th>year</th>\n",
       "      <th>subannual</th>\n",
       "      <th>meta</th>\n",
       "      <th>value</th>\n",
       "    </tr>\n",
       "  </thead>\n",
       "  <tbody>\n",
       "    <tr>\n",
       "      <th>231183</th>\n",
       "      <td>WITCH-GLOBIOM 3.1</td>\n",
       "      <td>SSP1-19</td>\n",
       "      <td>World</td>\n",
       "      <td>Emissions|CO2</td>\n",
       "      <td>Mt CO2/yr</td>\n",
       "      <td>2005</td>\n",
       "      <td>0.0</td>\n",
       "      <td>0</td>\n",
       "      <td>31922.044350</td>\n",
       "    </tr>\n",
       "    <tr>\n",
       "      <th>231184</th>\n",
       "      <td>WITCH-GLOBIOM 3.1</td>\n",
       "      <td>SSP1-19</td>\n",
       "      <td>World</td>\n",
       "      <td>Emissions|CO2</td>\n",
       "      <td>Mt CO2/yr</td>\n",
       "      <td>2010</td>\n",
       "      <td>0.0</td>\n",
       "      <td>0</td>\n",
       "      <td>35303.387760</td>\n",
       "    </tr>\n",
       "    <tr>\n",
       "      <th>231185</th>\n",
       "      <td>WITCH-GLOBIOM 3.1</td>\n",
       "      <td>SSP1-19</td>\n",
       "      <td>World</td>\n",
       "      <td>Emissions|CO2</td>\n",
       "      <td>Mt CO2/yr</td>\n",
       "      <td>2020</td>\n",
       "      <td>0.0</td>\n",
       "      <td>0</td>\n",
       "      <td>37312.307110</td>\n",
       "    </tr>\n",
       "    <tr>\n",
       "      <th>231186</th>\n",
       "      <td>WITCH-GLOBIOM 3.1</td>\n",
       "      <td>SSP1-19</td>\n",
       "      <td>World</td>\n",
       "      <td>Emissions|CO2</td>\n",
       "      <td>Mt CO2/yr</td>\n",
       "      <td>2030</td>\n",
       "      <td>0.0</td>\n",
       "      <td>0</td>\n",
       "      <td>10560.008460</td>\n",
       "    </tr>\n",
       "    <tr>\n",
       "      <th>231187</th>\n",
       "      <td>WITCH-GLOBIOM 3.1</td>\n",
       "      <td>SSP1-19</td>\n",
       "      <td>World</td>\n",
       "      <td>Emissions|CO2</td>\n",
       "      <td>Mt CO2/yr</td>\n",
       "      <td>2040</td>\n",
       "      <td>0.0</td>\n",
       "      <td>0</td>\n",
       "      <td>7435.934987</td>\n",
       "    </tr>\n",
       "  </tbody>\n",
       "</table>\n",
       "</div>"
      ],
      "text/plain": [
       "                    model scenario region       variable       unit  year  \\\n",
       "231183  WITCH-GLOBIOM 3.1  SSP1-19  World  Emissions|CO2  Mt CO2/yr  2005   \n",
       "231184  WITCH-GLOBIOM 3.1  SSP1-19  World  Emissions|CO2  Mt CO2/yr  2010   \n",
       "231185  WITCH-GLOBIOM 3.1  SSP1-19  World  Emissions|CO2  Mt CO2/yr  2020   \n",
       "231186  WITCH-GLOBIOM 3.1  SSP1-19  World  Emissions|CO2  Mt CO2/yr  2030   \n",
       "231187  WITCH-GLOBIOM 3.1  SSP1-19  World  Emissions|CO2  Mt CO2/yr  2040   \n",
       "\n",
       "        subannual  meta         value  \n",
       "231183        0.0     0  31922.044350  \n",
       "231184        0.0     0  35303.387760  \n",
       "231185        0.0     0  37312.307110  \n",
       "231186        0.0     0  10560.008460  \n",
       "231187        0.0     0   7435.934987  "
      ]
     },
     "execution_count": 4,
     "metadata": {},
     "output_type": "execute_result"
    }
   ],
   "source": [
    "sr15_data = pyam.IamDataFrame(SR15_SCENARIOS)\n",
    "target = \"Emissions|CO2\"\n",
    "constituents = [\"Emissions|CO2|*\"]\n",
    "to_infill = sr15_data.filter(model=\"WITCH*\", variable=[target] + constituents)\n",
    "database = sr15_data.filter(model=\"WITCH*\", keep=False)\n",
    "to_infill.head()"
   ]
  },
  {
   "cell_type": "markdown",
   "metadata": {},
   "source": [
    "## Investigating where the data is consistent\n",
    "\n",
    "A utility function called return_cases_which_consistently_split indicates which variables consist of only other variables, which is useful to know in order to work out where data can be consistently split using decompose_collection_with_time_dep_ratio. Note that this is not a requirement for using that method (a consistent aggregate value is constructed in any case) but indicates that this is approach is rigorous. "
   ]
  },
  {
   "cell_type": "markdown",
   "metadata": {},
   "source": [
    "In the first instance, it does not find any results because there are several layers of constituents. However with only one layer, this works as expected. Note that if only one layer is used, there is also a pyam built-in function called 'check_consistency' that performs the same effect. "
   ]
  },
  {
   "cell_type": "code",
   "execution_count": 5,
   "metadata": {},
   "outputs": [
    {
     "data": {
      "text/plain": [
       "0"
      ]
     },
     "execution_count": 5,
     "metadata": {},
     "output_type": "execute_result"
    }
   ],
   "source": [
    "no_cases = return_cases_which_consistently_split(\n",
    "    to_infill, target, constituents, \n",
    ")\n",
    "len(no_cases)"
   ]
  },
  {
   "cell_type": "markdown",
   "metadata": {},
   "source": [
    "However in the case below, we select only the next level of info, and find it matches in all cases (the number of cases does not depend on the accuracy, as shown in the second box. "
   ]
  },
  {
   "cell_type": "code",
   "execution_count": 6,
   "metadata": {},
   "outputs": [
    {
     "data": {
      "text/plain": [
       "39"
      ]
     },
     "execution_count": 6,
     "metadata": {},
     "output_type": "execute_result"
    }
   ],
   "source": [
    "all_cases = return_cases_which_consistently_split(\n",
    "    to_infill, target, [\"Emissions|CO2|AFOLU\", \"Emissions|CO2|Energy and Industrial Processes\"], \n",
    ")\n",
    "len(all_cases)"
   ]
  },
  {
   "cell_type": "code",
   "execution_count": 7,
   "metadata": {},
   "outputs": [
    {
     "data": {
      "text/plain": [
       "39"
      ]
     },
     "execution_count": 7,
     "metadata": {},
     "output_type": "execute_result"
    }
   ],
   "source": [
    "all_cases = return_cases_which_consistently_split(\n",
    "    to_infill, target, [\"Emissions|CO2|AFOLU\", \"Emissions|CO2|Energy and Industrial Processes\"], \n",
    "     how_close={\n",
    "            'equal_nan': True,\n",
    "            'rtol': 100, # This means that we accept a factor of 100 inaccuracy. \n",
    "    }\n",
    ")\n",
    "len(all_cases)"
   ]
  },
  {
   "cell_type": "markdown",
   "metadata": {},
   "source": [
    "## Using the infiller functions\n",
    "Here we show the use of the DecomposeCollectionTimeDepRatio and InfillAllRequiredVariables functions. \n",
    "### InfillAllRequiredVariables\n",
    "This is a function to more conveniently infill all of the required variables that are not already found in the system. "
   ]
  },
  {
   "cell_type": "code",
   "execution_count": 8,
   "metadata": {},
   "outputs": [
    {
     "data": {
      "text/html": [
       "<div>\n",
       "<style scoped>\n",
       "    .dataframe tbody tr th:only-of-type {\n",
       "        vertical-align: middle;\n",
       "    }\n",
       "\n",
       "    .dataframe tbody tr th {\n",
       "        vertical-align: top;\n",
       "    }\n",
       "\n",
       "    .dataframe thead th {\n",
       "        text-align: right;\n",
       "    }\n",
       "</style>\n",
       "<table border=\"1\" class=\"dataframe\">\n",
       "  <thead>\n",
       "    <tr style=\"text-align: right;\">\n",
       "      <th></th>\n",
       "      <th>model</th>\n",
       "      <th>scenario</th>\n",
       "      <th>region</th>\n",
       "      <th>variable</th>\n",
       "      <th>unit</th>\n",
       "      <th>year</th>\n",
       "      <th>subannual</th>\n",
       "      <th>meta</th>\n",
       "      <th>value</th>\n",
       "    </tr>\n",
       "  </thead>\n",
       "  <tbody>\n",
       "    <tr>\n",
       "      <th>231123</th>\n",
       "      <td>REMIND-MAgPIE 1.7-3.0</td>\n",
       "      <td>SMP_REF_Sust</td>\n",
       "      <td>World</td>\n",
       "      <td>Emissions|VOC|Other</td>\n",
       "      <td>Mt VOC/yr</td>\n",
       "      <td>2060</td>\n",
       "      <td>0</td>\n",
       "      <td>0</td>\n",
       "      <td>23.2311</td>\n",
       "    </tr>\n",
       "    <tr>\n",
       "      <th>231124</th>\n",
       "      <td>REMIND-MAgPIE 1.7-3.0</td>\n",
       "      <td>SMP_REF_Sust</td>\n",
       "      <td>World</td>\n",
       "      <td>Emissions|VOC|Other</td>\n",
       "      <td>Mt VOC/yr</td>\n",
       "      <td>2070</td>\n",
       "      <td>0</td>\n",
       "      <td>0</td>\n",
       "      <td>22.1971</td>\n",
       "    </tr>\n",
       "    <tr>\n",
       "      <th>231125</th>\n",
       "      <td>REMIND-MAgPIE 1.7-3.0</td>\n",
       "      <td>SMP_REF_Sust</td>\n",
       "      <td>World</td>\n",
       "      <td>Emissions|VOC|Other</td>\n",
       "      <td>Mt VOC/yr</td>\n",
       "      <td>2080</td>\n",
       "      <td>0</td>\n",
       "      <td>0</td>\n",
       "      <td>21.1632</td>\n",
       "    </tr>\n",
       "    <tr>\n",
       "      <th>231126</th>\n",
       "      <td>REMIND-MAgPIE 1.7-3.0</td>\n",
       "      <td>SMP_REF_Sust</td>\n",
       "      <td>World</td>\n",
       "      <td>Emissions|VOC|Other</td>\n",
       "      <td>Mt VOC/yr</td>\n",
       "      <td>2090</td>\n",
       "      <td>0</td>\n",
       "      <td>0</td>\n",
       "      <td>20.1292</td>\n",
       "    </tr>\n",
       "    <tr>\n",
       "      <th>231127</th>\n",
       "      <td>REMIND-MAgPIE 1.7-3.0</td>\n",
       "      <td>SMP_REF_Sust</td>\n",
       "      <td>World</td>\n",
       "      <td>Emissions|VOC|Other</td>\n",
       "      <td>Mt VOC/yr</td>\n",
       "      <td>2100</td>\n",
       "      <td>0</td>\n",
       "      <td>0</td>\n",
       "      <td>19.0953</td>\n",
       "    </tr>\n",
       "  </tbody>\n",
       "</table>\n",
       "</div>"
      ],
      "text/plain": [
       "                        model      scenario region             variable  \\\n",
       "231123  REMIND-MAgPIE 1.7-3.0  SMP_REF_Sust  World  Emissions|VOC|Other   \n",
       "231124  REMIND-MAgPIE 1.7-3.0  SMP_REF_Sust  World  Emissions|VOC|Other   \n",
       "231125  REMIND-MAgPIE 1.7-3.0  SMP_REF_Sust  World  Emissions|VOC|Other   \n",
       "231126  REMIND-MAgPIE 1.7-3.0  SMP_REF_Sust  World  Emissions|VOC|Other   \n",
       "231127  REMIND-MAgPIE 1.7-3.0  SMP_REF_Sust  World  Emissions|VOC|Other   \n",
       "\n",
       "             unit  year  subannual  meta    value  \n",
       "231123  Mt VOC/yr  2060          0     0  23.2311  \n",
       "231124  Mt VOC/yr  2070          0     0  22.1971  \n",
       "231125  Mt VOC/yr  2080          0     0  21.1632  \n",
       "231126  Mt VOC/yr  2090          0     0  20.1292  \n",
       "231127  Mt VOC/yr  2100          0     0  19.0953  "
      ]
     },
     "execution_count": 8,
     "metadata": {},
     "output_type": "execute_result"
    }
   ],
   "source": [
    "database.data[\"subannual\"] = 0\n",
    "database.data[\"meta\"] = 0\n",
    "database.tail()"
   ]
  },
  {
   "cell_type": "code",
   "execution_count": 9,
   "metadata": {},
   "outputs": [
    {
     "data": {
      "text/html": [
       "<div>\n",
       "<style scoped>\n",
       "    .dataframe tbody tr th:only-of-type {\n",
       "        vertical-align: middle;\n",
       "    }\n",
       "\n",
       "    .dataframe tbody tr th {\n",
       "        vertical-align: top;\n",
       "    }\n",
       "\n",
       "    .dataframe thead th {\n",
       "        text-align: right;\n",
       "    }\n",
       "</style>\n",
       "<table border=\"1\" class=\"dataframe\">\n",
       "  <thead>\n",
       "    <tr style=\"text-align: right;\">\n",
       "      <th></th>\n",
       "      <th>model</th>\n",
       "      <th>scenario</th>\n",
       "      <th>region</th>\n",
       "      <th>variable</th>\n",
       "      <th>unit</th>\n",
       "      <th>year</th>\n",
       "      <th>subannual</th>\n",
       "      <th>meta</th>\n",
       "      <th>value</th>\n",
       "    </tr>\n",
       "  </thead>\n",
       "  <tbody>\n",
       "    <tr>\n",
       "      <th>244614</th>\n",
       "      <td>WITCH-GLOBIOM 4.4</td>\n",
       "      <td>CD-LINKS_NoPolicy</td>\n",
       "      <td>World</td>\n",
       "      <td>Emissions|CO2|Energy|Supply|Electricity</td>\n",
       "      <td>Mt CO2/yr</td>\n",
       "      <td>2060</td>\n",
       "      <td>0</td>\n",
       "      <td>0</td>\n",
       "      <td>29487.271577</td>\n",
       "    </tr>\n",
       "    <tr>\n",
       "      <th>244615</th>\n",
       "      <td>WITCH-GLOBIOM 4.4</td>\n",
       "      <td>CD-LINKS_NoPolicy</td>\n",
       "      <td>World</td>\n",
       "      <td>Emissions|CO2|Energy|Supply|Electricity</td>\n",
       "      <td>Mt CO2/yr</td>\n",
       "      <td>2070</td>\n",
       "      <td>0</td>\n",
       "      <td>0</td>\n",
       "      <td>31404.870008</td>\n",
       "    </tr>\n",
       "    <tr>\n",
       "      <th>244616</th>\n",
       "      <td>WITCH-GLOBIOM 4.4</td>\n",
       "      <td>CD-LINKS_NoPolicy</td>\n",
       "      <td>World</td>\n",
       "      <td>Emissions|CO2|Energy|Supply|Electricity</td>\n",
       "      <td>Mt CO2/yr</td>\n",
       "      <td>2080</td>\n",
       "      <td>0</td>\n",
       "      <td>0</td>\n",
       "      <td>31911.146283</td>\n",
       "    </tr>\n",
       "    <tr>\n",
       "      <th>244617</th>\n",
       "      <td>WITCH-GLOBIOM 4.4</td>\n",
       "      <td>CD-LINKS_NoPolicy</td>\n",
       "      <td>World</td>\n",
       "      <td>Emissions|CO2|Energy|Supply|Electricity</td>\n",
       "      <td>Mt CO2/yr</td>\n",
       "      <td>2090</td>\n",
       "      <td>0</td>\n",
       "      <td>0</td>\n",
       "      <td>30995.012917</td>\n",
       "    </tr>\n",
       "    <tr>\n",
       "      <th>244618</th>\n",
       "      <td>WITCH-GLOBIOM 4.4</td>\n",
       "      <td>CD-LINKS_NoPolicy</td>\n",
       "      <td>World</td>\n",
       "      <td>Emissions|CO2|Energy|Supply|Electricity</td>\n",
       "      <td>Mt CO2/yr</td>\n",
       "      <td>2100</td>\n",
       "      <td>0</td>\n",
       "      <td>0</td>\n",
       "      <td>29852.454850</td>\n",
       "    </tr>\n",
       "  </tbody>\n",
       "</table>\n",
       "</div>"
      ],
      "text/plain": [
       "                    model           scenario region  \\\n",
       "244614  WITCH-GLOBIOM 4.4  CD-LINKS_NoPolicy  World   \n",
       "244615  WITCH-GLOBIOM 4.4  CD-LINKS_NoPolicy  World   \n",
       "244616  WITCH-GLOBIOM 4.4  CD-LINKS_NoPolicy  World   \n",
       "244617  WITCH-GLOBIOM 4.4  CD-LINKS_NoPolicy  World   \n",
       "244618  WITCH-GLOBIOM 4.4  CD-LINKS_NoPolicy  World   \n",
       "\n",
       "                                       variable       unit  year  subannual  \\\n",
       "244614  Emissions|CO2|Energy|Supply|Electricity  Mt CO2/yr  2060          0   \n",
       "244615  Emissions|CO2|Energy|Supply|Electricity  Mt CO2/yr  2070          0   \n",
       "244616  Emissions|CO2|Energy|Supply|Electricity  Mt CO2/yr  2080          0   \n",
       "244617  Emissions|CO2|Energy|Supply|Electricity  Mt CO2/yr  2090          0   \n",
       "244618  Emissions|CO2|Energy|Supply|Electricity  Mt CO2/yr  2100          0   \n",
       "\n",
       "        meta         value  \n",
       "244614     0  29487.271577  \n",
       "244615     0  31404.870008  \n",
       "244616     0  31911.146283  \n",
       "244617     0  30995.012917  \n",
       "244618     0  29852.454850  "
      ]
     },
     "execution_count": 9,
     "metadata": {},
     "output_type": "execute_result"
    }
   ],
   "source": [
    "to_infill.data[\"subannual\"] = 0\n",
    "to_infill.data[\"meta\"] = 0\n",
    "to_infill.tail()"
   ]
  },
  {
   "cell_type": "code",
   "execution_count": 10,
   "metadata": {},
   "outputs": [
    {
     "name": "stderr",
     "output_type": "stream",
     "text": [
      "c:\\users\\rlamboll\\constraincode\\silicone\\src\\silicone\\multiple_infillers\\infill_all_required_emissions_for_openscm.py:163: UserWarning: No data for ['Emissions|HFC|HFC245ca']\n",
      "  warnings.warn(UserWarning(\"No data for {}\".format(unavailable_variables)))\n",
      "Filling required variables:   0%|                                                                | 0/1 [00:00<?, ?it/s]pyam.core - WARNING: Filtered IamDataFrame is empty!\n",
      "Filling required variables: 100%|████████████████████████████████████████████████████████| 1/1 [00:00<00:00,  7.94it/s]\n",
      "Filling required variables:   0%|                                                               | 0/22 [00:00<?, ?it/s]pyam.core - WARNING: Filtered IamDataFrame is empty!\n",
      "Filling required variables:   5%|██▌                                                    | 1/22 [00:00<00:18,  1.15it/s]pyam.core - WARNING: Filtered IamDataFrame is empty!\n",
      "Filling required variables:   9%|█████                                                  | 2/22 [00:01<00:17,  1.16it/s]pyam.core - WARNING: Filtered IamDataFrame is empty!\n",
      "Filling required variables:  14%|███████▍                                               | 3/22 [00:02<00:16,  1.18it/s]pyam.core - WARNING: Filtered IamDataFrame is empty!\n",
      "Filling required variables:  18%|██████████                                             | 4/22 [00:03<00:15,  1.19it/s]pyam.core - WARNING: Filtered IamDataFrame is empty!\n",
      "Filling required variables:  23%|████████████▌                                          | 5/22 [00:04<00:14,  1.19it/s]pyam.core - WARNING: Filtered IamDataFrame is empty!\n",
      "Filling required variables:  27%|██████████████▉                                        | 6/22 [00:05<00:15,  1.05it/s]pyam.core - WARNING: Filtered IamDataFrame is empty!\n",
      "Filling required variables:  32%|█████████████████▌                                     | 7/22 [00:06<00:15,  1.02s/it]pyam.core - WARNING: Filtered IamDataFrame is empty!\n",
      "Filling required variables:  36%|████████████████████                                   | 8/22 [00:07<00:13,  1.02it/s]pyam.core - WARNING: Filtered IamDataFrame is empty!\n",
      "Filling required variables:  41%|██████████████████████▌                                | 9/22 [00:08<00:12,  1.06it/s]pyam.core - WARNING: Filtered IamDataFrame is empty!\n",
      "Filling required variables:  45%|████████████████████████▌                             | 10/22 [00:09<00:10,  1.09it/s]pyam.core - WARNING: Filtered IamDataFrame is empty!\n",
      "Filling required variables:  50%|███████████████████████████                           | 11/22 [00:10<00:09,  1.12it/s]pyam.core - WARNING: Filtered IamDataFrame is empty!\n",
      "Filling required variables:  55%|█████████████████████████████▍                        | 12/22 [00:10<00:08,  1.14it/s]pyam.core - WARNING: Filtered IamDataFrame is empty!\n",
      "Filling required variables:  59%|███████████████████████████████▉                      | 13/22 [00:11<00:07,  1.15it/s]pyam.core - WARNING: Filtered IamDataFrame is empty!\n",
      "Filling required variables:  64%|██████████████████████████████████▎                   | 14/22 [00:12<00:06,  1.16it/s]pyam.core - WARNING: Filtered IamDataFrame is empty!\n",
      "Filling required variables:  68%|████████████████████████████████████▊                 | 15/22 [00:13<00:05,  1.17it/s]pyam.core - WARNING: Filtered IamDataFrame is empty!\n",
      "Filling required variables:  73%|███████████████████████████████████████▎              | 16/22 [00:14<00:05,  1.16it/s]pyam.core - WARNING: Filtered IamDataFrame is empty!\n",
      "Filling required variables:  77%|█████████████████████████████████████████▋            | 17/22 [00:15<00:04,  1.16it/s]pyam.core - WARNING: Filtered IamDataFrame is empty!\n",
      "Filling required variables:  82%|████████████████████████████████████████████▏         | 18/22 [00:16<00:03,  1.16it/s]pyam.core - WARNING: Filtered IamDataFrame is empty!\n",
      "Filling required variables:  86%|██████████████████████████████████████████████▋       | 19/22 [00:16<00:02,  1.15it/s]pyam.core - WARNING: Filtered IamDataFrame is empty!\n",
      "Filling required variables:  91%|█████████████████████████████████████████████████     | 20/22 [00:17<00:01,  1.15it/s]pyam.core - WARNING: Filtered IamDataFrame is empty!\n",
      "Filling required variables:  95%|███████████████████████████████████████████████████▌  | 21/22 [00:18<00:00,  1.14it/s]pyam.core - WARNING: Filtered IamDataFrame is empty!\n",
      "Filling required variables: 100%|██████████████████████████████████████████████████████| 22/22 [00:19<00:00,  1.12it/s]\n"
     ]
    },
    {
     "data": {
      "text/html": [
       "<div>\n",
       "<style scoped>\n",
       "    .dataframe tbody tr th:only-of-type {\n",
       "        vertical-align: middle;\n",
       "    }\n",
       "\n",
       "    .dataframe tbody tr th {\n",
       "        vertical-align: top;\n",
       "    }\n",
       "\n",
       "    .dataframe thead th {\n",
       "        text-align: right;\n",
       "    }\n",
       "</style>\n",
       "<table border=\"1\" class=\"dataframe\">\n",
       "  <thead>\n",
       "    <tr style=\"text-align: right;\">\n",
       "      <th></th>\n",
       "      <th>model</th>\n",
       "      <th>scenario</th>\n",
       "      <th>region</th>\n",
       "      <th>variable</th>\n",
       "      <th>unit</th>\n",
       "      <th>year</th>\n",
       "      <th>subannual</th>\n",
       "      <th>meta</th>\n",
       "      <th>value</th>\n",
       "    </tr>\n",
       "  </thead>\n",
       "  <tbody>\n",
       "    <tr>\n",
       "      <th>0</th>\n",
       "      <td>WITCH-GLOBIOM 3.1</td>\n",
       "      <td>SSP1-19</td>\n",
       "      <td>World</td>\n",
       "      <td>Emissions|BC</td>\n",
       "      <td>Mt BC/yr</td>\n",
       "      <td>2020</td>\n",
       "      <td>0</td>\n",
       "      <td>0</td>\n",
       "      <td>6.643182</td>\n",
       "    </tr>\n",
       "    <tr>\n",
       "      <th>1</th>\n",
       "      <td>WITCH-GLOBIOM 3.1</td>\n",
       "      <td>SSP1-19</td>\n",
       "      <td>World</td>\n",
       "      <td>Emissions|BC</td>\n",
       "      <td>Mt BC/yr</td>\n",
       "      <td>2030</td>\n",
       "      <td>0</td>\n",
       "      <td>0</td>\n",
       "      <td>5.033023</td>\n",
       "    </tr>\n",
       "    <tr>\n",
       "      <th>2</th>\n",
       "      <td>WITCH-GLOBIOM 3.1</td>\n",
       "      <td>SSP1-19</td>\n",
       "      <td>World</td>\n",
       "      <td>Emissions|BC</td>\n",
       "      <td>Mt BC/yr</td>\n",
       "      <td>2040</td>\n",
       "      <td>0</td>\n",
       "      <td>0</td>\n",
       "      <td>4.253766</td>\n",
       "    </tr>\n",
       "    <tr>\n",
       "      <th>3</th>\n",
       "      <td>WITCH-GLOBIOM 3.1</td>\n",
       "      <td>SSP1-19</td>\n",
       "      <td>World</td>\n",
       "      <td>Emissions|BC</td>\n",
       "      <td>Mt BC/yr</td>\n",
       "      <td>2050</td>\n",
       "      <td>0</td>\n",
       "      <td>0</td>\n",
       "      <td>3.641230</td>\n",
       "    </tr>\n",
       "    <tr>\n",
       "      <th>4</th>\n",
       "      <td>WITCH-GLOBIOM 3.1</td>\n",
       "      <td>SSP1-19</td>\n",
       "      <td>World</td>\n",
       "      <td>Emissions|BC</td>\n",
       "      <td>Mt BC/yr</td>\n",
       "      <td>2060</td>\n",
       "      <td>0</td>\n",
       "      <td>0</td>\n",
       "      <td>3.198676</td>\n",
       "    </tr>\n",
       "  </tbody>\n",
       "</table>\n",
       "</div>"
      ],
      "text/plain": [
       "               model scenario region      variable      unit  year  subannual  \\\n",
       "0  WITCH-GLOBIOM 3.1  SSP1-19  World  Emissions|BC  Mt BC/yr  2020          0   \n",
       "1  WITCH-GLOBIOM 3.1  SSP1-19  World  Emissions|BC  Mt BC/yr  2030          0   \n",
       "2  WITCH-GLOBIOM 3.1  SSP1-19  World  Emissions|BC  Mt BC/yr  2040          0   \n",
       "3  WITCH-GLOBIOM 3.1  SSP1-19  World  Emissions|BC  Mt BC/yr  2050          0   \n",
       "4  WITCH-GLOBIOM 3.1  SSP1-19  World  Emissions|BC  Mt BC/yr  2060          0   \n",
       "\n",
       "   meta     value  \n",
       "0     0  6.643182  \n",
       "1     0  5.033023  \n",
       "2     0  4.253766  \n",
       "3     0  3.641230  \n",
       "4     0  3.198676  "
      ]
     },
     "execution_count": 10,
     "metadata": {},
     "output_type": "execute_result"
    }
   ],
   "source": [
    "infilled = mi.infill_all_required_variables(\n",
    "    to_infill,\n",
    "    database,\n",
    "    [target],\n",
    "    output_timesteps = list(range(2020, 2101, 10))\n",
    ")\n",
    "infilled.head()"
   ]
  },
  {
   "cell_type": "markdown",
   "metadata": {},
   "source": [
    "We now have a complete scenario, with all required variables. "
   ]
  },
  {
   "cell_type": "code",
   "execution_count": 11,
   "metadata": {},
   "outputs": [
    {
     "data": {
      "text/html": [
       "<div>\n",
       "<style scoped>\n",
       "    .dataframe tbody tr th:only-of-type {\n",
       "        vertical-align: middle;\n",
       "    }\n",
       "\n",
       "    .dataframe tbody tr th {\n",
       "        vertical-align: top;\n",
       "    }\n",
       "\n",
       "    .dataframe thead th {\n",
       "        text-align: right;\n",
       "    }\n",
       "</style>\n",
       "<table border=\"1\" class=\"dataframe\">\n",
       "  <thead>\n",
       "    <tr style=\"text-align: right;\">\n",
       "      <th></th>\n",
       "      <th>variable</th>\n",
       "      <th>unit</th>\n",
       "    </tr>\n",
       "  </thead>\n",
       "  <tbody>\n",
       "    <tr>\n",
       "      <th>0</th>\n",
       "      <td>Emissions|CO2</td>\n",
       "      <td>Mt CO2/yr</td>\n",
       "    </tr>\n",
       "    <tr>\n",
       "      <th>1</th>\n",
       "      <td>Emissions|CO2|AFOLU</td>\n",
       "      <td>Mt CO2/yr</td>\n",
       "    </tr>\n",
       "    <tr>\n",
       "      <th>2</th>\n",
       "      <td>Emissions|CO2|Energy and Industrial Processes</td>\n",
       "      <td>Mt CO2/yr</td>\n",
       "    </tr>\n",
       "    <tr>\n",
       "      <th>5</th>\n",
       "      <td>Emissions|CO2|Energy|Demand</td>\n",
       "      <td>Mt CO2/yr</td>\n",
       "    </tr>\n",
       "    <tr>\n",
       "      <th>8</th>\n",
       "      <td>Emissions|CO2|Energy|Demand|Industry</td>\n",
       "      <td>Mt CO2/yr</td>\n",
       "    </tr>\n",
       "    <tr>\n",
       "      <th>9</th>\n",
       "      <td>Emissions|CO2|Energy|Demand|Residential and Co...</td>\n",
       "      <td>Mt CO2/yr</td>\n",
       "    </tr>\n",
       "    <tr>\n",
       "      <th>6</th>\n",
       "      <td>Emissions|CO2|Energy|Demand|Transportation</td>\n",
       "      <td>Mt CO2/yr</td>\n",
       "    </tr>\n",
       "    <tr>\n",
       "      <th>3</th>\n",
       "      <td>Emissions|CO2|Energy|Supply</td>\n",
       "      <td>Mt CO2/yr</td>\n",
       "    </tr>\n",
       "    <tr>\n",
       "      <th>4</th>\n",
       "      <td>Emissions|CO2|Energy|Supply|Electricity</td>\n",
       "      <td>Mt CO2/yr</td>\n",
       "    </tr>\n",
       "    <tr>\n",
       "      <th>7</th>\n",
       "      <td>Emissions|CO2|Energy|Supply|Liquids</td>\n",
       "      <td>Mt CO2/yr</td>\n",
       "    </tr>\n",
       "  </tbody>\n",
       "</table>\n",
       "</div>"
      ],
      "text/plain": [
       "                                            variable       unit\n",
       "0                                      Emissions|CO2  Mt CO2/yr\n",
       "1                                Emissions|CO2|AFOLU  Mt CO2/yr\n",
       "2      Emissions|CO2|Energy and Industrial Processes  Mt CO2/yr\n",
       "5                        Emissions|CO2|Energy|Demand  Mt CO2/yr\n",
       "8               Emissions|CO2|Energy|Demand|Industry  Mt CO2/yr\n",
       "9  Emissions|CO2|Energy|Demand|Residential and Co...  Mt CO2/yr\n",
       "6         Emissions|CO2|Energy|Demand|Transportation  Mt CO2/yr\n",
       "3                        Emissions|CO2|Energy|Supply  Mt CO2/yr\n",
       "4            Emissions|CO2|Energy|Supply|Electricity  Mt CO2/yr\n",
       "7                Emissions|CO2|Energy|Supply|Liquids  Mt CO2/yr"
      ]
     },
     "execution_count": 11,
     "metadata": {},
     "output_type": "execute_result"
    }
   ],
   "source": [
    "to_infill.filter().variables(True)"
   ]
  },
  {
   "cell_type": "markdown",
   "metadata": {},
   "source": [
    "### DecomposeCollectionTimeDepRatio\n",
    "This function is designed to split up an aggregate value into its known components, using the relationship between these found in models that have all components (but not necessarily the aggregate variable). The aggregate value is calculated in the first step. "
   ]
  },
  {
   "cell_type": "code",
   "execution_count": 12,
   "metadata": {},
   "outputs": [
    {
     "data": {
      "text/html": [
       "<div>\n",
       "<style scoped>\n",
       "    .dataframe tbody tr th:only-of-type {\n",
       "        vertical-align: middle;\n",
       "    }\n",
       "\n",
       "    .dataframe tbody tr th {\n",
       "        vertical-align: top;\n",
       "    }\n",
       "\n",
       "    .dataframe thead th {\n",
       "        text-align: right;\n",
       "    }\n",
       "</style>\n",
       "<table border=\"1\" class=\"dataframe\">\n",
       "  <thead>\n",
       "    <tr style=\"text-align: right;\">\n",
       "      <th></th>\n",
       "      <th>variable</th>\n",
       "      <th>unit</th>\n",
       "    </tr>\n",
       "  </thead>\n",
       "  <tbody>\n",
       "    <tr>\n",
       "      <th>0</th>\n",
       "      <td>Emissions|CH4</td>\n",
       "      <td>Mt CO2-equiv/yr</td>\n",
       "    </tr>\n",
       "    <tr>\n",
       "      <th>1</th>\n",
       "      <td>Emissions|CO2</td>\n",
       "      <td>Mt CO2/yr</td>\n",
       "    </tr>\n",
       "    <tr>\n",
       "      <th>2</th>\n",
       "      <td>Emissions|F-Gases</td>\n",
       "      <td>Mt CO2-equiv/yr</td>\n",
       "    </tr>\n",
       "    <tr>\n",
       "      <th>3</th>\n",
       "      <td>Emissions|N2O</td>\n",
       "      <td>Mt CO2-equiv/yr</td>\n",
       "    </tr>\n",
       "  </tbody>\n",
       "</table>\n",
       "</div>"
      ],
      "text/plain": [
       "            variable             unit\n",
       "0      Emissions|CH4  Mt CO2-equiv/yr\n",
       "1      Emissions|CO2        Mt CO2/yr\n",
       "2  Emissions|F-Gases  Mt CO2-equiv/yr\n",
       "3      Emissions|N2O  Mt CO2-equiv/yr"
      ]
     },
     "execution_count": 12,
     "metadata": {},
     "output_type": "execute_result"
    }
   ],
   "source": [
    "# Define some calculation parameters\n",
    "components = [\"Emissions|CO2\", \"Emissions|CH4\", \"Emissions|N2O\", \"Emissions|F-Gases\"]\n",
    "aggregate = \"Emissions|Kyoto Gases (AR4-GWP100)\"\n",
    "to_infill = sr15_data.filter(model=\"WITCH*\", variable=aggregate)\n",
    "unit_consistant_db = convert_units_to_MtCO2_equiv(database.filter(variable=components))\n",
    "unit_consistant_db.variables(True)"
   ]
  },
  {
   "cell_type": "code",
   "execution_count": 13,
   "metadata": {},
   "outputs": [
    {
     "name": "stderr",
     "output_type": "stream",
     "text": [
      "c:\\users\\rlamboll\\constraincode\\silicone\\src\\silicone\\database_crunchers\\time_dep_ratio.py:105: RuntimeWarning: invalid value encountered in greater\n",
      "  pos_inds = data_leader[year].values > 0\n",
      "c:\\users\\rlamboll\\constraincode\\silicone\\src\\silicone\\database_crunchers\\time_dep_ratio.py:110: RuntimeWarning: Mean of empty slice\n",
      "  data_follower[year].iloc[~pos_inds].values) / np.nanmean(\n",
      "c:\\users\\rlamboll\\constraincode\\silicone\\src\\silicone\\database_crunchers\\time_dep_ratio.py:111: RuntimeWarning: Mean of empty slice\n",
      "  data_leader[year].iloc[~pos_inds].values)\n"
     ]
    },
    {
     "data": {
      "text/html": [
       "<div>\n",
       "<style scoped>\n",
       "    .dataframe tbody tr th:only-of-type {\n",
       "        vertical-align: middle;\n",
       "    }\n",
       "\n",
       "    .dataframe tbody tr th {\n",
       "        vertical-align: top;\n",
       "    }\n",
       "\n",
       "    .dataframe thead th {\n",
       "        text-align: right;\n",
       "    }\n",
       "</style>\n",
       "<table border=\"1\" class=\"dataframe\">\n",
       "  <thead>\n",
       "    <tr style=\"text-align: right;\">\n",
       "      <th></th>\n",
       "      <th>model</th>\n",
       "      <th>scenario</th>\n",
       "      <th>region</th>\n",
       "      <th>variable</th>\n",
       "      <th>unit</th>\n",
       "      <th>year</th>\n",
       "      <th>subannual</th>\n",
       "      <th>meta</th>\n",
       "      <th>value</th>\n",
       "    </tr>\n",
       "  </thead>\n",
       "  <tbody>\n",
       "    <tr>\n",
       "      <th>0</th>\n",
       "      <td>WITCH-GLOBIOM 3.1</td>\n",
       "      <td>SSP1-19</td>\n",
       "      <td>World</td>\n",
       "      <td>Emissions|CH4</td>\n",
       "      <td>Mt CO2-equiv/yr</td>\n",
       "      <td>2010</td>\n",
       "      <td>0.0</td>\n",
       "      <td>0</td>\n",
       "      <td>9661.641271</td>\n",
       "    </tr>\n",
       "    <tr>\n",
       "      <th>1</th>\n",
       "      <td>WITCH-GLOBIOM 3.1</td>\n",
       "      <td>SSP1-19</td>\n",
       "      <td>World</td>\n",
       "      <td>Emissions|CH4</td>\n",
       "      <td>Mt CO2-equiv/yr</td>\n",
       "      <td>2015</td>\n",
       "      <td>0.0</td>\n",
       "      <td>0</td>\n",
       "      <td>9742.231406</td>\n",
       "    </tr>\n",
       "    <tr>\n",
       "      <th>2</th>\n",
       "      <td>WITCH-GLOBIOM 3.1</td>\n",
       "      <td>SSP1-19</td>\n",
       "      <td>World</td>\n",
       "      <td>Emissions|CH4</td>\n",
       "      <td>Mt CO2-equiv/yr</td>\n",
       "      <td>2020</td>\n",
       "      <td>0.0</td>\n",
       "      <td>0</td>\n",
       "      <td>9586.593085</td>\n",
       "    </tr>\n",
       "    <tr>\n",
       "      <th>3</th>\n",
       "      <td>WITCH-GLOBIOM 3.1</td>\n",
       "      <td>SSP1-19</td>\n",
       "      <td>World</td>\n",
       "      <td>Emissions|CH4</td>\n",
       "      <td>Mt CO2-equiv/yr</td>\n",
       "      <td>2030</td>\n",
       "      <td>0.0</td>\n",
       "      <td>0</td>\n",
       "      <td>3449.001415</td>\n",
       "    </tr>\n",
       "    <tr>\n",
       "      <th>4</th>\n",
       "      <td>WITCH-GLOBIOM 3.1</td>\n",
       "      <td>SSP1-19</td>\n",
       "      <td>World</td>\n",
       "      <td>Emissions|CH4</td>\n",
       "      <td>Mt CO2-equiv/yr</td>\n",
       "      <td>2040</td>\n",
       "      <td>0.0</td>\n",
       "      <td>0</td>\n",
       "      <td>2861.029830</td>\n",
       "    </tr>\n",
       "  </tbody>\n",
       "</table>\n",
       "</div>"
      ],
      "text/plain": [
       "               model scenario region       variable             unit  year  \\\n",
       "0  WITCH-GLOBIOM 3.1  SSP1-19  World  Emissions|CH4  Mt CO2-equiv/yr  2010   \n",
       "1  WITCH-GLOBIOM 3.1  SSP1-19  World  Emissions|CH4  Mt CO2-equiv/yr  2015   \n",
       "2  WITCH-GLOBIOM 3.1  SSP1-19  World  Emissions|CH4  Mt CO2-equiv/yr  2020   \n",
       "3  WITCH-GLOBIOM 3.1  SSP1-19  World  Emissions|CH4  Mt CO2-equiv/yr  2030   \n",
       "4  WITCH-GLOBIOM 3.1  SSP1-19  World  Emissions|CH4  Mt CO2-equiv/yr  2040   \n",
       "\n",
       "   subannual  meta        value  \n",
       "0        0.0     0  9661.641271  \n",
       "1        0.0     0  9742.231406  \n",
       "2        0.0     0  9586.593085  \n",
       "3        0.0     0  3449.001415  \n",
       "4        0.0     0  2861.029830  "
      ]
     },
     "execution_count": 13,
     "metadata": {},
     "output_type": "execute_result"
    }
   ],
   "source": [
    "decomposer = mi.DecomposeCollectionTimeDepRatio(unit_consistant_db)\n",
    "results = decomposer.infill_components(aggregate, components, to_infill.filter(year=[2000, 2005], keep=False))\n",
    "results.head()"
   ]
  },
  {
   "cell_type": "code",
   "execution_count": 14,
   "metadata": {},
   "outputs": [
    {
     "data": {
      "text/plain": [
       "0        Emissions|CH4\n",
       "1        Emissions|CO2\n",
       "2    Emissions|F-Gases\n",
       "3        Emissions|N2O\n",
       "Name: variable, dtype: object"
      ]
     },
     "execution_count": 14,
     "metadata": {},
     "output_type": "execute_result"
    }
   ],
   "source": [
    "# We now have variable information for each of the components\n",
    "results.variables()"
   ]
  }
 ],
 "metadata": {
  "kernelspec": {
   "display_name": "Python 3",
   "language": "python",
   "name": "python3"
  },
  "language_info": {
   "codemirror_mode": {
    "name": "ipython",
    "version": 3
   },
   "file_extension": ".py",
   "mimetype": "text/x-python",
   "name": "python",
   "nbconvert_exporter": "python",
   "pygments_lexer": "ipython3",
   "version": "3.7.6"
  }
 },
 "nbformat": 4,
 "nbformat_minor": 2
}
