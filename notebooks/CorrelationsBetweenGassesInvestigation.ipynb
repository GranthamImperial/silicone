{
 "cells": [
  {
   "cell_type": "code",
   "execution_count": 22,
   "metadata": {},
   "outputs": [],
   "source": [
    "import sys\n",
    "%run ./../src/silicone/PlotCorrelationsBetweenGases\n"
   ]
  },
  {
   "cell_type": "code",
   "execution_count": 23,
   "metadata": {},
   "outputs": [],
   "source": [
    "# Inputs to the code for PlotCorrelationsBetweenGases, freely modifiable\n",
    "# ________________________________________________________\n",
    "\n",
    "years_of_interest = [2030, 2050, 2100]\n",
    "save_results = True\n",
    "# if non-null, also plot these quantiles.\n",
    "plot_quantiles = [0.2, 0.33, 0.5, 0.67, 0.8]\n",
    "# if non-null, save data on the quantiles too\n",
    "quantiles_savename = '../Output/Quantiles/'\n",
    "# How many boxes are used to fit the quantiles?\n",
    "quantile_boxes = 15\n",
    "# Should we extend the quantile boxes by an additional factor?\n",
    "quantile_decay_factor = 0.7\n",
    "# use a smoothing spline? If None, don't. Otherwise this is the smoothing factor, s, used in the spline model.\n",
    "smoothing_spline = None\n",
    "# Color different models different colours?\n",
    "model_colours = True\n",
    "# In the model-coloured version, how much does the figure need to be reduced by to leave room for the legend?\n",
    "legend_fraction = 0.65\n",
    "# ________________________________________________________\n"
   ]
  },
  {
   "cell_type": "code",
   "execution_count": 25,
   "metadata": {},
   "outputs": [],
   "source": [
    "def get_sr15_scenarios(output_file):\n",
    "    conn = pyam.iiasa.Connection(\"iamc15\")\n",
    "    valid_model_ids = [\n",
    "        \"MESSAGE*\",\n",
    "        \"AIM*\",\n",
    "        \"C-ROADS*\",\n",
    "        \"GCAM*\",\n",
    "        \"IEA*\",\n",
    "        \"IMAGE*\",\n",
    "        \"MERGE*\",\n",
    "        \"POLES*\",\n",
    "        \"REMIND*\",\n",
    "        # \"Reference*\",  # missing required columns, not sure why\n",
    "        # \"Shell*\",  # missing required columns, not sure why\n",
    "        \"WITCH*\"\n",
    "        # \"GENeSYS-MOD\",  # can't download, not sure why\n",
    "    ]\n",
    "    variables_to_fetch = [\n",
    "        \"Emissions*\",\n",
    "    ]\n",
    "    for model in valid_model_ids:\n",
    "        print(\"Fetching data for {}\".format(model))\n",
    "        for variable in variables_to_fetch:\n",
    "            print(\"Fetching {}\".format(variable))\n",
    "            var_df = conn.query(model=model, variable=variable, region='World')\n",
    "            try:\n",
    "                df.append(var_df, inplace=True)\n",
    "            except NameError:\n",
    "                df = pyam.IamDataFrame(var_df)\n",
    "\n",
    "    print(\"Writing to {}\".format(output_file))\n",
    "    df.to_csv(output_file)"
   ]
  },
  {
   "cell_type": "code",
   "execution_count": 26,
   "metadata": {},
   "outputs": [],
   "source": [
    "if not os.path.isfile(SR15_SCENARIOS):\n",
    "    get_sr15_scenarios(SR15_SCENARIOS)"
   ]
  },
  {
   "cell_type": "code",
   "execution_count": 27,
   "metadata": {},
   "outputs": [
    {
     "name": "stderr",
     "output_type": "stream",
     "text": [
      "INFO:root:Reading `./sr15_scenarios.csv`\n"
     ]
    },
    {
     "data": {
      "text/html": [
       "<div>\n",
       "<style scoped>\n",
       "    .dataframe tbody tr th:only-of-type {\n",
       "        vertical-align: middle;\n",
       "    }\n",
       "\n",
       "    .dataframe tbody tr th {\n",
       "        vertical-align: top;\n",
       "    }\n",
       "\n",
       "    .dataframe thead th {\n",
       "        text-align: right;\n",
       "    }\n",
       "</style>\n",
       "<table border=\"1\" class=\"dataframe\">\n",
       "  <thead>\n",
       "    <tr style=\"text-align: right;\">\n",
       "      <th></th>\n",
       "      <th>model</th>\n",
       "      <th>scenario</th>\n",
       "      <th>region</th>\n",
       "      <th>variable</th>\n",
       "      <th>unit</th>\n",
       "      <th>year</th>\n",
       "      <th>value</th>\n",
       "    </tr>\n",
       "  </thead>\n",
       "  <tbody>\n",
       "    <tr>\n",
       "      <th>0</th>\n",
       "      <td>AIM/CGE 2.0</td>\n",
       "      <td>ADVANCE_2020_1.5C-2100</td>\n",
       "      <td>R5ASIA</td>\n",
       "      <td>Emissions|BC</td>\n",
       "      <td>Mt BC/yr</td>\n",
       "      <td>2005</td>\n",
       "      <td>3.4665</td>\n",
       "    </tr>\n",
       "    <tr>\n",
       "      <th>1</th>\n",
       "      <td>AIM/CGE 2.0</td>\n",
       "      <td>ADVANCE_2020_1.5C-2100</td>\n",
       "      <td>R5ASIA</td>\n",
       "      <td>Emissions|BC</td>\n",
       "      <td>Mt BC/yr</td>\n",
       "      <td>2010</td>\n",
       "      <td>3.0156</td>\n",
       "    </tr>\n",
       "    <tr>\n",
       "      <th>2</th>\n",
       "      <td>AIM/CGE 2.0</td>\n",
       "      <td>ADVANCE_2020_1.5C-2100</td>\n",
       "      <td>R5ASIA</td>\n",
       "      <td>Emissions|BC</td>\n",
       "      <td>Mt BC/yr</td>\n",
       "      <td>2015</td>\n",
       "      <td>2.8850</td>\n",
       "    </tr>\n",
       "    <tr>\n",
       "      <th>3</th>\n",
       "      <td>AIM/CGE 2.0</td>\n",
       "      <td>ADVANCE_2020_1.5C-2100</td>\n",
       "      <td>R5ASIA</td>\n",
       "      <td>Emissions|BC</td>\n",
       "      <td>Mt BC/yr</td>\n",
       "      <td>2020</td>\n",
       "      <td>2.7671</td>\n",
       "    </tr>\n",
       "    <tr>\n",
       "      <th>4</th>\n",
       "      <td>AIM/CGE 2.0</td>\n",
       "      <td>ADVANCE_2020_1.5C-2100</td>\n",
       "      <td>R5ASIA</td>\n",
       "      <td>Emissions|BC</td>\n",
       "      <td>Mt BC/yr</td>\n",
       "      <td>2025</td>\n",
       "      <td>2.1161</td>\n",
       "    </tr>\n",
       "  </tbody>\n",
       "</table>\n",
       "</div>"
      ],
      "text/plain": [
       "         model                scenario  region      variable      unit  year  \\\n",
       "0  AIM/CGE 2.0  ADVANCE_2020_1.5C-2100  R5ASIA  Emissions|BC  Mt BC/yr  2005   \n",
       "1  AIM/CGE 2.0  ADVANCE_2020_1.5C-2100  R5ASIA  Emissions|BC  Mt BC/yr  2010   \n",
       "2  AIM/CGE 2.0  ADVANCE_2020_1.5C-2100  R5ASIA  Emissions|BC  Mt BC/yr  2015   \n",
       "3  AIM/CGE 2.0  ADVANCE_2020_1.5C-2100  R5ASIA  Emissions|BC  Mt BC/yr  2020   \n",
       "4  AIM/CGE 2.0  ADVANCE_2020_1.5C-2100  R5ASIA  Emissions|BC  Mt BC/yr  2025   \n",
       "\n",
       "    value  \n",
       "0  3.4665  \n",
       "1  3.0156  \n",
       "2  2.8850  \n",
       "3  2.7671  \n",
       "4  2.1161  "
      ]
     },
     "execution_count": 27,
     "metadata": {},
     "output_type": "execute_result"
    }
   ],
   "source": [
    "sr15_data = pyam.IamDataFrame(SR15_SCENARIOS)\n",
    "sr15_data.head()"
   ]
  },
  {
   "cell_type": "code",
   "execution_count": 28,
   "metadata": {},
   "outputs": [
    {
     "name": "stderr",
     "output_type": "stream",
     "text": [
      "\n",
      "A value is trying to be set on a copy of a slice from a DataFrame\n",
      "\n",
      "See the caveats in the documentation: http://pandas.pydata.org/pandas-docs/stable/indexing.html#indexing-view-versus-copy\n",
      "elementwise comparison failed; returning scalar instead, but in the future will perform elementwise comparison\n"
     ]
    },
    {
     "name": "stdout",
     "output_type": "stream",
     "text": [
      "Finished Emissions|CO2 vs Emissions|BC in 2030\n",
      "Finished Emissions|CO2 vs Emissions|CH4 in 2030\n",
      "Finished Emissions|CO2 vs Emissions|CO in 2030\n",
      "Finished Emissions|CO2 vs Emissions|CO2 in 2030\n",
      "Finished Emissions|CO2 vs Emissions|F-Gases in 2030\n",
      "Finished Emissions|CO2 vs Emissions|HFC in 2030\n",
      "Finished Emissions|CO2 vs Emissions|Kyoto Gases in 2030\n",
      "Finished Emissions|CO2 vs Emissions|Kyoto Gases (AR4-GWP100) in 2030\n",
      "Finished Emissions|CO2 vs Emissions|Kyoto Gases (AR5-GWP100) in 2030\n",
      "Finished Emissions|CO2 vs Emissions|Kyoto Gases (SAR-GWP100) in 2030\n",
      "Finished Emissions|CO2 vs Emissions|N2O in 2030\n",
      "Finished Emissions|CO2 vs Emissions|NH3 in 2030\n",
      "Finished Emissions|CO2 vs Emissions|NOx in 2030\n",
      "Finished Emissions|CO2 vs Emissions|OC in 2030\n",
      "Finished Emissions|CO2 vs Emissions|PFC in 2030\n",
      "Finished Emissions|CO2 vs Emissions|SF6 in 2030\n"
     ]
    },
    {
     "ename": "KeyboardInterrupt",
     "evalue": "",
     "output_type": "error",
     "traceback": [
      "\u001b[1;31m---------------------------------------------------------------------------\u001b[0m",
      "\u001b[1;31mKeyboardInterrupt\u001b[0m                         Traceback (most recent call last)",
      "\u001b[1;32m<ipython-input-28-ad1e8acaef70>\u001b[0m in \u001b[0;36m<module>\u001b[1;34m\u001b[0m\n\u001b[0;32m      1\u001b[0m plot_emission_correlations(sr15_data, years_of_interest, save_results, plot_quantiles, quantiles_savename,\n\u001b[0;32m      2\u001b[0m                                   \u001b[0mquantile_boxes\u001b[0m\u001b[1;33m,\u001b[0m \u001b[0mquantile_decay_factor\u001b[0m\u001b[1;33m,\u001b[0m \u001b[0msmoothing_spline\u001b[0m\u001b[1;33m,\u001b[0m \u001b[0mmodel_colours\u001b[0m\u001b[1;33m,\u001b[0m\u001b[1;33m\u001b[0m\u001b[1;33m\u001b[0m\u001b[0m\n\u001b[1;32m----> 3\u001b[1;33m                                   legend_fraction)\n\u001b[0m",
      "\u001b[1;32m~\\ConstrainCode\\silicone\\src\\silicone\\PlotCorrelationsBetweenGases.py\u001b[0m in \u001b[0;36mplot_emission_correlations\u001b[1;34m(emissions_data, years_of_interest, save_results, plot_quantiles, quantiles_savename, quantile_boxes, quantile_decay_factor, smoothing_spline, model_colours, legend_fraction)\u001b[0m\n\u001b[0;32m     72\u001b[0m                 \u001b[0mvariable\u001b[0m\u001b[1;33m=\u001b[0m\u001b[1;33m[\u001b[0m\u001b[0my_gas\u001b[0m\u001b[1;33m,\u001b[0m \u001b[0mx_gas\u001b[0m\u001b[1;33m]\u001b[0m\u001b[1;33m,\u001b[0m\u001b[1;33m\u001b[0m\u001b[1;33m\u001b[0m\u001b[0m\n\u001b[0;32m     73\u001b[0m                 \u001b[0mregion\u001b[0m\u001b[1;33m=\u001b[0m\u001b[1;34m\"World\"\u001b[0m\u001b[1;33m,\u001b[0m\u001b[1;33m\u001b[0m\u001b[1;33m\u001b[0m\u001b[0m\n\u001b[1;32m---> 74\u001b[1;33m                 \u001b[0myear\u001b[0m\u001b[1;33m=\u001b[0m\u001b[0myear_of_interest\u001b[0m\u001b[1;33m,\u001b[0m\u001b[1;33m\u001b[0m\u001b[1;33m\u001b[0m\u001b[0m\n\u001b[0m\u001b[0;32m     75\u001b[0m             \u001b[1;33m)\u001b[0m\u001b[1;33m.\u001b[0m\u001b[0mpivot_table\u001b[0m\u001b[1;33m(\u001b[0m\u001b[1;33m\u001b[0m\u001b[1;33m\u001b[0m\u001b[0m\n\u001b[0;32m     76\u001b[0m                 \u001b[1;33m[\u001b[0m\u001b[1;34m\"year\"\u001b[0m\u001b[1;33m,\u001b[0m \u001b[1;34m\"model\"\u001b[0m\u001b[1;33m,\u001b[0m \u001b[1;34m\"scenario\"\u001b[0m\u001b[1;33m,\u001b[0m \u001b[1;34m\"region\"\u001b[0m\u001b[1;33m]\u001b[0m\u001b[1;33m,\u001b[0m\u001b[1;33m\u001b[0m\u001b[1;33m\u001b[0m\u001b[0m\n",
      "\u001b[1;32m~\\AppData\\Local\\Continuum\\anaconda3\\lib\\site-packages\\pyam\\core.py\u001b[0m in \u001b[0;36mfilter\u001b[1;34m(self, keep, inplace, **kwargs)\u001b[0m\n\u001b[0;32m    918\u001b[0m              \u001b[1;33m-\u001b[0m \u001b[1;34m'regexp=True'\u001b[0m \u001b[0mdisables\u001b[0m \u001b[0mpseudo\u001b[0m\u001b[1;33m-\u001b[0m\u001b[0mregexp\u001b[0m \u001b[0msyntax\u001b[0m \u001b[1;32min\u001b[0m\u001b[0;31m \u001b[0m\u001b[0;31m`\u001b[0m\u001b[0mpattern_match\u001b[0m\u001b[1;33m(\u001b[0m\u001b[1;33m)\u001b[0m\u001b[0;31m`\u001b[0m\u001b[1;33m\u001b[0m\u001b[1;33m\u001b[0m\u001b[0m\n\u001b[0;32m    919\u001b[0m         \"\"\"\n\u001b[1;32m--> 920\u001b[1;33m         \u001b[0m_keep\u001b[0m \u001b[1;33m=\u001b[0m \u001b[0mself\u001b[0m\u001b[1;33m.\u001b[0m\u001b[0m_apply_filters\u001b[0m\u001b[1;33m(\u001b[0m\u001b[1;33m**\u001b[0m\u001b[0mkwargs\u001b[0m\u001b[1;33m)\u001b[0m\u001b[1;33m\u001b[0m\u001b[1;33m\u001b[0m\u001b[0m\n\u001b[0m\u001b[0;32m    921\u001b[0m         \u001b[0m_keep\u001b[0m \u001b[1;33m=\u001b[0m \u001b[0m_keep\u001b[0m \u001b[1;32mif\u001b[0m \u001b[0mkeep\u001b[0m \u001b[1;32melse\u001b[0m \u001b[1;33m~\u001b[0m\u001b[0m_keep\u001b[0m\u001b[1;33m\u001b[0m\u001b[1;33m\u001b[0m\u001b[0m\n\u001b[0;32m    922\u001b[0m         \u001b[0mret\u001b[0m \u001b[1;33m=\u001b[0m \u001b[0mcopy\u001b[0m\u001b[1;33m.\u001b[0m\u001b[0mdeepcopy\u001b[0m\u001b[1;33m(\u001b[0m\u001b[0mself\u001b[0m\u001b[1;33m)\u001b[0m \u001b[1;32mif\u001b[0m \u001b[1;32mnot\u001b[0m \u001b[0minplace\u001b[0m \u001b[1;32melse\u001b[0m \u001b[0mself\u001b[0m\u001b[1;33m\u001b[0m\u001b[1;33m\u001b[0m\u001b[0m\n",
      "\u001b[1;32m~\\AppData\\Local\\Continuum\\anaconda3\\lib\\site-packages\\pyam\\core.py\u001b[0m in \u001b[0;36m_apply_filters\u001b[1;34m(self, **filters)\u001b[0m\n\u001b[0;32m    956\u001b[0m             \u001b[1;32melif\u001b[0m \u001b[0mcol\u001b[0m \u001b[1;33m==\u001b[0m \u001b[1;34m'variable'\u001b[0m\u001b[1;33m:\u001b[0m\u001b[1;33m\u001b[0m\u001b[1;33m\u001b[0m\u001b[0m\n\u001b[0;32m    957\u001b[0m                 \u001b[0mlevel\u001b[0m \u001b[1;33m=\u001b[0m \u001b[0mfilters\u001b[0m\u001b[1;33m[\u001b[0m\u001b[1;34m'level'\u001b[0m\u001b[1;33m]\u001b[0m \u001b[1;32mif\u001b[0m \u001b[1;34m'level'\u001b[0m \u001b[1;32min\u001b[0m \u001b[0mfilters\u001b[0m \u001b[1;32melse\u001b[0m \u001b[1;32mNone\u001b[0m\u001b[1;33m\u001b[0m\u001b[1;33m\u001b[0m\u001b[0m\n\u001b[1;32m--> 958\u001b[1;33m                 \u001b[0mkeep_col\u001b[0m \u001b[1;33m=\u001b[0m \u001b[0mpattern_match\u001b[0m\u001b[1;33m(\u001b[0m\u001b[0mself\u001b[0m\u001b[1;33m.\u001b[0m\u001b[0mdata\u001b[0m\u001b[1;33m[\u001b[0m\u001b[0mcol\u001b[0m\u001b[1;33m]\u001b[0m\u001b[1;33m,\u001b[0m \u001b[0mvalues\u001b[0m\u001b[1;33m,\u001b[0m \u001b[0mlevel\u001b[0m\u001b[1;33m,\u001b[0m \u001b[0mregexp\u001b[0m\u001b[1;33m)\u001b[0m\u001b[1;33m\u001b[0m\u001b[1;33m\u001b[0m\u001b[0m\n\u001b[0m\u001b[0;32m    959\u001b[0m \u001b[1;33m\u001b[0m\u001b[0m\n\u001b[0;32m    960\u001b[0m             \u001b[1;32melif\u001b[0m \u001b[0mcol\u001b[0m \u001b[1;33m==\u001b[0m \u001b[1;34m'year'\u001b[0m\u001b[1;33m:\u001b[0m\u001b[1;33m\u001b[0m\u001b[1;33m\u001b[0m\u001b[0m\n",
      "\u001b[1;32m~\\AppData\\Local\\Continuum\\anaconda3\\lib\\site-packages\\pyam\\utils.py\u001b[0m in \u001b[0;36mpattern_match\u001b[1;34m(data, values, level, regexp, has_nan)\u001b[0m\n\u001b[0;32m    311\u001b[0m     \"\"\"\n\u001b[0;32m    312\u001b[0m     \u001b[0mmatches\u001b[0m \u001b[1;33m=\u001b[0m \u001b[0mnp\u001b[0m\u001b[1;33m.\u001b[0m\u001b[0marray\u001b[0m\u001b[1;33m(\u001b[0m\u001b[1;33m[\u001b[0m\u001b[1;32mFalse\u001b[0m\u001b[1;33m]\u001b[0m \u001b[1;33m*\u001b[0m \u001b[0mlen\u001b[0m\u001b[1;33m(\u001b[0m\u001b[0mdata\u001b[0m\u001b[1;33m)\u001b[0m\u001b[1;33m)\u001b[0m\u001b[1;33m\u001b[0m\u001b[1;33m\u001b[0m\u001b[0m\n\u001b[1;32m--> 313\u001b[1;33m     \u001b[1;32mif\u001b[0m \u001b[1;32mnot\u001b[0m \u001b[0misinstance\u001b[0m\u001b[1;33m(\u001b[0m\u001b[0mvalues\u001b[0m\u001b[1;33m,\u001b[0m \u001b[0mcollections\u001b[0m\u001b[1;33m.\u001b[0m\u001b[0mIterable\u001b[0m\u001b[1;33m)\u001b[0m \u001b[1;32mor\u001b[0m \u001b[0misstr\u001b[0m\u001b[1;33m(\u001b[0m\u001b[0mvalues\u001b[0m\u001b[1;33m)\u001b[0m\u001b[1;33m:\u001b[0m\u001b[1;33m\u001b[0m\u001b[1;33m\u001b[0m\u001b[0m\n\u001b[0m\u001b[0;32m    314\u001b[0m         \u001b[0mvalues\u001b[0m \u001b[1;33m=\u001b[0m \u001b[1;33m[\u001b[0m\u001b[0mvalues\u001b[0m\u001b[1;33m]\u001b[0m\u001b[1;33m\u001b[0m\u001b[1;33m\u001b[0m\u001b[0m\n\u001b[0;32m    315\u001b[0m \u001b[1;33m\u001b[0m\u001b[0m\n",
      "\u001b[1;31mKeyboardInterrupt\u001b[0m: "
     ]
    }
   ],
   "source": [
    "plot_emission_correlations(sr15_data, years_of_interest, save_results, plot_quantiles, quantiles_savename,\n",
    "                                  quantile_boxes, quantile_decay_factor, smoothing_spline, model_colours,\n",
    "                                  legend_fraction)"
   ]
  }
 ],
 "metadata": {
  "kernelspec": {
   "display_name": "Python 3",
   "language": "python",
   "name": "python3"
  },
  "language_info": {
   "codemirror_mode": {
    "name": "ipython",
    "version": 3
   },
   "file_extension": ".py",
   "mimetype": "text/x-python",
   "name": "python",
   "nbconvert_exporter": "python",
   "pygments_lexer": "ipython3",
   "version": "3.7.3"
  }
 },
 "nbformat": 4,
 "nbformat_minor": 2
}
