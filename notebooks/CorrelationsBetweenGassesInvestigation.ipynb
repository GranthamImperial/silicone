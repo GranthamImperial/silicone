{
 "cells": [
  {
   "cell_type": "code",
   "execution_count": 2,
   "metadata": {},
   "outputs": [
    {
     "ename": "SyntaxError",
     "evalue": "invalid syntax (<ipython-input-2-48ffd8aafdeb>, line 1)",
     "output_type": "error",
     "traceback": [
      "\u001b[1;36m  File \u001b[1;32m\"<ipython-input-2-48ffd8aafdeb>\"\u001b[1;36m, line \u001b[1;32m1\u001b[0m\n\u001b[1;33m    import ../src.silicone.PlotCorrelationsBetweenGases as pltcor\u001b[0m\n\u001b[1;37m           ^\u001b[0m\n\u001b[1;31mSyntaxError\u001b[0m\u001b[1;31m:\u001b[0m invalid syntax\n"
     ]
    }
   ],
   "source": [
    "import src.silicone.PlotCorrelationsBetweenGases as pltcor\n",
    "from download_sr15_emissions import download_or_load_sr15\n",
    "# Inputs to the code for PlotCorrelationsBetweenGases, freely modifiable\n",
    "# ________________________________________________________\n",
    "\n",
    "years_of_interest = [2030, 2050, 2100]\n",
    "save_results = True\n",
    "# if non-null, also plot these quantiles.\n",
    "plot_quantiles = [0.2, 0.33, 0.5, 0.67, 0.8]\n",
    "# if non-null, save data on the quantiles too\n",
    "quantiles_savename = '../Output/Quantiles/'\n",
    "# How many boxes are used to fit the quantiles?\n",
    "quantile_boxes = 15\n",
    "# Should we extend the quantile boxes by an additional factor?\n",
    "quantile_decay_factor = 0.7\n",
    "# use a smoothing spline? If None, don't. Otherwise this is the smoothing factor, s, used in the spline model.\n",
    "smoothing_spline = None\n",
    "# Color different models different colours?\n",
    "model_colours = True\n",
    "# In the model-coloured version, how much does the figure need to be reduced by to leave room for the legend?\n",
    "legend_fraction = 0.65\n",
    "# ________________________________________________________\n",
    "\n"
   ]
  },
  {
   "cell_type": "code",
   "execution_count": 2,
   "metadata": {},
   "outputs": [],
   "source": [
    "# where do we get the data from?\n",
    "SR15_SCENARIOS = \"./sr15_scenarios.csv\"\n",
    "sr15_data = download_or_load_sr15(SR15_SCENARIOS)\n"
   ]
  },
  {
   "cell_type": "code",
   "execution_count": 3,
   "metadata": {},
   "outputs": [],
   "source": [
    "pltcor.plot_emission_correlations(sr15_data, years_of_interest, save_results, plot_quantiles, quantiles_savename,\n",
    "                                  quantile_boxes, quantile_decay_factor, smoothing_spline, model_colours,\n",
    "                                  legend_fraction)"
   ]
  }
 ],
 "metadata": {
  "kernelspec": {
   "display_name": "Python 3",
   "language": "python",
   "name": "python3"
  },
  "language_info": {
   "codemirror_mode": {
    "name": "ipython",
    "version": 3
   },
   "file_extension": ".py",
   "mimetype": "text/x-python",
   "name": "python",
   "nbconvert_exporter": "python",
   "pygments_lexer": "ipython3",
   "version": "3.7.3"
  }
 },
 "nbformat": 4,
 "nbformat_minor": 2
}
