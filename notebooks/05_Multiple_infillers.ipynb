{
 "cells": [
  {
   "cell_type": "markdown",
   "metadata": {},
   "source": [
    "# Multiple infillers\n",
    "\n",
    "Here we investigate three infillers that perform many cruncher operations. The first one is designed to infill all required data for running openSCM, with the minimum of inputs. One is designed to break down aggregate values, like the Kyoto gases or HFCs. The second does the opposite, recalculating aggregates from its components. These functions are purposefully not as object-oriented as the crunchers so that modellers unfamiliar with this coding structure can use them. \n",
    "\n",
    "You will need to install silicone in order to run this code. "
   ]
  },
  {
   "cell_type": "markdown",
   "metadata": {},
   "source": [
    "## Imports"
   ]
  },
  {
   "cell_type": "code",
   "execution_count": 1,
   "metadata": {},
   "outputs": [
    {
     "name": "stderr",
     "output_type": "stream",
     "text": [
      "\n",
      "Bad key \"text.kerning_factor\" on line 4 in\n",
      "c:\\users\\rlamboll\\appdata\\local\\continuum\\anaconda3\\envs\\silicone-5\\lib\\site-packages\\matplotlib\\mpl-data\\stylelib\\_classic_test_patch.mplstyle.\n",
      "You probably need to get an updated matplotlibrc file from\n",
      "https://github.com/matplotlib/matplotlib/blob/v3.1.3/matplotlibrc.template\n",
      "or from the matplotlib source distribution\n"
     ]
    },
    {
     "data": {
      "application/javascript": [
       "IPython.OutputArea.prototype._should_scroll = function(lines) { return false; }"
      ],
      "text/plain": [
       "<IPython.core.display.Javascript object>"
      ]
     },
     "metadata": {},
     "output_type": "display_data"
    }
   ],
   "source": [
    "import os.path\n",
    "import traceback\n",
    "\n",
    "import matplotlib.pyplot as plt\n",
    "import numpy as np\n",
    "import pandas as pd\n",
    "import pyam\n",
    "\n",
    "import silicone.multiple_infillers as mi\n",
    "from silicone.utils import (\n",
    "    convert_units_to_MtCO2_equiv,\n",
    "    get_sr15_scenarios,\n",
    "    return_cases_which_consistently_split,\n",
    ")"
   ]
  },
  {
   "cell_type": "code",
   "execution_count": 2,
   "metadata": {},
   "outputs": [],
   "source": [
    "SR15_SCENARIOS = \"./sr15_scenarios.csv\""
   ]
  },
  {
   "cell_type": "markdown",
   "metadata": {},
   "source": [
    "## Example data\n",
    "\n",
    "Here we pull some example data by downloading a selection of the SR1.5 scenarios."
   ]
  },
  {
   "cell_type": "code",
   "execution_count": 3,
   "metadata": {
    "scrolled": true
   },
   "outputs": [],
   "source": [
    "valid_model_ids = [\n",
    "    \"MESSAGE*\",\n",
    "    \"AIM*\",\n",
    "    \"C-ROADS*\",\n",
    "    \"GCAM*\",\n",
    "    \"IEA*\",\n",
    "    \"IMAGE*\",\n",
    "    \"MERGE*\",\n",
    "    \"POLES*\",\n",
    "    \"REMIND*\",\n",
    "    \"WITCH*\",\n",
    "]\n",
    "if not os.path.isfile(SR15_SCENARIOS):\n",
    "    get_sr15_scenarios(SR15_SCENARIOS, valid_model_ids)"
   ]
  },
  {
   "cell_type": "markdown",
   "metadata": {},
   "source": [
    "### Starting point\n",
    "\n",
    "Our starting point is the test data, loaded as a `pyam.IamDataFrame`."
   ]
  },
  {
   "cell_type": "code",
   "execution_count": 4,
   "metadata": {
    "scrolled": false
   },
   "outputs": [
    {
     "name": "stderr",
     "output_type": "stream",
     "text": [
      "pyam - INFO: Running in a notebook, setting up a basic logging at level INFO\n",
      "pyam.core - INFO: Reading file sr15_scenarios.csv\n"
     ]
    },
    {
     "data": {
      "text/html": [
       "<div>\n",
       "<style scoped>\n",
       "    .dataframe tbody tr th:only-of-type {\n",
       "        vertical-align: middle;\n",
       "    }\n",
       "\n",
       "    .dataframe tbody tr th {\n",
       "        vertical-align: top;\n",
       "    }\n",
       "\n",
       "    .dataframe thead th {\n",
       "        text-align: right;\n",
       "    }\n",
       "</style>\n",
       "<table border=\"1\" class=\"dataframe\">\n",
       "  <thead>\n",
       "    <tr style=\"text-align: right;\">\n",
       "      <th></th>\n",
       "      <th>model</th>\n",
       "      <th>scenario</th>\n",
       "      <th>region</th>\n",
       "      <th>variable</th>\n",
       "      <th>unit</th>\n",
       "      <th>year</th>\n",
       "      <th>value</th>\n",
       "    </tr>\n",
       "  </thead>\n",
       "  <tbody>\n",
       "    <tr>\n",
       "      <th>0</th>\n",
       "      <td>WITCH-GLOBIOM 3.1</td>\n",
       "      <td>SSP1-19</td>\n",
       "      <td>World</td>\n",
       "      <td>Emissions|CO2</td>\n",
       "      <td>Mt CO2/yr</td>\n",
       "      <td>2005</td>\n",
       "      <td>31922.044350</td>\n",
       "    </tr>\n",
       "    <tr>\n",
       "      <th>1</th>\n",
       "      <td>WITCH-GLOBIOM 3.1</td>\n",
       "      <td>SSP1-19</td>\n",
       "      <td>World</td>\n",
       "      <td>Emissions|CO2</td>\n",
       "      <td>Mt CO2/yr</td>\n",
       "      <td>2010</td>\n",
       "      <td>35303.387760</td>\n",
       "    </tr>\n",
       "    <tr>\n",
       "      <th>2</th>\n",
       "      <td>WITCH-GLOBIOM 3.1</td>\n",
       "      <td>SSP1-19</td>\n",
       "      <td>World</td>\n",
       "      <td>Emissions|CO2</td>\n",
       "      <td>Mt CO2/yr</td>\n",
       "      <td>2020</td>\n",
       "      <td>37312.307110</td>\n",
       "    </tr>\n",
       "    <tr>\n",
       "      <th>3</th>\n",
       "      <td>WITCH-GLOBIOM 3.1</td>\n",
       "      <td>SSP1-19</td>\n",
       "      <td>World</td>\n",
       "      <td>Emissions|CO2</td>\n",
       "      <td>Mt CO2/yr</td>\n",
       "      <td>2030</td>\n",
       "      <td>10560.008460</td>\n",
       "    </tr>\n",
       "    <tr>\n",
       "      <th>4</th>\n",
       "      <td>WITCH-GLOBIOM 3.1</td>\n",
       "      <td>SSP1-19</td>\n",
       "      <td>World</td>\n",
       "      <td>Emissions|CO2</td>\n",
       "      <td>Mt CO2/yr</td>\n",
       "      <td>2040</td>\n",
       "      <td>7435.934987</td>\n",
       "    </tr>\n",
       "  </tbody>\n",
       "</table>\n",
       "</div>"
      ],
      "text/plain": [
       "               model scenario region       variable       unit  year  \\\n",
       "0  WITCH-GLOBIOM 3.1  SSP1-19  World  Emissions|CO2  Mt CO2/yr  2005   \n",
       "1  WITCH-GLOBIOM 3.1  SSP1-19  World  Emissions|CO2  Mt CO2/yr  2010   \n",
       "2  WITCH-GLOBIOM 3.1  SSP1-19  World  Emissions|CO2  Mt CO2/yr  2020   \n",
       "3  WITCH-GLOBIOM 3.1  SSP1-19  World  Emissions|CO2  Mt CO2/yr  2030   \n",
       "4  WITCH-GLOBIOM 3.1  SSP1-19  World  Emissions|CO2  Mt CO2/yr  2040   \n",
       "\n",
       "          value  \n",
       "0  31922.044350  \n",
       "1  35303.387760  \n",
       "2  37312.307110  \n",
       "3  10560.008460  \n",
       "4   7435.934987  "
      ]
     },
     "execution_count": 4,
     "metadata": {},
     "output_type": "execute_result"
    }
   ],
   "source": [
    "sr15_data = pyam.IamDataFrame(SR15_SCENARIOS)\n",
    "target = \"Emissions|CO2\"\n",
    "constituents = [\"Emissions|CO2|*\"]\n",
    "to_infill = sr15_data.filter(model=\"WITCH*\", variable=[target] + constituents)\n",
    "database = sr15_data.filter(model=\"WITCH*\", keep=False)\n",
    "to_infill.head()"
   ]
  },
  {
   "cell_type": "markdown",
   "metadata": {},
   "source": [
    "## Investigating where the data is consistent\n",
    "\n",
    "A utility function called return_cases_which_consistently_split indicates which variables consist of only other variables, which is useful to know in order to work out where data can be consistently split using decompose_collection_with_time_dep_ratio. Note that this is not a requirement for using that method (a consistent aggregate value is constructed in any case) but indicates that this is approach is rigorous. "
   ]
  },
  {
   "cell_type": "markdown",
   "metadata": {},
   "source": [
    "In the first instance, it does not find any results because there are several layers of constituents. However with only one layer, this works as expected. Note that if only one layer is used, there is also a pyam built-in function called 'check_consistency' that performs the same effect. "
   ]
  },
  {
   "cell_type": "code",
   "execution_count": 5,
   "metadata": {},
   "outputs": [
    {
     "data": {
      "text/plain": [
       "0"
      ]
     },
     "execution_count": 5,
     "metadata": {},
     "output_type": "execute_result"
    }
   ],
   "source": [
    "no_cases = return_cases_which_consistently_split(\n",
    "    to_infill,\n",
    "    target,\n",
    "    constituents,\n",
    ")\n",
    "len(no_cases)"
   ]
  },
  {
   "cell_type": "markdown",
   "metadata": {},
   "source": [
    "However in the case below, we select only the next level of info, and find it matches in all cases (the number of cases does not depend on the accuracy, as shown in the second box. "
   ]
  },
  {
   "cell_type": "code",
   "execution_count": 6,
   "metadata": {},
   "outputs": [
    {
     "data": {
      "text/plain": [
       "39"
      ]
     },
     "execution_count": 6,
     "metadata": {},
     "output_type": "execute_result"
    }
   ],
   "source": [
    "all_cases = return_cases_which_consistently_split(\n",
    "    to_infill,\n",
    "    target,\n",
    "    [\"Emissions|CO2|AFOLU\", \"Emissions|CO2|Energy and Industrial Processes\"],\n",
    ")\n",
    "len(all_cases)"
   ]
  },
  {
   "cell_type": "code",
   "execution_count": 7,
   "metadata": {},
   "outputs": [
    {
     "data": {
      "text/plain": [
       "39"
      ]
     },
     "execution_count": 7,
     "metadata": {},
     "output_type": "execute_result"
    }
   ],
   "source": [
    "all_cases = return_cases_which_consistently_split(\n",
    "    to_infill,\n",
    "    target,\n",
    "    [\"Emissions|CO2|AFOLU\", \"Emissions|CO2|Energy and Industrial Processes\"],\n",
    "    how_close={\n",
    "        \"equal_nan\": True,\n",
    "        \"rtol\": 100,  # This means that we accept a factor of 100 inaccuracy.\n",
    "    },\n",
    ")\n",
    "len(all_cases)"
   ]
  },
  {
   "cell_type": "markdown",
   "metadata": {},
   "source": [
    "## Using the infiller functions\n",
    "Here we show the use of the DecomposeCollectionTimeDepRatio and InfillAllRequiredVariables functions. \n",
    "### InfillAllRequiredVariables\n",
    "This is a function to more conveniently infill all of the required variables that are not already found in the system. "
   ]
  },
  {
   "cell_type": "code",
   "execution_count": 8,
   "metadata": {},
   "outputs": [
    {
     "data": {
      "text/html": [
       "<div>\n",
       "<style scoped>\n",
       "    .dataframe tbody tr th:only-of-type {\n",
       "        vertical-align: middle;\n",
       "    }\n",
       "\n",
       "    .dataframe tbody tr th {\n",
       "        vertical-align: top;\n",
       "    }\n",
       "\n",
       "    .dataframe thead th {\n",
       "        text-align: right;\n",
       "    }\n",
       "</style>\n",
       "<table border=\"1\" class=\"dataframe\">\n",
       "  <thead>\n",
       "    <tr style=\"text-align: right;\">\n",
       "      <th></th>\n",
       "      <th>model</th>\n",
       "      <th>scenario</th>\n",
       "      <th>region</th>\n",
       "      <th>variable</th>\n",
       "      <th>unit</th>\n",
       "      <th>year</th>\n",
       "      <th>value</th>\n",
       "    </tr>\n",
       "  </thead>\n",
       "  <tbody>\n",
       "    <tr>\n",
       "      <th>144196</th>\n",
       "      <td>MESSAGEix-GLOBIOM 1.0</td>\n",
       "      <td>LowEnergyDemand</td>\n",
       "      <td>World</td>\n",
       "      <td>Emissions|VOC</td>\n",
       "      <td>Mt VOC/yr</td>\n",
       "      <td>2060</td>\n",
       "      <td>73.727451</td>\n",
       "    </tr>\n",
       "    <tr>\n",
       "      <th>144197</th>\n",
       "      <td>MESSAGEix-GLOBIOM 1.0</td>\n",
       "      <td>LowEnergyDemand</td>\n",
       "      <td>World</td>\n",
       "      <td>Emissions|VOC</td>\n",
       "      <td>Mt VOC/yr</td>\n",
       "      <td>2070</td>\n",
       "      <td>71.741307</td>\n",
       "    </tr>\n",
       "    <tr>\n",
       "      <th>144198</th>\n",
       "      <td>MESSAGEix-GLOBIOM 1.0</td>\n",
       "      <td>LowEnergyDemand</td>\n",
       "      <td>World</td>\n",
       "      <td>Emissions|VOC</td>\n",
       "      <td>Mt VOC/yr</td>\n",
       "      <td>2080</td>\n",
       "      <td>69.745374</td>\n",
       "    </tr>\n",
       "    <tr>\n",
       "      <th>144199</th>\n",
       "      <td>MESSAGEix-GLOBIOM 1.0</td>\n",
       "      <td>LowEnergyDemand</td>\n",
       "      <td>World</td>\n",
       "      <td>Emissions|VOC</td>\n",
       "      <td>Mt VOC/yr</td>\n",
       "      <td>2090</td>\n",
       "      <td>67.882569</td>\n",
       "    </tr>\n",
       "    <tr>\n",
       "      <th>144200</th>\n",
       "      <td>MESSAGEix-GLOBIOM 1.0</td>\n",
       "      <td>LowEnergyDemand</td>\n",
       "      <td>World</td>\n",
       "      <td>Emissions|VOC</td>\n",
       "      <td>Mt VOC/yr</td>\n",
       "      <td>2100</td>\n",
       "      <td>65.285422</td>\n",
       "    </tr>\n",
       "  </tbody>\n",
       "</table>\n",
       "</div>"
      ],
      "text/plain": [
       "                        model         scenario region       variable  \\\n",
       "144196  MESSAGEix-GLOBIOM 1.0  LowEnergyDemand  World  Emissions|VOC   \n",
       "144197  MESSAGEix-GLOBIOM 1.0  LowEnergyDemand  World  Emissions|VOC   \n",
       "144198  MESSAGEix-GLOBIOM 1.0  LowEnergyDemand  World  Emissions|VOC   \n",
       "144199  MESSAGEix-GLOBIOM 1.0  LowEnergyDemand  World  Emissions|VOC   \n",
       "144200  MESSAGEix-GLOBIOM 1.0  LowEnergyDemand  World  Emissions|VOC   \n",
       "\n",
       "             unit  year      value  \n",
       "144196  Mt VOC/yr  2060  73.727451  \n",
       "144197  Mt VOC/yr  2070  71.741307  \n",
       "144198  Mt VOC/yr  2080  69.745374  \n",
       "144199  Mt VOC/yr  2090  67.882569  \n",
       "144200  Mt VOC/yr  2100  65.285422  "
      ]
     },
     "execution_count": 8,
     "metadata": {},
     "output_type": "execute_result"
    }
   ],
   "source": [
    "database.tail()"
   ]
  },
  {
   "cell_type": "code",
   "execution_count": 9,
   "metadata": {},
   "outputs": [
    {
     "data": {
      "text/html": [
       "<div>\n",
       "<style scoped>\n",
       "    .dataframe tbody tr th:only-of-type {\n",
       "        vertical-align: middle;\n",
       "    }\n",
       "\n",
       "    .dataframe tbody tr th {\n",
       "        vertical-align: top;\n",
       "    }\n",
       "\n",
       "    .dataframe thead th {\n",
       "        text-align: right;\n",
       "    }\n",
       "</style>\n",
       "<table border=\"1\" class=\"dataframe\">\n",
       "  <thead>\n",
       "    <tr style=\"text-align: right;\">\n",
       "      <th></th>\n",
       "      <th>model</th>\n",
       "      <th>scenario</th>\n",
       "      <th>region</th>\n",
       "      <th>variable</th>\n",
       "      <th>unit</th>\n",
       "      <th>year</th>\n",
       "      <th>value</th>\n",
       "    </tr>\n",
       "  </thead>\n",
       "  <tbody>\n",
       "    <tr>\n",
       "      <th>3385</th>\n",
       "      <td>WITCH-GLOBIOM 4.4</td>\n",
       "      <td>CD-LINKS_NoPolicy</td>\n",
       "      <td>World</td>\n",
       "      <td>Emissions|CO2|Energy|Supply|Electricity</td>\n",
       "      <td>Mt CO2/yr</td>\n",
       "      <td>2060</td>\n",
       "      <td>29487.271577</td>\n",
       "    </tr>\n",
       "    <tr>\n",
       "      <th>3386</th>\n",
       "      <td>WITCH-GLOBIOM 4.4</td>\n",
       "      <td>CD-LINKS_NoPolicy</td>\n",
       "      <td>World</td>\n",
       "      <td>Emissions|CO2|Energy|Supply|Electricity</td>\n",
       "      <td>Mt CO2/yr</td>\n",
       "      <td>2070</td>\n",
       "      <td>31404.870008</td>\n",
       "    </tr>\n",
       "    <tr>\n",
       "      <th>3387</th>\n",
       "      <td>WITCH-GLOBIOM 4.4</td>\n",
       "      <td>CD-LINKS_NoPolicy</td>\n",
       "      <td>World</td>\n",
       "      <td>Emissions|CO2|Energy|Supply|Electricity</td>\n",
       "      <td>Mt CO2/yr</td>\n",
       "      <td>2080</td>\n",
       "      <td>31911.146283</td>\n",
       "    </tr>\n",
       "    <tr>\n",
       "      <th>3388</th>\n",
       "      <td>WITCH-GLOBIOM 4.4</td>\n",
       "      <td>CD-LINKS_NoPolicy</td>\n",
       "      <td>World</td>\n",
       "      <td>Emissions|CO2|Energy|Supply|Electricity</td>\n",
       "      <td>Mt CO2/yr</td>\n",
       "      <td>2090</td>\n",
       "      <td>30995.012917</td>\n",
       "    </tr>\n",
       "    <tr>\n",
       "      <th>3389</th>\n",
       "      <td>WITCH-GLOBIOM 4.4</td>\n",
       "      <td>CD-LINKS_NoPolicy</td>\n",
       "      <td>World</td>\n",
       "      <td>Emissions|CO2|Energy|Supply|Electricity</td>\n",
       "      <td>Mt CO2/yr</td>\n",
       "      <td>2100</td>\n",
       "      <td>29852.454850</td>\n",
       "    </tr>\n",
       "  </tbody>\n",
       "</table>\n",
       "</div>"
      ],
      "text/plain": [
       "                  model           scenario region  \\\n",
       "3385  WITCH-GLOBIOM 4.4  CD-LINKS_NoPolicy  World   \n",
       "3386  WITCH-GLOBIOM 4.4  CD-LINKS_NoPolicy  World   \n",
       "3387  WITCH-GLOBIOM 4.4  CD-LINKS_NoPolicy  World   \n",
       "3388  WITCH-GLOBIOM 4.4  CD-LINKS_NoPolicy  World   \n",
       "3389  WITCH-GLOBIOM 4.4  CD-LINKS_NoPolicy  World   \n",
       "\n",
       "                                     variable       unit  year         value  \n",
       "3385  Emissions|CO2|Energy|Supply|Electricity  Mt CO2/yr  2060  29487.271577  \n",
       "3386  Emissions|CO2|Energy|Supply|Electricity  Mt CO2/yr  2070  31404.870008  \n",
       "3387  Emissions|CO2|Energy|Supply|Electricity  Mt CO2/yr  2080  31911.146283  \n",
       "3388  Emissions|CO2|Energy|Supply|Electricity  Mt CO2/yr  2090  30995.012917  \n",
       "3389  Emissions|CO2|Energy|Supply|Electricity  Mt CO2/yr  2100  29852.454850  "
      ]
     },
     "execution_count": 9,
     "metadata": {},
     "output_type": "execute_result"
    }
   ],
   "source": [
    "to_infill.tail()"
   ]
  },
  {
   "cell_type": "code",
   "execution_count": 10,
   "metadata": {},
   "outputs": [
    {
     "name": "stderr",
     "output_type": "stream",
     "text": [
      "C:\\Users\\rlamboll\\ConstrainCode\\silicone\\src\\silicone\\multiple_infillers\\infill_all_required_emissions_for_openscm.py:180: UserWarning: No data for ['Emissions|HFC|HFC245ca'], it will be infilled with 0s\n",
      "  unavailable_variables\n",
      "silicone.database_crunchers.constant_ratio - INFO: <class 'silicone.database_crunchers.constant_ratio.ConstantRatio'> won't use any information from the database\n",
      "Filling required variables:   0%|                                                                | 0/1 [00:00<?, ?it/s]silicone.database_crunchers.constant_ratio - WARNING: Note that the lead variable ['Emissions|CO2'] goes negative.\n",
      "Filling required variables: 100%|████████████████████████████████████████████████████████| 1/1 [00:00<00:00, 23.26it/s]\n",
      "Filling required variables:   0%|                                                               | 0/22 [00:00<?, ?it/s]"
     ]
    },
    {
     "name": "stdout",
     "output_type": "stream",
     "text": [
      "Note that the lead variable ['Emissions|CO2'] goes negative.\n"
     ]
    },
    {
     "name": "stderr",
     "output_type": "stream",
     "text": [
      "Filling required variables: 100%|██████████████████████████████████████████████████████| 22/22 [00:03<00:00,  5.81it/s]\n"
     ]
    },
    {
     "data": {
      "text/html": [
       "<div>\n",
       "<style scoped>\n",
       "    .dataframe tbody tr th:only-of-type {\n",
       "        vertical-align: middle;\n",
       "    }\n",
       "\n",
       "    .dataframe tbody tr th {\n",
       "        vertical-align: top;\n",
       "    }\n",
       "\n",
       "    .dataframe thead th {\n",
       "        text-align: right;\n",
       "    }\n",
       "</style>\n",
       "<table border=\"1\" class=\"dataframe\">\n",
       "  <thead>\n",
       "    <tr style=\"text-align: right;\">\n",
       "      <th></th>\n",
       "      <th>model</th>\n",
       "      <th>scenario</th>\n",
       "      <th>region</th>\n",
       "      <th>variable</th>\n",
       "      <th>unit</th>\n",
       "      <th>year</th>\n",
       "      <th>value</th>\n",
       "    </tr>\n",
       "  </thead>\n",
       "  <tbody>\n",
       "    <tr>\n",
       "      <th>0</th>\n",
       "      <td>WITCH-GLOBIOM 3.1</td>\n",
       "      <td>SSP1-19</td>\n",
       "      <td>World</td>\n",
       "      <td>Emissions|BC</td>\n",
       "      <td>Mt BC/yr</td>\n",
       "      <td>2020</td>\n",
       "      <td>6.559421</td>\n",
       "    </tr>\n",
       "    <tr>\n",
       "      <th>1</th>\n",
       "      <td>WITCH-GLOBIOM 3.1</td>\n",
       "      <td>SSP1-19</td>\n",
       "      <td>World</td>\n",
       "      <td>Emissions|BC</td>\n",
       "      <td>Mt BC/yr</td>\n",
       "      <td>2030</td>\n",
       "      <td>4.979146</td>\n",
       "    </tr>\n",
       "    <tr>\n",
       "      <th>2</th>\n",
       "      <td>WITCH-GLOBIOM 3.1</td>\n",
       "      <td>SSP1-19</td>\n",
       "      <td>World</td>\n",
       "      <td>Emissions|BC</td>\n",
       "      <td>Mt BC/yr</td>\n",
       "      <td>2040</td>\n",
       "      <td>4.250863</td>\n",
       "    </tr>\n",
       "    <tr>\n",
       "      <th>3</th>\n",
       "      <td>WITCH-GLOBIOM 3.1</td>\n",
       "      <td>SSP1-19</td>\n",
       "      <td>World</td>\n",
       "      <td>Emissions|BC</td>\n",
       "      <td>Mt BC/yr</td>\n",
       "      <td>2050</td>\n",
       "      <td>3.668986</td>\n",
       "    </tr>\n",
       "    <tr>\n",
       "      <th>4</th>\n",
       "      <td>WITCH-GLOBIOM 3.1</td>\n",
       "      <td>SSP1-19</td>\n",
       "      <td>World</td>\n",
       "      <td>Emissions|BC</td>\n",
       "      <td>Mt BC/yr</td>\n",
       "      <td>2060</td>\n",
       "      <td>3.205862</td>\n",
       "    </tr>\n",
       "  </tbody>\n",
       "</table>\n",
       "</div>"
      ],
      "text/plain": [
       "               model scenario region      variable      unit  year     value\n",
       "0  WITCH-GLOBIOM 3.1  SSP1-19  World  Emissions|BC  Mt BC/yr  2020  6.559421\n",
       "1  WITCH-GLOBIOM 3.1  SSP1-19  World  Emissions|BC  Mt BC/yr  2030  4.979146\n",
       "2  WITCH-GLOBIOM 3.1  SSP1-19  World  Emissions|BC  Mt BC/yr  2040  4.250863\n",
       "3  WITCH-GLOBIOM 3.1  SSP1-19  World  Emissions|BC  Mt BC/yr  2050  3.668986\n",
       "4  WITCH-GLOBIOM 3.1  SSP1-19  World  Emissions|BC  Mt BC/yr  2060  3.205862"
      ]
     },
     "execution_count": 10,
     "metadata": {},
     "output_type": "execute_result"
    }
   ],
   "source": [
    "infilled = mi.infill_all_required_variables(\n",
    "    to_infill, database, [target], output_timesteps=list(range(2020, 2101, 10))\n",
    ")\n",
    "infilled.head()"
   ]
  },
  {
   "cell_type": "markdown",
   "metadata": {},
   "source": [
    "We now have a complete scenario, with all required variables. "
   ]
  },
  {
   "cell_type": "code",
   "execution_count": 11,
   "metadata": {},
   "outputs": [
    {
     "data": {
      "text/plain": [
       "['Emissions|CO2',\n",
       " 'Emissions|CO2|AFOLU',\n",
       " 'Emissions|CO2|Energy and Industrial Processes',\n",
       " 'Emissions|CO2|Energy|Supply',\n",
       " 'Emissions|CO2|Energy|Supply|Electricity',\n",
       " 'Emissions|CO2|Energy|Demand',\n",
       " 'Emissions|CO2|Energy|Demand|Transportation',\n",
       " 'Emissions|CO2|Energy|Supply|Liquids',\n",
       " 'Emissions|CO2|Energy|Demand|Industry',\n",
       " 'Emissions|CO2|Energy|Demand|Residential and Commercial']"
      ]
     },
     "execution_count": 11,
     "metadata": {},
     "output_type": "execute_result"
    }
   ],
   "source": [
    "to_infill.filter().variable"
   ]
  },
  {
   "cell_type": "markdown",
   "metadata": {},
   "source": [
    "### DecomposeCollectionTimeDepRatio\n",
    "This function is designed to split up an aggregate value into its known components, using the relationship between these found in models that have all components (but not necessarily the aggregate variable). The aggregate value is calculated in the first step."
   ]
  },
  {
   "cell_type": "code",
   "execution_count": 12,
   "metadata": {},
   "outputs": [
    {
     "data": {
      "text/plain": [
       "array(['Mt BC/yr', 'Mt CH4/yr', 'Mt CO/yr', 'Mt CO2/yr',\n",
       "       'Mt CO2-equiv/yr', 'kt HFC134a-equiv/yr', 'kt HFC125/yr',\n",
       "       'kt HFC134a/yr', 'kt HFC143a/yr', 'kt HFC227ea/yr', 'kt HFC23/yr',\n",
       "       'kt HFC32/yr', 'kt HFC43-10/yr', 'kt N2O/yr', 'Mt NH3/yr',\n",
       "       'Mt NO2/yr', 'Mt OC/yr', 'kt CF4-equiv/yr', 'kt SF6/yr',\n",
       "       'Mt SO2/yr', 'Mt VOC/yr', 'kt HFC245fa/yr', 'kt C2F6/yr',\n",
       "       'kt C6F14/yr', 'kt CF4/yr'], dtype=object)"
      ]
     },
     "execution_count": 12,
     "metadata": {},
     "output_type": "execute_result"
    }
   ],
   "source": [
    "database[\"unit\"].unique()"
   ]
  },
  {
   "cell_type": "code",
   "execution_count": 13,
   "metadata": {},
   "outputs": [
    {
     "data": {
      "text/plain": [
       "['Emissions|CH4', 'Emissions|CO2', 'Emissions|F-Gases', 'Emissions|N2O']"
      ]
     },
     "execution_count": 13,
     "metadata": {},
     "output_type": "execute_result"
    }
   ],
   "source": [
    "# Define some calculation parameters\n",
    "components = [\n",
    "    \"Emissions|CO2\",\n",
    "    \"Emissions|CH4\",\n",
    "    \"Emissions|N2O\",\n",
    "    \"Emissions|F-Gases\",\n",
    "]\n",
    "aggregate = \"Emissions|Kyoto Gases (AR4-GWP100)\"\n",
    "to_infill = sr15_data.filter(model=\"WITCH*\", scenario=\"SSP1*\", variable=aggregate)\n",
    "unit_consistent_db = convert_units_to_MtCO2_equiv(database.filter(variable=components))\n",
    "unit_consistent_db.variable"
   ]
  },
  {
   "cell_type": "code",
   "execution_count": 14,
   "metadata": {},
   "outputs": [
    {
     "data": {
      "text/plain": [
       "['Emissions|Kyoto Gases (AR4-GWP100)']"
      ]
     },
     "execution_count": 14,
     "metadata": {},
     "output_type": "execute_result"
    }
   ],
   "source": [
    "to_infill.variable"
   ]
  },
  {
   "cell_type": "code",
   "execution_count": 15,
   "metadata": {},
   "outputs": [
    {
     "name": "stderr",
     "output_type": "stream",
     "text": [
      "silicone.database_crunchers.time_dep_ratio - WARNING: Note that the lead variable ['Emissions|Kyoto Gases (AR4-GWP100)'] goes negative. The time dependent ratio cruncher can produce unexpected results in this case.\n",
      "silicone.database_crunchers.time_dep_ratio - WARNING: Note that the lead variable ['Emissions|Kyoto Gases (AR4-GWP100)'] goes negative. The time dependent ratio cruncher can produce unexpected results in this case.\n"
     ]
    },
    {
     "name": "stdout",
     "output_type": "stream",
     "text": [
      "Note that the lead variable ['Emissions|Kyoto Gases (AR4-GWP100)'] goes negative. The time dependent ratio cruncher can produce unexpected results in this case.\n",
      "Note that the lead variable ['Emissions|Kyoto Gases (AR4-GWP100)'] goes negative. The time dependent ratio cruncher can produce unexpected results in this case.\n"
     ]
    },
    {
     "name": "stderr",
     "output_type": "stream",
     "text": [
      "silicone.database_crunchers.time_dep_ratio - WARNING: Note that the lead variable ['Emissions|Kyoto Gases (AR4-GWP100)'] goes negative. The time dependent ratio cruncher can produce unexpected results in this case.\n",
      "silicone.database_crunchers.time_dep_ratio - WARNING: Note that the lead variable ['Emissions|Kyoto Gases (AR4-GWP100)'] goes negative. The time dependent ratio cruncher can produce unexpected results in this case.\n"
     ]
    },
    {
     "name": "stdout",
     "output_type": "stream",
     "text": [
      "Note that the lead variable ['Emissions|Kyoto Gases (AR4-GWP100)'] goes negative. The time dependent ratio cruncher can produce unexpected results in this case.\n",
      "Note that the lead variable ['Emissions|Kyoto Gases (AR4-GWP100)'] goes negative. The time dependent ratio cruncher can produce unexpected results in this case.\n"
     ]
    },
    {
     "name": "stderr",
     "output_type": "stream",
     "text": [
      "silicone.database_crunchers.time_dep_ratio - WARNING: Note that the lead variable ['Emissions|Kyoto Gases (AR4-GWP100)'] goes negative. The time dependent ratio cruncher can produce unexpected results in this case.\n",
      "silicone.database_crunchers.time_dep_ratio - WARNING: Note that the lead variable ['Emissions|Kyoto Gases (AR4-GWP100)'] goes negative. The time dependent ratio cruncher can produce unexpected results in this case.\n"
     ]
    },
    {
     "name": "stdout",
     "output_type": "stream",
     "text": [
      "Note that the lead variable ['Emissions|Kyoto Gases (AR4-GWP100)'] goes negative. The time dependent ratio cruncher can produce unexpected results in this case.\n",
      "Note that the lead variable ['Emissions|Kyoto Gases (AR4-GWP100)'] goes negative. The time dependent ratio cruncher can produce unexpected results in this case.\n"
     ]
    },
    {
     "name": "stderr",
     "output_type": "stream",
     "text": [
      "silicone.database_crunchers.time_dep_ratio - WARNING: Note that the lead variable ['Emissions|Kyoto Gases (AR4-GWP100)'] goes negative. The time dependent ratio cruncher can produce unexpected results in this case.\n",
      "silicone.database_crunchers.time_dep_ratio - WARNING: Note that the lead variable ['Emissions|Kyoto Gases (AR4-GWP100)'] goes negative. The time dependent ratio cruncher can produce unexpected results in this case.\n"
     ]
    },
    {
     "name": "stdout",
     "output_type": "stream",
     "text": [
      "Note that the lead variable ['Emissions|Kyoto Gases (AR4-GWP100)'] goes negative. The time dependent ratio cruncher can produce unexpected results in this case.\n",
      "Note that the lead variable ['Emissions|Kyoto Gases (AR4-GWP100)'] goes negative. The time dependent ratio cruncher can produce unexpected results in this case.\n"
     ]
    },
    {
     "data": {
      "text/html": [
       "<div>\n",
       "<style scoped>\n",
       "    .dataframe tbody tr th:only-of-type {\n",
       "        vertical-align: middle;\n",
       "    }\n",
       "\n",
       "    .dataframe tbody tr th {\n",
       "        vertical-align: top;\n",
       "    }\n",
       "\n",
       "    .dataframe thead th {\n",
       "        text-align: right;\n",
       "    }\n",
       "</style>\n",
       "<table border=\"1\" class=\"dataframe\">\n",
       "  <thead>\n",
       "    <tr style=\"text-align: right;\">\n",
       "      <th></th>\n",
       "      <th>model</th>\n",
       "      <th>scenario</th>\n",
       "      <th>region</th>\n",
       "      <th>variable</th>\n",
       "      <th>unit</th>\n",
       "      <th>year</th>\n",
       "      <th>value</th>\n",
       "    </tr>\n",
       "  </thead>\n",
       "  <tbody>\n",
       "    <tr>\n",
       "      <th>0</th>\n",
       "      <td>WITCH-GLOBIOM 3.1</td>\n",
       "      <td>SSP1-19</td>\n",
       "      <td>World</td>\n",
       "      <td>Emissions|CH4</td>\n",
       "      <td>Mt CO2-equiv/yr</td>\n",
       "      <td>2005</td>\n",
       "      <td>8895.197906</td>\n",
       "    </tr>\n",
       "    <tr>\n",
       "      <th>1</th>\n",
       "      <td>WITCH-GLOBIOM 3.1</td>\n",
       "      <td>SSP1-19</td>\n",
       "      <td>World</td>\n",
       "      <td>Emissions|CH4</td>\n",
       "      <td>Mt CO2-equiv/yr</td>\n",
       "      <td>2010</td>\n",
       "      <td>9572.564123</td>\n",
       "    </tr>\n",
       "    <tr>\n",
       "      <th>2</th>\n",
       "      <td>WITCH-GLOBIOM 3.1</td>\n",
       "      <td>SSP1-19</td>\n",
       "      <td>World</td>\n",
       "      <td>Emissions|CH4</td>\n",
       "      <td>Mt CO2-equiv/yr</td>\n",
       "      <td>2015</td>\n",
       "      <td>9631.421497</td>\n",
       "    </tr>\n",
       "    <tr>\n",
       "      <th>3</th>\n",
       "      <td>WITCH-GLOBIOM 3.1</td>\n",
       "      <td>SSP1-19</td>\n",
       "      <td>World</td>\n",
       "      <td>Emissions|CH4</td>\n",
       "      <td>Mt CO2-equiv/yr</td>\n",
       "      <td>2020</td>\n",
       "      <td>9442.434266</td>\n",
       "    </tr>\n",
       "    <tr>\n",
       "      <th>4</th>\n",
       "      <td>WITCH-GLOBIOM 3.1</td>\n",
       "      <td>SSP1-19</td>\n",
       "      <td>World</td>\n",
       "      <td>Emissions|CH4</td>\n",
       "      <td>Mt CO2-equiv/yr</td>\n",
       "      <td>2030</td>\n",
       "      <td>3398.896989</td>\n",
       "    </tr>\n",
       "  </tbody>\n",
       "</table>\n",
       "</div>"
      ],
      "text/plain": [
       "               model scenario region       variable             unit  year  \\\n",
       "0  WITCH-GLOBIOM 3.1  SSP1-19  World  Emissions|CH4  Mt CO2-equiv/yr  2005   \n",
       "1  WITCH-GLOBIOM 3.1  SSP1-19  World  Emissions|CH4  Mt CO2-equiv/yr  2010   \n",
       "2  WITCH-GLOBIOM 3.1  SSP1-19  World  Emissions|CH4  Mt CO2-equiv/yr  2015   \n",
       "3  WITCH-GLOBIOM 3.1  SSP1-19  World  Emissions|CH4  Mt CO2-equiv/yr  2020   \n",
       "4  WITCH-GLOBIOM 3.1  SSP1-19  World  Emissions|CH4  Mt CO2-equiv/yr  2030   \n",
       "\n",
       "         value  \n",
       "0  8895.197906  \n",
       "1  9572.564123  \n",
       "2  9631.421497  \n",
       "3  9442.434266  \n",
       "4  3398.896989  "
      ]
     },
     "execution_count": 15,
     "metadata": {},
     "output_type": "execute_result"
    }
   ],
   "source": [
    "decomposer = mi.DecomposeCollectionTimeDepRatio(unit_consistent_db)\n",
    "results = decomposer.infill_components(\n",
    "    aggregate, components, to_infill, only_consistent_cases=False\n",
    ")\n",
    "decomposer_all = mi.DecomposeCollectionTimeDepRatio(unit_consistent_db)\n",
    "results_all = decomposer.infill_components(aggregate, components, to_infill)\n",
    "results.head()"
   ]
  },
  {
   "cell_type": "code",
   "execution_count": 16,
   "metadata": {},
   "outputs": [
    {
     "data": {
      "text/plain": [
       "Text(0.5, 1.0, 'CO2 calculated as a fraction of Kyoto gas, with (solid) and without (dashed) model/scenario data not reported at some times')"
      ]
     },
     "execution_count": 16,
     "metadata": {},
     "output_type": "execute_result"
    },
    {
     "data": {
      "image/png": "[encoded data removed]",
      "text/plain": [
       "<Figure size 1152x648 with 1 Axes>"
      ]
     },
     "metadata": {
      "needs_background": "light"
     },
     "output_type": "display_data"
    }
   ],
   "source": [
    "fig = plt.figure(figsize=(16, 9))\n",
    "ax = fig.add_subplot(111)\n",
    "results.filter(variable=\"*CO2\").plot(\n",
    "    ax=ax, linestyle=\"--\", dashes=(10, 10), linewidth=3\n",
    ")\n",
    "results_all.filter(variable=\"*CO2\").plot(ax=ax, linewidth=2)\n",
    "plt.title(\n",
    "    \"CO2 calculated as a fraction of Kyoto gas, with (solid) and without (dashed) model/scenario data not reported at some times\"\n",
    ")"
   ]
  },
  {
   "cell_type": "code",
   "execution_count": 17,
   "metadata": {},
   "outputs": [
    {
     "data": {
      "text/plain": [
       "['Emissions|CH4', 'Emissions|CO2', 'Emissions|F-Gases', 'Emissions|N2O']"
      ]
     },
     "execution_count": 17,
     "metadata": {},
     "output_type": "execute_result"
    }
   ],
   "source": [
    "# We now have variable information for each of the components\n",
    "results.variable"
   ]
  },
  {
   "cell_type": "markdown",
   "metadata": {},
   "source": [
    "### SplitCollectionWithRemainderEmissions\n",
    "This technique is also used for splitting up an aggregated basket of emissions, however does not assume that the emissions are in proportion to the aggregate at any given time. The key advantage of this is that it allows some emissions that are naturally limited to stay within their limits. The key disadvantage is that one of the emissions is only determined by conservation of the aggregate, and therefore may have quite a non-representative value. It is best for situations where one of the emissions is either very large compared to the others, or of unknown sign. This technique can be used with any cruncher, however the default is QRW. In most cases, CO$_2$ will be the emission to use as the 'remainder'. We will apply this technique to the same case as above, although we will not convert the units to be the same this time as the function will do this automatically. Note that this requires unit conversion to make the values comparable. In this case, we specify that the values be converted to CO$_2$-equivalent with AR4 GWP100 values, using the `metric_name` option. "
   ]
  },
  {
   "cell_type": "code",
   "execution_count": 18,
   "metadata": {},
   "outputs": [],
   "source": [
    "components = [\n",
    "    \"Emissions|CH4\",\n",
    "    \"Emissions|N2O\",\n",
    "    \"Emissions|F-Gases\",\n",
    "]\n",
    "remainder = \"Emissions|CO2\"  # This is the component that will make up the difference\n",
    "aggregate = \"Emissions|Kyoto Gases (AR4-GWP100)\"\n",
    "to_infill = sr15_data.filter(model=\"WITCH*\", scenario=\"SSP1*\", variable=aggregate)\n",
    "all_rem_vars = [remainder, aggregate] + components"
   ]
  },
  {
   "cell_type": "code",
   "execution_count": 19,
   "metadata": {},
   "outputs": [
    {
     "data": {
      "text/html": [
       "<div>\n",
       "<style scoped>\n",
       "    .dataframe tbody tr th:only-of-type {\n",
       "        vertical-align: middle;\n",
       "    }\n",
       "\n",
       "    .dataframe tbody tr th {\n",
       "        vertical-align: top;\n",
       "    }\n",
       "\n",
       "    .dataframe thead th {\n",
       "        text-align: right;\n",
       "    }\n",
       "</style>\n",
       "<table border=\"1\" class=\"dataframe\">\n",
       "  <thead>\n",
       "    <tr style=\"text-align: right;\">\n",
       "      <th></th>\n",
       "      <th>model</th>\n",
       "      <th>scenario</th>\n",
       "      <th>region</th>\n",
       "      <th>variable</th>\n",
       "      <th>unit</th>\n",
       "      <th>year</th>\n",
       "      <th>value</th>\n",
       "    </tr>\n",
       "  </thead>\n",
       "  <tbody>\n",
       "    <tr>\n",
       "      <th>0</th>\n",
       "      <td>WITCH-GLOBIOM 3.1</td>\n",
       "      <td>SSP1-19</td>\n",
       "      <td>World</td>\n",
       "      <td>Emissions|CH4</td>\n",
       "      <td>Mt CH4/yr</td>\n",
       "      <td>2005</td>\n",
       "      <td>318.943537</td>\n",
       "    </tr>\n",
       "    <tr>\n",
       "      <th>1</th>\n",
       "      <td>WITCH-GLOBIOM 3.1</td>\n",
       "      <td>SSP1-19</td>\n",
       "      <td>World</td>\n",
       "      <td>Emissions|CH4</td>\n",
       "      <td>Mt CH4/yr</td>\n",
       "      <td>2010</td>\n",
       "      <td>349.436770</td>\n",
       "    </tr>\n",
       "    <tr>\n",
       "      <th>2</th>\n",
       "      <td>WITCH-GLOBIOM 3.1</td>\n",
       "      <td>SSP1-19</td>\n",
       "      <td>World</td>\n",
       "      <td>Emissions|CH4</td>\n",
       "      <td>Mt CH4/yr</td>\n",
       "      <td>2015</td>\n",
       "      <td>347.646810</td>\n",
       "    </tr>\n",
       "    <tr>\n",
       "      <th>3</th>\n",
       "      <td>WITCH-GLOBIOM 3.1</td>\n",
       "      <td>SSP1-19</td>\n",
       "      <td>World</td>\n",
       "      <td>Emissions|CH4</td>\n",
       "      <td>Mt CH4/yr</td>\n",
       "      <td>2020</td>\n",
       "      <td>334.279689</td>\n",
       "    </tr>\n",
       "    <tr>\n",
       "      <th>4</th>\n",
       "      <td>WITCH-GLOBIOM 3.1</td>\n",
       "      <td>SSP1-19</td>\n",
       "      <td>World</td>\n",
       "      <td>Emissions|CH4</td>\n",
       "      <td>Mt CH4/yr</td>\n",
       "      <td>2030</td>\n",
       "      <td>199.041328</td>\n",
       "    </tr>\n",
       "  </tbody>\n",
       "</table>\n",
       "</div>"
      ],
      "text/plain": [
       "               model scenario region       variable       unit  year  \\\n",
       "0  WITCH-GLOBIOM 3.1  SSP1-19  World  Emissions|CH4  Mt CH4/yr  2005   \n",
       "1  WITCH-GLOBIOM 3.1  SSP1-19  World  Emissions|CH4  Mt CH4/yr  2010   \n",
       "2  WITCH-GLOBIOM 3.1  SSP1-19  World  Emissions|CH4  Mt CH4/yr  2015   \n",
       "3  WITCH-GLOBIOM 3.1  SSP1-19  World  Emissions|CH4  Mt CH4/yr  2020   \n",
       "4  WITCH-GLOBIOM 3.1  SSP1-19  World  Emissions|CH4  Mt CH4/yr  2030   \n",
       "\n",
       "        value  \n",
       "0  318.943537  \n",
       "1  349.436770  \n",
       "2  347.646810  \n",
       "3  334.279689  \n",
       "4  199.041328  "
      ]
     },
     "execution_count": 19,
     "metadata": {},
     "output_type": "execute_result"
    }
   ],
   "source": [
    "split_remainder = mi.SplitCollectionWithRemainderEmissions(\n",
    "    database.filter(variable=all_rem_vars)\n",
    ")\n",
    "remainder_split_res = split_remainder.infill_components(\n",
    "    aggregate,\n",
    "    components,\n",
    "    remainder,\n",
    "    to_infill,\n",
    "    metric_name=\"AR4GWP100\",\n",
    ")\n",
    "remainder_split_res.head()"
   ]
  },
  {
   "cell_type": "markdown",
   "metadata": {},
   "source": [
    "We can compare this infilling method with that of the DecomposeCollectionTimeDepRatio method above. We plot them below, with the DecomposeCollection method dashed. "
   ]
  },
  {
   "cell_type": "code",
   "execution_count": 20,
   "metadata": {
    "scrolled": true
   },
   "outputs": [
    {
     "data": {
      "text/plain": [
       "<matplotlib.axes._subplots.AxesSubplot at 0x1e6d5797588>"
      ]
     },
     "execution_count": 20,
     "metadata": {},
     "output_type": "execute_result"
    },
    {
     "data": {
      "image/png": "[encoded data removed]",
      "text/plain": [
       "<Figure size 1152x648 with 2 Axes>"
      ]
     },
     "metadata": {
      "needs_background": "light"
     },
     "output_type": "display_data"
    }
   ],
   "source": [
    "fig = plt.figure(figsize=(16, 9))\n",
    "ax = fig.add_subplot(121)\n",
    "remainder_split_res.filter(variable=\"*CO2\").plot(ax=ax, label=\"__\")\n",
    "results.filter(variable=\"*CO2\").plot(ax=ax, linestyle=\"--\", label=\"__\")\n",
    "plt.title(\"\")\n",
    "ax = fig.add_subplot(122)\n",
    "convert_units_to_MtCO2_equiv(remainder_split_res.filter(variable=\"*CH4\")).plot(\n",
    "    ax=ax, label=\"__\"\n",
    ")\n",
    "results.filter(variable=\"*CH4\").plot(ax=ax, linestyle=\"--\", label=\"__\")"
   ]
  },
  {
   "cell_type": "markdown",
   "metadata": {},
   "source": [
    "We see that the results are fairly similar for CO$_2$, since they make up the bulk of the aggregate in both cases. However the CH$_4$ results are very different, as they can take any positive value in the ratio-based technique, whereas it is constrained to keep to values in the infiller database in the QRW-based SplitCollection technique. This particularly results in regular behaviour when the lead values go negative, as seen in the lowermost curve on the right after 2070 - the methane level increases as the lead value becomes more negative for the DecomposeCollection method, whereas the (more expected) results from the SplitCollection method is a slow decline in emissions. "
   ]
  },
  {
   "cell_type": "markdown",
   "metadata": {},
   "source": [
    "### Calculate aggregate values\n",
    "This tool is used to build an aggregate value that ensures that the data is self-consistent. In our case, the database has a value for F-Gases, but these aggregates are not consistent with the AR5 conversion factors. We want the AR5 values, which are the default, so do not add a `metric_name` value this time. "
   ]
  },
  {
   "cell_type": "code",
   "execution_count": 21,
   "metadata": {},
   "outputs": [
    {
     "data": {
      "text/plain": [
       "0"
      ]
     },
     "execution_count": 21,
     "metadata": {},
     "output_type": "execute_result"
    }
   ],
   "source": [
    "to_infill = sr15_data.filter(model=\"WITCH*\")\n",
    "target = \"Emissions|F-Gases\"\n",
    "components = [\"Emissions|HFC\", \"Emissions|PFC\", \"Emissions|SF6\"]\n",
    "valid_cases = return_cases_which_consistently_split(\n",
    "    to_infill,\n",
    "    target,\n",
    "    components,\n",
    "    how_close={\n",
    "        \"equal_nan\": True,\n",
    "        \"rtol\": 0.1,\n",
    "    },\n",
    ")\n",
    "len(valid_cases)"
   ]
  },
  {
   "cell_type": "markdown",
   "metadata": {},
   "source": [
    "We first convert them to a common unit."
   ]
  },
  {
   "cell_type": "code",
   "execution_count": 22,
   "metadata": {},
   "outputs": [
    {
     "data": {
      "text/html": [
       "<div>\n",
       "<style scoped>\n",
       "    .dataframe tbody tr th:only-of-type {\n",
       "        vertical-align: middle;\n",
       "    }\n",
       "\n",
       "    .dataframe tbody tr th {\n",
       "        vertical-align: top;\n",
       "    }\n",
       "\n",
       "    .dataframe thead th {\n",
       "        text-align: right;\n",
       "    }\n",
       "</style>\n",
       "<table border=\"1\" class=\"dataframe\">\n",
       "  <thead>\n",
       "    <tr style=\"text-align: right;\">\n",
       "      <th></th>\n",
       "      <th>model</th>\n",
       "      <th>scenario</th>\n",
       "      <th>region</th>\n",
       "      <th>variable</th>\n",
       "      <th>unit</th>\n",
       "      <th>year</th>\n",
       "      <th>value</th>\n",
       "    </tr>\n",
       "  </thead>\n",
       "  <tbody>\n",
       "    <tr>\n",
       "      <th>0</th>\n",
       "      <td>WITCH-GLOBIOM 4.2</td>\n",
       "      <td>ADVANCE_2020_Med2C</td>\n",
       "      <td>World</td>\n",
       "      <td>Emissions|F-Gases</td>\n",
       "      <td>Mt CO2-equiv/yr</td>\n",
       "      <td>2005</td>\n",
       "      <td>717.000054</td>\n",
       "    </tr>\n",
       "    <tr>\n",
       "      <th>1</th>\n",
       "      <td>WITCH-GLOBIOM 4.2</td>\n",
       "      <td>ADVANCE_2020_Med2C</td>\n",
       "      <td>World</td>\n",
       "      <td>Emissions|F-Gases</td>\n",
       "      <td>Mt CO2-equiv/yr</td>\n",
       "      <td>2010</td>\n",
       "      <td>948.020176</td>\n",
       "    </tr>\n",
       "    <tr>\n",
       "      <th>2</th>\n",
       "      <td>WITCH-GLOBIOM 4.2</td>\n",
       "      <td>ADVANCE_2020_Med2C</td>\n",
       "      <td>World</td>\n",
       "      <td>Emissions|F-Gases</td>\n",
       "      <td>Mt CO2-equiv/yr</td>\n",
       "      <td>2015</td>\n",
       "      <td>609.746591</td>\n",
       "    </tr>\n",
       "    <tr>\n",
       "      <th>3</th>\n",
       "      <td>WITCH-GLOBIOM 4.2</td>\n",
       "      <td>ADVANCE_2020_Med2C</td>\n",
       "      <td>World</td>\n",
       "      <td>Emissions|F-Gases</td>\n",
       "      <td>Mt CO2-equiv/yr</td>\n",
       "      <td>2020</td>\n",
       "      <td>800.446286</td>\n",
       "    </tr>\n",
       "    <tr>\n",
       "      <th>4</th>\n",
       "      <td>WITCH-GLOBIOM 4.2</td>\n",
       "      <td>ADVANCE_2020_Med2C</td>\n",
       "      <td>World</td>\n",
       "      <td>Emissions|F-Gases</td>\n",
       "      <td>Mt CO2-equiv/yr</td>\n",
       "      <td>2025</td>\n",
       "      <td>351.541200</td>\n",
       "    </tr>\n",
       "  </tbody>\n",
       "</table>\n",
       "</div>"
      ],
      "text/plain": [
       "               model            scenario region           variable  \\\n",
       "0  WITCH-GLOBIOM 4.2  ADVANCE_2020_Med2C  World  Emissions|F-Gases   \n",
       "1  WITCH-GLOBIOM 4.2  ADVANCE_2020_Med2C  World  Emissions|F-Gases   \n",
       "2  WITCH-GLOBIOM 4.2  ADVANCE_2020_Med2C  World  Emissions|F-Gases   \n",
       "3  WITCH-GLOBIOM 4.2  ADVANCE_2020_Med2C  World  Emissions|F-Gases   \n",
       "4  WITCH-GLOBIOM 4.2  ADVANCE_2020_Med2C  World  Emissions|F-Gases   \n",
       "\n",
       "              unit  year       value  \n",
       "0  Mt CO2-equiv/yr  2005  717.000054  \n",
       "1  Mt CO2-equiv/yr  2010  948.020176  \n",
       "2  Mt CO2-equiv/yr  2015  609.746591  \n",
       "3  Mt CO2-equiv/yr  2020  800.446286  \n",
       "4  Mt CO2-equiv/yr  2025  351.541200  "
      ]
     },
     "execution_count": 22,
     "metadata": {},
     "output_type": "execute_result"
    }
   ],
   "source": [
    "to_infill = to_infill.filter(variable=[target] + components)\n",
    "to_infill = convert_units_to_MtCO2_equiv(to_infill)\n",
    "to_infill.filter(variable=target, scenario=\"ADVANCE_2020_Med2C\").head()"
   ]
  },
  {
   "cell_type": "markdown",
   "metadata": {},
   "source": [
    "The recalculated values are similar but noticably different:"
   ]
  },
  {
   "cell_type": "code",
   "execution_count": 23,
   "metadata": {},
   "outputs": [
    {
     "data": {
      "text/html": [
       "<div>\n",
       "<style scoped>\n",
       "    .dataframe tbody tr th:only-of-type {\n",
       "        vertical-align: middle;\n",
       "    }\n",
       "\n",
       "    .dataframe tbody tr th {\n",
       "        vertical-align: top;\n",
       "    }\n",
       "\n",
       "    .dataframe thead th {\n",
       "        text-align: right;\n",
       "    }\n",
       "</style>\n",
       "<table border=\"1\" class=\"dataframe\">\n",
       "  <thead>\n",
       "    <tr style=\"text-align: right;\">\n",
       "      <th></th>\n",
       "      <th>model</th>\n",
       "      <th>scenario</th>\n",
       "      <th>region</th>\n",
       "      <th>variable</th>\n",
       "      <th>unit</th>\n",
       "      <th>year</th>\n",
       "      <th>value</th>\n",
       "    </tr>\n",
       "  </thead>\n",
       "  <tbody>\n",
       "    <tr>\n",
       "      <th>0</th>\n",
       "      <td>WITCH-GLOBIOM 4.2</td>\n",
       "      <td>ADVANCE_2020_Med2C</td>\n",
       "      <td>World</td>\n",
       "      <td>Emissions|F-Gases</td>\n",
       "      <td>Mt CO2-equiv/yr</td>\n",
       "      <td>2005</td>\n",
       "      <td>610.958880</td>\n",
       "    </tr>\n",
       "    <tr>\n",
       "      <th>1</th>\n",
       "      <td>WITCH-GLOBIOM 4.2</td>\n",
       "      <td>ADVANCE_2020_Med2C</td>\n",
       "      <td>World</td>\n",
       "      <td>Emissions|F-Gases</td>\n",
       "      <td>Mt CO2-equiv/yr</td>\n",
       "      <td>2010</td>\n",
       "      <td>949.847085</td>\n",
       "    </tr>\n",
       "    <tr>\n",
       "      <th>2</th>\n",
       "      <td>WITCH-GLOBIOM 4.2</td>\n",
       "      <td>ADVANCE_2020_Med2C</td>\n",
       "      <td>World</td>\n",
       "      <td>Emissions|F-Gases</td>\n",
       "      <td>Mt CO2-equiv/yr</td>\n",
       "      <td>2015</td>\n",
       "      <td>567.248506</td>\n",
       "    </tr>\n",
       "    <tr>\n",
       "      <th>3</th>\n",
       "      <td>WITCH-GLOBIOM 4.2</td>\n",
       "      <td>ADVANCE_2020_Med2C</td>\n",
       "      <td>World</td>\n",
       "      <td>Emissions|F-Gases</td>\n",
       "      <td>Mt CO2-equiv/yr</td>\n",
       "      <td>2020</td>\n",
       "      <td>828.263273</td>\n",
       "    </tr>\n",
       "    <tr>\n",
       "      <th>4</th>\n",
       "      <td>WITCH-GLOBIOM 4.2</td>\n",
       "      <td>ADVANCE_2020_Med2C</td>\n",
       "      <td>World</td>\n",
       "      <td>Emissions|F-Gases</td>\n",
       "      <td>Mt CO2-equiv/yr</td>\n",
       "      <td>2025</td>\n",
       "      <td>307.759959</td>\n",
       "    </tr>\n",
       "  </tbody>\n",
       "</table>\n",
       "</div>"
      ],
      "text/plain": [
       "               model            scenario region           variable  \\\n",
       "0  WITCH-GLOBIOM 4.2  ADVANCE_2020_Med2C  World  Emissions|F-Gases   \n",
       "1  WITCH-GLOBIOM 4.2  ADVANCE_2020_Med2C  World  Emissions|F-Gases   \n",
       "2  WITCH-GLOBIOM 4.2  ADVANCE_2020_Med2C  World  Emissions|F-Gases   \n",
       "3  WITCH-GLOBIOM 4.2  ADVANCE_2020_Med2C  World  Emissions|F-Gases   \n",
       "4  WITCH-GLOBIOM 4.2  ADVANCE_2020_Med2C  World  Emissions|F-Gases   \n",
       "\n",
       "              unit  year       value  \n",
       "0  Mt CO2-equiv/yr  2005  610.958880  \n",
       "1  Mt CO2-equiv/yr  2010  949.847085  \n",
       "2  Mt CO2-equiv/yr  2015  567.248506  \n",
       "3  Mt CO2-equiv/yr  2020  828.263273  \n",
       "4  Mt CO2-equiv/yr  2025  307.759959  "
      ]
     },
     "execution_count": 23,
     "metadata": {},
     "output_type": "execute_result"
    }
   ],
   "source": [
    "infilled = mi.infill_composite_values(to_infill, {target: components})\n",
    "infilled.filter(variable=target, scenario=\"ADVANCE_2020_Med2C\").head()"
   ]
  },
  {
   "cell_type": "markdown",
   "metadata": {},
   "source": [
    "We have now fixed the inconsistency problem:"
   ]
  },
  {
   "cell_type": "code",
   "execution_count": 24,
   "metadata": {},
   "outputs": [
    {
     "data": {
      "text/plain": [
       "9"
      ]
     },
     "execution_count": 24,
     "metadata": {},
     "output_type": "execute_result"
    }
   ],
   "source": [
    "to_infill.filter(variable=target, keep=False, inplace=True)\n",
    "to_infill.append(infilled, inplace=True)\n",
    "valid_cases = return_cases_which_consistently_split(\n",
    "    to_infill,\n",
    "    target,\n",
    "    components,\n",
    "    metric_name=\"AR4GWP100\",\n",
    "    how_close={\n",
    "        \"equal_nan\": True,\n",
    "        \"rtol\": 0.01,\n",
    "    },\n",
    ")\n",
    "len(valid_cases)"
   ]
  },
  {
   "cell_type": "code",
   "execution_count": 25,
   "metadata": {},
   "outputs": [
    {
     "data": {
      "text/plain": [
       "9"
      ]
     },
     "execution_count": 25,
     "metadata": {},
     "output_type": "execute_result"
    }
   ],
   "source": [
    "len(to_infill.scenario)"
   ]
  },
  {
   "cell_type": "markdown",
   "metadata": {},
   "source": [
    "The `infill_composite_values` function can also take a dictionary of dictionaries as its second argument if the values should be multiplied by constants before summing them. This allows us to subtract values as well. "
   ]
  },
  {
   "cell_type": "code",
   "execution_count": 26,
   "metadata": {},
   "outputs": [],
   "source": [
    "aggregate = \"Emissions|CO2|Other\"\n",
    "other_CO2 = mi.infill_composite_values(\n",
    "    sr15_data,\n",
    "    {\n",
    "        aggregate: {\n",
    "            \"Emissions|CO2\": 1,\n",
    "            \"Emissions|CO2|Energy and Industrial Processes\": -1,\n",
    "            \"Emissions|CO2|AFOLU\": -1,\n",
    "        }\n",
    "    },\n",
    ")"
   ]
  },
  {
   "cell_type": "code",
   "execution_count": 27,
   "metadata": {},
   "outputs": [
    {
     "data": {
      "text/html": [
       "<div>\n",
       "<style scoped>\n",
       "    .dataframe tbody tr th:only-of-type {\n",
       "        vertical-align: middle;\n",
       "    }\n",
       "\n",
       "    .dataframe tbody tr th {\n",
       "        vertical-align: top;\n",
       "    }\n",
       "\n",
       "    .dataframe thead th {\n",
       "        text-align: right;\n",
       "    }\n",
       "</style>\n",
       "<table border=\"1\" class=\"dataframe\">\n",
       "  <thead>\n",
       "    <tr style=\"text-align: right;\">\n",
       "      <th></th>\n",
       "      <th>model</th>\n",
       "      <th>scenario</th>\n",
       "      <th>region</th>\n",
       "      <th>variable</th>\n",
       "      <th>unit</th>\n",
       "      <th>year</th>\n",
       "      <th>value</th>\n",
       "    </tr>\n",
       "  </thead>\n",
       "  <tbody>\n",
       "    <tr>\n",
       "      <th>0</th>\n",
       "      <td>AIM/CGE 2.0</td>\n",
       "      <td>ADVANCE_2020_1.5C-2100</td>\n",
       "      <td>World</td>\n",
       "      <td>Emissions|CO2|Other</td>\n",
       "      <td>Mt CO2/yr</td>\n",
       "      <td>2005</td>\n",
       "      <td>85.2526</td>\n",
       "    </tr>\n",
       "    <tr>\n",
       "      <th>1</th>\n",
       "      <td>AIM/CGE 2.0</td>\n",
       "      <td>ADVANCE_2020_1.5C-2100</td>\n",
       "      <td>World</td>\n",
       "      <td>Emissions|CO2|Other</td>\n",
       "      <td>Mt CO2/yr</td>\n",
       "      <td>2010</td>\n",
       "      <td>89.6442</td>\n",
       "    </tr>\n",
       "    <tr>\n",
       "      <th>2</th>\n",
       "      <td>AIM/CGE 2.0</td>\n",
       "      <td>ADVANCE_2020_1.5C-2100</td>\n",
       "      <td>World</td>\n",
       "      <td>Emissions|CO2|Other</td>\n",
       "      <td>Mt CO2/yr</td>\n",
       "      <td>2015</td>\n",
       "      <td>75.3558</td>\n",
       "    </tr>\n",
       "    <tr>\n",
       "      <th>3</th>\n",
       "      <td>AIM/CGE 2.0</td>\n",
       "      <td>ADVANCE_2020_1.5C-2100</td>\n",
       "      <td>World</td>\n",
       "      <td>Emissions|CO2|Other</td>\n",
       "      <td>Mt CO2/yr</td>\n",
       "      <td>2020</td>\n",
       "      <td>78.3179</td>\n",
       "    </tr>\n",
       "    <tr>\n",
       "      <th>4</th>\n",
       "      <td>AIM/CGE 2.0</td>\n",
       "      <td>ADVANCE_2020_1.5C-2100</td>\n",
       "      <td>World</td>\n",
       "      <td>Emissions|CO2|Other</td>\n",
       "      <td>Mt CO2/yr</td>\n",
       "      <td>2025</td>\n",
       "      <td>27.3933</td>\n",
       "    </tr>\n",
       "    <tr>\n",
       "      <th>5</th>\n",
       "      <td>AIM/CGE 2.0</td>\n",
       "      <td>ADVANCE_2020_1.5C-2100</td>\n",
       "      <td>World</td>\n",
       "      <td>Emissions|CO2|Other</td>\n",
       "      <td>Mt CO2/yr</td>\n",
       "      <td>2030</td>\n",
       "      <td>20.0998</td>\n",
       "    </tr>\n",
       "    <tr>\n",
       "      <th>6</th>\n",
       "      <td>AIM/CGE 2.0</td>\n",
       "      <td>ADVANCE_2020_1.5C-2100</td>\n",
       "      <td>World</td>\n",
       "      <td>Emissions|CO2|Other</td>\n",
       "      <td>Mt CO2/yr</td>\n",
       "      <td>2035</td>\n",
       "      <td>17.3219</td>\n",
       "    </tr>\n",
       "    <tr>\n",
       "      <th>7</th>\n",
       "      <td>AIM/CGE 2.0</td>\n",
       "      <td>ADVANCE_2020_1.5C-2100</td>\n",
       "      <td>World</td>\n",
       "      <td>Emissions|CO2|Other</td>\n",
       "      <td>Mt CO2/yr</td>\n",
       "      <td>2040</td>\n",
       "      <td>15.2576</td>\n",
       "    </tr>\n",
       "    <tr>\n",
       "      <th>8</th>\n",
       "      <td>AIM/CGE 2.0</td>\n",
       "      <td>ADVANCE_2020_1.5C-2100</td>\n",
       "      <td>World</td>\n",
       "      <td>Emissions|CO2|Other</td>\n",
       "      <td>Mt CO2/yr</td>\n",
       "      <td>2045</td>\n",
       "      <td>13.5058</td>\n",
       "    </tr>\n",
       "    <tr>\n",
       "      <th>9</th>\n",
       "      <td>AIM/CGE 2.0</td>\n",
       "      <td>ADVANCE_2020_1.5C-2100</td>\n",
       "      <td>World</td>\n",
       "      <td>Emissions|CO2|Other</td>\n",
       "      <td>Mt CO2/yr</td>\n",
       "      <td>2050</td>\n",
       "      <td>13.4414</td>\n",
       "    </tr>\n",
       "  </tbody>\n",
       "</table>\n",
       "</div>"
      ],
      "text/plain": [
       "         model                scenario region             variable       unit  \\\n",
       "0  AIM/CGE 2.0  ADVANCE_2020_1.5C-2100  World  Emissions|CO2|Other  Mt CO2/yr   \n",
       "1  AIM/CGE 2.0  ADVANCE_2020_1.5C-2100  World  Emissions|CO2|Other  Mt CO2/yr   \n",
       "2  AIM/CGE 2.0  ADVANCE_2020_1.5C-2100  World  Emissions|CO2|Other  Mt CO2/yr   \n",
       "3  AIM/CGE 2.0  ADVANCE_2020_1.5C-2100  World  Emissions|CO2|Other  Mt CO2/yr   \n",
       "4  AIM/CGE 2.0  ADVANCE_2020_1.5C-2100  World  Emissions|CO2|Other  Mt CO2/yr   \n",
       "5  AIM/CGE 2.0  ADVANCE_2020_1.5C-2100  World  Emissions|CO2|Other  Mt CO2/yr   \n",
       "6  AIM/CGE 2.0  ADVANCE_2020_1.5C-2100  World  Emissions|CO2|Other  Mt CO2/yr   \n",
       "7  AIM/CGE 2.0  ADVANCE_2020_1.5C-2100  World  Emissions|CO2|Other  Mt CO2/yr   \n",
       "8  AIM/CGE 2.0  ADVANCE_2020_1.5C-2100  World  Emissions|CO2|Other  Mt CO2/yr   \n",
       "9  AIM/CGE 2.0  ADVANCE_2020_1.5C-2100  World  Emissions|CO2|Other  Mt CO2/yr   \n",
       "\n",
       "   year    value  \n",
       "0  2005  85.2526  \n",
       "1  2010  89.6442  \n",
       "2  2015  75.3558  \n",
       "3  2020  78.3179  \n",
       "4  2025  27.3933  \n",
       "5  2030  20.0998  \n",
       "6  2035  17.3219  \n",
       "7  2040  15.2576  \n",
       "8  2045  13.5058  \n",
       "9  2050  13.4414  "
      ]
     },
     "execution_count": 27,
     "metadata": {},
     "output_type": "execute_result"
    }
   ],
   "source": [
    "other_CO2.head(10)"
   ]
  },
  {
   "cell_type": "markdown",
   "metadata": {},
   "source": [
    "These values are relatively small (cf. 34000 total emissions), so presumably represent rounding errors. "
   ]
  }
 ],
 "metadata": {
  "kernelspec": {
   "display_name": "Python 3",
   "language": "python",
   "name": "python3"
  },
  "language_info": {
   "codemirror_mode": {
    "name": "ipython",
    "version": 3
   },
   "file_extension": ".py",
   "mimetype": "text/x-python",
   "name": "python",
   "nbconvert_exporter": "python",
   "pygments_lexer": "ipython3",
   "version": "3.7.6"
  }
 },
 "nbformat": 4,
 "nbformat_minor": 2
}
