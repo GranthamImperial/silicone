{
 "cells": [
  {
   "cell_type": "markdown",
   "metadata": {},
   "source": [
    "# Multiple infillers\n",
    "\n",
    "Here we investigate three infillers that perform many cruncher operations. The first one is designed to infill all required data for running openSCM, with the minimum of inputs. One is designed to break down aggregate values, like the Kyoto gases or HFCs. The second does the opposite, recalculating aggregates from its components. These functions are purposefully not as object-oriented as the crunchers so that modellers unfamiliar with this coding structure can use them. \n",
    "\n",
    "You will need to install silicone in order to run this code. "
   ]
  },
  {
   "cell_type": "markdown",
   "metadata": {},
   "source": [
    "## Imports"
   ]
  },
  {
   "cell_type": "code",
   "execution_count": 1,
   "metadata": {},
   "outputs": [
    {
     "data": {
      "application/javascript": [
       "IPython.OutputArea.prototype._should_scroll = function(lines) { return false; }"
      ],
      "text/plain": [
       "<IPython.core.display.Javascript object>"
      ]
     },
     "metadata": {},
     "output_type": "display_data"
    },
    {
     "name": "stderr",
     "output_type": "stream",
     "text": [
      "pyam - INFO: Running in a notebook, setting `pyam` logging level to `logging.INFO` and adding stderr handler\n"
     ]
    }
   ],
   "source": [
    "import os.path\n",
    "import traceback\n",
    "\n",
    "import matplotlib.pyplot as plt\n",
    "import numpy as np\n",
    "import pandas as pd\n",
    "import pyam\n",
    "\n",
    "import silicone.multiple_infillers as mi\n",
    "from silicone.utils import (\n",
    "    convert_units_to_MtCO2_equiv,\n",
    "    get_sr15_scenarios,\n",
    "    return_cases_which_consistently_split,\n",
    ")"
   ]
  },
  {
   "cell_type": "code",
   "execution_count": 2,
   "metadata": {},
   "outputs": [],
   "source": [
    "SR15_SCENARIOS = \"./sr15_scenarios.csv\""
   ]
  },
  {
   "cell_type": "markdown",
   "metadata": {},
   "source": [
    "## Example data\n",
    "\n",
    "Here we pull some example data by downloading a selection of the SR1.5 scenarios."
   ]
  },
  {
   "cell_type": "code",
   "execution_count": 3,
   "metadata": {
    "scrolled": true
   },
   "outputs": [],
   "source": [
    "valid_model_ids = [\n",
    "    \"MESSAGE*\",\n",
    "    \"AIM*\",\n",
    "    \"C-ROADS*\",\n",
    "    \"GCAM*\",\n",
    "    \"IEA*\",\n",
    "    \"IMAGE*\",\n",
    "    \"MERGE*\",\n",
    "    \"POLES*\",\n",
    "    \"REMIND*\",\n",
    "    \"WITCH*\",\n",
    "]\n",
    "if not os.path.isfile(SR15_SCENARIOS):\n",
    "    get_sr15_scenarios(SR15_SCENARIOS, valid_model_ids)"
   ]
  },
  {
   "cell_type": "markdown",
   "metadata": {},
   "source": [
    "### Starting point\n",
    "\n",
    "Our starting point is the test data, loaded as a `pyam.IamDataFrame`."
   ]
  },
  {
   "cell_type": "code",
   "execution_count": 4,
   "metadata": {
    "scrolled": false
   },
   "outputs": [
    {
     "name": "stderr",
     "output_type": "stream",
     "text": [
      "pyam.utils - INFO: Reading `./sr15_scenarios.csv`\n"
     ]
    },
    {
     "data": {
      "text/html": [
       "<div>\n",
       "<style scoped>\n",
       "    .dataframe tbody tr th:only-of-type {\n",
       "        vertical-align: middle;\n",
       "    }\n",
       "\n",
       "    .dataframe tbody tr th {\n",
       "        vertical-align: top;\n",
       "    }\n",
       "\n",
       "    .dataframe thead th {\n",
       "        text-align: right;\n",
       "    }\n",
       "</style>\n",
       "<table border=\"1\" class=\"dataframe\">\n",
       "  <thead>\n",
       "    <tr style=\"text-align: right;\">\n",
       "      <th></th>\n",
       "      <th>model</th>\n",
       "      <th>scenario</th>\n",
       "      <th>region</th>\n",
       "      <th>variable</th>\n",
       "      <th>unit</th>\n",
       "      <th>year</th>\n",
       "      <th>meta</th>\n",
       "      <th>subannual</th>\n",
       "      <th>value</th>\n",
       "    </tr>\n",
       "  </thead>\n",
       "  <tbody>\n",
       "    <tr>\n",
       "      <th>231183</th>\n",
       "      <td>WITCH-GLOBIOM 3.1</td>\n",
       "      <td>SSP1-19</td>\n",
       "      <td>World</td>\n",
       "      <td>Emissions|CO2</td>\n",
       "      <td>Mt CO2/yr</td>\n",
       "      <td>2005</td>\n",
       "      <td>0</td>\n",
       "      <td>0.0</td>\n",
       "      <td>31922.044350</td>\n",
       "    </tr>\n",
       "    <tr>\n",
       "      <th>231184</th>\n",
       "      <td>WITCH-GLOBIOM 3.1</td>\n",
       "      <td>SSP1-19</td>\n",
       "      <td>World</td>\n",
       "      <td>Emissions|CO2</td>\n",
       "      <td>Mt CO2/yr</td>\n",
       "      <td>2010</td>\n",
       "      <td>0</td>\n",
       "      <td>0.0</td>\n",
       "      <td>35303.387760</td>\n",
       "    </tr>\n",
       "    <tr>\n",
       "      <th>231185</th>\n",
       "      <td>WITCH-GLOBIOM 3.1</td>\n",
       "      <td>SSP1-19</td>\n",
       "      <td>World</td>\n",
       "      <td>Emissions|CO2</td>\n",
       "      <td>Mt CO2/yr</td>\n",
       "      <td>2020</td>\n",
       "      <td>0</td>\n",
       "      <td>0.0</td>\n",
       "      <td>37312.307110</td>\n",
       "    </tr>\n",
       "    <tr>\n",
       "      <th>231186</th>\n",
       "      <td>WITCH-GLOBIOM 3.1</td>\n",
       "      <td>SSP1-19</td>\n",
       "      <td>World</td>\n",
       "      <td>Emissions|CO2</td>\n",
       "      <td>Mt CO2/yr</td>\n",
       "      <td>2030</td>\n",
       "      <td>0</td>\n",
       "      <td>0.0</td>\n",
       "      <td>10560.008460</td>\n",
       "    </tr>\n",
       "    <tr>\n",
       "      <th>231187</th>\n",
       "      <td>WITCH-GLOBIOM 3.1</td>\n",
       "      <td>SSP1-19</td>\n",
       "      <td>World</td>\n",
       "      <td>Emissions|CO2</td>\n",
       "      <td>Mt CO2/yr</td>\n",
       "      <td>2040</td>\n",
       "      <td>0</td>\n",
       "      <td>0.0</td>\n",
       "      <td>7435.934987</td>\n",
       "    </tr>\n",
       "  </tbody>\n",
       "</table>\n",
       "</div>"
      ],
      "text/plain": [
       "                    model scenario region       variable       unit  year  \\\n",
       "231183  WITCH-GLOBIOM 3.1  SSP1-19  World  Emissions|CO2  Mt CO2/yr  2005   \n",
       "231184  WITCH-GLOBIOM 3.1  SSP1-19  World  Emissions|CO2  Mt CO2/yr  2010   \n",
       "231185  WITCH-GLOBIOM 3.1  SSP1-19  World  Emissions|CO2  Mt CO2/yr  2020   \n",
       "231186  WITCH-GLOBIOM 3.1  SSP1-19  World  Emissions|CO2  Mt CO2/yr  2030   \n",
       "231187  WITCH-GLOBIOM 3.1  SSP1-19  World  Emissions|CO2  Mt CO2/yr  2040   \n",
       "\n",
       "        meta  subannual         value  \n",
       "231183     0        0.0  31922.044350  \n",
       "231184     0        0.0  35303.387760  \n",
       "231185     0        0.0  37312.307110  \n",
       "231186     0        0.0  10560.008460  \n",
       "231187     0        0.0   7435.934987  "
      ]
     },
     "execution_count": 4,
     "metadata": {},
     "output_type": "execute_result"
    }
   ],
   "source": [
    "sr15_data = pyam.IamDataFrame(SR15_SCENARIOS)\n",
    "target = \"Emissions|CO2\"\n",
    "constituents = [\"Emissions|CO2|*\"]\n",
    "to_infill = sr15_data.filter(model=\"WITCH*\", variable=[target] + constituents)\n",
    "database = sr15_data.filter(model=\"WITCH*\", keep=False)\n",
    "to_infill.head()"
   ]
  },
  {
   "cell_type": "markdown",
   "metadata": {},
   "source": [
    "## Investigating where the data is consistent\n",
    "\n",
    "A utility function called return_cases_which_consistently_split indicates which variables consist of only other variables, which is useful to know in order to work out where data can be consistently split using decompose_collection_with_time_dep_ratio. Note that this is not a requirement for using that method (a consistent aggregate value is constructed in any case) but indicates that this is approach is rigorous. "
   ]
  },
  {
   "cell_type": "markdown",
   "metadata": {},
   "source": [
    "In the first instance, it does not find any results because there are several layers of constituents. However with only one layer, this works as expected. Note that if only one layer is used, there is also a pyam built-in function called 'check_consistency' that performs the same effect. "
   ]
  },
  {
   "cell_type": "code",
   "execution_count": 5,
   "metadata": {},
   "outputs": [
    {
     "data": {
      "text/plain": [
       "0"
      ]
     },
     "execution_count": 5,
     "metadata": {},
     "output_type": "execute_result"
    }
   ],
   "source": [
    "no_cases = return_cases_which_consistently_split(\n",
    "    to_infill, target, constituents,\n",
    ")\n",
    "len(no_cases)"
   ]
  },
  {
   "cell_type": "markdown",
   "metadata": {},
   "source": [
    "However in the case below, we select only the next level of info, and find it matches in all cases (the number of cases does not depend on the accuracy, as shown in the second box. "
   ]
  },
  {
   "cell_type": "code",
   "execution_count": 6,
   "metadata": {},
   "outputs": [
    {
     "data": {
      "text/plain": [
       "39"
      ]
     },
     "execution_count": 6,
     "metadata": {},
     "output_type": "execute_result"
    }
   ],
   "source": [
    "all_cases = return_cases_which_consistently_split(\n",
    "    to_infill,\n",
    "    target,\n",
    "    [\"Emissions|CO2|AFOLU\", \"Emissions|CO2|Energy and Industrial Processes\"],\n",
    ")\n",
    "len(all_cases)"
   ]
  },
  {
   "cell_type": "code",
   "execution_count": 7,
   "metadata": {},
   "outputs": [
    {
     "data": {
      "text/plain": [
       "39"
      ]
     },
     "execution_count": 7,
     "metadata": {},
     "output_type": "execute_result"
    }
   ],
   "source": [
    "all_cases = return_cases_which_consistently_split(\n",
    "    to_infill,\n",
    "    target,\n",
    "    [\"Emissions|CO2|AFOLU\", \"Emissions|CO2|Energy and Industrial Processes\"],\n",
    "    how_close={\n",
    "        \"equal_nan\": True,\n",
    "        \"rtol\": 100,  # This means that we accept a factor of 100 inaccuracy.\n",
    "    },\n",
    ")\n",
    "len(all_cases)"
   ]
  },
  {
   "cell_type": "markdown",
   "metadata": {},
   "source": [
    "## Using the infiller functions\n",
    "Here we show the use of the DecomposeCollectionTimeDepRatio and InfillAllRequiredVariables functions. \n",
    "### InfillAllRequiredVariables\n",
    "This is a function to more conveniently infill all of the required variables that are not already found in the system. "
   ]
  },
  {
   "cell_type": "code",
   "execution_count": 8,
   "metadata": {},
   "outputs": [
    {
     "data": {
      "text/html": [
       "<div>\n",
       "<style scoped>\n",
       "    .dataframe tbody tr th:only-of-type {\n",
       "        vertical-align: middle;\n",
       "    }\n",
       "\n",
       "    .dataframe tbody tr th {\n",
       "        vertical-align: top;\n",
       "    }\n",
       "\n",
       "    .dataframe thead th {\n",
       "        text-align: right;\n",
       "    }\n",
       "</style>\n",
       "<table border=\"1\" class=\"dataframe\">\n",
       "  <thead>\n",
       "    <tr style=\"text-align: right;\">\n",
       "      <th></th>\n",
       "      <th>model</th>\n",
       "      <th>scenario</th>\n",
       "      <th>region</th>\n",
       "      <th>variable</th>\n",
       "      <th>unit</th>\n",
       "      <th>year</th>\n",
       "      <th>meta</th>\n",
       "      <th>subannual</th>\n",
       "      <th>value</th>\n",
       "    </tr>\n",
       "  </thead>\n",
       "  <tbody>\n",
       "    <tr>\n",
       "      <th>231123</th>\n",
       "      <td>REMIND-MAgPIE 1.7-3.0</td>\n",
       "      <td>SMP_REF_Sust</td>\n",
       "      <td>World</td>\n",
       "      <td>Emissions|VOC|Other</td>\n",
       "      <td>Mt VOC/yr</td>\n",
       "      <td>2060</td>\n",
       "      <td>0</td>\n",
       "      <td>0.0</td>\n",
       "      <td>23.2311</td>\n",
       "    </tr>\n",
       "    <tr>\n",
       "      <th>231124</th>\n",
       "      <td>REMIND-MAgPIE 1.7-3.0</td>\n",
       "      <td>SMP_REF_Sust</td>\n",
       "      <td>World</td>\n",
       "      <td>Emissions|VOC|Other</td>\n",
       "      <td>Mt VOC/yr</td>\n",
       "      <td>2070</td>\n",
       "      <td>0</td>\n",
       "      <td>0.0</td>\n",
       "      <td>22.1971</td>\n",
       "    </tr>\n",
       "    <tr>\n",
       "      <th>231125</th>\n",
       "      <td>REMIND-MAgPIE 1.7-3.0</td>\n",
       "      <td>SMP_REF_Sust</td>\n",
       "      <td>World</td>\n",
       "      <td>Emissions|VOC|Other</td>\n",
       "      <td>Mt VOC/yr</td>\n",
       "      <td>2080</td>\n",
       "      <td>0</td>\n",
       "      <td>0.0</td>\n",
       "      <td>21.1632</td>\n",
       "    </tr>\n",
       "    <tr>\n",
       "      <th>231126</th>\n",
       "      <td>REMIND-MAgPIE 1.7-3.0</td>\n",
       "      <td>SMP_REF_Sust</td>\n",
       "      <td>World</td>\n",
       "      <td>Emissions|VOC|Other</td>\n",
       "      <td>Mt VOC/yr</td>\n",
       "      <td>2090</td>\n",
       "      <td>0</td>\n",
       "      <td>0.0</td>\n",
       "      <td>20.1292</td>\n",
       "    </tr>\n",
       "    <tr>\n",
       "      <th>231127</th>\n",
       "      <td>REMIND-MAgPIE 1.7-3.0</td>\n",
       "      <td>SMP_REF_Sust</td>\n",
       "      <td>World</td>\n",
       "      <td>Emissions|VOC|Other</td>\n",
       "      <td>Mt VOC/yr</td>\n",
       "      <td>2100</td>\n",
       "      <td>0</td>\n",
       "      <td>0.0</td>\n",
       "      <td>19.0953</td>\n",
       "    </tr>\n",
       "  </tbody>\n",
       "</table>\n",
       "</div>"
      ],
      "text/plain": [
       "                        model      scenario region             variable  \\\n",
       "231123  REMIND-MAgPIE 1.7-3.0  SMP_REF_Sust  World  Emissions|VOC|Other   \n",
       "231124  REMIND-MAgPIE 1.7-3.0  SMP_REF_Sust  World  Emissions|VOC|Other   \n",
       "231125  REMIND-MAgPIE 1.7-3.0  SMP_REF_Sust  World  Emissions|VOC|Other   \n",
       "231126  REMIND-MAgPIE 1.7-3.0  SMP_REF_Sust  World  Emissions|VOC|Other   \n",
       "231127  REMIND-MAgPIE 1.7-3.0  SMP_REF_Sust  World  Emissions|VOC|Other   \n",
       "\n",
       "             unit  year  meta  subannual    value  \n",
       "231123  Mt VOC/yr  2060     0        0.0  23.2311  \n",
       "231124  Mt VOC/yr  2070     0        0.0  22.1971  \n",
       "231125  Mt VOC/yr  2080     0        0.0  21.1632  \n",
       "231126  Mt VOC/yr  2090     0        0.0  20.1292  \n",
       "231127  Mt VOC/yr  2100     0        0.0  19.0953  "
      ]
     },
     "execution_count": 8,
     "metadata": {},
     "output_type": "execute_result"
    }
   ],
   "source": [
    "database.tail()"
   ]
  },
  {
   "cell_type": "code",
   "execution_count": 9,
   "metadata": {},
   "outputs": [
    {
     "data": {
      "text/html": [
       "<div>\n",
       "<style scoped>\n",
       "    .dataframe tbody tr th:only-of-type {\n",
       "        vertical-align: middle;\n",
       "    }\n",
       "\n",
       "    .dataframe tbody tr th {\n",
       "        vertical-align: top;\n",
       "    }\n",
       "\n",
       "    .dataframe thead th {\n",
       "        text-align: right;\n",
       "    }\n",
       "</style>\n",
       "<table border=\"1\" class=\"dataframe\">\n",
       "  <thead>\n",
       "    <tr style=\"text-align: right;\">\n",
       "      <th></th>\n",
       "      <th>model</th>\n",
       "      <th>scenario</th>\n",
       "      <th>region</th>\n",
       "      <th>variable</th>\n",
       "      <th>unit</th>\n",
       "      <th>year</th>\n",
       "      <th>meta</th>\n",
       "      <th>subannual</th>\n",
       "      <th>value</th>\n",
       "    </tr>\n",
       "  </thead>\n",
       "  <tbody>\n",
       "    <tr>\n",
       "      <th>244614</th>\n",
       "      <td>WITCH-GLOBIOM 4.4</td>\n",
       "      <td>CD-LINKS_NoPolicy</td>\n",
       "      <td>World</td>\n",
       "      <td>Emissions|CO2|Energy|Supply|Electricity</td>\n",
       "      <td>Mt CO2/yr</td>\n",
       "      <td>2060</td>\n",
       "      <td>0</td>\n",
       "      <td>0.0</td>\n",
       "      <td>29487.271577</td>\n",
       "    </tr>\n",
       "    <tr>\n",
       "      <th>244615</th>\n",
       "      <td>WITCH-GLOBIOM 4.4</td>\n",
       "      <td>CD-LINKS_NoPolicy</td>\n",
       "      <td>World</td>\n",
       "      <td>Emissions|CO2|Energy|Supply|Electricity</td>\n",
       "      <td>Mt CO2/yr</td>\n",
       "      <td>2070</td>\n",
       "      <td>0</td>\n",
       "      <td>0.0</td>\n",
       "      <td>31404.870008</td>\n",
       "    </tr>\n",
       "    <tr>\n",
       "      <th>244616</th>\n",
       "      <td>WITCH-GLOBIOM 4.4</td>\n",
       "      <td>CD-LINKS_NoPolicy</td>\n",
       "      <td>World</td>\n",
       "      <td>Emissions|CO2|Energy|Supply|Electricity</td>\n",
       "      <td>Mt CO2/yr</td>\n",
       "      <td>2080</td>\n",
       "      <td>0</td>\n",
       "      <td>0.0</td>\n",
       "      <td>31911.146283</td>\n",
       "    </tr>\n",
       "    <tr>\n",
       "      <th>244617</th>\n",
       "      <td>WITCH-GLOBIOM 4.4</td>\n",
       "      <td>CD-LINKS_NoPolicy</td>\n",
       "      <td>World</td>\n",
       "      <td>Emissions|CO2|Energy|Supply|Electricity</td>\n",
       "      <td>Mt CO2/yr</td>\n",
       "      <td>2090</td>\n",
       "      <td>0</td>\n",
       "      <td>0.0</td>\n",
       "      <td>30995.012917</td>\n",
       "    </tr>\n",
       "    <tr>\n",
       "      <th>244618</th>\n",
       "      <td>WITCH-GLOBIOM 4.4</td>\n",
       "      <td>CD-LINKS_NoPolicy</td>\n",
       "      <td>World</td>\n",
       "      <td>Emissions|CO2|Energy|Supply|Electricity</td>\n",
       "      <td>Mt CO2/yr</td>\n",
       "      <td>2100</td>\n",
       "      <td>0</td>\n",
       "      <td>0.0</td>\n",
       "      <td>29852.454850</td>\n",
       "    </tr>\n",
       "  </tbody>\n",
       "</table>\n",
       "</div>"
      ],
      "text/plain": [
       "                    model           scenario region  \\\n",
       "244614  WITCH-GLOBIOM 4.4  CD-LINKS_NoPolicy  World   \n",
       "244615  WITCH-GLOBIOM 4.4  CD-LINKS_NoPolicy  World   \n",
       "244616  WITCH-GLOBIOM 4.4  CD-LINKS_NoPolicy  World   \n",
       "244617  WITCH-GLOBIOM 4.4  CD-LINKS_NoPolicy  World   \n",
       "244618  WITCH-GLOBIOM 4.4  CD-LINKS_NoPolicy  World   \n",
       "\n",
       "                                       variable       unit  year  meta  \\\n",
       "244614  Emissions|CO2|Energy|Supply|Electricity  Mt CO2/yr  2060     0   \n",
       "244615  Emissions|CO2|Energy|Supply|Electricity  Mt CO2/yr  2070     0   \n",
       "244616  Emissions|CO2|Energy|Supply|Electricity  Mt CO2/yr  2080     0   \n",
       "244617  Emissions|CO2|Energy|Supply|Electricity  Mt CO2/yr  2090     0   \n",
       "244618  Emissions|CO2|Energy|Supply|Electricity  Mt CO2/yr  2100     0   \n",
       "\n",
       "        subannual         value  \n",
       "244614        0.0  29487.271577  \n",
       "244615        0.0  31404.870008  \n",
       "244616        0.0  31911.146283  \n",
       "244617        0.0  30995.012917  \n",
       "244618        0.0  29852.454850  "
      ]
     },
     "execution_count": 9,
     "metadata": {},
     "output_type": "execute_result"
    }
   ],
   "source": [
    "to_infill.tail()"
   ]
  },
  {
   "cell_type": "code",
   "execution_count": 10,
   "metadata": {},
   "outputs": [
    {
     "name": "stderr",
     "output_type": "stream",
     "text": [
      "c:\\users\\rlamboll\\constraincode\\silicone\\src\\silicone\\multiple_infillers\\infill_all_required_emissions_for_openscm.py:181: UserWarning: No data for ['Emissions|HFC|HFC245ca'], it will be infilled with 0s\n",
      "  unavailable_variables\n",
      "Filling required variables: 100%|████████████████████████████████████████████████████████| 1/1 [00:00<00:00,  8.17it/s]\n",
      "Filling required variables: 100%|██████████████████████████████████████████████████████| 22/22 [00:34<00:00,  1.55s/it]\n"
     ]
    },
    {
     "data": {
      "text/html": [
       "<div>\n",
       "<style scoped>\n",
       "    .dataframe tbody tr th:only-of-type {\n",
       "        vertical-align: middle;\n",
       "    }\n",
       "\n",
       "    .dataframe tbody tr th {\n",
       "        vertical-align: top;\n",
       "    }\n",
       "\n",
       "    .dataframe thead th {\n",
       "        text-align: right;\n",
       "    }\n",
       "</style>\n",
       "<table border=\"1\" class=\"dataframe\">\n",
       "  <thead>\n",
       "    <tr style=\"text-align: right;\">\n",
       "      <th></th>\n",
       "      <th>model</th>\n",
       "      <th>scenario</th>\n",
       "      <th>region</th>\n",
       "      <th>variable</th>\n",
       "      <th>unit</th>\n",
       "      <th>year</th>\n",
       "      <th>meta</th>\n",
       "      <th>subannual</th>\n",
       "      <th>value</th>\n",
       "    </tr>\n",
       "  </thead>\n",
       "  <tbody>\n",
       "    <tr>\n",
       "      <th>0</th>\n",
       "      <td>WITCH-GLOBIOM 3.1</td>\n",
       "      <td>SSP1-19</td>\n",
       "      <td>World</td>\n",
       "      <td>Emissions|BC</td>\n",
       "      <td>Mt BC/yr</td>\n",
       "      <td>2020</td>\n",
       "      <td>0</td>\n",
       "      <td>0.0</td>\n",
       "      <td>6.643665</td>\n",
       "    </tr>\n",
       "    <tr>\n",
       "      <th>1</th>\n",
       "      <td>WITCH-GLOBIOM 3.1</td>\n",
       "      <td>SSP1-19</td>\n",
       "      <td>World</td>\n",
       "      <td>Emissions|BC</td>\n",
       "      <td>Mt BC/yr</td>\n",
       "      <td>2030</td>\n",
       "      <td>0</td>\n",
       "      <td>0.0</td>\n",
       "      <td>5.032938</td>\n",
       "    </tr>\n",
       "    <tr>\n",
       "      <th>2</th>\n",
       "      <td>WITCH-GLOBIOM 3.1</td>\n",
       "      <td>SSP1-19</td>\n",
       "      <td>World</td>\n",
       "      <td>Emissions|BC</td>\n",
       "      <td>Mt BC/yr</td>\n",
       "      <td>2040</td>\n",
       "      <td>0</td>\n",
       "      <td>0.0</td>\n",
       "      <td>4.253773</td>\n",
       "    </tr>\n",
       "    <tr>\n",
       "      <th>3</th>\n",
       "      <td>WITCH-GLOBIOM 3.1</td>\n",
       "      <td>SSP1-19</td>\n",
       "      <td>World</td>\n",
       "      <td>Emissions|BC</td>\n",
       "      <td>Mt BC/yr</td>\n",
       "      <td>2050</td>\n",
       "      <td>0</td>\n",
       "      <td>0.0</td>\n",
       "      <td>3.641393</td>\n",
       "    </tr>\n",
       "    <tr>\n",
       "      <th>4</th>\n",
       "      <td>WITCH-GLOBIOM 3.1</td>\n",
       "      <td>SSP1-19</td>\n",
       "      <td>World</td>\n",
       "      <td>Emissions|BC</td>\n",
       "      <td>Mt BC/yr</td>\n",
       "      <td>2060</td>\n",
       "      <td>0</td>\n",
       "      <td>0.0</td>\n",
       "      <td>3.198844</td>\n",
       "    </tr>\n",
       "  </tbody>\n",
       "</table>\n",
       "</div>"
      ],
      "text/plain": [
       "               model scenario region      variable      unit  year  meta  \\\n",
       "0  WITCH-GLOBIOM 3.1  SSP1-19  World  Emissions|BC  Mt BC/yr  2020     0   \n",
       "1  WITCH-GLOBIOM 3.1  SSP1-19  World  Emissions|BC  Mt BC/yr  2030     0   \n",
       "2  WITCH-GLOBIOM 3.1  SSP1-19  World  Emissions|BC  Mt BC/yr  2040     0   \n",
       "3  WITCH-GLOBIOM 3.1  SSP1-19  World  Emissions|BC  Mt BC/yr  2050     0   \n",
       "4  WITCH-GLOBIOM 3.1  SSP1-19  World  Emissions|BC  Mt BC/yr  2060     0   \n",
       "\n",
       "   subannual     value  \n",
       "0        0.0  6.643665  \n",
       "1        0.0  5.032938  \n",
       "2        0.0  4.253773  \n",
       "3        0.0  3.641393  \n",
       "4        0.0  3.198844  "
      ]
     },
     "execution_count": 10,
     "metadata": {},
     "output_type": "execute_result"
    }
   ],
   "source": [
    "infilled = mi.infill_all_required_variables(\n",
    "    to_infill, database, [target], output_timesteps=list(range(2020, 2101, 10))\n",
    ")\n",
    "infilled.head()"
   ]
  },
  {
   "cell_type": "markdown",
   "metadata": {},
   "source": [
    "We now have a complete scenario, with all required variables. "
   ]
  },
  {
   "cell_type": "code",
   "execution_count": 11,
   "metadata": {},
   "outputs": [
    {
     "data": {
      "text/html": [
       "<div>\n",
       "<style scoped>\n",
       "    .dataframe tbody tr th:only-of-type {\n",
       "        vertical-align: middle;\n",
       "    }\n",
       "\n",
       "    .dataframe tbody tr th {\n",
       "        vertical-align: top;\n",
       "    }\n",
       "\n",
       "    .dataframe thead th {\n",
       "        text-align: right;\n",
       "    }\n",
       "</style>\n",
       "<table border=\"1\" class=\"dataframe\">\n",
       "  <thead>\n",
       "    <tr style=\"text-align: right;\">\n",
       "      <th></th>\n",
       "      <th>variable</th>\n",
       "      <th>unit</th>\n",
       "    </tr>\n",
       "  </thead>\n",
       "  <tbody>\n",
       "    <tr>\n",
       "      <th>0</th>\n",
       "      <td>Emissions|CO2</td>\n",
       "      <td>Mt CO2/yr</td>\n",
       "    </tr>\n",
       "    <tr>\n",
       "      <th>1</th>\n",
       "      <td>Emissions|CO2|AFOLU</td>\n",
       "      <td>Mt CO2/yr</td>\n",
       "    </tr>\n",
       "    <tr>\n",
       "      <th>2</th>\n",
       "      <td>Emissions|CO2|Energy and Industrial Processes</td>\n",
       "      <td>Mt CO2/yr</td>\n",
       "    </tr>\n",
       "    <tr>\n",
       "      <th>5</th>\n",
       "      <td>Emissions|CO2|Energy|Demand</td>\n",
       "      <td>Mt CO2/yr</td>\n",
       "    </tr>\n",
       "    <tr>\n",
       "      <th>8</th>\n",
       "      <td>Emissions|CO2|Energy|Demand|Industry</td>\n",
       "      <td>Mt CO2/yr</td>\n",
       "    </tr>\n",
       "    <tr>\n",
       "      <th>9</th>\n",
       "      <td>Emissions|CO2|Energy|Demand|Residential and Co...</td>\n",
       "      <td>Mt CO2/yr</td>\n",
       "    </tr>\n",
       "    <tr>\n",
       "      <th>6</th>\n",
       "      <td>Emissions|CO2|Energy|Demand|Transportation</td>\n",
       "      <td>Mt CO2/yr</td>\n",
       "    </tr>\n",
       "    <tr>\n",
       "      <th>3</th>\n",
       "      <td>Emissions|CO2|Energy|Supply</td>\n",
       "      <td>Mt CO2/yr</td>\n",
       "    </tr>\n",
       "    <tr>\n",
       "      <th>4</th>\n",
       "      <td>Emissions|CO2|Energy|Supply|Electricity</td>\n",
       "      <td>Mt CO2/yr</td>\n",
       "    </tr>\n",
       "    <tr>\n",
       "      <th>7</th>\n",
       "      <td>Emissions|CO2|Energy|Supply|Liquids</td>\n",
       "      <td>Mt CO2/yr</td>\n",
       "    </tr>\n",
       "  </tbody>\n",
       "</table>\n",
       "</div>"
      ],
      "text/plain": [
       "                                            variable       unit\n",
       "0                                      Emissions|CO2  Mt CO2/yr\n",
       "1                                Emissions|CO2|AFOLU  Mt CO2/yr\n",
       "2      Emissions|CO2|Energy and Industrial Processes  Mt CO2/yr\n",
       "5                        Emissions|CO2|Energy|Demand  Mt CO2/yr\n",
       "8               Emissions|CO2|Energy|Demand|Industry  Mt CO2/yr\n",
       "9  Emissions|CO2|Energy|Demand|Residential and Co...  Mt CO2/yr\n",
       "6         Emissions|CO2|Energy|Demand|Transportation  Mt CO2/yr\n",
       "3                        Emissions|CO2|Energy|Supply  Mt CO2/yr\n",
       "4            Emissions|CO2|Energy|Supply|Electricity  Mt CO2/yr\n",
       "7                Emissions|CO2|Energy|Supply|Liquids  Mt CO2/yr"
      ]
     },
     "execution_count": 11,
     "metadata": {},
     "output_type": "execute_result"
    }
   ],
   "source": [
    "to_infill.filter().variables(True)"
   ]
  },
  {
   "cell_type": "markdown",
   "metadata": {},
   "source": [
    "### DecomposeCollectionTimeDepRatio\n",
    "This function is designed to split up an aggregate value into its known components, using the relationship between these found in models that have all components (but not necessarily the aggregate variable). The aggregate value is calculated in the first step. "
   ]
  },
  {
   "cell_type": "code",
   "execution_count": 12,
   "metadata": {},
   "outputs": [
    {
     "data": {
      "text/plain": [
       "array(['Mt BC/yr', 'Mt CH4/yr', 'Mt CO/yr', 'Mt CO2/yr',\n",
       "       'Mt CO2-equiv/yr', 'kt HFC134a-equiv/yr', 'kt HFC125/yr',\n",
       "       'kt HFC134a/yr', 'kt HFC143a/yr', 'kt HFC227ea/yr', 'kt HFC23/yr',\n",
       "       'kt HFC32/yr', 'kt HFC43-10/yr', 'kt N2O/yr', 'Mt NH3/yr',\n",
       "       'Mt NO2/yr', 'Mt OC/yr', 'kt CF4-equiv/yr', 'kt SF6/yr',\n",
       "       'Mt SO2/yr', 'Mt VOC/yr', 'kt HFC245fa/yr', 'kt C2F6/yr',\n",
       "       'kt C6F14/yr', 'kt CF4/yr'], dtype=object)"
      ]
     },
     "execution_count": 12,
     "metadata": {},
     "output_type": "execute_result"
    }
   ],
   "source": [
    "database[\"unit\"].unique()"
   ]
  },
  {
   "cell_type": "code",
   "execution_count": 13,
   "metadata": {},
   "outputs": [
    {
     "data": {
      "text/html": [
       "<div>\n",
       "<style scoped>\n",
       "    .dataframe tbody tr th:only-of-type {\n",
       "        vertical-align: middle;\n",
       "    }\n",
       "\n",
       "    .dataframe tbody tr th {\n",
       "        vertical-align: top;\n",
       "    }\n",
       "\n",
       "    .dataframe thead th {\n",
       "        text-align: right;\n",
       "    }\n",
       "</style>\n",
       "<table border=\"1\" class=\"dataframe\">\n",
       "  <thead>\n",
       "    <tr style=\"text-align: right;\">\n",
       "      <th></th>\n",
       "      <th>variable</th>\n",
       "      <th>unit</th>\n",
       "    </tr>\n",
       "  </thead>\n",
       "  <tbody>\n",
       "    <tr>\n",
       "      <th>0</th>\n",
       "      <td>Emissions|CH4</td>\n",
       "      <td>Mt CO2-equiv/yr</td>\n",
       "    </tr>\n",
       "    <tr>\n",
       "      <th>1</th>\n",
       "      <td>Emissions|CO2</td>\n",
       "      <td>Mt CO2/yr</td>\n",
       "    </tr>\n",
       "    <tr>\n",
       "      <th>2</th>\n",
       "      <td>Emissions|F-Gases</td>\n",
       "      <td>Mt CO2-equiv/yr</td>\n",
       "    </tr>\n",
       "    <tr>\n",
       "      <th>3</th>\n",
       "      <td>Emissions|N2O</td>\n",
       "      <td>Mt CO2-equiv/yr</td>\n",
       "    </tr>\n",
       "  </tbody>\n",
       "</table>\n",
       "</div>"
      ],
      "text/plain": [
       "            variable             unit\n",
       "0      Emissions|CH4  Mt CO2-equiv/yr\n",
       "1      Emissions|CO2        Mt CO2/yr\n",
       "2  Emissions|F-Gases  Mt CO2-equiv/yr\n",
       "3      Emissions|N2O  Mt CO2-equiv/yr"
      ]
     },
     "execution_count": 13,
     "metadata": {},
     "output_type": "execute_result"
    }
   ],
   "source": [
    "# Define some calculation parameters\n",
    "components = [\n",
    "    \"Emissions|CO2\",\n",
    "    \"Emissions|CH4\",\n",
    "    \"Emissions|N2O\",\n",
    "    \"Emissions|F-Gases\",\n",
    "]\n",
    "aggregate = \"Emissions|Kyoto Gases (AR4-GWP100)\"\n",
    "to_infill = sr15_data.filter(\n",
    "    model=\"WITCH*\", scenario=\"SSP1*\", variable=aggregate\n",
    ")\n",
    "unit_consistent_db = convert_units_to_MtCO2_equiv(\n",
    "    database.filter(variable=components)\n",
    ")\n",
    "unit_consistent_db.variables(True)"
   ]
  },
  {
   "cell_type": "code",
   "execution_count": 14,
   "metadata": {},
   "outputs": [
    {
     "data": {
      "text/html": [
       "<div>\n",
       "<style scoped>\n",
       "    .dataframe tbody tr th:only-of-type {\n",
       "        vertical-align: middle;\n",
       "    }\n",
       "\n",
       "    .dataframe tbody tr th {\n",
       "        vertical-align: top;\n",
       "    }\n",
       "\n",
       "    .dataframe thead th {\n",
       "        text-align: right;\n",
       "    }\n",
       "</style>\n",
       "<table border=\"1\" class=\"dataframe\">\n",
       "  <thead>\n",
       "    <tr style=\"text-align: right;\">\n",
       "      <th></th>\n",
       "      <th>variable</th>\n",
       "      <th>unit</th>\n",
       "    </tr>\n",
       "  </thead>\n",
       "  <tbody>\n",
       "    <tr>\n",
       "      <th>0</th>\n",
       "      <td>Emissions|Kyoto Gases (AR4-GWP100)</td>\n",
       "      <td>Mt CO2-equiv/yr</td>\n",
       "    </tr>\n",
       "  </tbody>\n",
       "</table>\n",
       "</div>"
      ],
      "text/plain": [
       "                             variable             unit\n",
       "0  Emissions|Kyoto Gases (AR4-GWP100)  Mt CO2-equiv/yr"
      ]
     },
     "execution_count": 14,
     "metadata": {},
     "output_type": "execute_result"
    }
   ],
   "source": [
    "to_infill.variables(True)"
   ]
  },
  {
   "cell_type": "code",
   "execution_count": 15,
   "metadata": {},
   "outputs": [
    {
     "data": {
      "text/html": [
       "<div>\n",
       "<style scoped>\n",
       "    .dataframe tbody tr th:only-of-type {\n",
       "        vertical-align: middle;\n",
       "    }\n",
       "\n",
       "    .dataframe tbody tr th {\n",
       "        vertical-align: top;\n",
       "    }\n",
       "\n",
       "    .dataframe thead th {\n",
       "        text-align: right;\n",
       "    }\n",
       "</style>\n",
       "<table border=\"1\" class=\"dataframe\">\n",
       "  <thead>\n",
       "    <tr style=\"text-align: right;\">\n",
       "      <th></th>\n",
       "      <th>model</th>\n",
       "      <th>scenario</th>\n",
       "      <th>region</th>\n",
       "      <th>variable</th>\n",
       "      <th>unit</th>\n",
       "      <th>year</th>\n",
       "      <th>meta</th>\n",
       "      <th>subannual</th>\n",
       "      <th>value</th>\n",
       "    </tr>\n",
       "  </thead>\n",
       "  <tbody>\n",
       "    <tr>\n",
       "      <th>0</th>\n",
       "      <td>WITCH-GLOBIOM 3.1</td>\n",
       "      <td>SSP1-19</td>\n",
       "      <td>World</td>\n",
       "      <td>Emissions|CH4</td>\n",
       "      <td>Mt CO2-equiv/yr</td>\n",
       "      <td>2010</td>\n",
       "      <td>0</td>\n",
       "      <td>0.0</td>\n",
       "      <td>9661.641271</td>\n",
       "    </tr>\n",
       "    <tr>\n",
       "      <th>1</th>\n",
       "      <td>WITCH-GLOBIOM 3.1</td>\n",
       "      <td>SSP1-19</td>\n",
       "      <td>World</td>\n",
       "      <td>Emissions|CH4</td>\n",
       "      <td>Mt CO2-equiv/yr</td>\n",
       "      <td>2015</td>\n",
       "      <td>0</td>\n",
       "      <td>0.0</td>\n",
       "      <td>9742.231406</td>\n",
       "    </tr>\n",
       "    <tr>\n",
       "      <th>2</th>\n",
       "      <td>WITCH-GLOBIOM 3.1</td>\n",
       "      <td>SSP1-19</td>\n",
       "      <td>World</td>\n",
       "      <td>Emissions|CH4</td>\n",
       "      <td>Mt CO2-equiv/yr</td>\n",
       "      <td>2020</td>\n",
       "      <td>0</td>\n",
       "      <td>0.0</td>\n",
       "      <td>9586.593085</td>\n",
       "    </tr>\n",
       "    <tr>\n",
       "      <th>3</th>\n",
       "      <td>WITCH-GLOBIOM 3.1</td>\n",
       "      <td>SSP1-19</td>\n",
       "      <td>World</td>\n",
       "      <td>Emissions|CH4</td>\n",
       "      <td>Mt CO2-equiv/yr</td>\n",
       "      <td>2030</td>\n",
       "      <td>0</td>\n",
       "      <td>0.0</td>\n",
       "      <td>3449.001415</td>\n",
       "    </tr>\n",
       "    <tr>\n",
       "      <th>4</th>\n",
       "      <td>WITCH-GLOBIOM 3.1</td>\n",
       "      <td>SSP1-19</td>\n",
       "      <td>World</td>\n",
       "      <td>Emissions|CH4</td>\n",
       "      <td>Mt CO2-equiv/yr</td>\n",
       "      <td>2040</td>\n",
       "      <td>0</td>\n",
       "      <td>0.0</td>\n",
       "      <td>2861.029830</td>\n",
       "    </tr>\n",
       "  </tbody>\n",
       "</table>\n",
       "</div>"
      ],
      "text/plain": [
       "               model scenario region       variable             unit  year  \\\n",
       "0  WITCH-GLOBIOM 3.1  SSP1-19  World  Emissions|CH4  Mt CO2-equiv/yr  2010   \n",
       "1  WITCH-GLOBIOM 3.1  SSP1-19  World  Emissions|CH4  Mt CO2-equiv/yr  2015   \n",
       "2  WITCH-GLOBIOM 3.1  SSP1-19  World  Emissions|CH4  Mt CO2-equiv/yr  2020   \n",
       "3  WITCH-GLOBIOM 3.1  SSP1-19  World  Emissions|CH4  Mt CO2-equiv/yr  2030   \n",
       "4  WITCH-GLOBIOM 3.1  SSP1-19  World  Emissions|CH4  Mt CO2-equiv/yr  2040   \n",
       "\n",
       "   meta  subannual        value  \n",
       "0     0        0.0  9661.641271  \n",
       "1     0        0.0  9742.231406  \n",
       "2     0        0.0  9586.593085  \n",
       "3     0        0.0  3449.001415  \n",
       "4     0        0.0  2861.029830  "
      ]
     },
     "execution_count": 15,
     "metadata": {},
     "output_type": "execute_result"
    }
   ],
   "source": [
    "decomposer = mi.DecomposeCollectionTimeDepRatio(unit_consistent_db)\n",
    "results = decomposer.infill_components(\n",
    "    aggregate, components, to_infill.filter(year=[2000, 2005], keep=False)\n",
    ")\n",
    "results.head()"
   ]
  },
  {
   "cell_type": "code",
   "execution_count": 16,
   "metadata": {},
   "outputs": [
    {
     "data": {
      "text/plain": [
       "0        Emissions|CH4\n",
       "1        Emissions|CO2\n",
       "2    Emissions|F-Gases\n",
       "3        Emissions|N2O\n",
       "Name: variable, dtype: object"
      ]
     },
     "execution_count": 16,
     "metadata": {},
     "output_type": "execute_result"
    }
   ],
   "source": [
    "# We now have variable information for each of the components\n",
    "results.variables()"
   ]
  },
  {
   "cell_type": "markdown",
   "metadata": {},
   "source": [
    "### SplitCollectionWithRemainderEmissions\n",
    "This technique is also used for splitting up an aggregated basket of emissions, however does not assume that the emissions are in proportion to the aggregate at any given time. The key advantage of this is that it allows some emissions that are naturally limited to stay within their limits. The key disadvantage is that one of the emissions is only determined by conservation of the aggregate, and therefore may have quite a non-representative value. It is best for situations where one of the emissions is either very large compared to the others, or of unknown sign. This technique can be used with any cruncher, however the default is QRW. In most cases, CO$_2$ will be the emission to use as the 'remainder'. We will apply this technique to the same case as above, although we will not convert the units to be the same this time as the function will do this automatically. "
   ]
  },
  {
   "cell_type": "code",
   "execution_count": 17,
   "metadata": {},
   "outputs": [],
   "source": [
    "components = [\n",
    "    \"Emissions|CH4\",\n",
    "    \"Emissions|N2O\",\n",
    "    \"Emissions|F-Gases\",\n",
    "]\n",
    "remainder = (\n",
    "    \"Emissions|CO2\"  # This is the component that will make up the difference\n",
    ")\n",
    "aggregate = \"Emissions|Kyoto Gases (AR4-GWP100)\"\n",
    "to_infill = sr15_data.filter(\n",
    "    model=\"WITCH*\", scenario=\"SSP1*\", variable=aggregate\n",
    ")\n",
    "all_rem_vars = [remainder, aggregate] + components"
   ]
  },
  {
   "cell_type": "code",
   "execution_count": 18,
   "metadata": {},
   "outputs": [
    {
     "data": {
      "text/html": [
       "<div>\n",
       "<style scoped>\n",
       "    .dataframe tbody tr th:only-of-type {\n",
       "        vertical-align: middle;\n",
       "    }\n",
       "\n",
       "    .dataframe tbody tr th {\n",
       "        vertical-align: top;\n",
       "    }\n",
       "\n",
       "    .dataframe thead th {\n",
       "        text-align: right;\n",
       "    }\n",
       "</style>\n",
       "<table border=\"1\" class=\"dataframe\">\n",
       "  <thead>\n",
       "    <tr style=\"text-align: right;\">\n",
       "      <th></th>\n",
       "      <th>model</th>\n",
       "      <th>scenario</th>\n",
       "      <th>region</th>\n",
       "      <th>variable</th>\n",
       "      <th>unit</th>\n",
       "      <th>year</th>\n",
       "      <th>meta</th>\n",
       "      <th>subannual</th>\n",
       "      <th>value</th>\n",
       "    </tr>\n",
       "  </thead>\n",
       "  <tbody>\n",
       "    <tr>\n",
       "      <th>0</th>\n",
       "      <td>WITCH-GLOBIOM 3.1</td>\n",
       "      <td>SSP1-19</td>\n",
       "      <td>World</td>\n",
       "      <td>Emissions|CH4</td>\n",
       "      <td>Mt CH4/yr</td>\n",
       "      <td>2005</td>\n",
       "      <td>0</td>\n",
       "      <td>0.0</td>\n",
       "      <td>318.950322</td>\n",
       "    </tr>\n",
       "    <tr>\n",
       "      <th>1</th>\n",
       "      <td>WITCH-GLOBIOM 3.1</td>\n",
       "      <td>SSP1-19</td>\n",
       "      <td>World</td>\n",
       "      <td>Emissions|CH4</td>\n",
       "      <td>Mt CH4/yr</td>\n",
       "      <td>2010</td>\n",
       "      <td>0</td>\n",
       "      <td>0.0</td>\n",
       "      <td>352.500194</td>\n",
       "    </tr>\n",
       "    <tr>\n",
       "      <th>2</th>\n",
       "      <td>WITCH-GLOBIOM 3.1</td>\n",
       "      <td>SSP1-19</td>\n",
       "      <td>World</td>\n",
       "      <td>Emissions|CH4</td>\n",
       "      <td>Mt CH4/yr</td>\n",
       "      <td>2015</td>\n",
       "      <td>0</td>\n",
       "      <td>0.0</td>\n",
       "      <td>352.747965</td>\n",
       "    </tr>\n",
       "    <tr>\n",
       "      <th>3</th>\n",
       "      <td>WITCH-GLOBIOM 3.1</td>\n",
       "      <td>SSP1-19</td>\n",
       "      <td>World</td>\n",
       "      <td>Emissions|CH4</td>\n",
       "      <td>Mt CH4/yr</td>\n",
       "      <td>2020</td>\n",
       "      <td>0</td>\n",
       "      <td>0.0</td>\n",
       "      <td>345.695115</td>\n",
       "    </tr>\n",
       "    <tr>\n",
       "      <th>4</th>\n",
       "      <td>WITCH-GLOBIOM 3.1</td>\n",
       "      <td>SSP1-19</td>\n",
       "      <td>World</td>\n",
       "      <td>Emissions|CH4</td>\n",
       "      <td>Mt CH4/yr</td>\n",
       "      <td>2030</td>\n",
       "      <td>0</td>\n",
       "      <td>0.0</td>\n",
       "      <td>211.484876</td>\n",
       "    </tr>\n",
       "  </tbody>\n",
       "</table>\n",
       "</div>"
      ],
      "text/plain": [
       "               model scenario region       variable       unit  year  meta  \\\n",
       "0  WITCH-GLOBIOM 3.1  SSP1-19  World  Emissions|CH4  Mt CH4/yr  2005     0   \n",
       "1  WITCH-GLOBIOM 3.1  SSP1-19  World  Emissions|CH4  Mt CH4/yr  2010     0   \n",
       "2  WITCH-GLOBIOM 3.1  SSP1-19  World  Emissions|CH4  Mt CH4/yr  2015     0   \n",
       "3  WITCH-GLOBIOM 3.1  SSP1-19  World  Emissions|CH4  Mt CH4/yr  2020     0   \n",
       "4  WITCH-GLOBIOM 3.1  SSP1-19  World  Emissions|CH4  Mt CH4/yr  2030     0   \n",
       "\n",
       "   subannual       value  \n",
       "0        0.0  318.950322  \n",
       "1        0.0  352.500194  \n",
       "2        0.0  352.747965  \n",
       "3        0.0  345.695115  \n",
       "4        0.0  211.484876  "
      ]
     },
     "execution_count": 18,
     "metadata": {},
     "output_type": "execute_result"
    }
   ],
   "source": [
    "split_remainder = mi.SplitCollectionWithRemainderEmissions(\n",
    "    database.filter(variable=all_rem_vars)\n",
    ")\n",
    "remainder_split_res = split_remainder.infill_components(\n",
    "    aggregate, components, remainder, to_infill, use_ar4_data=True,\n",
    ")\n",
    "remainder_split_res.head()"
   ]
  },
  {
   "cell_type": "markdown",
   "metadata": {},
   "source": [
    "We can compare this infilling method with that of the DecomposeCollectionTimeDepRatio method above. We plot them below, with the DecomposeCollection method dashed. "
   ]
  },
  {
   "cell_type": "code",
   "execution_count": 19,
   "metadata": {
    "scrolled": true
   },
   "outputs": [
    {
     "data": {
      "text/plain": [
       "<matplotlib.axes._subplots.AxesSubplot at 0x2429f119cc8>"
      ]
     },
     "execution_count": 19,
     "metadata": {},
     "output_type": "execute_result"
    },
    {
     "data": {
      "image/png": "[encoded data removed]",
      "text/plain": [
       "<Figure size 1152x648 with 2 Axes>"
      ]
     },
     "metadata": {
      "needs_background": "light"
     },
     "output_type": "display_data"
    }
   ],
   "source": [
    "fig = plt.figure(figsize=(16, 9))\n",
    "ax = fig.add_subplot(121)\n",
    "remainder_split_res.filter(variable=\"*CO2\").line_plot(ax=ax, label=\"__\")\n",
    "results.filter(variable=\"*CO2\").line_plot(ax=ax, linestyle=\"--\", label=\"__\")\n",
    "ax = fig.add_subplot(122)\n",
    "convert_units_to_MtCO2_equiv(\n",
    "    remainder_split_res.filter(variable=\"*CH4\")\n",
    ").line_plot(ax=ax, label=\"__\")\n",
    "results.filter(variable=\"*CH4\").line_plot(ax=ax, linestyle=\"--\", label=\"__\")"
   ]
  },
  {
   "cell_type": "markdown",
   "metadata": {},
   "source": [
    "We see that the results are fairly similar for CO$_2$, since they make up the bulk of the aggregate in both cases. However the CH$_4$ results are very different, as they can take any positive value in the ratio-based technique, whereas it is constrained to keep to values in the infiller database in the QRW-based SplitCollection technique. This particularly results in regular behaviour when the lead values go negative, as seen in the lowermost curve on the right after 2070 - the methane level increases as the lead value becomes more negative for the DecomposeCollection method, whereas the (more expected) results from the SplitCollection method is a slow decline in emissions. "
   ]
  },
  {
   "cell_type": "markdown",
   "metadata": {},
   "source": [
    "### Calculate aggregate values\n",
    "This tool is used to build an aggregate value that ensures that the data is self-consistent. In our case, the database has a value for F-Gases, but these aggregates are not consistent with the AR5 conversion factors. We select 'use_AR4=False' to use the AR5 values, which are the default. "
   ]
  },
  {
   "cell_type": "code",
   "execution_count": 20,
   "metadata": {},
   "outputs": [
    {
     "data": {
      "text/plain": [
       "0"
      ]
     },
     "execution_count": 20,
     "metadata": {},
     "output_type": "execute_result"
    }
   ],
   "source": [
    "to_infill = sr15_data.filter(model=\"WITCH*\")\n",
    "target = \"Emissions|F-Gases\"\n",
    "components = [\"Emissions|HFC\", \"Emissions|PFC\", \"Emissions|SF6\"]\n",
    "valid_cases = return_cases_which_consistently_split(\n",
    "    to_infill,\n",
    "    target,\n",
    "    components,\n",
    "    use_ar4_data=False,\n",
    "    how_close={\"equal_nan\": True, \"rtol\": 0.1,},\n",
    ")\n",
    "len(valid_cases)"
   ]
  },
  {
   "cell_type": "markdown",
   "metadata": {},
   "source": [
    "We first convert them to a common unit."
   ]
  },
  {
   "cell_type": "code",
   "execution_count": 21,
   "metadata": {},
   "outputs": [
    {
     "data": {
      "text/html": [
       "<div>\n",
       "<style scoped>\n",
       "    .dataframe tbody tr th:only-of-type {\n",
       "        vertical-align: middle;\n",
       "    }\n",
       "\n",
       "    .dataframe tbody tr th {\n",
       "        vertical-align: top;\n",
       "    }\n",
       "\n",
       "    .dataframe thead th {\n",
       "        text-align: right;\n",
       "    }\n",
       "</style>\n",
       "<table border=\"1\" class=\"dataframe\">\n",
       "  <thead>\n",
       "    <tr style=\"text-align: right;\">\n",
       "      <th></th>\n",
       "      <th>model</th>\n",
       "      <th>scenario</th>\n",
       "      <th>region</th>\n",
       "      <th>variable</th>\n",
       "      <th>unit</th>\n",
       "      <th>year</th>\n",
       "      <th>meta</th>\n",
       "      <th>subannual</th>\n",
       "      <th>value</th>\n",
       "    </tr>\n",
       "  </thead>\n",
       "  <tbody>\n",
       "    <tr>\n",
       "      <th>237947</th>\n",
       "      <td>WITCH-GLOBIOM 4.2</td>\n",
       "      <td>ADVANCE_2020_Med2C</td>\n",
       "      <td>World</td>\n",
       "      <td>Emissions|F-Gases</td>\n",
       "      <td>Mt CO2-equiv/yr</td>\n",
       "      <td>2005</td>\n",
       "      <td>0</td>\n",
       "      <td>0.0</td>\n",
       "      <td>717.000054</td>\n",
       "    </tr>\n",
       "    <tr>\n",
       "      <th>237948</th>\n",
       "      <td>WITCH-GLOBIOM 4.2</td>\n",
       "      <td>ADVANCE_2020_Med2C</td>\n",
       "      <td>World</td>\n",
       "      <td>Emissions|F-Gases</td>\n",
       "      <td>Mt CO2-equiv/yr</td>\n",
       "      <td>2010</td>\n",
       "      <td>0</td>\n",
       "      <td>0.0</td>\n",
       "      <td>948.020176</td>\n",
       "    </tr>\n",
       "    <tr>\n",
       "      <th>237949</th>\n",
       "      <td>WITCH-GLOBIOM 4.2</td>\n",
       "      <td>ADVANCE_2020_Med2C</td>\n",
       "      <td>World</td>\n",
       "      <td>Emissions|F-Gases</td>\n",
       "      <td>Mt CO2-equiv/yr</td>\n",
       "      <td>2015</td>\n",
       "      <td>0</td>\n",
       "      <td>0.0</td>\n",
       "      <td>609.746591</td>\n",
       "    </tr>\n",
       "    <tr>\n",
       "      <th>237950</th>\n",
       "      <td>WITCH-GLOBIOM 4.2</td>\n",
       "      <td>ADVANCE_2020_Med2C</td>\n",
       "      <td>World</td>\n",
       "      <td>Emissions|F-Gases</td>\n",
       "      <td>Mt CO2-equiv/yr</td>\n",
       "      <td>2020</td>\n",
       "      <td>0</td>\n",
       "      <td>0.0</td>\n",
       "      <td>800.446286</td>\n",
       "    </tr>\n",
       "    <tr>\n",
       "      <th>237951</th>\n",
       "      <td>WITCH-GLOBIOM 4.2</td>\n",
       "      <td>ADVANCE_2020_Med2C</td>\n",
       "      <td>World</td>\n",
       "      <td>Emissions|F-Gases</td>\n",
       "      <td>Mt CO2-equiv/yr</td>\n",
       "      <td>2025</td>\n",
       "      <td>0</td>\n",
       "      <td>0.0</td>\n",
       "      <td>351.541200</td>\n",
       "    </tr>\n",
       "  </tbody>\n",
       "</table>\n",
       "</div>"
      ],
      "text/plain": [
       "                    model            scenario region           variable  \\\n",
       "237947  WITCH-GLOBIOM 4.2  ADVANCE_2020_Med2C  World  Emissions|F-Gases   \n",
       "237948  WITCH-GLOBIOM 4.2  ADVANCE_2020_Med2C  World  Emissions|F-Gases   \n",
       "237949  WITCH-GLOBIOM 4.2  ADVANCE_2020_Med2C  World  Emissions|F-Gases   \n",
       "237950  WITCH-GLOBIOM 4.2  ADVANCE_2020_Med2C  World  Emissions|F-Gases   \n",
       "237951  WITCH-GLOBIOM 4.2  ADVANCE_2020_Med2C  World  Emissions|F-Gases   \n",
       "\n",
       "                   unit  year  meta  subannual       value  \n",
       "237947  Mt CO2-equiv/yr  2005     0        0.0  717.000054  \n",
       "237948  Mt CO2-equiv/yr  2010     0        0.0  948.020176  \n",
       "237949  Mt CO2-equiv/yr  2015     0        0.0  609.746591  \n",
       "237950  Mt CO2-equiv/yr  2020     0        0.0  800.446286  \n",
       "237951  Mt CO2-equiv/yr  2025     0        0.0  351.541200  "
      ]
     },
     "execution_count": 21,
     "metadata": {},
     "output_type": "execute_result"
    }
   ],
   "source": [
    "to_infill = to_infill.filter(variable=[target] + components)\n",
    "to_infill = convert_units_to_MtCO2_equiv(to_infill)\n",
    "to_infill.filter(variable=target, scenario=\"ADVANCE_2020_Med2C\").head()"
   ]
  },
  {
   "cell_type": "markdown",
   "metadata": {},
   "source": [
    "The recalculated values are similar but noticably different:"
   ]
  },
  {
   "cell_type": "code",
   "execution_count": 22,
   "metadata": {},
   "outputs": [
    {
     "data": {
      "text/html": [
       "<div>\n",
       "<style scoped>\n",
       "    .dataframe tbody tr th:only-of-type {\n",
       "        vertical-align: middle;\n",
       "    }\n",
       "\n",
       "    .dataframe tbody tr th {\n",
       "        vertical-align: top;\n",
       "    }\n",
       "\n",
       "    .dataframe thead th {\n",
       "        text-align: right;\n",
       "    }\n",
       "</style>\n",
       "<table border=\"1\" class=\"dataframe\">\n",
       "  <thead>\n",
       "    <tr style=\"text-align: right;\">\n",
       "      <th></th>\n",
       "      <th>model</th>\n",
       "      <th>scenario</th>\n",
       "      <th>region</th>\n",
       "      <th>variable</th>\n",
       "      <th>unit</th>\n",
       "      <th>year</th>\n",
       "      <th>subannual</th>\n",
       "      <th>meta</th>\n",
       "      <th>value</th>\n",
       "    </tr>\n",
       "  </thead>\n",
       "  <tbody>\n",
       "    <tr>\n",
       "      <th>20</th>\n",
       "      <td>WITCH-GLOBIOM 4.2</td>\n",
       "      <td>ADVANCE_2020_Med2C</td>\n",
       "      <td>World</td>\n",
       "      <td>Emissions|F-Gases</td>\n",
       "      <td>Mt CO2-equiv/yr</td>\n",
       "      <td>2005</td>\n",
       "      <td>0.0</td>\n",
       "      <td>0</td>\n",
       "      <td>610.958880</td>\n",
       "    </tr>\n",
       "    <tr>\n",
       "      <th>21</th>\n",
       "      <td>WITCH-GLOBIOM 4.2</td>\n",
       "      <td>ADVANCE_2020_Med2C</td>\n",
       "      <td>World</td>\n",
       "      <td>Emissions|F-Gases</td>\n",
       "      <td>Mt CO2-equiv/yr</td>\n",
       "      <td>2010</td>\n",
       "      <td>0.0</td>\n",
       "      <td>0</td>\n",
       "      <td>949.847085</td>\n",
       "    </tr>\n",
       "    <tr>\n",
       "      <th>22</th>\n",
       "      <td>WITCH-GLOBIOM 4.2</td>\n",
       "      <td>ADVANCE_2020_Med2C</td>\n",
       "      <td>World</td>\n",
       "      <td>Emissions|F-Gases</td>\n",
       "      <td>Mt CO2-equiv/yr</td>\n",
       "      <td>2015</td>\n",
       "      <td>0.0</td>\n",
       "      <td>0</td>\n",
       "      <td>567.248506</td>\n",
       "    </tr>\n",
       "    <tr>\n",
       "      <th>23</th>\n",
       "      <td>WITCH-GLOBIOM 4.2</td>\n",
       "      <td>ADVANCE_2020_Med2C</td>\n",
       "      <td>World</td>\n",
       "      <td>Emissions|F-Gases</td>\n",
       "      <td>Mt CO2-equiv/yr</td>\n",
       "      <td>2020</td>\n",
       "      <td>0.0</td>\n",
       "      <td>0</td>\n",
       "      <td>828.263273</td>\n",
       "    </tr>\n",
       "    <tr>\n",
       "      <th>24</th>\n",
       "      <td>WITCH-GLOBIOM 4.2</td>\n",
       "      <td>ADVANCE_2020_Med2C</td>\n",
       "      <td>World</td>\n",
       "      <td>Emissions|F-Gases</td>\n",
       "      <td>Mt CO2-equiv/yr</td>\n",
       "      <td>2025</td>\n",
       "      <td>0.0</td>\n",
       "      <td>0</td>\n",
       "      <td>307.759959</td>\n",
       "    </tr>\n",
       "  </tbody>\n",
       "</table>\n",
       "</div>"
      ],
      "text/plain": [
       "                model            scenario region           variable  \\\n",
       "20  WITCH-GLOBIOM 4.2  ADVANCE_2020_Med2C  World  Emissions|F-Gases   \n",
       "21  WITCH-GLOBIOM 4.2  ADVANCE_2020_Med2C  World  Emissions|F-Gases   \n",
       "22  WITCH-GLOBIOM 4.2  ADVANCE_2020_Med2C  World  Emissions|F-Gases   \n",
       "23  WITCH-GLOBIOM 4.2  ADVANCE_2020_Med2C  World  Emissions|F-Gases   \n",
       "24  WITCH-GLOBIOM 4.2  ADVANCE_2020_Med2C  World  Emissions|F-Gases   \n",
       "\n",
       "               unit  year  subannual  meta       value  \n",
       "20  Mt CO2-equiv/yr  2005        0.0     0  610.958880  \n",
       "21  Mt CO2-equiv/yr  2010        0.0     0  949.847085  \n",
       "22  Mt CO2-equiv/yr  2015        0.0     0  567.248506  \n",
       "23  Mt CO2-equiv/yr  2020        0.0     0  828.263273  \n",
       "24  Mt CO2-equiv/yr  2025        0.0     0  307.759959  "
      ]
     },
     "execution_count": 22,
     "metadata": {},
     "output_type": "execute_result"
    }
   ],
   "source": [
    "infilled = mi.infill_composite_values(to_infill, {target: components})\n",
    "infilled.filter(variable=target, scenario=\"ADVANCE_2020_Med2C\").head()"
   ]
  },
  {
   "cell_type": "markdown",
   "metadata": {},
   "source": [
    "We have now fixed the inconsistency problem:"
   ]
  },
  {
   "cell_type": "code",
   "execution_count": 23,
   "metadata": {},
   "outputs": [
    {
     "data": {
      "text/plain": [
       "9"
      ]
     },
     "execution_count": 23,
     "metadata": {},
     "output_type": "execute_result"
    }
   ],
   "source": [
    "to_infill.filter(variable=target, keep=False, inplace=True)\n",
    "to_infill.append(infilled, inplace=True)\n",
    "valid_cases = return_cases_which_consistently_split(\n",
    "    to_infill,\n",
    "    target,\n",
    "    components,\n",
    "    use_ar4_data=True,\n",
    "    how_close={\"equal_nan\": True, \"rtol\": 0.01,},\n",
    ")\n",
    "len(valid_cases)"
   ]
  },
  {
   "cell_type": "code",
   "execution_count": 24,
   "metadata": {},
   "outputs": [
    {
     "data": {
      "text/plain": [
       "9"
      ]
     },
     "execution_count": 24,
     "metadata": {},
     "output_type": "execute_result"
    }
   ],
   "source": [
    "len(to_infill.scenarios())"
   ]
  },
  {
   "cell_type": "markdown",
   "metadata": {},
   "source": [
    "The `infill_composite_values` function can also take a dictionary of dictionaries as its second argument if the values should be multiplied by constants before summing them. This allows us to subtract values as well. "
   ]
  },
  {
   "cell_type": "code",
   "execution_count": 25,
   "metadata": {},
   "outputs": [],
   "source": [
    "aggregate = \"Emissions|CO2|Other\"\n",
    "other_CO2 = mi.infill_composite_values(\n",
    "    sr15_data,\n",
    "    {\n",
    "        aggregate: {\n",
    "            \"Emissions|CO2\": 1,\n",
    "            \"Emissions|CO2|Energy and Industrial Processes\": -1,\n",
    "            \"Emissions|CO2|AFOLU\": -1,\n",
    "        }\n",
    "    },\n",
    ")"
   ]
  },
  {
   "cell_type": "code",
   "execution_count": 26,
   "metadata": {},
   "outputs": [
    {
     "data": {
      "text/html": [
       "<div>\n",
       "<style scoped>\n",
       "    .dataframe tbody tr th:only-of-type {\n",
       "        vertical-align: middle;\n",
       "    }\n",
       "\n",
       "    .dataframe tbody tr th {\n",
       "        vertical-align: top;\n",
       "    }\n",
       "\n",
       "    .dataframe thead th {\n",
       "        text-align: right;\n",
       "    }\n",
       "</style>\n",
       "<table border=\"1\" class=\"dataframe\">\n",
       "  <thead>\n",
       "    <tr style=\"text-align: right;\">\n",
       "      <th></th>\n",
       "      <th>model</th>\n",
       "      <th>scenario</th>\n",
       "      <th>region</th>\n",
       "      <th>variable</th>\n",
       "      <th>unit</th>\n",
       "      <th>year</th>\n",
       "      <th>subannual</th>\n",
       "      <th>meta</th>\n",
       "      <th>value</th>\n",
       "    </tr>\n",
       "  </thead>\n",
       "  <tbody>\n",
       "    <tr>\n",
       "      <th>0</th>\n",
       "      <td>AIM/CGE 2.0</td>\n",
       "      <td>ADVANCE_2020_1.5C-2100</td>\n",
       "      <td>World</td>\n",
       "      <td>Emissions|CO2|Other</td>\n",
       "      <td>Mt CO2/yr</td>\n",
       "      <td>2005</td>\n",
       "      <td>0.0</td>\n",
       "      <td>0</td>\n",
       "      <td>85.2526</td>\n",
       "    </tr>\n",
       "    <tr>\n",
       "      <th>1</th>\n",
       "      <td>AIM/CGE 2.0</td>\n",
       "      <td>ADVANCE_2020_1.5C-2100</td>\n",
       "      <td>World</td>\n",
       "      <td>Emissions|CO2|Other</td>\n",
       "      <td>Mt CO2/yr</td>\n",
       "      <td>2010</td>\n",
       "      <td>0.0</td>\n",
       "      <td>0</td>\n",
       "      <td>89.6442</td>\n",
       "    </tr>\n",
       "    <tr>\n",
       "      <th>2</th>\n",
       "      <td>AIM/CGE 2.0</td>\n",
       "      <td>ADVANCE_2020_1.5C-2100</td>\n",
       "      <td>World</td>\n",
       "      <td>Emissions|CO2|Other</td>\n",
       "      <td>Mt CO2/yr</td>\n",
       "      <td>2015</td>\n",
       "      <td>0.0</td>\n",
       "      <td>0</td>\n",
       "      <td>75.3558</td>\n",
       "    </tr>\n",
       "    <tr>\n",
       "      <th>3</th>\n",
       "      <td>AIM/CGE 2.0</td>\n",
       "      <td>ADVANCE_2020_1.5C-2100</td>\n",
       "      <td>World</td>\n",
       "      <td>Emissions|CO2|Other</td>\n",
       "      <td>Mt CO2/yr</td>\n",
       "      <td>2020</td>\n",
       "      <td>0.0</td>\n",
       "      <td>0</td>\n",
       "      <td>78.3179</td>\n",
       "    </tr>\n",
       "    <tr>\n",
       "      <th>4</th>\n",
       "      <td>AIM/CGE 2.0</td>\n",
       "      <td>ADVANCE_2020_1.5C-2100</td>\n",
       "      <td>World</td>\n",
       "      <td>Emissions|CO2|Other</td>\n",
       "      <td>Mt CO2/yr</td>\n",
       "      <td>2025</td>\n",
       "      <td>0.0</td>\n",
       "      <td>0</td>\n",
       "      <td>27.3933</td>\n",
       "    </tr>\n",
       "    <tr>\n",
       "      <th>5</th>\n",
       "      <td>AIM/CGE 2.0</td>\n",
       "      <td>ADVANCE_2020_1.5C-2100</td>\n",
       "      <td>World</td>\n",
       "      <td>Emissions|CO2|Other</td>\n",
       "      <td>Mt CO2/yr</td>\n",
       "      <td>2030</td>\n",
       "      <td>0.0</td>\n",
       "      <td>0</td>\n",
       "      <td>20.0998</td>\n",
       "    </tr>\n",
       "    <tr>\n",
       "      <th>6</th>\n",
       "      <td>AIM/CGE 2.0</td>\n",
       "      <td>ADVANCE_2020_1.5C-2100</td>\n",
       "      <td>World</td>\n",
       "      <td>Emissions|CO2|Other</td>\n",
       "      <td>Mt CO2/yr</td>\n",
       "      <td>2035</td>\n",
       "      <td>0.0</td>\n",
       "      <td>0</td>\n",
       "      <td>17.3219</td>\n",
       "    </tr>\n",
       "    <tr>\n",
       "      <th>7</th>\n",
       "      <td>AIM/CGE 2.0</td>\n",
       "      <td>ADVANCE_2020_1.5C-2100</td>\n",
       "      <td>World</td>\n",
       "      <td>Emissions|CO2|Other</td>\n",
       "      <td>Mt CO2/yr</td>\n",
       "      <td>2040</td>\n",
       "      <td>0.0</td>\n",
       "      <td>0</td>\n",
       "      <td>15.2576</td>\n",
       "    </tr>\n",
       "    <tr>\n",
       "      <th>8</th>\n",
       "      <td>AIM/CGE 2.0</td>\n",
       "      <td>ADVANCE_2020_1.5C-2100</td>\n",
       "      <td>World</td>\n",
       "      <td>Emissions|CO2|Other</td>\n",
       "      <td>Mt CO2/yr</td>\n",
       "      <td>2045</td>\n",
       "      <td>0.0</td>\n",
       "      <td>0</td>\n",
       "      <td>13.5058</td>\n",
       "    </tr>\n",
       "    <tr>\n",
       "      <th>9</th>\n",
       "      <td>AIM/CGE 2.0</td>\n",
       "      <td>ADVANCE_2020_1.5C-2100</td>\n",
       "      <td>World</td>\n",
       "      <td>Emissions|CO2|Other</td>\n",
       "      <td>Mt CO2/yr</td>\n",
       "      <td>2050</td>\n",
       "      <td>0.0</td>\n",
       "      <td>0</td>\n",
       "      <td>13.4414</td>\n",
       "    </tr>\n",
       "  </tbody>\n",
       "</table>\n",
       "</div>"
      ],
      "text/plain": [
       "         model                scenario region             variable       unit  \\\n",
       "0  AIM/CGE 2.0  ADVANCE_2020_1.5C-2100  World  Emissions|CO2|Other  Mt CO2/yr   \n",
       "1  AIM/CGE 2.0  ADVANCE_2020_1.5C-2100  World  Emissions|CO2|Other  Mt CO2/yr   \n",
       "2  AIM/CGE 2.0  ADVANCE_2020_1.5C-2100  World  Emissions|CO2|Other  Mt CO2/yr   \n",
       "3  AIM/CGE 2.0  ADVANCE_2020_1.5C-2100  World  Emissions|CO2|Other  Mt CO2/yr   \n",
       "4  AIM/CGE 2.0  ADVANCE_2020_1.5C-2100  World  Emissions|CO2|Other  Mt CO2/yr   \n",
       "5  AIM/CGE 2.0  ADVANCE_2020_1.5C-2100  World  Emissions|CO2|Other  Mt CO2/yr   \n",
       "6  AIM/CGE 2.0  ADVANCE_2020_1.5C-2100  World  Emissions|CO2|Other  Mt CO2/yr   \n",
       "7  AIM/CGE 2.0  ADVANCE_2020_1.5C-2100  World  Emissions|CO2|Other  Mt CO2/yr   \n",
       "8  AIM/CGE 2.0  ADVANCE_2020_1.5C-2100  World  Emissions|CO2|Other  Mt CO2/yr   \n",
       "9  AIM/CGE 2.0  ADVANCE_2020_1.5C-2100  World  Emissions|CO2|Other  Mt CO2/yr   \n",
       "\n",
       "   year  subannual  meta    value  \n",
       "0  2005        0.0     0  85.2526  \n",
       "1  2010        0.0     0  89.6442  \n",
       "2  2015        0.0     0  75.3558  \n",
       "3  2020        0.0     0  78.3179  \n",
       "4  2025        0.0     0  27.3933  \n",
       "5  2030        0.0     0  20.0998  \n",
       "6  2035        0.0     0  17.3219  \n",
       "7  2040        0.0     0  15.2576  \n",
       "8  2045        0.0     0  13.5058  \n",
       "9  2050        0.0     0  13.4414  "
      ]
     },
     "execution_count": 26,
     "metadata": {},
     "output_type": "execute_result"
    }
   ],
   "source": [
    "other_CO2.head(10)"
   ]
  },
  {
   "cell_type": "markdown",
   "metadata": {},
   "source": [
    "These values are relatively small (cf. 34000 total emissions), so presumably represent rounding errors. "
   ]
  }
 ],
 "metadata": {
  "kernelspec": {
   "display_name": "Python 3",
   "language": "python",
   "name": "python3"
  },
  "language_info": {
   "codemirror_mode": {
    "name": "ipython",
    "version": 3
   },
   "file_extension": ".py",
   "mimetype": "text/x-python",
   "name": "python",
   "nbconvert_exporter": "python",
   "pygments_lexer": "ipython3",
   "version": "3.7.6"
  }
 },
 "nbformat": 4,
 "nbformat_minor": 2
}
