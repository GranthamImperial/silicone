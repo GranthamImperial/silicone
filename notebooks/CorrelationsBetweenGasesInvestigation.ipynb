{
 "cells": [
  {
   "cell_type": "code",
   "execution_count": 1,
   "metadata": {},
   "outputs": [
    {
     "data": {
      "application/javascript": [
       "IPython.OutputArea.prototype._should_scroll = function(lines) { return false; }"
      ],
      "text/plain": [
       "<IPython.core.display.Javascript object>"
      ]
     },
     "metadata": {},
     "output_type": "display_data"
    }
   ],
   "source": [
    "import sys\n",
    "import os\n",
    "import pyam\n",
    "\n",
    "import silicone.plotting as plotCor"
   ]
  },
  {
   "cell_type": "code",
   "execution_count": 2,
   "metadata": {},
   "outputs": [],
   "source": [
    "# Inputs to the code for PlotCorrelationsBetweenGases, freely modifiable\n",
    "# ________________________________________________________\n",
    "\n",
    "years_of_interest = [2030]\n",
    "save_results = '../Output/'\n",
    "# if non-null, also plot these quantiles.\n",
    "plot_quantiles = [0.2, 0.33, 0.5, 0.67, 0.8]\n",
    "# if non-null, save data on the quantiles too\n",
    "quantiles_savename = '../Output/regions/'\n",
    "# How many boxes are used to fit the quantiles?\n",
    "quantile_boxes = 15\n",
    "# Should we extend the quantile boxes by an additional factor?\n",
    "quantile_decay_factor = 0.7\n",
    "# Color different models different colours?\n",
    "model_colours = True\n",
    "# In the model-coloured version, how much does the figure need to be reduced by to leave room for the legend?\n",
    "legend_fraction = 0.65\n",
    "# ________________________________________________________\n"
   ]
  },
  {
   "cell_type": "code",
   "execution_count": 16,
   "metadata": {},
   "outputs": [
    {
     "name": "stdout",
     "output_type": "stream",
     "text": [
      "sr15 loading function now written\n"
     ]
    }
   ],
   "source": [
    "def get_sr15_scenarios(output_file):\n",
    "    conn = pyam.iiasa.Connection(\"iamc15\")\n",
    "    valid_model_ids = [\n",
    "        \"MESSAGE*\",\n",
    "        \"AIM*\",\n",
    "        #\"C-ROADS*\",\n",
    "        # \"GCAM*\", # These are commented out for brevity of runs\n",
    "        # \"IEA*\",\n",
    "        # \"IMAGE*\",\n",
    "        # \"MERGE*\",\n",
    "        # \"POLES*\",\n",
    "        # \"REMIND*\",\n",
    "        # \"Reference*\",  # missing required columns, not sure why\n",
    "        # \"Shell*\",  # missing required columns, not sure why\n",
    "        \"WITCH*\"\n",
    "        # \"GENeSYS-MOD\",  # can't download, not sure why\n",
    "    ]\n",
    "    variables_to_fetch = [\n",
    "        \"Emissions*\", \"Price*\"\n",
    "    ]\n",
    "    for model in valid_model_ids:\n",
    "        print(\"Fetching data for {}\".format(model))\n",
    "        for variable in variables_to_fetch:\n",
    "            print(\"Fetching {}\".format(variable))\n",
    "            var_df = conn.query(model=model, variable=variable)\n",
    "            try:\n",
    "                df.append(var_df, inplace=True)\n",
    "            except NameError:\n",
    "                df = pyam.IamDataFrame(var_df)\n",
    "\n",
    "    print(\"Writing to {}\".format(output_file))\n",
    "    df.to_csv(output_file)\n",
    "print('sr15 loading function now written')"
   ]
  },
  {
   "cell_type": "code",
   "execution_count": 17,
   "metadata": {},
   "outputs": [
    {
     "name": "stderr",
     "output_type": "stream",
     "text": [
      "INFO:root:You are connected to the iamc15 scenario explorer. Please cite as:\n",
      "\n",
      "D. Huppmann, E. Kriegler, V. Krey, K. Riahi, J. Rogelj, S.K. Rose, J. Weyant, et al., IAMC 1.5C Scenario Explorer and Data hosted by IIASA. IIASA & IAMC, 2018. doi: 10.22022/SR15/08-2018.15429, url: data.ene.iiasa.ac.at/iamc-1.5c-explorer\n"
     ]
    },
    {
     "name": "stdout",
     "output_type": "stream",
     "text": [
      "Fetching data for MESSAGE*\n",
      "Fetching Emissions*\n",
      "Fetching Price*\n",
      "Fetching data for AIM*\n",
      "Fetching Emissions*\n",
      "Fetching Price*\n",
      "Fetching data for WITCH*\n",
      "Fetching Emissions*\n",
      "Fetching Price*\n",
      "Writing to ./sr15_scenarios_more_regions.csv\n",
      "sr15 file available to load\n"
     ]
    }
   ],
   "source": [
    "# NBVAL_IGNORE_OUTPUT\n",
    "SR15_SCENARIOS = './sr15_scenarios_more_regions.csv'\n",
    "if not os.path.isfile(SR15_SCENARIOS):\n",
    "    get_sr15_scenarios(SR15_SCENARIOS)\n",
    "print('sr15 file available to load')"
   ]
  },
  {
   "cell_type": "code",
   "execution_count": 18,
   "metadata": {},
   "outputs": [
    {
     "name": "stderr",
     "output_type": "stream",
     "text": [
      "INFO:root:Reading `./sr15_scenarios_more_regions.csv`\n"
     ]
    },
    {
     "data": {
      "text/html": [
       "<div>\n",
       "<style scoped>\n",
       "    .dataframe tbody tr th:only-of-type {\n",
       "        vertical-align: middle;\n",
       "    }\n",
       "\n",
       "    .dataframe tbody tr th {\n",
       "        vertical-align: top;\n",
       "    }\n",
       "\n",
       "    .dataframe thead th {\n",
       "        text-align: right;\n",
       "    }\n",
       "</style>\n",
       "<table border=\"1\" class=\"dataframe\">\n",
       "  <thead>\n",
       "    <tr style=\"text-align: right;\">\n",
       "      <th></th>\n",
       "      <th>model</th>\n",
       "      <th>scenario</th>\n",
       "      <th>region</th>\n",
       "      <th>variable</th>\n",
       "      <th>unit</th>\n",
       "      <th>year</th>\n",
       "      <th>value</th>\n",
       "    </tr>\n",
       "  </thead>\n",
       "  <tbody>\n",
       "    <tr>\n",
       "      <th>0</th>\n",
       "      <td>AIM/CGE 2.0</td>\n",
       "      <td>ADVANCE_2020_1.5C-2100</td>\n",
       "      <td>R5ASIA</td>\n",
       "      <td>Emissions|BC</td>\n",
       "      <td>Mt BC/yr</td>\n",
       "      <td>2005</td>\n",
       "      <td>3.4665</td>\n",
       "    </tr>\n",
       "    <tr>\n",
       "      <th>1</th>\n",
       "      <td>AIM/CGE 2.0</td>\n",
       "      <td>ADVANCE_2020_1.5C-2100</td>\n",
       "      <td>R5ASIA</td>\n",
       "      <td>Emissions|BC</td>\n",
       "      <td>Mt BC/yr</td>\n",
       "      <td>2010</td>\n",
       "      <td>3.0156</td>\n",
       "    </tr>\n",
       "    <tr>\n",
       "      <th>2</th>\n",
       "      <td>AIM/CGE 2.0</td>\n",
       "      <td>ADVANCE_2020_1.5C-2100</td>\n",
       "      <td>R5ASIA</td>\n",
       "      <td>Emissions|BC</td>\n",
       "      <td>Mt BC/yr</td>\n",
       "      <td>2015</td>\n",
       "      <td>2.8850</td>\n",
       "    </tr>\n",
       "    <tr>\n",
       "      <th>3</th>\n",
       "      <td>AIM/CGE 2.0</td>\n",
       "      <td>ADVANCE_2020_1.5C-2100</td>\n",
       "      <td>R5ASIA</td>\n",
       "      <td>Emissions|BC</td>\n",
       "      <td>Mt BC/yr</td>\n",
       "      <td>2020</td>\n",
       "      <td>2.7671</td>\n",
       "    </tr>\n",
       "    <tr>\n",
       "      <th>4</th>\n",
       "      <td>AIM/CGE 2.0</td>\n",
       "      <td>ADVANCE_2020_1.5C-2100</td>\n",
       "      <td>R5ASIA</td>\n",
       "      <td>Emissions|BC</td>\n",
       "      <td>Mt BC/yr</td>\n",
       "      <td>2025</td>\n",
       "      <td>2.1161</td>\n",
       "    </tr>\n",
       "  </tbody>\n",
       "</table>\n",
       "</div>"
      ],
      "text/plain": [
       "         model                scenario  region      variable      unit  year  \\\n",
       "0  AIM/CGE 2.0  ADVANCE_2020_1.5C-2100  R5ASIA  Emissions|BC  Mt BC/yr  2005   \n",
       "1  AIM/CGE 2.0  ADVANCE_2020_1.5C-2100  R5ASIA  Emissions|BC  Mt BC/yr  2010   \n",
       "2  AIM/CGE 2.0  ADVANCE_2020_1.5C-2100  R5ASIA  Emissions|BC  Mt BC/yr  2015   \n",
       "3  AIM/CGE 2.0  ADVANCE_2020_1.5C-2100  R5ASIA  Emissions|BC  Mt BC/yr  2020   \n",
       "4  AIM/CGE 2.0  ADVANCE_2020_1.5C-2100  R5ASIA  Emissions|BC  Mt BC/yr  2025   \n",
       "\n",
       "    value  \n",
       "0  3.4665  \n",
       "1  3.0156  \n",
       "2  2.8850  \n",
       "3  2.7671  \n",
       "4  2.1161  "
      ]
     },
     "execution_count": 18,
     "metadata": {},
     "output_type": "execute_result"
    }
   ],
   "source": [
    "sr15_data = pyam.IamDataFrame(SR15_SCENARIOS)\n",
    "sr15_data.head()"
   ]
  },
  {
   "cell_type": "code",
   "execution_count": 25,
   "metadata": {},
   "outputs": [
    {
     "data": {
      "text/plain": [
       "0                                          Price|Carbon\n",
       "1                             Price|Primary Energy|Coal\n",
       "2                              Price|Primary Energy|Gas\n",
       "3                              Price|Primary Energy|Oil\n",
       "4                    Price|Secondary Energy|Electricity\n",
       "5     Price|Agriculture|Non-Energy Crops and Livesto...\n",
       "6              Price|Agriculture|Non-Energy Crops|Index\n",
       "7                Price|Secondary Energy|Liquids|Biomass\n",
       "8                     Price|Agriculture|Livestock|Index\n",
       "9                          Price|Agriculture|Corn|Index\n",
       "10                      Price|Agriculture|Soybean|Index\n",
       "11                        Price|Agriculture|Wheat|Index\n",
       "12           Price|Final Energy|Residential|Electricity\n",
       "13     Price|Final Energy|Residential|Gases|Natural Gas\n",
       "14       Price|Final Energy|Residential|Liquids|Biomass\n",
       "15           Price|Final Energy|Residential|Liquids|Oil\n",
       "16           Price|Final Energy|Residential|Solids|Coal\n",
       "17                       Price|Secondary Energy|Liquids\n",
       "18             Price|Secondary Energy|Gases|Natural Gas\n",
       "19                      Price|Secondary Energy|Hydrogen\n",
       "20                   Price|Secondary Energy|Liquids|Oil\n",
       "21                   Price|Secondary Energy|Solids|Coal\n",
       "22                         Price|Primary Energy|Biomass\n",
       "Name: variable, dtype: object"
      ]
     },
     "execution_count": 25,
     "metadata": {},
     "output_type": "execute_result"
    }
   ],
   "source": [
    "sr15_data.filter(variable='Price*').variables()"
   ]
  },
  {
   "cell_type": "code",
   "execution_count": 29,
   "metadata": {},
   "outputs": [
    {
     "data": {
      "text/plain": [
       "0                                          Emissions|BC\n",
       "1                                         Emissions|CH4\n",
       "2                                   Emissions|CH4|AFOLU\n",
       "3                  Emissions|CH4|Energy|Demand|Industry\n",
       "4     Emissions|CH4|Energy|Demand|Residential and Co...\n",
       "5            Emissions|CH4|Energy|Demand|Transportation\n",
       "6                           Emissions|CH4|Energy|Supply\n",
       "7                                          Emissions|CO\n",
       "8                                         Emissions|CO2\n",
       "9                                   Emissions|CO2|AFOLU\n",
       "10        Emissions|CO2|Energy and Industrial Processes\n",
       "11                          Emissions|CO2|Energy|Demand\n",
       "12                    Emissions|CO2|Energy|Demand|AFOFI\n",
       "13                 Emissions|CO2|Energy|Demand|Industry\n",
       "14    Emissions|CO2|Energy|Demand|Residential and Co...\n",
       "15           Emissions|CO2|Energy|Demand|Transportation\n",
       "16                          Emissions|CO2|Energy|Supply\n",
       "17                                  Emissions|CO2|Other\n",
       "18                                    Emissions|F-Gases\n",
       "19                                        Emissions|HFC\n",
       "20                                        Emissions|N2O\n",
       "21                                  Emissions|N2O|AFOLU\n",
       "22                                        Emissions|NH3\n",
       "23                                        Emissions|NOx\n",
       "24                                         Emissions|OC\n",
       "25                                        Emissions|SF6\n",
       "26                                     Emissions|Sulfur\n",
       "27                                        Emissions|VOC\n",
       "28                                   Emissions|BC|AFOLU\n",
       "29                                  Emissions|BC|Energy\n",
       "                            ...                        \n",
       "61                  Emissions|OC|Energy|Demand|Industry\n",
       "62    Emissions|OC|Energy|Demand|Residential and Com...\n",
       "63            Emissions|OC|Energy|Demand|Transportation\n",
       "64                           Emissions|OC|Energy|Supply\n",
       "65                               Emissions|Sulfur|AFOLU\n",
       "66                              Emissions|Sulfur|Energy\n",
       "67              Emissions|Sulfur|Energy|Demand|Industry\n",
       "68    Emissions|Sulfur|Energy|Demand|Residential and...\n",
       "69        Emissions|Sulfur|Energy|Demand|Transportation\n",
       "70                       Emissions|Sulfur|Energy|Supply\n",
       "71                                  Emissions|VOC|AFOLU\n",
       "72                                 Emissions|VOC|Energy\n",
       "73                 Emissions|VOC|Energy|Demand|Industry\n",
       "74    Emissions|VOC|Energy|Demand|Residential and Co...\n",
       "75           Emissions|VOC|Energy|Demand|Transportation\n",
       "76                          Emissions|VOC|Energy|Supply\n",
       "77              Emissions|CO2|Energy|Supply|Electricity\n",
       "78                                 Emissions|HFC|HFC125\n",
       "79                                Emissions|HFC|HFC134a\n",
       "80                                Emissions|HFC|HFC143a\n",
       "81                               Emissions|HFC|HFC227ea\n",
       "82                                  Emissions|HFC|HFC23\n",
       "83                               Emissions|HFC|HFC245fa\n",
       "84                                  Emissions|HFC|HFC32\n",
       "85                                        Emissions|PFC\n",
       "86                    Emissions|CO2|Energy|Supply|Gases\n",
       "87                     Emissions|CO2|Energy|Supply|Heat\n",
       "88                  Emissions|CO2|Energy|Supply|Liquids\n",
       "89                   Emissions|CO2|Energy|Supply|Solids\n",
       "90                               Emissions|HFC|HFC43-10\n",
       "Name: variable, Length: 91, dtype: object"
      ]
     },
     "execution_count": 29,
     "metadata": {},
     "output_type": "execute_result"
    }
   ],
   "source": [
    "sr15_data_asia = sr15_data.filter(region='R5ASIA')\n",
    "sr15_data_asia.variables()"
   ]
  },
  {
   "cell_type": "code",
   "execution_count": 33,
   "metadata": {},
   "outputs": [
    {
     "name": "stderr",
     "output_type": "stream",
     "text": [
      "WARNING:root:Filtered IamDataFrame is empty!\n"
     ]
    },
    {
     "data": {
      "text/plain": [
       "<pyam.core.IamDataFrame at 0x1ca3d44ecc8>"
      ]
     },
     "execution_count": 33,
     "metadata": {},
     "output_type": "execute_result"
    }
   ],
   "source": [
    "# We don't seem to have a carbon price for regions\n",
    "sr15_data_asia.filter(variable='Price*').variables()\n",
    "sr15_data.filter(variable='Price|Carbon').filter(region='World', keep=False)"
   ]
  },
  {
   "cell_type": "code",
   "execution_count": null,
   "metadata": {},
   "outputs": [],
   "source": [
    "plotCor._plot_emission_correlations_quantile_rolling_windows(sr15_data_asia, years_of_interest, save_results, \n",
    "                                plot_quantiles, quantiles_savename, quantile_boxes, quantile_decay_factor, model_colours,\n",
    "                                legend_fraction)"
   ]
  },
  {
   "cell_type": "code",
   "execution_count": null,
   "metadata": {},
   "outputs": [],
   "source": []
  }
 ],
 "metadata": {
  "kernelspec": {
   "display_name": "Python 3",
   "language": "python",
   "name": "python3"
  },
  "language_info": {
   "codemirror_mode": {
    "name": "ipython",
    "version": 3
   },
   "file_extension": ".py",
   "mimetype": "text/x-python",
   "name": "python",
   "nbconvert_exporter": "python",
   "pygments_lexer": "ipython3",
   "version": "3.7.4"
  }
 },
 "nbformat": 4,
 "nbformat_minor": 2
}
