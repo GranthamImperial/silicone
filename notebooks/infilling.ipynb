{
 "cells": [
  {
   "cell_type": "markdown",
   "metadata": {},
   "source": [
    "# Infilling\n",
    "\n",
    "In this notebook we demonstrate Silicone's infilling methods."
   ]
  },
  {
   "cell_type": "markdown",
   "metadata": {},
   "source": [
    "## Imports"
   ]
  },
  {
   "cell_type": "code",
   "execution_count": 1,
   "metadata": {},
   "outputs": [
    {
     "data": {
      "application/javascript": [
       "IPython.OutputArea.prototype._should_scroll = function(lines) { return false; }"
      ],
      "text/plain": [
       "<IPython.core.display.Javascript object>"
      ]
     },
     "metadata": {},
     "output_type": "display_data"
    }
   ],
   "source": [
    "# NBVAL_IGNORE_OUTPUT\n",
    "import os.path\n",
    "import traceback\n",
    "\n",
    "import pandas as pd\n",
    "import pyam\n",
    "import matplotlib.pyplot as plt\n",
    "import numpy as np\n",
    "\n",
    "import silicone.database_crunchers"
   ]
  },
  {
   "cell_type": "markdown",
   "metadata": {},
   "source": [
    "## Constants"
   ]
  },
  {
   "cell_type": "code",
   "execution_count": 2,
   "metadata": {},
   "outputs": [],
   "source": [
    "SR15_SCENARIOS = \"./sr15_scenarios.csv\""
   ]
  },
  {
   "cell_type": "markdown",
   "metadata": {},
   "source": [
    "## Example data\n",
    "\n",
    "Here we pull some example data by downloading a selection of the SR1.5 scenarios."
   ]
  },
  {
   "cell_type": "code",
   "execution_count": 3,
   "metadata": {},
   "outputs": [],
   "source": [
    "def get_sr15_scenarios(output_file):\n",
    "    conn = pyam.iiasa.Connection(\"iamc15\")\n",
    "    valid_model_ids = [\n",
    "        \"MESSAGE*\",\n",
    "        \"AIM*\",\n",
    "        \"C-ROADS*\",\n",
    "        \"GCAM*\",\n",
    "        \"IEA*\",\n",
    "        \"IMAGE*\",\n",
    "        #\"MERGE*\",\n",
    "        #\"POLES*\",\n",
    "        #\"REMIND*\",\n",
    "        \"WITCH*\"\n",
    "    ]\n",
    "    variables_to_fetch = [\n",
    "        \"Emissions*\",\n",
    "    ]\n",
    "    for model in valid_model_ids:\n",
    "        print(\"Fetching data for {}\".format(model))\n",
    "        for variable in variables_to_fetch:\n",
    "            print(\"Fetching {}\".format(variable))\n",
    "            var_df = conn.query(model=model, variable=variable, region='World')\n",
    "            try:\n",
    "                df.append(var_df, inplace=True)\n",
    "            except NameError:\n",
    "                df = pyam.IamDataFrame(var_df)\n",
    "\n",
    "    print(\"Writing to {}\".format(output_file))\n",
    "    df.to_csv(output_file)"
   ]
  },
  {
   "cell_type": "code",
   "execution_count": 4,
   "metadata": {},
   "outputs": [],
   "source": [
    "# NBVAL_IGNORE_OUTPUT\n",
    "if not os.path.isfile(SR15_SCENARIOS):\n",
    "    get_sr15_scenarios(SR15_SCENARIOS)"
   ]
  },
  {
   "cell_type": "markdown",
   "metadata": {},
   "source": [
    "### Starting point\n",
    "\n",
    "Our starting point is the test data, loaded a `pyam.IamDataFrame`."
   ]
  },
  {
   "cell_type": "code",
   "execution_count": 5,
   "metadata": {},
   "outputs": [
    {
     "name": "stderr",
     "output_type": "stream",
     "text": [
      "INFO:root:Reading `./sr15_scenarios.csv`\n"
     ]
    },
    {
     "data": {
      "text/html": [
       "<div>\n",
       "<style scoped>\n",
       "    .dataframe tbody tr th:only-of-type {\n",
       "        vertical-align: middle;\n",
       "    }\n",
       "\n",
       "    .dataframe tbody tr th {\n",
       "        vertical-align: top;\n",
       "    }\n",
       "\n",
       "    .dataframe thead th {\n",
       "        text-align: right;\n",
       "    }\n",
       "</style>\n",
       "<table border=\"1\" class=\"dataframe\">\n",
       "  <thead>\n",
       "    <tr style=\"text-align: right;\">\n",
       "      <th></th>\n",
       "      <th></th>\n",
       "      <th></th>\n",
       "      <th></th>\n",
       "      <th></th>\n",
       "      <th></th>\n",
       "      <th>2000</th>\n",
       "      <th>2005</th>\n",
       "      <th>2010</th>\n",
       "      <th>2014</th>\n",
       "      <th>2015</th>\n",
       "      <th>2020</th>\n",
       "      <th>2025</th>\n",
       "      <th>2030</th>\n",
       "      <th>2035</th>\n",
       "      <th>2040</th>\n",
       "      <th>...</th>\n",
       "      <th>2055</th>\n",
       "      <th>2060</th>\n",
       "      <th>2065</th>\n",
       "      <th>2070</th>\n",
       "      <th>2075</th>\n",
       "      <th>2080</th>\n",
       "      <th>2085</th>\n",
       "      <th>2090</th>\n",
       "      <th>2095</th>\n",
       "      <th>2100</th>\n",
       "    </tr>\n",
       "    <tr>\n",
       "      <th>model</th>\n",
       "      <th>scenario</th>\n",
       "      <th>region</th>\n",
       "      <th>variable</th>\n",
       "      <th>unit</th>\n",
       "      <th>meta</th>\n",
       "      <th></th>\n",
       "      <th></th>\n",
       "      <th></th>\n",
       "      <th></th>\n",
       "      <th></th>\n",
       "      <th></th>\n",
       "      <th></th>\n",
       "      <th></th>\n",
       "      <th></th>\n",
       "      <th></th>\n",
       "      <th></th>\n",
       "      <th></th>\n",
       "      <th></th>\n",
       "      <th></th>\n",
       "      <th></th>\n",
       "      <th></th>\n",
       "      <th></th>\n",
       "      <th></th>\n",
       "      <th></th>\n",
       "      <th></th>\n",
       "      <th></th>\n",
       "    </tr>\n",
       "  </thead>\n",
       "  <tbody>\n",
       "    <tr>\n",
       "      <th rowspan=\"5\" valign=\"top\">AIM/CGE 2.0</th>\n",
       "      <th rowspan=\"5\" valign=\"top\">ADVANCE_2020_1.5C-2100</th>\n",
       "      <th rowspan=\"5\" valign=\"top\">World</th>\n",
       "      <th>Emissions|BC</th>\n",
       "      <th>Mt BC/yr</th>\n",
       "      <th>0.0</th>\n",
       "      <td>NaN</td>\n",
       "      <td>8.3367</td>\n",
       "      <td>7.6408</td>\n",
       "      <td>NaN</td>\n",
       "      <td>7.2724</td>\n",
       "      <td>7.0752</td>\n",
       "      <td>5.8486</td>\n",
       "      <td>5.2890</td>\n",
       "      <td>4.7920</td>\n",
       "      <td>4.4694</td>\n",
       "      <td>...</td>\n",
       "      <td>3.4700</td>\n",
       "      <td>3.3654</td>\n",
       "      <td>3.2515</td>\n",
       "      <td>3.1251</td>\n",
       "      <td>3.0047</td>\n",
       "      <td>2.9706</td>\n",
       "      <td>2.9239</td>\n",
       "      <td>2.8850</td>\n",
       "      <td>2.5998</td>\n",
       "      <td>2.5771</td>\n",
       "    </tr>\n",
       "    <tr>\n",
       "      <th>Emissions|CH4</th>\n",
       "      <th>Mt CH4/yr</th>\n",
       "      <th>0.0</th>\n",
       "      <td>NaN</td>\n",
       "      <td>344.9167</td>\n",
       "      <td>367.7457</td>\n",
       "      <td>NaN</td>\n",
       "      <td>380.4086</td>\n",
       "      <td>385.0877</td>\n",
       "      <td>229.1313</td>\n",
       "      <td>182.2792</td>\n",
       "      <td>155.2220</td>\n",
       "      <td>133.4843</td>\n",
       "      <td>...</td>\n",
       "      <td>107.6389</td>\n",
       "      <td>111.0836</td>\n",
       "      <td>115.9752</td>\n",
       "      <td>116.5906</td>\n",
       "      <td>118.0872</td>\n",
       "      <td>120.9023</td>\n",
       "      <td>122.0036</td>\n",
       "      <td>120.1977</td>\n",
       "      <td>133.5733</td>\n",
       "      <td>133.5872</td>\n",
       "    </tr>\n",
       "    <tr>\n",
       "      <th>Emissions|CH4|AFOLU</th>\n",
       "      <th>Mt CH4/yr</th>\n",
       "      <th>0.0</th>\n",
       "      <td>NaN</td>\n",
       "      <td>167.6717</td>\n",
       "      <td>179.6356</td>\n",
       "      <td>NaN</td>\n",
       "      <td>190.3513</td>\n",
       "      <td>198.5217</td>\n",
       "      <td>152.3684</td>\n",
       "      <td>129.2881</td>\n",
       "      <td>115.4458</td>\n",
       "      <td>103.5424</td>\n",
       "      <td>...</td>\n",
       "      <td>88.7903</td>\n",
       "      <td>92.3224</td>\n",
       "      <td>96.7759</td>\n",
       "      <td>98.0924</td>\n",
       "      <td>100.5173</td>\n",
       "      <td>103.2884</td>\n",
       "      <td>104.7226</td>\n",
       "      <td>103.9322</td>\n",
       "      <td>114.1118</td>\n",
       "      <td>114.5658</td>\n",
       "    </tr>\n",
       "    <tr>\n",
       "      <th>Emissions|CH4|Energy|Demand|Industry</th>\n",
       "      <th>Mt CH4/yr</th>\n",
       "      <th>0.0</th>\n",
       "      <td>NaN</td>\n",
       "      <td>0.4732</td>\n",
       "      <td>0.5168</td>\n",
       "      <td>NaN</td>\n",
       "      <td>0.5587</td>\n",
       "      <td>0.6040</td>\n",
       "      <td>0.5722</td>\n",
       "      <td>0.5295</td>\n",
       "      <td>0.4992</td>\n",
       "      <td>0.4915</td>\n",
       "      <td>...</td>\n",
       "      <td>0.5689</td>\n",
       "      <td>0.6136</td>\n",
       "      <td>0.6628</td>\n",
       "      <td>0.7011</td>\n",
       "      <td>0.6871</td>\n",
       "      <td>0.7002</td>\n",
       "      <td>0.7086</td>\n",
       "      <td>0.7063</td>\n",
       "      <td>0.7735</td>\n",
       "      <td>0.7577</td>\n",
       "    </tr>\n",
       "    <tr>\n",
       "      <th>Emissions|CH4|Energy|Demand|Residential and Commercial</th>\n",
       "      <th>Mt CH4/yr</th>\n",
       "      <th>0.0</th>\n",
       "      <td>NaN</td>\n",
       "      <td>11.2639</td>\n",
       "      <td>11.1249</td>\n",
       "      <td>NaN</td>\n",
       "      <td>10.9809</td>\n",
       "      <td>10.8317</td>\n",
       "      <td>10.3109</td>\n",
       "      <td>9.4546</td>\n",
       "      <td>8.6100</td>\n",
       "      <td>7.8718</td>\n",
       "      <td>...</td>\n",
       "      <td>6.3824</td>\n",
       "      <td>5.9928</td>\n",
       "      <td>5.6423</td>\n",
       "      <td>5.2548</td>\n",
       "      <td>4.8423</td>\n",
       "      <td>4.5313</td>\n",
       "      <td>4.2217</td>\n",
       "      <td>3.9025</td>\n",
       "      <td>3.7682</td>\n",
       "      <td>3.5064</td>\n",
       "    </tr>\n",
       "  </tbody>\n",
       "</table>\n",
       "<p>5 rows × 22 columns</p>\n",
       "</div>"
      ],
      "text/plain": [
       "                                                                                                             2000  \\\n",
       "model       scenario               region variable                                           unit      meta         \n",
       "AIM/CGE 2.0 ADVANCE_2020_1.5C-2100 World  Emissions|BC                                       Mt BC/yr  0.0    NaN   \n",
       "                                          Emissions|CH4                                      Mt CH4/yr 0.0    NaN   \n",
       "                                          Emissions|CH4|AFOLU                                Mt CH4/yr 0.0    NaN   \n",
       "                                          Emissions|CH4|Energy|Demand|Industry               Mt CH4/yr 0.0    NaN   \n",
       "                                          Emissions|CH4|Energy|Demand|Residential and Com... Mt CH4/yr 0.0    NaN   \n",
       "\n",
       "                                                                                                                 2005  \\\n",
       "model       scenario               region variable                                           unit      meta             \n",
       "AIM/CGE 2.0 ADVANCE_2020_1.5C-2100 World  Emissions|BC                                       Mt BC/yr  0.0     8.3367   \n",
       "                                          Emissions|CH4                                      Mt CH4/yr 0.0   344.9167   \n",
       "                                          Emissions|CH4|AFOLU                                Mt CH4/yr 0.0   167.6717   \n",
       "                                          Emissions|CH4|Energy|Demand|Industry               Mt CH4/yr 0.0     0.4732   \n",
       "                                          Emissions|CH4|Energy|Demand|Residential and Com... Mt CH4/yr 0.0    11.2639   \n",
       "\n",
       "                                                                                                                 2010  \\\n",
       "model       scenario               region variable                                           unit      meta             \n",
       "AIM/CGE 2.0 ADVANCE_2020_1.5C-2100 World  Emissions|BC                                       Mt BC/yr  0.0     7.6408   \n",
       "                                          Emissions|CH4                                      Mt CH4/yr 0.0   367.7457   \n",
       "                                          Emissions|CH4|AFOLU                                Mt CH4/yr 0.0   179.6356   \n",
       "                                          Emissions|CH4|Energy|Demand|Industry               Mt CH4/yr 0.0     0.5168   \n",
       "                                          Emissions|CH4|Energy|Demand|Residential and Com... Mt CH4/yr 0.0    11.1249   \n",
       "\n",
       "                                                                                                             2014  \\\n",
       "model       scenario               region variable                                           unit      meta         \n",
       "AIM/CGE 2.0 ADVANCE_2020_1.5C-2100 World  Emissions|BC                                       Mt BC/yr  0.0    NaN   \n",
       "                                          Emissions|CH4                                      Mt CH4/yr 0.0    NaN   \n",
       "                                          Emissions|CH4|AFOLU                                Mt CH4/yr 0.0    NaN   \n",
       "                                          Emissions|CH4|Energy|Demand|Industry               Mt CH4/yr 0.0    NaN   \n",
       "                                          Emissions|CH4|Energy|Demand|Residential and Com... Mt CH4/yr 0.0    NaN   \n",
       "\n",
       "                                                                                                                 2015  \\\n",
       "model       scenario               region variable                                           unit      meta             \n",
       "AIM/CGE 2.0 ADVANCE_2020_1.5C-2100 World  Emissions|BC                                       Mt BC/yr  0.0     7.2724   \n",
       "                                          Emissions|CH4                                      Mt CH4/yr 0.0   380.4086   \n",
       "                                          Emissions|CH4|AFOLU                                Mt CH4/yr 0.0   190.3513   \n",
       "                                          Emissions|CH4|Energy|Demand|Industry               Mt CH4/yr 0.0     0.5587   \n",
       "                                          Emissions|CH4|Energy|Demand|Residential and Com... Mt CH4/yr 0.0    10.9809   \n",
       "\n",
       "                                                                                                                 2020  \\\n",
       "model       scenario               region variable                                           unit      meta             \n",
       "AIM/CGE 2.0 ADVANCE_2020_1.5C-2100 World  Emissions|BC                                       Mt BC/yr  0.0     7.0752   \n",
       "                                          Emissions|CH4                                      Mt CH4/yr 0.0   385.0877   \n",
       "                                          Emissions|CH4|AFOLU                                Mt CH4/yr 0.0   198.5217   \n",
       "                                          Emissions|CH4|Energy|Demand|Industry               Mt CH4/yr 0.0     0.6040   \n",
       "                                          Emissions|CH4|Energy|Demand|Residential and Com... Mt CH4/yr 0.0    10.8317   \n",
       "\n",
       "                                                                                                                 2025  \\\n",
       "model       scenario               region variable                                           unit      meta             \n",
       "AIM/CGE 2.0 ADVANCE_2020_1.5C-2100 World  Emissions|BC                                       Mt BC/yr  0.0     5.8486   \n",
       "                                          Emissions|CH4                                      Mt CH4/yr 0.0   229.1313   \n",
       "                                          Emissions|CH4|AFOLU                                Mt CH4/yr 0.0   152.3684   \n",
       "                                          Emissions|CH4|Energy|Demand|Industry               Mt CH4/yr 0.0     0.5722   \n",
       "                                          Emissions|CH4|Energy|Demand|Residential and Com... Mt CH4/yr 0.0    10.3109   \n",
       "\n",
       "                                                                                                                 2030  \\\n",
       "model       scenario               region variable                                           unit      meta             \n",
       "AIM/CGE 2.0 ADVANCE_2020_1.5C-2100 World  Emissions|BC                                       Mt BC/yr  0.0     5.2890   \n",
       "                                          Emissions|CH4                                      Mt CH4/yr 0.0   182.2792   \n",
       "                                          Emissions|CH4|AFOLU                                Mt CH4/yr 0.0   129.2881   \n",
       "                                          Emissions|CH4|Energy|Demand|Industry               Mt CH4/yr 0.0     0.5295   \n",
       "                                          Emissions|CH4|Energy|Demand|Residential and Com... Mt CH4/yr 0.0     9.4546   \n",
       "\n",
       "                                                                                                                 2035  \\\n",
       "model       scenario               region variable                                           unit      meta             \n",
       "AIM/CGE 2.0 ADVANCE_2020_1.5C-2100 World  Emissions|BC                                       Mt BC/yr  0.0     4.7920   \n",
       "                                          Emissions|CH4                                      Mt CH4/yr 0.0   155.2220   \n",
       "                                          Emissions|CH4|AFOLU                                Mt CH4/yr 0.0   115.4458   \n",
       "                                          Emissions|CH4|Energy|Demand|Industry               Mt CH4/yr 0.0     0.4992   \n",
       "                                          Emissions|CH4|Energy|Demand|Residential and Com... Mt CH4/yr 0.0     8.6100   \n",
       "\n",
       "                                                                                                                 2040  \\\n",
       "model       scenario               region variable                                           unit      meta             \n",
       "AIM/CGE 2.0 ADVANCE_2020_1.5C-2100 World  Emissions|BC                                       Mt BC/yr  0.0     4.4694   \n",
       "                                          Emissions|CH4                                      Mt CH4/yr 0.0   133.4843   \n",
       "                                          Emissions|CH4|AFOLU                                Mt CH4/yr 0.0   103.5424   \n",
       "                                          Emissions|CH4|Energy|Demand|Industry               Mt CH4/yr 0.0     0.4915   \n",
       "                                          Emissions|CH4|Energy|Demand|Residential and Com... Mt CH4/yr 0.0     7.8718   \n",
       "\n",
       "                                                                                                             ...  \\\n",
       "model       scenario               region variable                                           unit      meta  ...   \n",
       "AIM/CGE 2.0 ADVANCE_2020_1.5C-2100 World  Emissions|BC                                       Mt BC/yr  0.0   ...   \n",
       "                                          Emissions|CH4                                      Mt CH4/yr 0.0   ...   \n",
       "                                          Emissions|CH4|AFOLU                                Mt CH4/yr 0.0   ...   \n",
       "                                          Emissions|CH4|Energy|Demand|Industry               Mt CH4/yr 0.0   ...   \n",
       "                                          Emissions|CH4|Energy|Demand|Residential and Com... Mt CH4/yr 0.0   ...   \n",
       "\n",
       "                                                                                                                 2055  \\\n",
       "model       scenario               region variable                                           unit      meta             \n",
       "AIM/CGE 2.0 ADVANCE_2020_1.5C-2100 World  Emissions|BC                                       Mt BC/yr  0.0     3.4700   \n",
       "                                          Emissions|CH4                                      Mt CH4/yr 0.0   107.6389   \n",
       "                                          Emissions|CH4|AFOLU                                Mt CH4/yr 0.0    88.7903   \n",
       "                                          Emissions|CH4|Energy|Demand|Industry               Mt CH4/yr 0.0     0.5689   \n",
       "                                          Emissions|CH4|Energy|Demand|Residential and Com... Mt CH4/yr 0.0     6.3824   \n",
       "\n",
       "                                                                                                                 2060  \\\n",
       "model       scenario               region variable                                           unit      meta             \n",
       "AIM/CGE 2.0 ADVANCE_2020_1.5C-2100 World  Emissions|BC                                       Mt BC/yr  0.0     3.3654   \n",
       "                                          Emissions|CH4                                      Mt CH4/yr 0.0   111.0836   \n",
       "                                          Emissions|CH4|AFOLU                                Mt CH4/yr 0.0    92.3224   \n",
       "                                          Emissions|CH4|Energy|Demand|Industry               Mt CH4/yr 0.0     0.6136   \n",
       "                                          Emissions|CH4|Energy|Demand|Residential and Com... Mt CH4/yr 0.0     5.9928   \n",
       "\n",
       "                                                                                                                 2065  \\\n",
       "model       scenario               region variable                                           unit      meta             \n",
       "AIM/CGE 2.0 ADVANCE_2020_1.5C-2100 World  Emissions|BC                                       Mt BC/yr  0.0     3.2515   \n",
       "                                          Emissions|CH4                                      Mt CH4/yr 0.0   115.9752   \n",
       "                                          Emissions|CH4|AFOLU                                Mt CH4/yr 0.0    96.7759   \n",
       "                                          Emissions|CH4|Energy|Demand|Industry               Mt CH4/yr 0.0     0.6628   \n",
       "                                          Emissions|CH4|Energy|Demand|Residential and Com... Mt CH4/yr 0.0     5.6423   \n",
       "\n",
       "                                                                                                                 2070  \\\n",
       "model       scenario               region variable                                           unit      meta             \n",
       "AIM/CGE 2.0 ADVANCE_2020_1.5C-2100 World  Emissions|BC                                       Mt BC/yr  0.0     3.1251   \n",
       "                                          Emissions|CH4                                      Mt CH4/yr 0.0   116.5906   \n",
       "                                          Emissions|CH4|AFOLU                                Mt CH4/yr 0.0    98.0924   \n",
       "                                          Emissions|CH4|Energy|Demand|Industry               Mt CH4/yr 0.0     0.7011   \n",
       "                                          Emissions|CH4|Energy|Demand|Residential and Com... Mt CH4/yr 0.0     5.2548   \n",
       "\n",
       "                                                                                                                 2075  \\\n",
       "model       scenario               region variable                                           unit      meta             \n",
       "AIM/CGE 2.0 ADVANCE_2020_1.5C-2100 World  Emissions|BC                                       Mt BC/yr  0.0     3.0047   \n",
       "                                          Emissions|CH4                                      Mt CH4/yr 0.0   118.0872   \n",
       "                                          Emissions|CH4|AFOLU                                Mt CH4/yr 0.0   100.5173   \n",
       "                                          Emissions|CH4|Energy|Demand|Industry               Mt CH4/yr 0.0     0.6871   \n",
       "                                          Emissions|CH4|Energy|Demand|Residential and Com... Mt CH4/yr 0.0     4.8423   \n",
       "\n",
       "                                                                                                                 2080  \\\n",
       "model       scenario               region variable                                           unit      meta             \n",
       "AIM/CGE 2.0 ADVANCE_2020_1.5C-2100 World  Emissions|BC                                       Mt BC/yr  0.0     2.9706   \n",
       "                                          Emissions|CH4                                      Mt CH4/yr 0.0   120.9023   \n",
       "                                          Emissions|CH4|AFOLU                                Mt CH4/yr 0.0   103.2884   \n",
       "                                          Emissions|CH4|Energy|Demand|Industry               Mt CH4/yr 0.0     0.7002   \n",
       "                                          Emissions|CH4|Energy|Demand|Residential and Com... Mt CH4/yr 0.0     4.5313   \n",
       "\n",
       "                                                                                                                 2085  \\\n",
       "model       scenario               region variable                                           unit      meta             \n",
       "AIM/CGE 2.0 ADVANCE_2020_1.5C-2100 World  Emissions|BC                                       Mt BC/yr  0.0     2.9239   \n",
       "                                          Emissions|CH4                                      Mt CH4/yr 0.0   122.0036   \n",
       "                                          Emissions|CH4|AFOLU                                Mt CH4/yr 0.0   104.7226   \n",
       "                                          Emissions|CH4|Energy|Demand|Industry               Mt CH4/yr 0.0     0.7086   \n",
       "                                          Emissions|CH4|Energy|Demand|Residential and Com... Mt CH4/yr 0.0     4.2217   \n",
       "\n",
       "                                                                                                                 2090  \\\n",
       "model       scenario               region variable                                           unit      meta             \n",
       "AIM/CGE 2.0 ADVANCE_2020_1.5C-2100 World  Emissions|BC                                       Mt BC/yr  0.0     2.8850   \n",
       "                                          Emissions|CH4                                      Mt CH4/yr 0.0   120.1977   \n",
       "                                          Emissions|CH4|AFOLU                                Mt CH4/yr 0.0   103.9322   \n",
       "                                          Emissions|CH4|Energy|Demand|Industry               Mt CH4/yr 0.0     0.7063   \n",
       "                                          Emissions|CH4|Energy|Demand|Residential and Com... Mt CH4/yr 0.0     3.9025   \n",
       "\n",
       "                                                                                                                 2095  \\\n",
       "model       scenario               region variable                                           unit      meta             \n",
       "AIM/CGE 2.0 ADVANCE_2020_1.5C-2100 World  Emissions|BC                                       Mt BC/yr  0.0     2.5998   \n",
       "                                          Emissions|CH4                                      Mt CH4/yr 0.0   133.5733   \n",
       "                                          Emissions|CH4|AFOLU                                Mt CH4/yr 0.0   114.1118   \n",
       "                                          Emissions|CH4|Energy|Demand|Industry               Mt CH4/yr 0.0     0.7735   \n",
       "                                          Emissions|CH4|Energy|Demand|Residential and Com... Mt CH4/yr 0.0     3.7682   \n",
       "\n",
       "                                                                                                                 2100  \n",
       "model       scenario               region variable                                           unit      meta            \n",
       "AIM/CGE 2.0 ADVANCE_2020_1.5C-2100 World  Emissions|BC                                       Mt BC/yr  0.0     2.5771  \n",
       "                                          Emissions|CH4                                      Mt CH4/yr 0.0   133.5872  \n",
       "                                          Emissions|CH4|AFOLU                                Mt CH4/yr 0.0   114.5658  \n",
       "                                          Emissions|CH4|Energy|Demand|Industry               Mt CH4/yr 0.0     0.7577  \n",
       "                                          Emissions|CH4|Energy|Demand|Residential and Com... Mt CH4/yr 0.0     3.5064  \n",
       "\n",
       "[5 rows x 22 columns]"
      ]
     },
     "execution_count": 5,
     "metadata": {},
     "output_type": "execute_result"
    }
   ],
   "source": [
    "# NBVAL_IGNORE_OUTPUT\n",
    "sr15_data = pyam.IamDataFrame(SR15_SCENARIOS)\n",
    "sr15_data.timeseries().head()"
   ]
  },
  {
   "cell_type": "markdown",
   "metadata": {},
   "source": [
    "## Crunchers\n",
    "\n",
    "Silicone's 'crunchers' are used to determine the relationship between a 'follower variable' and 'lead variable(s)' from a given database. The 'follower variable' is the variable for which we want to generate data e.g. `Emissions|C3F8` while the 'lead variable(s)' is the variable we want to use in order to infer a timeseries of the 'follower variable'. The lead variable is typically CO$_2$ but might be a more complex combination of gases e.g. CO$_2$, CH$_4$ and N$_2$O. \n",
    "\n",
    "Each cruncher has a `derive_relationship` method. Its docstring describes what it does."
   ]
  },
  {
   "cell_type": "code",
   "execution_count": 6,
   "metadata": {},
   "outputs": [
    {
     "name": "stdout",
     "output_type": "stream",
     "text": [
      "\n",
      "        Derive the relationship between two variables from the database\n",
      "\n",
      "        Parameters\n",
      "        ----------\n",
      "        variable_follower : str\n",
      "            The variable for which we want to calculate timeseries (e.g.\n",
      "            ``\"Emissions|C5F12\"``).\n",
      "\n",
      "        variable_leaders : list[str]\n",
      "            The variables we want to use in order to infer timeseries of\n",
      "            ``variable_follower`` (e.g. ``[\"Emissions|CO2\", \"Emissions|CH4\"]``)\n",
      "\n",
      "        **kwargs\n",
      "            Keyword arguments used by this class to derive the relationship between\n",
      "            ``variable_follower`` and ``variable_leaders``.\n",
      "\n",
      "        Returns\n",
      "        -------\n",
      "        :obj:`func`\n",
      "            Function which takes a :obj:`pyam.IamDataFrame` containing\n",
      "            ``variable_leaders`` timeseries and returns timeseries for\n",
      "            ``variable_follower`` based on the derived relationship between the two.\n",
      "            Please see the source code for the exact definition (and docstring) of the\n",
      "            returned function.\n",
      "        \n"
     ]
    }
   ],
   "source": [
    "print(silicone.database_crunchers.base._DatabaseCruncher.derive_relationship.__doc__)\n",
    "# # an alternative interface is shown if you use the line below instead\n",
    "# silicone.database_crunchers.base._DatabaseCruncher.derive_relationship?"
   ]
  },
  {
   "cell_type": "markdown",
   "metadata": {},
   "source": [
    "These crunchers are best explored by looking at the examples below."
   ]
  },
  {
   "cell_type": "markdown",
   "metadata": {},
   "source": [
    "### Closest RMS cruncher\n",
    "\n",
    "This cruncher uses the 'closest RMS' methodology. It is described by its docstring."
   ]
  },
  {
   "cell_type": "code",
   "execution_count": 7,
   "metadata": {},
   "outputs": [
    {
     "name": "stdout",
     "output_type": "stream",
     "text": [
      "\n",
      "    Database cruncher which uses the 'closest RMS' technkque.\n",
      "\n",
      "    This cruncher derives the relationship between two variables by finding the\n",
      "    scenario which has the closest lead gas timeseries in the database.  The follower\n",
      "    gas timeseries is then simply copied from the closest scenario.\n",
      "\n",
      "    Here, 'closest' is defined as the smallest time-averaged root mean squared (L2)\n",
      "    difference.\n",
      "\n",
      "    .. math::\n",
      "        RMS = \\left ( \\frac{1}{n} \\sum_{t=0}^n (E_l(t) - E_l^{d}(t))^2 \\right )^{1/2}\n",
      "\n",
      "    where :math:`n` is the total number of timesteps in the lead gas' timeseries,\n",
      "    :math:`E_l(t)` is the lead gas emissions timeseries and :math:`E_l^d(t)` is a lead\n",
      "    gas emissions timeseries in the database.\n",
      "    \n"
     ]
    }
   ],
   "source": [
    "print(silicone.database_crunchers.DatabaseCruncherRMSClosest.__doc__)\n",
    "# silicone.database_crunchers.DatabaseCruncherRMSClosest?"
   ]
  },
  {
   "cell_type": "markdown",
   "metadata": {},
   "source": [
    "#### Infilling"
   ]
  },
  {
   "cell_type": "markdown",
   "metadata": {},
   "source": [
    "Firstly, let's cut the database down to a size that is comprehensible."
   ]
  },
  {
   "cell_type": "code",
   "execution_count": 8,
   "metadata": {},
   "outputs": [],
   "source": [
    "sr15_data_closest_rms = sr15_data.filter(model=[\"WITCH-GLOBIOM 4.2\"])"
   ]
  },
  {
   "cell_type": "markdown",
   "metadata": {},
   "source": [
    "Now we can crunch the relationship between e.g. `Emissions|CO2` and `Emissions|VOC`."
   ]
  },
  {
   "cell_type": "code",
   "execution_count": 9,
   "metadata": {},
   "outputs": [],
   "source": [
    "cruncher = silicone.database_crunchers.DatabaseCruncherRMSClosest(sr15_data_closest_rms)"
   ]
  },
  {
   "cell_type": "code",
   "execution_count": 10,
   "metadata": {},
   "outputs": [
    {
     "name": "stdout",
     "output_type": "stream",
     "text": [
      "\n",
      "            Filler function derived from :obj:`DatabaseCruncherRMSClosest`.\n",
      "\n",
      "            Parameters\n",
      "            ----------\n",
      "            in_iamdf : :obj:`pyam.IamDataFrame`\n",
      "                Input data to fill data in\n",
      "\n",
      "            Returns\n",
      "            -------\n",
      "            :obj:`pyam.IamDataFrame`\n",
      "                Filled in data (without original source data)\n",
      "\n",
      "            Raises\n",
      "            ------\n",
      "            ValueError\n",
      "                If there are any inconsistencies between the timeseries, units or\n",
      "                expectations of the program and ``in_iamdf``, compared to the database\n",
      "                used to generate this ``filler`` function.\n",
      "            \n"
     ]
    }
   ],
   "source": [
    "filler = cruncher.derive_relationship(\"Emissions|VOC\", [\"Emissions|CO2\"])\n",
    "print(filler.__doc__)\n",
    "# filler?"
   ]
  },
  {
   "cell_type": "markdown",
   "metadata": {},
   "source": [
    "Now we can do some infilling. As a sanity check, we firstly make sure that if we pass in a CO$_2$ timeseries which is already in the database, we get back its VOC emissions timeseries. "
   ]
  },
  {
   "cell_type": "code",
   "execution_count": 11,
   "metadata": {},
   "outputs": [],
   "source": [
    "example_model_scen = {\n",
    "    \"model\": \"WITCH-GLOBIOM 4.2\",\n",
    "    \"scenario\": \"ADVANCE_INDC\",\n",
    "}\n",
    "example_input = sr15_data_closest_rms.filter(**example_model_scen).data\n",
    "example_input[\"model\"] = \"example\"\n",
    "example_input[\"scenario\"] = \"example\"\n",
    "example_input = pyam.IamDataFrame(example_input)"
   ]
  },
  {
   "cell_type": "code",
   "execution_count": 12,
   "metadata": {},
   "outputs": [],
   "source": [
    "example_input_filled = filler(example_input)"
   ]
  },
  {
   "cell_type": "code",
   "execution_count": 13,
   "metadata": {},
   "outputs": [
    {
     "data": {
      "text/html": [
       "<div>\n",
       "<style scoped>\n",
       "    .dataframe tbody tr th:only-of-type {\n",
       "        vertical-align: middle;\n",
       "    }\n",
       "\n",
       "    .dataframe tbody tr th {\n",
       "        vertical-align: top;\n",
       "    }\n",
       "\n",
       "    .dataframe thead th {\n",
       "        text-align: right;\n",
       "    }\n",
       "</style>\n",
       "<table border=\"1\" class=\"dataframe\">\n",
       "  <thead>\n",
       "    <tr style=\"text-align: right;\">\n",
       "      <th></th>\n",
       "      <th></th>\n",
       "      <th></th>\n",
       "      <th></th>\n",
       "      <th></th>\n",
       "      <th></th>\n",
       "      <th>2005</th>\n",
       "      <th>2010</th>\n",
       "      <th>2015</th>\n",
       "      <th>2020</th>\n",
       "      <th>2025</th>\n",
       "      <th>2030</th>\n",
       "      <th>2035</th>\n",
       "      <th>2040</th>\n",
       "      <th>2045</th>\n",
       "      <th>2050</th>\n",
       "      <th>2055</th>\n",
       "      <th>2060</th>\n",
       "      <th>2065</th>\n",
       "      <th>2070</th>\n",
       "      <th>2075</th>\n",
       "      <th>2080</th>\n",
       "      <th>2085</th>\n",
       "      <th>2090</th>\n",
       "      <th>2095</th>\n",
       "      <th>2100</th>\n",
       "    </tr>\n",
       "    <tr>\n",
       "      <th>model</th>\n",
       "      <th>scenario</th>\n",
       "      <th>region</th>\n",
       "      <th>variable</th>\n",
       "      <th>unit</th>\n",
       "      <th>meta</th>\n",
       "      <th></th>\n",
       "      <th></th>\n",
       "      <th></th>\n",
       "      <th></th>\n",
       "      <th></th>\n",
       "      <th></th>\n",
       "      <th></th>\n",
       "      <th></th>\n",
       "      <th></th>\n",
       "      <th></th>\n",
       "      <th></th>\n",
       "      <th></th>\n",
       "      <th></th>\n",
       "      <th></th>\n",
       "      <th></th>\n",
       "      <th></th>\n",
       "      <th></th>\n",
       "      <th></th>\n",
       "      <th></th>\n",
       "      <th></th>\n",
       "    </tr>\n",
       "  </thead>\n",
       "  <tbody>\n",
       "    <tr>\n",
       "      <th>example</th>\n",
       "      <th>example</th>\n",
       "      <th>World</th>\n",
       "      <th>Emissions|VOC</th>\n",
       "      <th>Mt VOC/yr</th>\n",
       "      <th>0.0</th>\n",
       "      <td>189.212</td>\n",
       "      <td>164.056724</td>\n",
       "      <td>153.575866</td>\n",
       "      <td>145.611005</td>\n",
       "      <td>130.387433</td>\n",
       "      <td>115.465871</td>\n",
       "      <td>102.038923</td>\n",
       "      <td>89.302542</td>\n",
       "      <td>76.60488</td>\n",
       "      <td>62.855685</td>\n",
       "      <td>58.440154</td>\n",
       "      <td>56.971497</td>\n",
       "      <td>55.075327</td>\n",
       "      <td>53.101911</td>\n",
       "      <td>51.074418</td>\n",
       "      <td>49.558506</td>\n",
       "      <td>47.602518</td>\n",
       "      <td>45.377459</td>\n",
       "      <td>43.08547</td>\n",
       "      <td>41.400122</td>\n",
       "    </tr>\n",
       "  </tbody>\n",
       "</table>\n",
       "</div>"
      ],
      "text/plain": [
       "                                                         2005        2010  \\\n",
       "model   scenario region variable      unit      meta                        \n",
       "example example  World  Emissions|VOC Mt VOC/yr 0.0   189.212  164.056724   \n",
       "\n",
       "                                                            2015        2020  \\\n",
       "model   scenario region variable      unit      meta                           \n",
       "example example  World  Emissions|VOC Mt VOC/yr 0.0   153.575866  145.611005   \n",
       "\n",
       "                                                            2025        2030  \\\n",
       "model   scenario region variable      unit      meta                           \n",
       "example example  World  Emissions|VOC Mt VOC/yr 0.0   130.387433  115.465871   \n",
       "\n",
       "                                                            2035       2040  \\\n",
       "model   scenario region variable      unit      meta                          \n",
       "example example  World  Emissions|VOC Mt VOC/yr 0.0   102.038923  89.302542   \n",
       "\n",
       "                                                          2045       2050  \\\n",
       "model   scenario region variable      unit      meta                        \n",
       "example example  World  Emissions|VOC Mt VOC/yr 0.0   76.60488  62.855685   \n",
       "\n",
       "                                                           2055       2060  \\\n",
       "model   scenario region variable      unit      meta                         \n",
       "example example  World  Emissions|VOC Mt VOC/yr 0.0   58.440154  56.971497   \n",
       "\n",
       "                                                           2065       2070  \\\n",
       "model   scenario region variable      unit      meta                         \n",
       "example example  World  Emissions|VOC Mt VOC/yr 0.0   55.075327  53.101911   \n",
       "\n",
       "                                                           2075       2080  \\\n",
       "model   scenario region variable      unit      meta                         \n",
       "example example  World  Emissions|VOC Mt VOC/yr 0.0   51.074418  49.558506   \n",
       "\n",
       "                                                           2085       2090  \\\n",
       "model   scenario region variable      unit      meta                         \n",
       "example example  World  Emissions|VOC Mt VOC/yr 0.0   47.602518  45.377459   \n",
       "\n",
       "                                                          2095       2100  \n",
       "model   scenario region variable      unit      meta                       \n",
       "example example  World  Emissions|VOC Mt VOC/yr 0.0   43.08547  41.400122  "
      ]
     },
     "execution_count": 13,
     "metadata": {},
     "output_type": "execute_result"
    }
   ],
   "source": [
    "example_input_filled.timeseries()"
   ]
  },
  {
   "cell_type": "code",
   "execution_count": 14,
   "metadata": {},
   "outputs": [
    {
     "data": {
      "text/html": [
       "<div>\n",
       "<style scoped>\n",
       "    .dataframe tbody tr th:only-of-type {\n",
       "        vertical-align: middle;\n",
       "    }\n",
       "\n",
       "    .dataframe tbody tr th {\n",
       "        vertical-align: top;\n",
       "    }\n",
       "\n",
       "    .dataframe thead th {\n",
       "        text-align: right;\n",
       "    }\n",
       "</style>\n",
       "<table border=\"1\" class=\"dataframe\">\n",
       "  <thead>\n",
       "    <tr style=\"text-align: right;\">\n",
       "      <th></th>\n",
       "      <th></th>\n",
       "      <th></th>\n",
       "      <th></th>\n",
       "      <th></th>\n",
       "      <th></th>\n",
       "      <th>2005</th>\n",
       "      <th>2010</th>\n",
       "      <th>2015</th>\n",
       "      <th>2020</th>\n",
       "      <th>2025</th>\n",
       "      <th>2030</th>\n",
       "      <th>2035</th>\n",
       "      <th>2040</th>\n",
       "      <th>2045</th>\n",
       "      <th>2050</th>\n",
       "      <th>2055</th>\n",
       "      <th>2060</th>\n",
       "      <th>2065</th>\n",
       "      <th>2070</th>\n",
       "      <th>2075</th>\n",
       "      <th>2080</th>\n",
       "      <th>2085</th>\n",
       "      <th>2090</th>\n",
       "      <th>2095</th>\n",
       "      <th>2100</th>\n",
       "    </tr>\n",
       "    <tr>\n",
       "      <th>model</th>\n",
       "      <th>scenario</th>\n",
       "      <th>region</th>\n",
       "      <th>variable</th>\n",
       "      <th>unit</th>\n",
       "      <th>meta</th>\n",
       "      <th></th>\n",
       "      <th></th>\n",
       "      <th></th>\n",
       "      <th></th>\n",
       "      <th></th>\n",
       "      <th></th>\n",
       "      <th></th>\n",
       "      <th></th>\n",
       "      <th></th>\n",
       "      <th></th>\n",
       "      <th></th>\n",
       "      <th></th>\n",
       "      <th></th>\n",
       "      <th></th>\n",
       "      <th></th>\n",
       "      <th></th>\n",
       "      <th></th>\n",
       "      <th></th>\n",
       "      <th></th>\n",
       "      <th></th>\n",
       "    </tr>\n",
       "  </thead>\n",
       "  <tbody>\n",
       "    <tr>\n",
       "      <th>WITCH-GLOBIOM 4.2</th>\n",
       "      <th>ADVANCE_INDC</th>\n",
       "      <th>World</th>\n",
       "      <th>Emissions|VOC</th>\n",
       "      <th>Mt VOC/yr</th>\n",
       "      <th>0.0</th>\n",
       "      <td>189.212</td>\n",
       "      <td>164.056724</td>\n",
       "      <td>153.575866</td>\n",
       "      <td>145.611005</td>\n",
       "      <td>130.387433</td>\n",
       "      <td>115.465871</td>\n",
       "      <td>102.038923</td>\n",
       "      <td>89.302542</td>\n",
       "      <td>76.60488</td>\n",
       "      <td>62.855685</td>\n",
       "      <td>58.440154</td>\n",
       "      <td>56.971497</td>\n",
       "      <td>55.075327</td>\n",
       "      <td>53.101911</td>\n",
       "      <td>51.074418</td>\n",
       "      <td>49.558506</td>\n",
       "      <td>47.602518</td>\n",
       "      <td>45.377459</td>\n",
       "      <td>43.08547</td>\n",
       "      <td>41.400122</td>\n",
       "    </tr>\n",
       "  </tbody>\n",
       "</table>\n",
       "</div>"
      ],
      "text/plain": [
       "                                                                       2005  \\\n",
       "model             scenario     region variable      unit      meta            \n",
       "WITCH-GLOBIOM 4.2 ADVANCE_INDC World  Emissions|VOC Mt VOC/yr 0.0   189.212   \n",
       "\n",
       "                                                                          2010  \\\n",
       "model             scenario     region variable      unit      meta               \n",
       "WITCH-GLOBIOM 4.2 ADVANCE_INDC World  Emissions|VOC Mt VOC/yr 0.0   164.056724   \n",
       "\n",
       "                                                                          2015  \\\n",
       "model             scenario     region variable      unit      meta               \n",
       "WITCH-GLOBIOM 4.2 ADVANCE_INDC World  Emissions|VOC Mt VOC/yr 0.0   153.575866   \n",
       "\n",
       "                                                                          2020  \\\n",
       "model             scenario     region variable      unit      meta               \n",
       "WITCH-GLOBIOM 4.2 ADVANCE_INDC World  Emissions|VOC Mt VOC/yr 0.0   145.611005   \n",
       "\n",
       "                                                                          2025  \\\n",
       "model             scenario     region variable      unit      meta               \n",
       "WITCH-GLOBIOM 4.2 ADVANCE_INDC World  Emissions|VOC Mt VOC/yr 0.0   130.387433   \n",
       "\n",
       "                                                                          2030  \\\n",
       "model             scenario     region variable      unit      meta               \n",
       "WITCH-GLOBIOM 4.2 ADVANCE_INDC World  Emissions|VOC Mt VOC/yr 0.0   115.465871   \n",
       "\n",
       "                                                                          2035  \\\n",
       "model             scenario     region variable      unit      meta               \n",
       "WITCH-GLOBIOM 4.2 ADVANCE_INDC World  Emissions|VOC Mt VOC/yr 0.0   102.038923   \n",
       "\n",
       "                                                                         2040  \\\n",
       "model             scenario     region variable      unit      meta              \n",
       "WITCH-GLOBIOM 4.2 ADVANCE_INDC World  Emissions|VOC Mt VOC/yr 0.0   89.302542   \n",
       "\n",
       "                                                                        2045  \\\n",
       "model             scenario     region variable      unit      meta             \n",
       "WITCH-GLOBIOM 4.2 ADVANCE_INDC World  Emissions|VOC Mt VOC/yr 0.0   76.60488   \n",
       "\n",
       "                                                                         2050  \\\n",
       "model             scenario     region variable      unit      meta              \n",
       "WITCH-GLOBIOM 4.2 ADVANCE_INDC World  Emissions|VOC Mt VOC/yr 0.0   62.855685   \n",
       "\n",
       "                                                                         2055  \\\n",
       "model             scenario     region variable      unit      meta              \n",
       "WITCH-GLOBIOM 4.2 ADVANCE_INDC World  Emissions|VOC Mt VOC/yr 0.0   58.440154   \n",
       "\n",
       "                                                                         2060  \\\n",
       "model             scenario     region variable      unit      meta              \n",
       "WITCH-GLOBIOM 4.2 ADVANCE_INDC World  Emissions|VOC Mt VOC/yr 0.0   56.971497   \n",
       "\n",
       "                                                                         2065  \\\n",
       "model             scenario     region variable      unit      meta              \n",
       "WITCH-GLOBIOM 4.2 ADVANCE_INDC World  Emissions|VOC Mt VOC/yr 0.0   55.075327   \n",
       "\n",
       "                                                                         2070  \\\n",
       "model             scenario     region variable      unit      meta              \n",
       "WITCH-GLOBIOM 4.2 ADVANCE_INDC World  Emissions|VOC Mt VOC/yr 0.0   53.101911   \n",
       "\n",
       "                                                                         2075  \\\n",
       "model             scenario     region variable      unit      meta              \n",
       "WITCH-GLOBIOM 4.2 ADVANCE_INDC World  Emissions|VOC Mt VOC/yr 0.0   51.074418   \n",
       "\n",
       "                                                                         2080  \\\n",
       "model             scenario     region variable      unit      meta              \n",
       "WITCH-GLOBIOM 4.2 ADVANCE_INDC World  Emissions|VOC Mt VOC/yr 0.0   49.558506   \n",
       "\n",
       "                                                                         2085  \\\n",
       "model             scenario     region variable      unit      meta              \n",
       "WITCH-GLOBIOM 4.2 ADVANCE_INDC World  Emissions|VOC Mt VOC/yr 0.0   47.602518   \n",
       "\n",
       "                                                                         2090  \\\n",
       "model             scenario     region variable      unit      meta              \n",
       "WITCH-GLOBIOM 4.2 ADVANCE_INDC World  Emissions|VOC Mt VOC/yr 0.0   45.377459   \n",
       "\n",
       "                                                                        2095  \\\n",
       "model             scenario     region variable      unit      meta             \n",
       "WITCH-GLOBIOM 4.2 ADVANCE_INDC World  Emissions|VOC Mt VOC/yr 0.0   43.08547   \n",
       "\n",
       "                                                                         2100  \n",
       "model             scenario     region variable      unit      meta             \n",
       "WITCH-GLOBIOM 4.2 ADVANCE_INDC World  Emissions|VOC Mt VOC/yr 0.0   41.400122  "
      ]
     },
     "execution_count": 14,
     "metadata": {},
     "output_type": "execute_result"
    }
   ],
   "source": [
    "sr15_data_closest_rms.filter(variable=\"Emissions|VOC\", **example_model_scen).timeseries()"
   ]
  },
  {
   "cell_type": "markdown",
   "metadata": {},
   "source": [
    "As expected, the cruncher has picked out the scenario which matches and returned its VOC timeseries. This can also be seen in a plot."
   ]
  },
  {
   "cell_type": "code",
   "execution_count": null,
   "metadata": {},
   "outputs": [],
   "source": [
    "pkwargs = {\"color\": \"scenario\", \"linewidth\": 2}\n",
    "\n",
    "fig = plt.figure(figsize=(16, 9))\n",
    "ax = fig.add_subplot(121)\n",
    "sr15_data_closest_rms.filter(variable=\"*CO2\").line_plot(ax=ax, **pkwargs)\n",
    "# sr15_data_closest_rms.filter(variable=\"*CO2\", **example_model_scen).line_plot(ax=ax, color=\"black\")\n",
    "example_input.filter(variable=\"*CO2\").line_plot(ax=ax, color=\"black\", linestyle=\"--\", dashes=(10, 15))\n",
    "ax.set_title(\"Database CO$_2$ and lead emissions timeseries\")\n",
    "\n",
    "ax = fig.add_subplot(122)\n",
    "sr15_data_closest_rms.filter(variable=\"*VOC\").line_plot(ax=ax, **pkwargs)\n",
    "example_input_filled.filter(variable=\"*VOC\").line_plot(ax=ax, color=\"black\", linestyle=\"--\", dashes=(10, 15))\n",
    "ax.set_title(\"Database VOC and filled follower emissions timeseries\")\n",
    "\n",
    "plt.tight_layout()"
   ]
  },
  {
   "cell_type": "markdown",
   "metadata": {},
   "source": [
    "Now we can use our filler to infill other timeseries."
   ]
  },
  {
   "cell_type": "code",
   "execution_count": null,
   "metadata": {},
   "outputs": [],
   "source": [
    "filler_input = sr15_data.filter(model=\"MESSAGEix-GLOBIOM 1.0\", scenario=\"CD-LINKS_NPi2020_1600\")"
   ]
  },
  {
   "cell_type": "markdown",
   "metadata": {},
   "source": [
    "This scenario is missing `Emissions|VOC`."
   ]
  },
  {
   "cell_type": "code",
   "execution_count": null,
   "metadata": {},
   "outputs": [],
   "source": [
    "filler_input.filter(variable=\"Emissions|VOC\").data"
   ]
  },
  {
   "cell_type": "code",
   "execution_count": null,
   "metadata": {},
   "outputs": [],
   "source": [
    "filler_input_filled = filler(filler_input)"
   ]
  },
  {
   "cell_type": "code",
   "execution_count": null,
   "metadata": {},
   "outputs": [],
   "source": [
    "pkwargs = {\"color\": \"scenario\", \"linewidth\": 2}\n",
    "\n",
    "fig = plt.figure(figsize=(16, 9))\n",
    "ax = fig.add_subplot(121)\n",
    "sr15_data_closest_rms.filter(variable=\"*CO2\").line_plot(ax=ax, **pkwargs)\n",
    "# sr15_data_closest_rms.filter(variable=\"*CO2\", **example_model_scen).line_plot(ax=ax, color=\"black\")\n",
    "filler_input.filter(variable=\"*CO2\").line_plot(ax=ax, color=\"black\", linestyle=\"--\", dashes=(10, 15))\n",
    "ax.set_title(\"Database CO$_2$ and lead emissions timeseries\")\n",
    "\n",
    "ax = fig.add_subplot(122)\n",
    "sr15_data_closest_rms.filter(variable=\"*VOC\").line_plot(ax=ax, **pkwargs)\n",
    "filler_input_filled.filter(variable=\"*VOC\").line_plot(ax=ax, color=\"black\", linestyle=\"--\", dashes=(10, 15))\n",
    "ax.set_title(\"Database VOC and filled follower emissions timeseries\")\n",
    "\n",
    "plt.tight_layout()"
   ]
  },
  {
   "cell_type": "markdown",
   "metadata": {},
   "source": [
    "As we can see, on an RMS basis our input timeseries is closest to the 'ADVANCE_2030_Med2C' scenario and hence its `Emissions|VOC` pathway is returned."
   ]
  },
  {
   "cell_type": "code",
   "execution_count": null,
   "metadata": {},
   "outputs": [],
   "source": [
    "filler_input_filled.timeseries()"
   ]
  },
  {
   "cell_type": "code",
   "execution_count": null,
   "metadata": {},
   "outputs": [],
   "source": [
    "sr15_data_closest_rms.filter(scenario=\"ADVANCE_2030_Med2C\", variable=\"Emissions|VOC\").timeseries()"
   ]
  },
  {
   "cell_type": "markdown",
   "metadata": {},
   "source": [
    "### Rolling Window Quantile cruncher\n",
    "\n",
    "This cruncher uses the 'rolling window quantile' methodology. It is described by its docstring."
   ]
  },
  {
   "cell_type": "code",
   "execution_count": null,
   "metadata": {},
   "outputs": [],
   "source": [
    "print(silicone.database_crunchers.DatabaseCruncherQuantileRollingWindows.__doc__)\n",
    "# silicone.database_crunchers.DatabaseCruncherQuantileRollingWindows?"
   ]
  },
  {
   "cell_type": "markdown",
   "metadata": {},
   "source": [
    "#### Infilling\n",
    "\n",
    "Because it relies on quantile analysis, this database does best with large amounts of data. Hence we keep quite a lot of emissions timeseries before beginning."
   ]
  },
  {
   "cell_type": "code",
   "execution_count": null,
   "metadata": {},
   "outputs": [],
   "source": [
    "sr15_data_quantile = sr15_data.copy().filter(\n",
    "    model=[\"WITCH-GLOBIOM 4.2\"], variable=[\"Emissions|CO2\", \"Emissions|VOC\"]\n",
    ")"
   ]
  },
  {
   "cell_type": "code",
   "execution_count": null,
   "metadata": {},
   "outputs": [],
   "source": [
    "cruncher = silicone.database_crunchers.DatabaseCruncherQuantileRollingWindows(sr15_data_quantile)"
   ]
  },
  {
   "cell_type": "code",
   "execution_count": null,
   "metadata": {},
   "outputs": [],
   "source": [
    "filler = cruncher.derive_relationship(\"Emissions|VOC\", [\"Emissions|CO2\"])\n",
    "print(filler.__doc__)\n",
    "# filler?"
   ]
  },
  {
   "cell_type": "markdown",
   "metadata": {},
   "source": [
    "Now we can infill."
   ]
  },
  {
   "cell_type": "code",
   "execution_count": null,
   "metadata": {},
   "outputs": [],
   "source": [
    "filler_data = sr15_data.filter(\n",
    "    model=\"MESSAGEix-GLOBIOM 1.0\", \n",
    "    scenario=\"CD-LINKS_NPi2020_1600\", \n",
    "    variable=[\"Emissions|CO2\"]\n",
    ")"
   ]
  },
  {
   "cell_type": "markdown",
   "metadata": {},
   "source": [
    "The `filler_data` is missing `Emissions|VOC`."
   ]
  },
  {
   "cell_type": "code",
   "execution_count": null,
   "metadata": {},
   "outputs": [],
   "source": [
    "filler_data.filter(variable=\"Emissions|VOC\").data"
   ]
  },
  {
   "cell_type": "markdown",
   "metadata": {},
   "source": [
    "The rolling windows quantile can only downscale on the timesteps in the database. If this isn't the case, we will receive a `ValueError`."
   ]
  },
  {
   "cell_type": "code",
   "execution_count": null,
   "metadata": {},
   "outputs": [],
   "source": [
    "try:\n",
    "    filler(filler_data)\n",
    "except ValueError:\n",
    "    traceback.print_exc(limit=0, chain=False)"
   ]
  },
  {
   "cell_type": "markdown",
   "metadata": {},
   "source": [
    "We can fix this by filtering first."
   ]
  },
  {
   "cell_type": "code",
   "execution_count": null,
   "metadata": {},
   "outputs": [],
   "source": [
    "# NBVAL_IGNORE_OUTPUT\n",
    "filler_data = filler_data.filter(year=sr15_data_quantile[\"year\"].unique())"
   ]
  },
  {
   "cell_type": "code",
   "execution_count": null,
   "metadata": {},
   "outputs": [],
   "source": [
    "filler_data.timeseries()"
   ]
  },
  {
   "cell_type": "code",
   "execution_count": null,
   "metadata": {},
   "outputs": [],
   "source": [
    "filler_data_filled = filler(filler_data)\n",
    "filler_data_filled.head()"
   ]
  },
  {
   "cell_type": "code",
   "execution_count": null,
   "metadata": {},
   "outputs": [],
   "source": [
    "pkwargs = {\"color\": \"scenario\", \"linewidth\": 2}\n",
    "\n",
    "fig = plt.figure(figsize=(16, 9))\n",
    "ax = fig.add_subplot(121)\n",
    "sr15_data_quantile.filter(variable=\"*CO2\").line_plot(ax=ax, **pkwargs)\n",
    "# sr15_data_closest_rms.filter(variable=\"*CO2\", **example_model_scen).line_plot(ax=ax, color=\"black\")\n",
    "filler_data.filter(variable=\"*CO2\").line_plot(ax=ax, color=\"black\", linestyle=\"--\", dashes=(10, 15))\n",
    "ax.set_title(\"Database CO$_2$ and lead emissions timeseries\")\n",
    "\n",
    "ax = fig.add_subplot(122)\n",
    "sr15_data_quantile.filter(variable=\"*VOC\").line_plot(ax=ax, **pkwargs)\n",
    "filler_data_filled.filter(variable=\"*VOC\").line_plot(ax=ax, color=\"black\", linestyle=\"--\", dashes=(10, 15))\n",
    "ax.set_title(\"Database VOC and filled follower emissions timeseries\")\n",
    "\n",
    "plt.tight_layout()"
   ]
  },
  {
   "cell_type": "markdown",
   "metadata": {},
   "source": [
    "#### Recovering the data you put in"
   ]
  },
  {
   "cell_type": "markdown",
   "metadata": {},
   "source": [
    "Because of the averaging mechanism, the cruncher will only precisely reproduce the input data when only one timeseries is put into it. With multiple data series, this is not guaranteed, although will happen in the limit case of many windows. \n",
    "\n",
    "This section does not illustrate new functionality, merely investigates the mathematical effects of changing the number of windows."
   ]
  },
  {
   "cell_type": "code",
   "execution_count": null,
   "metadata": {},
   "outputs": [],
   "source": [
    "# NBVAL_IGNORE_OUTPUT\n",
    "# Multiple data are input - the 50th percentile and nwindows=10 is the default\n",
    "filler_data = sr15_data_quantile.filter(scenario='ADVANCE_2030_Med2C')\n",
    "self_cruncher = silicone.database_crunchers.DatabaseCruncherQuantileRollingWindows(sr15_data)\n",
    "self_filler_default = self_cruncher.derive_relationship(\"Emissions|VOC\", [\"Emissions|VOC\"], nwindows=10)\n",
    "infilled_quantile = self_filler_default(filler_data)\n",
    "infilled_quantile.head()"
   ]
  },
  {
   "cell_type": "markdown",
   "metadata": {},
   "source": [
    "The default behaviour shows the correct trend, but the windows-based interpolation introduces some noise."
   ]
  },
  {
   "cell_type": "code",
   "execution_count": null,
   "metadata": {
    "scrolled": true
   },
   "outputs": [],
   "source": [
    "# NBVAL_IGNORE_OUTPUT\n",
    "pkwargs = {\"color\": \"scenario\", \"linewidth\": 2}\n",
    "fig = plt.figure(figsize=(6, 6))\n",
    "ax = fig.add_subplot()\n",
    "filler_data.filter(variable='Emissions|VOC', ).line_plot(ax=ax, **pkwargs)\n",
    "infilled_quantile.filter(variable='Emissions|VOC').line_plot(ax=ax, color=\"black\", linestyle=\"--\", dashes=(8, 10))"
   ]
  },
  {
   "cell_type": "markdown",
   "metadata": {},
   "source": [
    "By increasing the windows number, we can get a higher fidelity - at the cost of more computational power and less averaging over different datapoints. "
   ]
  },
  {
   "cell_type": "code",
   "execution_count": null,
   "metadata": {},
   "outputs": [],
   "source": [
    "# NBVAL_IGNORE_OUTPUT\n",
    "# With a lower window number, the deviations become clearer\n",
    "self_filler_low_w = self_cruncher.derive_relationship(\"Emissions|VOC\", [\"Emissions|VOC\"], nwindows=2)\n",
    "infilled_low_w = self_filler_low_w(filler_data)\n",
    "infilled_low_w.head()"
   ]
  },
  {
   "cell_type": "code",
   "execution_count": null,
   "metadata": {},
   "outputs": [],
   "source": [
    "# NBVAL_IGNORE_OUTPUT\n",
    "# Higher window numbers mean that we weight data with the exact same x-value more highly, recovering the original relation\n",
    "self_filler_high_w = self_cruncher.derive_relationship(\"Emissions|VOC\", [\"Emissions|VOC\"], nwindows=30)\n",
    "infilled_high_w = self_filler_high_w(filler_data)\n",
    "infilled_high_w.head()"
   ]
  },
  {
   "cell_type": "code",
   "execution_count": null,
   "metadata": {
    "scrolled": true
   },
   "outputs": [],
   "source": [
    "# NBVAL_IGNORE_OUTPUT\n",
    "# Here the lower window count (orange) results in large deviations whereas the high window case (red) provides a close match. \n",
    "pkwargs = {\"color\": \"scenario\", \"linewidth\": 2}\n",
    "fig = plt.figure(figsize=(16, 9))\n",
    "ax = fig.add_subplot(121)\n",
    "# This line illustrates the background data informing the deviations (but confuses the plots). \n",
    "# Re-add it in place of the legend line if desired\n",
    "#sr15_data.filter(variable='Emissions|VOC',).line_plot(ax=ax, linewidth=0.1)\n",
    "\n",
    "filler_data.filter(variable='Emissions|VOC', ).line_plot(ax=ax, **pkwargs)\n",
    "infilled_quantile.filter(variable='Emissions|VOC').line_plot(ax=ax, color=\"black\", linestyle=\"--\", dashes=(8, 10))\n",
    "infilled_low_w.line_plot(ax=ax, color=\"blue\", linestyle=\"--\", dashes=(7, 8))\n",
    "infilled_high_w.line_plot(ax=ax, color=\"red\", linestyle=\"--\", dashes=(7, 8))\n",
    "plt.legend(['Original', 'n=10', 'n=2', 'n=30'])"
   ]
  },
  {
   "cell_type": "markdown",
   "metadata": {},
   "source": [
    "### Time-dependent ratio cruncher\n",
    "This cruncher uses the 'time-dependent ratio' methodology. It is described by its docstring."
   ]
  },
  {
   "cell_type": "code",
   "execution_count": null,
   "metadata": {},
   "outputs": [],
   "source": [
    "print(silicone.database_crunchers.DatabaseCruncherTimeDepRatio.__doc__)"
   ]
  },
  {
   "cell_type": "markdown",
   "metadata": {},
   "source": [
    "#### Infilling\n",
    "This technique is extracts only a single constant multiplier from all data fed in to the cruncher, so additional data does not radically change how it behaves. We will use the same amount of data as in the previous case for comparison. This cruncher works well for cases like splitting groups of gases into constituent parts, but poorly for gases which may have negative emissions. "
   ]
  },
  {
   "cell_type": "code",
   "execution_count": null,
   "metadata": {},
   "outputs": [],
   "source": [
    "sr15_data_tdr = sr15_data.copy().filter(\n",
    "    model=[\"WITCH-GLOBIOM 4.2\"], \n",
    "    variable=[\"Emissions|CO2\", \"Emissions|VOC\", \"Emissions|CH4\" ,\"Emissions|HCF*\"]\n",
    ")"
   ]
  },
  {
   "cell_type": "code",
   "execution_count": null,
   "metadata": {
    "scrolled": true
   },
   "outputs": [],
   "source": [
    "cruncher = silicone.database_crunchers.DatabaseCruncherTimeDepRatio(sr15_data_tdr)\n",
    "filler = cruncher.derive_relationship(\"Emissions|VOC\", [\"Emissions|CO2\"])\n",
    "print(filler.__doc__)"
   ]
  },
  {
   "cell_type": "code",
   "execution_count": null,
   "metadata": {},
   "outputs": [],
   "source": [
    "# NBVAL_IGNORE_OUTPUT\n",
    "filler_data = sr15_data.filter(\n",
    "    model=\"MESSAGEix-GLOBIOM 1.0\", \n",
    "    scenario=\"CD-LINKS_NPi2020_1600\", \n",
    "    variable=[\"Emissions|CO2\"]\n",
    ")\n",
    "filler_data = filler_data.filter(year=sr15_data_quantile[\"year\"].unique())\n",
    "filler_data.data"
   ]
  },
  {
   "cell_type": "code",
   "execution_count": null,
   "metadata": {
    "scrolled": true
   },
   "outputs": [],
   "source": [
    "# NBVAL_IGNORE_OUTPUT\n",
    "results= filler(filler_data)\n",
    "results.head()"
   ]
  },
  {
   "cell_type": "markdown",
   "metadata": {},
   "source": [
    "We observe that the results become anomalous when the lead emissions may be negative:"
   ]
  },
  {
   "cell_type": "code",
   "execution_count": null,
   "metadata": {
    "scrolled": true
   },
   "outputs": [],
   "source": [
    "pkwargs = {\"color\": \"scenario\", \"linewidth\": 2}\n",
    "\n",
    "fig = plt.figure(figsize=(16, 9))\n",
    "ax = fig.add_subplot(121)\n",
    "sr15_data_tdr.filter(variable=\"*CO2\").line_plot(ax=ax, **pkwargs)\n",
    "filler_data.filter(variable=\"*CO2\").line_plot(ax=ax, color=\"black\", linestyle=\"--\", dashes=(10, 15))\n",
    "ax.set_title(\"Database CO$_2$ and lead emissions timeseries\")\n",
    "\n",
    "ax = fig.add_subplot(122)\n",
    "sr15_data_tdr.filter(variable=\"*VOC\").line_plot(ax=ax, **pkwargs)\n",
    "results.filter(variable=\"*VOC\").line_plot(ax=ax, color=\"black\", linestyle=\"--\", dashes=(10, 15))\n",
    "ax.set_title(\"Database VOC and filled follower emissions timeseries\")\n",
    "\n",
    "plt.tight_layout()"
   ]
  },
  {
   "cell_type": "markdown",
   "metadata": {},
   "source": [
    "#### HFC emission splitting\n",
    "One of the features of the time-dependent ratio is that if the constituent elements consistently add up to a particular value, the infilled results will too, i.e. if for gases A, B, C we have A = B + C in all source material, then this will hold for the infilled values too. This makes it particularly appropriate for splitting gases into their constituents. "
   ]
  },
  {
   "cell_type": "code",
   "execution_count": null,
   "metadata": {},
   "outputs": [],
   "source": [
    "sr15_data_hfc = sr15_data.filter(variable=\"Emissions|HFC*\")\n",
    "sr15_data_hfc.variables()"
   ]
  },
  {
   "cell_type": "code",
   "execution_count": null,
   "metadata": {},
   "outputs": [],
   "source": [
    "# We don't have all variables for all scenarios, but by finding a scenario where we do we can make progress\n",
    "common_models = set(sr15_data_hfc.filter(variable=\"Emissions|HFC|HFC245fa\").models()).intersection(\n",
    "    set(sr15_data_hfc.filter(variable=\"Emissions|HFC\").models())\n",
    ")\n",
    "common_scenarios = set(sr15_data_hfc.filter(variable=\"Emissions|HFC|HFC245fa\", model=common_models).scenarios()).intersection(\n",
    "    set(sr15_data_hfc.filter(variable=\"Emissions|HFC\", model=common_models).scenarios())\n",
    ")\n",
    "infill_scenarios = \"GEA_Eff_1p5C\"\n",
    "#set(sr15_data_hfc.filter(variable=\"Emissions|HFC\").scenarios()) - set(sr15_data_hfc.filter(variable=\"Emissions|HFC|HFC245fa\").scenarios())\n",
    "\n",
    "infill_models ='MESSAGE V.3' \n",
    "# set(sr15_data_hfc.filter(variable=\"Emissions|HFC\").models()) - set(sr15_data_hfc.filter(variable=\"Emissions|HFC|HFC245fa\").models())\n",
    "\n",
    "infill_scenarios"
   ]
  },
  {
   "cell_type": "code",
   "execution_count": null,
   "metadata": {},
   "outputs": [],
   "source": [
    "common_years = np.arange(2010, 2105, 10)\n",
    "hfc_training_data = sr15_data_hfc.filter(model=common_models, scenario=common_scenarios, year=common_years)\n",
    "cruncher = silicone.database_crunchers.DatabaseCruncherTimeDepRatio(hfc_training_data)\n",
    "filler = cruncher.derive_relationship(\"Emissions|HFC|HFC245fa\", [\"Emissions|HFC\"])"
   ]
  },
  {
   "cell_type": "code",
   "execution_count": null,
   "metadata": {},
   "outputs": [],
   "source": [
    "to_infill = sr15_data_hfc.filter(model=infill_models, scenario=infill_scenarios, year=common_years)\n",
    "infilled = filler(to_infill)\n",
    "infilled.head()"
   ]
  },
  {
   "cell_type": "code",
   "execution_count": null,
   "metadata": {},
   "outputs": [],
   "source": [
    "# NBVAL_IGNORE_OUTPUT\n",
    "pkwargs = {\"color\": \"scenario\", \"linewidth\": 2}\n",
    "\n",
    "fig = plt.figure(figsize=(16, 9))\n",
    "ax = fig.add_subplot(121)\n",
    "hfc_training_data.filter(variable=\"*HFC\").line_plot(ax=ax, **pkwargs)\n",
    "to_infill.filter(variable=\"*HFC\").line_plot(ax=ax, color=\"black\", linestyle=\"--\", dashes=(10, 15))\n",
    "ax.set_title(\"Database HFC and lead emissions timeseries\")\n",
    "\n",
    "ax = fig.add_subplot(122)\n",
    "hfc_training_data.filter(variable=\"*HFC245fa\").line_plot(ax=ax, **pkwargs)\n",
    "infilled.filter(variable=\"*HFC245fa\").line_plot(ax=ax, color=\"black\", linestyle=\"--\", dashes=(10, 15))\n",
    "ax.set_title(\"Database HFC245fa and filled follower emissions timeseries\")\n",
    "\n",
    "plt.tight_layout()"
   ]
  },
  {
   "cell_type": "markdown",
   "metadata": {},
   "source": [
    "### Constant ratio cruncher\n",
    "This infiller simply multiples a known value by a constant, which it must be told. It must also be told the units of the value it returns. It does not require an input dataframe. "
   ]
  },
  {
   "cell_type": "code",
   "execution_count": null,
   "metadata": {},
   "outputs": [],
   "source": [
    "print(silicone.database_crunchers.DatabaseCruncherTimeDepRatio.__doc__)"
   ]
  },
  {
   "cell_type": "code",
   "execution_count": null,
   "metadata": {},
   "outputs": [],
   "source": [
    "cruncher = silicone.database_crunchers.DatabaseCruncherConstantRatio()\n",
    "filler = cruncher.derive_relationship(\"Emissions|VOC\", [\"Emissions|CO2\"], 0.5, \"kt VOC/yr\")\n",
    "print(filler.__doc__)"
   ]
  },
  {
   "cell_type": "code",
   "execution_count": null,
   "metadata": {},
   "outputs": [],
   "source": [
    "to_infill = sr15_data.filter(model=infill_models)\n",
    "infilled = filler(to_infill)\n",
    "infilled.head()"
   ]
  },
  {
   "cell_type": "markdown",
   "metadata": {},
   "source": [
    "The values returned are simply the input, scaled by a factor. "
   ]
  },
  {
   "cell_type": "code",
   "execution_count": null,
   "metadata": {},
   "outputs": [],
   "source": [
    "# NBVAL_IGNORE_OUTPUT\n",
    "pkwargs = {\"color\": \"scenario\", \"linewidth\": 2}\n",
    "\n",
    "fig = plt.figure(figsize=(16, 9))\n",
    "ax = fig.add_subplot(121)\n",
    "infilled.line_plot(ax=ax, **pkwargs)\n",
    "to_infill.filter(variable=\"*CO2\").line_plot(ax=ax, color=\"black\", linestyle=\"--\", dashes=(1, 1))\n",
    "ax.set_title(\"Database HFC and lead emissions timeseries\")\n"
   ]
  }
 ],
 "metadata": {
  "kernelspec": {
   "display_name": "Python 3",
   "language": "python",
   "name": "python3"
  },
  "language_info": {
   "codemirror_mode": {
    "name": "ipython",
    "version": 3
   },
   "file_extension": ".py",
   "mimetype": "text/x-python",
   "name": "python",
   "nbconvert_exporter": "python",
   "pygments_lexer": "ipython3",
   "version": "3.7.4"
  }
 },
 "nbformat": 4,
 "nbformat_minor": 2
}
