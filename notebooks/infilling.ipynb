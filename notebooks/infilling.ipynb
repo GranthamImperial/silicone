{
 "cells": [
  {
   "cell_type": "markdown",
   "metadata": {},
   "source": [
    "# Crunchers\n",
    "\n",
    "In this notebook we demonstrate crunchers, silicone's most fundamental infilling methods. You will need to install silicone from https://github.com/znicholls/silicone/ in order to run this code. "
   ]
  },
  {
   "cell_type": "markdown",
   "metadata": {},
   "source": [
    "## Imports"
   ]
  },
  {
   "cell_type": "code",
   "execution_count": 1,
   "metadata": {},
   "outputs": [
    {
     "data": {
      "application/javascript": [
       "IPython.OutputArea.prototype._should_scroll = function(lines) { return false; }"
      ],
      "text/plain": [
       "<IPython.core.display.Javascript object>"
      ]
     },
     "metadata": {},
     "output_type": "display_data"
    },
    {
     "name": "stderr",
     "output_type": "stream",
     "text": [
      "pyam - INFO: Running in a notebook, setting `pyam` logging level to `logging.INFO` and adding stderr handler\n"
     ]
    }
   ],
   "source": [
    "# NBVAL_IGNORE_OUTPUT\n",
    "import os.path\n",
    "import traceback\n",
    "\n",
    "import pandas as pd\n",
    "import pyam\n",
    "import matplotlib.pyplot as plt\n",
    "import numpy as np\n",
    "\n",
    "import silicone.database_crunchers\n",
    "from silicone.utils import (\n",
    "    _get_unit_of_variable,\n",
    "    find_matching_scenarios,\n",
    "    _make_interpolator,\n",
    "    _make_wide_db\n",
    ")"
   ]
  },
  {
   "cell_type": "markdown",
   "metadata": {},
   "source": [
    "## Constants"
   ]
  },
  {
   "cell_type": "code",
   "execution_count": 2,
   "metadata": {},
   "outputs": [],
   "source": [
    "SR15_SCENARIOS = \"./sr15_scenarios.csv\""
   ]
  },
  {
   "cell_type": "markdown",
   "metadata": {},
   "source": [
    "## Example data\n",
    "\n",
    "Here we pull some example data by downloading a selection of the SR1.5 scenarios."
   ]
  },
  {
   "cell_type": "code",
   "execution_count": 3,
   "metadata": {},
   "outputs": [],
   "source": [
    "def get_sr15_scenarios(output_file):\n",
    "    conn = pyam.iiasa.Connection(\"iamc15\")\n",
    "    valid_model_ids = [\n",
    "        \"MESSAGE*\",\n",
    "        \"AIM*\",\n",
    "        \"C-ROADS*\",\n",
    "        \"GCAM*\",\n",
    "        #\"IEA*\",\n",
    "        #\"IMAGE*\",\n",
    "        #\"MERGE*\",\n",
    "        #\"POLES*\",\n",
    "        #\"REMIND*\",\n",
    "        \"WITCH*\"\n",
    "    ]\n",
    "    variables_to_fetch = [\n",
    "        \"Emissions*\",\n",
    "    ]\n",
    "    for model in valid_model_ids:\n",
    "        print(\"Fetching data for {}\".format(model))\n",
    "        for variable in variables_to_fetch:\n",
    "            print(\"Fetching {}\".format(variable))\n",
    "            var_df = conn.query(model=model, variable=variable, region='World')\n",
    "            try:\n",
    "                df.append(var_df, inplace=True)\n",
    "            except NameError:\n",
    "                df = pyam.IamDataFrame(var_df)\n",
    "\n",
    "    print(\"Writing to {}\".format(output_file))\n",
    "    df.to_csv(output_file)"
   ]
  },
  {
   "cell_type": "code",
   "execution_count": 4,
   "metadata": {},
   "outputs": [],
   "source": [
    "# NBVAL_IGNORE_OUTPUT\n",
    "if not os.path.isfile(SR15_SCENARIOS):\n",
    "    get_sr15_scenarios(SR15_SCENARIOS)"
   ]
  },
  {
   "cell_type": "markdown",
   "metadata": {},
   "source": [
    "### Starting point\n",
    "\n",
    "Our starting point is the test data, loaded a `pyam.IamDataFrame`."
   ]
  },
  {
   "cell_type": "code",
   "execution_count": null,
   "metadata": {},
   "outputs": [
    {
     "name": "stderr",
     "output_type": "stream",
     "text": [
      "pyam.utils - INFO: Reading `./sr15_scenarios.csv`\n"
     ]
    }
   ],
   "source": [
    "# NBVAL_IGNORE_OUTPUT\n",
    "sr15_data = pyam.IamDataFrame(SR15_SCENARIOS)\n",
    "sr15_data.timeseries().head()"
   ]
  },
  {
   "cell_type": "markdown",
   "metadata": {},
   "source": [
    "## Crunchers\n",
    "\n",
    "Silicone's 'crunchers' are used to determine the relationship between a 'follower variable' and 'lead variable(s)' from a given database. The 'follower variable' is the variable for which we want to generate data e.g. `Emissions|C3F8` while the 'lead variable(s)' is the variable we want to use in order to infer a timeseries of the 'follower variable'. The lead variable is typically CO$_2$ but might be a more complex combination of gases e.g. CO$_2$, CH$_4$ and N$_2$O. \n",
    "\n",
    "Each cruncher has a `derive_relationship` method. Its docstring describes what it does."
   ]
  },
  {
   "cell_type": "code",
   "execution_count": null,
   "metadata": {},
   "outputs": [],
   "source": [
    "print(silicone.database_crunchers.base._DatabaseCruncher.derive_relationship.__doc__)\n",
    "# # an alternative interface is shown if you use the line below instead\n",
    "# silicone.database_crunchers.base._DatabaseCruncher.derive_relationship?"
   ]
  },
  {
   "cell_type": "markdown",
   "metadata": {},
   "source": [
    "These crunchers are best explored by looking at the examples below."
   ]
  },
  {
   "cell_type": "markdown",
   "metadata": {},
   "source": [
    "### Closest RMS cruncher\n",
    "\n",
    "This cruncher uses the 'closest RMS' methodology. It is described by its docstring."
   ]
  },
  {
   "cell_type": "code",
   "execution_count": null,
   "metadata": {
    "scrolled": true
   },
   "outputs": [],
   "source": [
    "print(silicone.database_crunchers.DatabaseCruncherRMSClosest.__doc__)\n",
    "# silicone.database_crunchers.DatabaseCruncherRMSClosest?"
   ]
  },
  {
   "cell_type": "markdown",
   "metadata": {},
   "source": [
    "#### Infilling"
   ]
  },
  {
   "cell_type": "markdown",
   "metadata": {},
   "source": [
    "Firstly, let's cut the database down to a size that is comprehensible."
   ]
  },
  {
   "cell_type": "code",
   "execution_count": null,
   "metadata": {},
   "outputs": [],
   "source": [
    "# NBVAL_IGNORE_OUTPUT\n",
    "sr15_data_closest_rms = sr15_data.filter(model=[\"WITCH-GLOBIOM 4.2\"])"
   ]
  },
  {
   "cell_type": "markdown",
   "metadata": {},
   "source": [
    "Now we can crunch the relationship between e.g. `Emissions|CO2` and `Emissions|VOC`."
   ]
  },
  {
   "cell_type": "code",
   "execution_count": null,
   "metadata": {},
   "outputs": [],
   "source": [
    "# NBVAL_IGNORE_OUTPUT\n",
    "cruncher = silicone.database_crunchers.DatabaseCruncherRMSClosest(sr15_data_closest_rms)"
   ]
  },
  {
   "cell_type": "code",
   "execution_count": null,
   "metadata": {},
   "outputs": [],
   "source": [
    "filler = cruncher.derive_relationship(\"Emissions|VOC\", [\"Emissions|CO2\"])\n",
    "print(filler.__doc__)\n",
    "# filler info:"
   ]
  },
  {
   "cell_type": "markdown",
   "metadata": {},
   "source": [
    "Now we can do some infilling. As a sanity check, we firstly make sure that if we pass in a CO$_2$ timeseries which is already in the database, we get back its VOC emissions timeseries. "
   ]
  },
  {
   "cell_type": "code",
   "execution_count": null,
   "metadata": {},
   "outputs": [],
   "source": [
    "example_model_scen = {\n",
    "    \"model\": \"WITCH-GLOBIOM 4.2\",\n",
    "    \"scenario\": \"ADVANCE_INDC\",\n",
    "}\n",
    "example_input = sr15_data_closest_rms.filter(**example_model_scen).data\n",
    "example_input[\"model\"] = \"example\"\n",
    "example_input[\"scenario\"] = \"example\"\n",
    "example_input = pyam.IamDataFrame(example_input)"
   ]
  },
  {
   "cell_type": "code",
   "execution_count": null,
   "metadata": {},
   "outputs": [],
   "source": [
    "# NBVAL_IGNORE_OUTPUT\n",
    "example_input_filled = filler(example_input)"
   ]
  },
  {
   "cell_type": "code",
   "execution_count": null,
   "metadata": {},
   "outputs": [],
   "source": [
    "#NBVAL_IGNORE_OUTPUT\n",
    "example_input_filled.timeseries()"
   ]
  },
  {
   "cell_type": "code",
   "execution_count": null,
   "metadata": {},
   "outputs": [],
   "source": [
    "#NBVAL_IGNORE_OUTPUT\n",
    "sr15_data_closest_rms.filter(variable=\"Emissions|VOC\", **example_model_scen).timeseries()"
   ]
  },
  {
   "cell_type": "markdown",
   "metadata": {},
   "source": [
    "As expected, the cruncher has picked out the scenario which matches and returned its VOC timeseries. This can also be seen in a plot."
   ]
  },
  {
   "cell_type": "code",
   "execution_count": null,
   "metadata": {},
   "outputs": [],
   "source": [
    "# NBVAL_IGNORE_OUTPUT\n",
    "pkwargs = {\"color\": \"scenario\", \"linewidth\": 2}\n",
    "\n",
    "fig = plt.figure(figsize=(16, 9))\n",
    "ax = fig.add_subplot(121)\n",
    "sr15_data_closest_rms.filter(variable=\"*CO2\").line_plot(ax=ax, **pkwargs)\n",
    "# sr15_data_closest_rms.filter(variable=\"*CO2\", **example_model_scen).line_plot(ax=ax, color=\"black\")\n",
    "example_input.filter(variable=\"*CO2\").line_plot(ax=ax, color=\"black\", linestyle=\"--\", dashes=(10, 15))\n",
    "ax.set_title(\"Database CO$_2$ and lead emissions timeseries\")\n",
    "\n",
    "ax = fig.add_subplot(122)\n",
    "sr15_data_closest_rms.filter(variable=\"*VOC\").line_plot(ax=ax, **pkwargs)\n",
    "example_input_filled.filter(variable=\"*VOC\").line_plot(ax=ax, color=\"black\", linestyle=\"--\", dashes=(10, 15))\n",
    "ax.set_title(\"Database VOC and filled follower emissions timeseries\")\n",
    "\n",
    "plt.tight_layout()"
   ]
  },
  {
   "cell_type": "markdown",
   "metadata": {},
   "source": [
    "Now we can use our filler to infill other timeseries."
   ]
  },
  {
   "cell_type": "code",
   "execution_count": null,
   "metadata": {},
   "outputs": [],
   "source": [
    "filler_input = sr15_data.filter(model=\"MESSAGEix-GLOBIOM 1.0\", scenario=\"CD-LINKS_NPi2020_1600\")"
   ]
  },
  {
   "cell_type": "markdown",
   "metadata": {},
   "source": [
    "This scenario is missing `Emissions|VOC`."
   ]
  },
  {
   "cell_type": "code",
   "execution_count": null,
   "metadata": {},
   "outputs": [],
   "source": [
    "#NBVAL_IGNORE_OUTPUT\n",
    "filler_input.filter(variable=\"Emissions|VOC\").data"
   ]
  },
  {
   "cell_type": "code",
   "execution_count": null,
   "metadata": {},
   "outputs": [],
   "source": [
    "filler_input_filled = filler(filler_input)"
   ]
  },
  {
   "cell_type": "code",
   "execution_count": null,
   "metadata": {},
   "outputs": [],
   "source": [
    "# NBVAL_IGNORE_OUTPUT\n",
    "pkwargs = {\"color\": \"scenario\", \"linewidth\": 2}\n",
    "\n",
    "fig = plt.figure(figsize=(16, 9))\n",
    "ax = fig.add_subplot(121)\n",
    "sr15_data_closest_rms.filter(variable=\"*CO2\").line_plot(ax=ax, **pkwargs)\n",
    "# sr15_data_closest_rms.filter(variable=\"*CO2\", **example_model_scen).line_plot(ax=ax, color=\"black\")\n",
    "filler_input.filter(variable=\"*CO2\").line_plot(ax=ax, color=\"black\", linestyle=\"--\", dashes=(10, 15))\n",
    "ax.set_title(\"Database CO$_2$ and lead emissions timeseries\")\n",
    "\n",
    "ax = fig.add_subplot(122)\n",
    "sr15_data_closest_rms.filter(variable=\"*VOC\").line_plot(ax=ax, **pkwargs)\n",
    "filler_input_filled.filter(variable=\"*VOC\").line_plot(ax=ax, color=\"black\", linestyle=\"--\", dashes=(10, 15))\n",
    "ax.set_title(\"Database VOC and filled follower emissions timeseries\")\n",
    "\n",
    "plt.tight_layout()"
   ]
  },
  {
   "cell_type": "markdown",
   "metadata": {},
   "source": [
    "As we can see, on an RMS basis our input timeseries is closest to the 'ADVANCE_2030_Med2C' scenario and hence its `Emissions|VOC` pathway is returned."
   ]
  },
  {
   "cell_type": "code",
   "execution_count": null,
   "metadata": {},
   "outputs": [],
   "source": [
    "#NBVAL_IGNORE_OUTPUT\n",
    "filler_input_filled.timeseries()"
   ]
  },
  {
   "cell_type": "code",
   "execution_count": null,
   "metadata": {},
   "outputs": [],
   "source": [
    "#NBVAL_IGNORE_OUTPUT\n",
    "sr15_data_closest_rms.filter(scenario=\"ADVANCE_2030_Med2C\", variable=\"Emissions|VOC\").timeseries()"
   ]
  },
  {
   "cell_type": "markdown",
   "metadata": {},
   "source": [
    "### Rolling Window Quantile cruncher\n",
    "\n",
    "This cruncher uses the 'rolling window quantile' methodology. It is described by its docstring."
   ]
  },
  {
   "cell_type": "code",
   "execution_count": null,
   "metadata": {},
   "outputs": [],
   "source": [
    "print(silicone.database_crunchers.DatabaseCruncherQuantileRollingWindows.__doc__)\n",
    "# silicone.database_crunchers.DatabaseCruncherQuantileRollingWindows?"
   ]
  },
  {
   "cell_type": "markdown",
   "metadata": {},
   "source": [
    "#### Infilling\n",
    "\n",
    "Because it relies on quantile analysis, this database does best with large amounts of data. Hence we keep quite a lot of emissions timeseries before beginning."
   ]
  },
  {
   "cell_type": "code",
   "execution_count": null,
   "metadata": {},
   "outputs": [],
   "source": [
    "sr15_data_quantile = sr15_data.copy().filter(\n",
    "    model=[\"WITCH-GLOBIOM 4.2\"], variable=[\"Emissions|CO2\", \"Emissions|VOC\"]\n",
    ")"
   ]
  },
  {
   "cell_type": "code",
   "execution_count": null,
   "metadata": {},
   "outputs": [],
   "source": [
    "cruncher = silicone.database_crunchers.DatabaseCruncherQuantileRollingWindows(sr15_data_quantile)"
   ]
  },
  {
   "cell_type": "code",
   "execution_count": null,
   "metadata": {},
   "outputs": [],
   "source": [
    "filler = cruncher.derive_relationship(\"Emissions|VOC\", [\"Emissions|CO2\"])\n",
    "print(filler.__doc__)\n",
    "# filler?"
   ]
  },
  {
   "cell_type": "markdown",
   "metadata": {},
   "source": [
    "Now we can infill."
   ]
  },
  {
   "cell_type": "code",
   "execution_count": null,
   "metadata": {},
   "outputs": [],
   "source": [
    "filler_data = sr15_data.filter(\n",
    "    model=\"MESSAGEix-GLOBIOM 1.0\", \n",
    "    scenario=\"CD-LINKS_NPi2020_1600\", \n",
    "    variable=[\"Emissions|CO2\"]\n",
    ")"
   ]
  },
  {
   "cell_type": "markdown",
   "metadata": {},
   "source": [
    "The `filler_data` is missing `Emissions|VOC`."
   ]
  },
  {
   "cell_type": "code",
   "execution_count": null,
   "metadata": {},
   "outputs": [],
   "source": [
    "#NBVAL_IGNORE_OUTPUT\n",
    "filler_data.filter(variable=\"Emissions|VOC\").data"
   ]
  },
  {
   "cell_type": "markdown",
   "metadata": {},
   "source": [
    "The rolling windows quantile can only downscale on the timesteps in the database. If this isn't the case, we will receive a `ValueError`."
   ]
  },
  {
   "cell_type": "code",
   "execution_count": null,
   "metadata": {},
   "outputs": [],
   "source": [
    "try:\n",
    "    filler(filler_data)\n",
    "except ValueError:\n",
    "    traceback.print_exc(limit=0, chain=False)"
   ]
  },
  {
   "cell_type": "markdown",
   "metadata": {},
   "source": [
    "We can fix this by filtering first."
   ]
  },
  {
   "cell_type": "code",
   "execution_count": null,
   "metadata": {},
   "outputs": [],
   "source": [
    "# NBVAL_IGNORE_OUTPUT\n",
    "filler_data = filler_data.filter(year=sr15_data_quantile[\"year\"].unique())"
   ]
  },
  {
   "cell_type": "code",
   "execution_count": null,
   "metadata": {},
   "outputs": [],
   "source": [
    "#NBVAL_IGNORE_OUTPUT\n",
    "filler_data.timeseries()"
   ]
  },
  {
   "cell_type": "code",
   "execution_count": null,
   "metadata": {},
   "outputs": [],
   "source": [
    "#NBVAL_IGNORE_OUTPUT\n",
    "filler_data_filled = filler(filler_data)\n",
    "filler_data_filled.head()"
   ]
  },
  {
   "cell_type": "code",
   "execution_count": null,
   "metadata": {},
   "outputs": [],
   "source": [
    "pkwargs = {\"color\": \"scenario\", \"linewidth\": 2}\n",
    "\n",
    "fig = plt.figure(figsize=(16, 9))\n",
    "ax = fig.add_subplot(121)\n",
    "sr15_data_quantile.filter(variable=\"*CO2\").line_plot(ax=ax, **pkwargs)\n",
    "# sr15_data_closest_rms.filter(variable=\"*CO2\", **example_model_scen).line_plot(ax=ax, color=\"black\")\n",
    "filler_data.filter(variable=\"*CO2\").line_plot(ax=ax, color=\"black\", linestyle=\"--\", dashes=(10, 15))\n",
    "ax.set_title(\"Database CO$_2$ and lead emissions timeseries\")\n",
    "\n",
    "ax = fig.add_subplot(122)\n",
    "sr15_data_quantile.filter(variable=\"*VOC\").line_plot(ax=ax, **pkwargs)\n",
    "filler_data_filled.filter(variable=\"*VOC\").line_plot(ax=ax, color=\"black\", linestyle=\"--\", dashes=(10, 15))\n",
    "ax.set_title(\"Database VOC and filled follower emissions timeseries\")\n",
    "\n",
    "plt.tight_layout()"
   ]
  },
  {
   "cell_type": "markdown",
   "metadata": {},
   "source": [
    "#### Recovering the data you put in"
   ]
  },
  {
   "cell_type": "markdown",
   "metadata": {},
   "source": [
    "Because of the averaging mechanism, the cruncher will only precisely reproduce the input data when only one timeseries is put into it. With multiple data series, this is not guaranteed, although will happen in the limit case of many windows. \n",
    "\n",
    "This section does not illustrate new functionality, merely investigates the mathematical effects of changing the number of windows."
   ]
  },
  {
   "cell_type": "code",
   "execution_count": null,
   "metadata": {},
   "outputs": [],
   "source": [
    "# NBVAL_IGNORE_OUTPUT\n",
    "# Multiple data are input - the 50th percentile and nwindows=10 is the default\n",
    "filler_data = sr15_data_quantile.filter(scenario='ADVANCE_2030_Med2C')\n",
    "self_cruncher = silicone.database_crunchers.DatabaseCruncherQuantileRollingWindows(sr15_data)\n",
    "self_filler_default = self_cruncher.derive_relationship(\"Emissions|VOC\", [\"Emissions|VOC\"], nwindows=10)\n",
    "infilled_quantile = self_filler_default(filler_data)\n",
    "infilled_quantile.head()"
   ]
  },
  {
   "cell_type": "markdown",
   "metadata": {},
   "source": [
    "The default behaviour shows the correct trend, but the windows-based interpolation introduces some noise."
   ]
  },
  {
   "cell_type": "code",
   "execution_count": null,
   "metadata": {
    "scrolled": true
   },
   "outputs": [],
   "source": [
    "# NBVAL_IGNORE_OUTPUT\n",
    "pkwargs = {\"color\": \"scenario\", \"linewidth\": 2}\n",
    "fig = plt.figure(figsize=(6, 6))\n",
    "ax = fig.add_subplot()\n",
    "filler_data.filter(variable='Emissions|VOC', ).line_plot(ax=ax, **pkwargs)\n",
    "infilled_quantile.filter(variable='Emissions|VOC').line_plot(ax=ax, color=\"black\", linestyle=\"--\", dashes=(8, 10))"
   ]
  },
  {
   "cell_type": "markdown",
   "metadata": {},
   "source": [
    "By increasing the windows number, we can get a higher fidelity - at the cost of more computational power and less averaging over different datapoints. "
   ]
  },
  {
   "cell_type": "code",
   "execution_count": null,
   "metadata": {},
   "outputs": [],
   "source": [
    "# NBVAL_IGNORE_OUTPUT\n",
    "# With a lower window number, the deviations become clearer\n",
    "self_filler_low_w = self_cruncher.derive_relationship(\"Emissions|VOC\", [\"Emissions|VOC\"], nwindows=2)\n",
    "infilled_low_w = self_filler_low_w(filler_data)\n",
    "infilled_low_w.head()"
   ]
  },
  {
   "cell_type": "code",
   "execution_count": null,
   "metadata": {},
   "outputs": [],
   "source": [
    "# NBVAL_IGNORE_OUTPUT\n",
    "# Higher window numbers mean that we weight data with the exact same x-value more highly, recovering the original relation\n",
    "self_filler_high_w = self_cruncher.derive_relationship(\"Emissions|VOC\", [\"Emissions|VOC\"], nwindows=30)\n",
    "infilled_high_w = self_filler_high_w(filler_data)\n",
    "infilled_high_w.head()"
   ]
  },
  {
   "cell_type": "code",
   "execution_count": null,
   "metadata": {
    "scrolled": true
   },
   "outputs": [],
   "source": [
    "# NBVAL_IGNORE_OUTPUT\n",
    "# Here the lower window count (orange) results in large deviations whereas the high window case (red) provides a close match. \n",
    "pkwargs = {\"color\": \"scenario\", \"linewidth\": 2}\n",
    "fig = plt.figure(figsize=(16, 9))\n",
    "ax = fig.add_subplot(121)\n",
    "# This line illustrates the background data informing the deviations (but confuses the plots). \n",
    "# Re-add it in place of the legend line if desired\n",
    "#sr15_data.filter(variable='Emissions|VOC',).line_plot(ax=ax, linewidth=0.1)\n",
    "\n",
    "filler_data.filter(variable='Emissions|VOC', ).line_plot(ax=ax, **pkwargs)\n",
    "infilled_quantile.filter(variable='Emissions|VOC').line_plot(ax=ax, color=\"black\", linestyle=\"--\", dashes=(8, 10))\n",
    "infilled_low_w.line_plot(ax=ax, color=\"blue\", linestyle=\"--\", dashes=(7, 8))\n",
    "infilled_high_w.line_plot(ax=ax, color=\"red\", linestyle=\"--\", dashes=(7, 8))\n",
    "plt.legend(['Original', 'n=10', 'n=2', 'n=30'])"
   ]
  },
  {
   "cell_type": "markdown",
   "metadata": {},
   "source": [
    "### Time-dependent ratio cruncher\n",
    "This cruncher uses the 'time-dependent ratio' methodology. It is described by its docstring."
   ]
  },
  {
   "cell_type": "code",
   "execution_count": null,
   "metadata": {},
   "outputs": [],
   "source": [
    "print(silicone.database_crunchers.DatabaseCruncherTimeDepRatio.__doc__)"
   ]
  },
  {
   "cell_type": "markdown",
   "metadata": {},
   "source": [
    "#### Infilling\n",
    "This technique is extracts only a single constant multiplier from all data fed in to the cruncher, so additional data does not radically change how it behaves. We will use the same amount of data as in the previous case for comparison. This cruncher works well for cases like splitting groups of gases into constituent parts, but poorly for gases which may have negative emissions. "
   ]
  },
  {
   "cell_type": "code",
   "execution_count": null,
   "metadata": {},
   "outputs": [],
   "source": [
    "sr15_data_tdr = sr15_data.copy().filter(\n",
    "    model=[\"WITCH-GLOBIOM 4.2\"], \n",
    "    variable=[\"Emissions|CO2\", \"Emissions|VOC\", \"Emissions|CH4\" ,\"Emissions|HCF*\"]\n",
    ")"
   ]
  },
  {
   "cell_type": "code",
   "execution_count": null,
   "metadata": {
    "scrolled": true
   },
   "outputs": [],
   "source": [
    "cruncher = silicone.database_crunchers.DatabaseCruncherTimeDepRatio(sr15_data_tdr)\n",
    "filler = cruncher.derive_relationship(\"Emissions|VOC\", [\"Emissions|CO2\"])\n",
    "print(filler.__doc__)"
   ]
  },
  {
   "cell_type": "code",
   "execution_count": null,
   "metadata": {},
   "outputs": [],
   "source": [
    "# NBVAL_IGNORE_OUTPUT\n",
    "filler_data = sr15_data.filter(\n",
    "    model=\"MESSAGEix-GLOBIOM 1.0\", \n",
    "    scenario=\"CD-LINKS_NPi2020_1600\", \n",
    "    variable=[\"Emissions|CO2\"]\n",
    ")\n",
    "filler_data = filler_data.filter(year=sr15_data_quantile[\"year\"].unique())\n",
    "filler_data.data"
   ]
  },
  {
   "cell_type": "code",
   "execution_count": null,
   "metadata": {
    "scrolled": true
   },
   "outputs": [],
   "source": [
    "# NBVAL_IGNORE_OUTPUT\n",
    "results = filler(filler_data)\n",
    "results.head()"
   ]
  },
  {
   "cell_type": "markdown",
   "metadata": {},
   "source": [
    "We observe that the results become somewhat odd when the lead emissions may be negative. By default, we only use data where the lead has the same sign as the follow, so some of the pathways are discounted when their lead goes negative but the infillee data hasn't. This can be switched off using the `same_sign = False` option. "
   ]
  },
  {
   "cell_type": "code",
   "execution_count": null,
   "metadata": {
    "scrolled": true
   },
   "outputs": [],
   "source": [
    "pkwargs = {\"color\": \"scenario\", \"linewidth\": 2}\n",
    "\n",
    "fig = plt.figure(figsize=(16, 9))\n",
    "ax = fig.add_subplot(121)\n",
    "sr15_data_tdr.filter(variable=\"*CO2\").line_plot(ax=ax, **pkwargs)\n",
    "filler_data.filter(variable=\"*CO2\").line_plot(ax=ax, color=\"black\", linestyle=\"--\", dashes=(10, 15))\n",
    "ax.set_title(\"Database CO$_2$ and lead emissions timeseries\")\n",
    "\n",
    "ax = fig.add_subplot(122)\n",
    "sr15_data_tdr.filter(variable=\"*VOC\").line_plot(ax=ax, **pkwargs)\n",
    "results.filter(variable=\"*VOC\").line_plot(ax=ax, color=\"black\", linestyle=\"--\", dashes=(10, 15))\n",
    "ax.set_title(\"Database VOC and filled follower emissions timeseries\")\n",
    "\n",
    "plt.tight_layout()"
   ]
  },
  {
   "cell_type": "markdown",
   "metadata": {},
   "source": [
    "By comparison, with `same_sign = False`, we obtain unphysically negative results for VOC:"
   ]
  },
  {
   "cell_type": "code",
   "execution_count": null,
   "metadata": {},
   "outputs": [],
   "source": [
    "filler = cruncher.derive_relationship(\"Emissions|VOC\", [\"Emissions|CO2\"], same_sign = False)\n",
    "results = filler(filler_data)\n",
    "pkwargs = {\"color\": \"scenario\", \"linewidth\": 2}\n",
    "\n",
    "fig = plt.figure(figsize=(16, 9))\n",
    "ax = fig.add_subplot(111)\n",
    "sr15_data_tdr.filter(variable=\"*VOC\").line_plot(ax=ax, **pkwargs)\n",
    "results.filter(variable=\"*VOC\").line_plot(ax=ax, color=\"black\", linestyle=\"--\", dashes=(10, 15))\n",
    "ax.set_title(\"Database VOC and filled follower emissions timeseries\")\n",
    "\n",
    "plt.tight_layout()"
   ]
  },
  {
   "cell_type": "markdown",
   "metadata": {},
   "source": [
    "#### HFC emission splitting\n",
    "One of the features of the time-dependent ratio is that if the constituent elements consistently add up to a particular value, the infilled results will too, i.e. if for gases A, B, C we have A = B + C in all source material, then this will hold for the infilled values too. This makes it particularly appropriate for splitting gases into their constituents. "
   ]
  },
  {
   "cell_type": "code",
   "execution_count": null,
   "metadata": {},
   "outputs": [],
   "source": [
    "sr15_data_hfc = sr15_data.filter(variable=\"Emissions|HFC*\")\n",
    "sr15_data_hfc.variables()"
   ]
  },
  {
   "cell_type": "code",
   "execution_count": null,
   "metadata": {},
   "outputs": [],
   "source": [
    "# We don't have all variables for all scenarios, but by finding a scenario where we do we can make progress\n",
    "common_models = set(sr15_data_hfc.filter(variable=\"Emissions|HFC|HFC245fa\").models()).intersection(\n",
    "    set(sr15_data_hfc.filter(variable=\"Emissions|HFC\").models())\n",
    ")\n",
    "common_scenarios = set(sr15_data_hfc.filter(variable=\"Emissions|HFC|HFC245fa\", model=common_models).scenarios()).intersection(\n",
    "    set(sr15_data_hfc.filter(variable=\"Emissions|HFC\", model=common_models).scenarios())\n",
    ")\n",
    "infill_scenarios = \"GEA_Eff_1p5C\"\n",
    "#set(sr15_data_hfc.filter(variable=\"Emissions|HFC\").scenarios()) - set(sr15_data_hfc.filter(variable=\"Emissions|HFC|HFC245fa\").scenarios())\n",
    "\n",
    "infill_models ='MESSAGE V.3' \n",
    "# set(sr15_data_hfc.filter(variable=\"Emissions|HFC\").models()) - set(sr15_data_hfc.filter(variable=\"Emissions|HFC|HFC245fa\").models())\n",
    "\n",
    "infill_scenarios"
   ]
  },
  {
   "cell_type": "code",
   "execution_count": null,
   "metadata": {},
   "outputs": [],
   "source": [
    "common_years = np.arange(2010, 2105, 10)\n",
    "hfc_training_data = sr15_data_hfc.filter(model=common_models, scenario=common_scenarios, year=common_years)\n",
    "cruncher = silicone.database_crunchers.DatabaseCruncherTimeDepRatio(hfc_training_data)\n",
    "filler = cruncher.derive_relationship(\"Emissions|HFC|HFC245fa\", [\"Emissions|HFC\"])"
   ]
  },
  {
   "cell_type": "code",
   "execution_count": null,
   "metadata": {},
   "outputs": [],
   "source": [
    "#NBVAL_IGNORE_OUTPUT\n",
    "to_infill = sr15_data_hfc.filter(model=infill_models, scenario=infill_scenarios, year=common_years)\n",
    "infilled = filler(to_infill)\n",
    "infilled.head()"
   ]
  },
  {
   "cell_type": "code",
   "execution_count": null,
   "metadata": {},
   "outputs": [],
   "source": [
    "# NBVAL_IGNORE_OUTPUT\n",
    "pkwargs = {\"color\": \"scenario\", \"linewidth\": 2}\n",
    "\n",
    "fig = plt.figure(figsize=(16, 9))\n",
    "ax = fig.add_subplot(121)\n",
    "hfc_training_data.filter(variable=\"*HFC\").line_plot(ax=ax, **pkwargs)\n",
    "to_infill.filter(variable=\"*HFC\").line_plot(ax=ax, color=\"black\", linestyle=\"--\", dashes=(10, 15))\n",
    "ax.set_title(\"Database HFC and lead emissions timeseries\")\n",
    "\n",
    "ax = fig.add_subplot(122)\n",
    "hfc_training_data.filter(variable=\"*HFC245fa\").line_plot(ax=ax, **pkwargs)\n",
    "infilled.filter(variable=\"*HFC245fa\").line_plot(ax=ax, color=\"black\", linestyle=\"--\", dashes=(10, 15))\n",
    "ax.set_title(\"Database HFC245fa and filled follower emissions timeseries\")\n",
    "\n",
    "plt.tight_layout()"
   ]
  },
  {
   "cell_type": "markdown",
   "metadata": {},
   "source": [
    "### Constant ratio cruncher\n",
    "This infiller simply multiples a known value by a constant, which it must be told. It must also be told the units of the value it returns. It does not require an input dataframe. "
   ]
  },
  {
   "cell_type": "code",
   "execution_count": null,
   "metadata": {},
   "outputs": [],
   "source": [
    "print(silicone.database_crunchers.DatabaseCruncherTimeDepRatio.__doc__)"
   ]
  },
  {
   "cell_type": "code",
   "execution_count": null,
   "metadata": {},
   "outputs": [],
   "source": [
    "cruncher = silicone.database_crunchers.DatabaseCruncherConstantRatio()\n",
    "filler = cruncher.derive_relationship(\"Emissions|VOC\", [\"Emissions|CO2\"], 0.5, \"kt VOC/yr\")\n",
    "print(filler.__doc__)"
   ]
  },
  {
   "cell_type": "code",
   "execution_count": null,
   "metadata": {},
   "outputs": [],
   "source": [
    "#NBVAL_IGNORE_OUTPUT\n",
    "to_infill = sr15_data.filter(model=infill_models)\n",
    "infilled = filler(to_infill)\n",
    "infilled.head()"
   ]
  },
  {
   "cell_type": "markdown",
   "metadata": {},
   "source": [
    "The values returned are simply the input, scaled by a factor. "
   ]
  },
  {
   "cell_type": "code",
   "execution_count": null,
   "metadata": {},
   "outputs": [],
   "source": [
    "# NBVAL_IGNORE_OUTPUT\n",
    "pkwargs = {\"color\": \"scenario\", \"linewidth\": 2}\n",
    "\n",
    "fig = plt.figure(figsize=(16, 9))\n",
    "ax = fig.add_subplot(121)\n",
    "infilled.line_plot(ax=ax, **pkwargs)\n",
    "to_infill.filter(variable=\"*CO2\").line_plot(ax=ax, color=\"black\", linestyle=\"--\", dashes=(1, 1))\n",
    "ax.set_title(\"Database HFC and lead emissions timeseries\")\n"
   ]
  },
  {
   "cell_type": "markdown",
   "metadata": {},
   "source": [
    "### Interpolate specified scenarios and models\n",
    "\n",
    "This cruncher pre-filters the data to such that it only uses data from scenarios or models containing a specified string (typically scenarios which start with \"SSP\"). "
   ]
  },
  {
   "cell_type": "code",
   "execution_count": null,
   "metadata": {},
   "outputs": [],
   "source": [
    "print(silicone.database_crunchers.DatabaseCruncherScenarioAndModelSpecificInterpolate.__doc__)"
   ]
  },
  {
   "cell_type": "markdown",
   "metadata": {},
   "source": [
    "#### Using only one model\n",
    "\n",
    "We will show infilling using a database comprised of data only from variants of the MESSAGE model. "
   ]
  },
  {
   "cell_type": "code",
   "execution_count": null,
   "metadata": {},
   "outputs": [],
   "source": [
    "sr15_data_message = sr15_data.filter(\n",
    "    model=[\"MESSAGE*\"], \n",
    "    variable=[\"Emissions|CO2\", \"Emissions|VOC\", \"Emissions|CH4\" ,\"Emissions|HCF*\"]\n",
    ")\n",
    "sr15_data_message.models()"
   ]
  },
  {
   "cell_type": "markdown",
   "metadata": {},
   "source": [
    "As we can see, variants of the MESSAGE model have submitted data for a large number of scenarios."
   ]
  },
  {
   "cell_type": "code",
   "execution_count": null,
   "metadata": {},
   "outputs": [],
   "source": [
    "sr15_data_message.scenarios()"
   ]
  },
  {
   "cell_type": "markdown",
   "metadata": {},
   "source": [
    "For our example, we will infill data using data taken only from variants of the AIM model and we are only going to infill data for variants of SSP2."
   ]
  },
  {
   "cell_type": "code",
   "execution_count": null,
   "metadata": {},
   "outputs": [],
   "source": [
    "sr15_data_aim_ssp2 = sr15_data.filter(\n",
    "    model=[\"AIM*\"], \n",
    "    scenario=\"SSP2*\",\n",
    "    variable=[\"Emissions|CO2\", \"Emissions|VOC\", \"Emissions|CH4\" ,\"Emissions|HCF*\"], \n",
    "    year=sr15_data_message.data[\"year\"].unique()\n",
    ")\n",
    "sr15_data_aim_ssp2.models()"
   ]
  },
  {
   "cell_type": "code",
   "execution_count": null,
   "metadata": {},
   "outputs": [],
   "source": [
    "sr15_data_aim_ssp2.scenarios()"
   ]
  },
  {
   "cell_type": "markdown",
   "metadata": {},
   "source": [
    "Although the lineshapes for CO$_2$ (left-hand column below) look similar in the AIM and MESSAGE models, the lineshapes for VOC (right-hand column below) are very different. "
   ]
  },
  {
   "cell_type": "code",
   "execution_count": null,
   "metadata": {
    "scrolled": true
   },
   "outputs": [],
   "source": [
    "# NBVAL_IGNORE_OUTPUT\n",
    "pdf = pyam.concat([sr15_data_message, sr15_data_aim_ssp2])\n",
    "\n",
    "fig = plt.figure(figsize=(16, 9))\n",
    "\n",
    "ax = fig.add_subplot(121)\n",
    "pdf.filter(scenario=\"SSP2*\", variable=\"*CO2\").line_plot(ax=ax, color=\"scenario\", linestyle=\"model\")\n",
    "\n",
    "ax = fig.add_subplot(122)\n",
    "pdf.filter(scenario=\"SSP2*\", variable=\"*VOC\").line_plot(ax=ax, color=\"scenario\", linestyle=\"model\")\n",
    "\n",
    "plt.tight_layout()"
   ]
  },
  {
   "cell_type": "markdown",
   "metadata": {},
   "source": [
    "Variants of the MESSAGE model have submitted data for many scenarios, but this cruncher allows us to specify that only data from scenarios which start with SSP2 should be used. "
   ]
  },
  {
   "cell_type": "code",
   "execution_count": null,
   "metadata": {},
   "outputs": [],
   "source": [
    "cruncher = silicone.database_crunchers.DatabaseCruncherScenarioAndModelSpecificInterpolate(sr15_data_message)\n",
    "filler = cruncher.derive_relationship(\"Emissions|VOC\", [\"Emissions|CO2\"], required_scenario=\"SSP2*\")\n",
    "infilled = filler(sr15_data_aim_ssp2)"
   ]
  },
  {
   "cell_type": "markdown",
   "metadata": {},
   "source": [
    "We can now compare the original data, the database which was used to derive the infilling relationship and the infilled data. We see that the infilled results result in timeseries which much more strongly resemble the timeseries in the database (i.e. the similarity in CO$_2$ emissions is now also reflected in VOC emissions). We also see that no emissions values more extreme than the range of values contained in the input database are returned by this cruncher."
   ]
  },
  {
   "cell_type": "code",
   "execution_count": null,
   "metadata": {},
   "outputs": [],
   "source": [
    "# NBVAL_IGNORE_OUTPUT\n",
    "pkwargs = {\"color\": \"scenario\", \"linewidth\": 2}\n",
    "fig = plt.figure(figsize=(16, 9))\n",
    "\n",
    "ax = fig.add_subplot(131)\n",
    "sr15_data_aim_ssp2.filter(variable=\"*VOC\").line_plot(ax=ax, **pkwargs)\n",
    "ax.set_title(\"Original (AIM) timeseries\")\n",
    "\n",
    "ax = fig.add_subplot(132)\n",
    "infilled.line_plot(ax=ax, **pkwargs)\n",
    "ax.set_title(\"Infilled timeseries\\n(infilling AIM results based on the relationship\\nbetween CO2 and VOC in MESSAGE)\")\n",
    "\n",
    "ax = fig.add_subplot(133)\n",
    "sr15_data_message.filter(scenario=\"SSP2*\", variable=\"*VOC\").line_plot(ax=ax, color=\"scenario\")\n",
    "ax.set_title(\"Database (MESSAGE) timeseries\")\n",
    "\n",
    "plt.tight_layout()"
   ]
  },
  {
   "cell_type": "markdown",
   "metadata": {},
   "source": [
    "#### Multiple models\n",
    "\n",
    "However, if we include data from many different models in our database, the inter-model differences often exceed the differences within a single model's data, making for rather chaotic interpolation. This is shown below."
   ]
  },
  {
   "cell_type": "code",
   "execution_count": null,
   "metadata": {},
   "outputs": [],
   "source": [
    "# NBVAL_IGNORE_OUTPUT\n",
    "scenario_string = \"SSP2*\"\n",
    "too_much_data = (\n",
    "    sr15_data.filter(\n",
    "        variable=[\"Emissions|CO2\", \"Emissions|VOC\", \"Emissions|CH4\" ,\"Emissions|HCF*\"]\n",
    "    ).filter(\n",
    "        model=[\"AIM*\"], \n",
    "        keep=False\n",
    "    )\n",
    ")\n",
    "\n",
    "cruncher = silicone.database_crunchers.DatabaseCruncherScenarioAndModelSpecificInterpolate(too_much_data)\n",
    "filler = cruncher.derive_relationship(\"Emissions|VOC\", [\"Emissions|CO2\"], required_scenario=scenario_string)\n",
    "\n",
    "infilled = filler(sr15_data_aim_ssp2)\n",
    "\n",
    "wide_db = _make_wide_db(too_much_data.filter(scenario=scenario_string))\n",
    "interpolator = _make_interpolator(\"Emissions|VOC\", [\"Emissions|CO2\"], wide_db, \"year\")"
   ]
  },
  {
   "cell_type": "markdown",
   "metadata": {},
   "source": [
    "There is no simple function relating the CO$_2$ and VOC trends in this case."
   ]
  },
  {
   "cell_type": "code",
   "execution_count": null,
   "metadata": {},
   "outputs": [],
   "source": [
    "# NBVAL_IGNORE_OUTPUT\n",
    "fig = plt.figure(figsize=(16, 9))\n",
    "\n",
    "ax = fig.add_subplot(121)\n",
    "too_much_data.filter(\n",
    "    scenario=scenario_string, variable=\"*VOC\"\n",
    ").line_plot(\n",
    "    ax=ax, color=\"scenario\", linestyle=\"model\"\n",
    ")\n",
    "ax.set_title(\"VOC trends in the cruncher's database\")\n",
    "\n",
    "ax = fig.add_subplot(122)\n",
    "plt.scatter(\n",
    "    wide_db[\"Emissions|CO2\"].loc[wide_db.index.get_level_values('year')==2060], \n",
    "    wide_db[\"Emissions|VOC\"].loc[wide_db.index.get_level_values('year')==2060],\n",
    ")\n",
    "plt.xlabel(\"Mt CO2/yr\")\n",
    "plt.ylabel(\"Mt VOC/yr\")\n",
    "ax.set_title(\"VOC vs CO2 in 2060\")"
   ]
  },
  {
   "cell_type": "markdown",
   "metadata": {},
   "source": [
    "As a result, we have uneven and non-monotonic trends in our inferred relationship between the lead and follower gases (here CO$_2$ and VOC respectively)."
   ]
  },
  {
   "cell_type": "code",
   "execution_count": null,
   "metadata": {},
   "outputs": [],
   "source": [
    "# NBVAL_IGNORE_OUTPUT\n",
    "pkwargs = {\"color\": \"scenario\", \"linewidth\": 2}\n",
    "fig = plt.figure(figsize=(16, 9))\n",
    "ax = fig.add_subplot(121)\n",
    "\n",
    "xs = np.arange(-60000, 150000)\n",
    "plt.plot(xs, interpolator[2060](xs))\n",
    "plt.title(\"VOC interpolator in 2060\")\n",
    "plt.xlabel(\"Mt CO2/yr\")\n",
    "plt.ylabel(\"Mt VOC/yr\")"
   ]
  },
  {
   "cell_type": "code",
   "execution_count": null,
   "metadata": {
    "scrolled": true
   },
   "outputs": [],
   "source": [
    "# NBVAL_IGNORE_OUTPUT\n",
    "pkwargs = {\"color\": \"scenario\", \"linewidth\": 2}\n",
    "fig = plt.figure(figsize=(16, 9))\n",
    "\n",
    "ax = fig.add_subplot(121)\n",
    "too_much_data.filter(scenario=\"SSP2*\", variable=\"*VOC\").line_plot(ax=ax, color=\"scenario\")\n",
    "ax.set_title(\"VOC trends in database\")\n",
    "\n",
    "ax = fig.add_subplot(122)\n",
    "infilled.line_plot(ax=ax, **pkwargs)\n",
    "ax.set_title(\"Infilled VOC trends\")"
   ]
  },
  {
   "cell_type": "markdown",
   "metadata": {},
   "source": [
    "This package also has a function for detecting which of a group of scenarios creates an interpolation that best matches a dataset. Using this tool, we see that the CO$_2$-CH$_4$ relations in some SSP2 scenarios in the AIM data are more similar to SSP3/SSP1 data from MESSAGE models. "
   ]
  },
  {
   "cell_type": "code",
   "execution_count": null,
   "metadata": {},
   "outputs": [],
   "source": [
    "data_to_classify_19 = sr15_data_aim_ssp2.filter(scenario=\"SSP2-19\")\n",
    "possible_ssps = [\"SSP1*\", \"SSP2*\", \"SSP3*\"]\n",
    "find_matching_scenarios(sr15_data_message, data_to_classify_19, \"Emissions|CH4\", [\"Emissions|CO2\"], possible_ssps)"
   ]
  },
  {
   "cell_type": "code",
   "execution_count": null,
   "metadata": {},
   "outputs": [],
   "source": [
    "find_matching_scenarios(\n",
    "    sr15_data_message,\n",
    "    sr15_data_aim_ssp2.filter(scenario=\"SSP2-Baseline\"), \n",
    "    \"Emissions|CH4\", \n",
    "    [\"Emissions|CO2\"], \n",
    "    possible_ssps\n",
    ")"
   ]
  },
  {
   "cell_type": "code",
   "execution_count": null,
   "metadata": {},
   "outputs": [],
   "source": [
    "find_matching_scenarios(\n",
    "    sr15_data_message,\n",
    "    sr15_data_aim_ssp2.filter(scenario=\"SSP2-60\"), \n",
    "    \"Emissions|CH4\", \n",
    "    [\"Emissions|CO2\"], \n",
    "    possible_ssps\n",
    ")"
   ]
  },
  {
   "cell_type": "code",
   "execution_count": null,
   "metadata": {},
   "outputs": [],
   "source": [
    "find_matching_scenarios(\n",
    "    sr15_data_message,\n",
    "    sr15_data_aim_ssp2.filter(scenario=\"SSP2-34\"), \n",
    "    \"Emissions|CH4\", \n",
    "    [\"Emissions|CO2\"],\n",
    "    possible_ssps\n",
    ")"
   ]
  },
  {
   "cell_type": "code",
   "execution_count": null,
   "metadata": {},
   "outputs": [],
   "source": [
    "sr15_data_message.models()"
   ]
  },
  {
   "cell_type": "markdown",
   "metadata": {},
   "source": [
    "It's also possible to break down results by models and scenarios at the same time, and to get the results back in numerical form (they are reported in increasing order of distance, so the top result is the closest). In the event that a model/scenario combination doesn't have any data, a warning is displayed and the 'distance' is reported as infinity. "
   ]
  },
  {
   "cell_type": "code",
   "execution_count": null,
   "metadata": {
    "scrolled": true
   },
   "outputs": [],
   "source": [
    "# NBVAL_IGNORE_OUTPUT\n",
    "possible_models = sr15_data_message.models()\n",
    "find_matching_scenarios(\n",
    "    sr15_data_message,\n",
    "    sr15_data_aim_ssp2.filter(scenario=\"SSP2-Baseline\"), \n",
    "    \"Emissions|CH4\", \n",
    "    [\"Emissions|CO2\"], \n",
    "    possible_ssps, \n",
    "    possible_models, \n",
    "    return_all_info=True\n",
    ")"
   ]
  },
  {
   "cell_type": "markdown",
   "metadata": {},
   "source": [
    "Here we see that the preference for SSP3 is fairly substantial in this case, and that data is only found for these scenarios in the MESSAGE-GLOBIOM model. \n",
    "\n",
    "In some cases, we may wish to ignore the initial differences and only look for the closest trendlines, i.e. match the differentials. This is equivalent to setting all initial values to the same number, then performing the above analysis. This can be done by setting the \"use_change_not_abs\" value to True:"
   ]
  },
  {
   "cell_type": "code",
   "execution_count": null,
   "metadata": {},
   "outputs": [],
   "source": [
    "# NBVAL_IGNORE_OUTPUT\n",
    "possible_models = sr15_data_message.models()\n",
    "find_matching_scenarios(\n",
    "    sr15_data_message,\n",
    "    sr15_data_aim_ssp2.filter(scenario=\"SSP2-Baseline\"), \n",
    "    \"Emissions|CH4\", \n",
    "    [\"Emissions|CO2\"], \n",
    "    possible_ssps, \n",
    "    possible_models, \n",
    "    return_all_info=True, use_change_not_abs=True\n",
    ")"
   ]
  }
 ],
 "metadata": {
  "kernelspec": {
   "display_name": "Python 3",
   "language": "python",
   "name": "python3"
  },
  "language_info": {
   "codemirror_mode": {
    "name": "ipython",
    "version": 3
   },
   "file_extension": ".py",
   "mimetype": "text/x-python",
   "name": "python",
   "nbconvert_exporter": "python",
   "pygments_lexer": "ipython3",
   "version": "3.7.6"
  }
 },
 "nbformat": 4,
 "nbformat_minor": 2
}
