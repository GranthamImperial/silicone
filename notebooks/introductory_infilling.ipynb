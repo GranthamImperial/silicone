{
 "cells": [
  {
   "cell_type": "markdown",
   "metadata": {},
   "source": [
    "# Introduction to Crunchers\n",
    "\n",
    "In this notebook we demonstrate crunchers, silicone's most fundamental infilling methods. You will need to install silicone from as described in the readme in order to run this code. It introduces one specific cruncher, the 'closest RMS' cruncher, and the basic tools to manipulate it. Other crunchers will be documented in other notebooks. "
   ]
  },
  {
   "cell_type": "markdown",
   "metadata": {},
   "source": [
    "## Imports"
   ]
  },
  {
   "cell_type": "code",
   "execution_count": 1,
   "metadata": {},
   "outputs": [
    {
     "data": {
      "application/javascript": [
       "IPython.OutputArea.prototype._should_scroll = function(lines) { return false; }"
      ],
      "text/plain": [
       "<IPython.core.display.Javascript object>"
      ]
     },
     "metadata": {},
     "output_type": "display_data"
    },
    {
     "name": "stderr",
     "output_type": "stream",
     "text": [
      "pyam - INFO: Running in a notebook, setting `pyam` logging level to `logging.INFO` and adding stderr handler\n"
     ]
    },
    {
     "ename": "ModuleNotFoundError",
     "evalue": "No module named 'silicone.scripts'",
     "output_type": "error",
     "traceback": [
      "\u001b[1;31m---------------------------------------------------------------------------\u001b[0m",
      "\u001b[1;31mModuleNotFoundError\u001b[0m                       Traceback (most recent call last)",
      "\u001b[1;32m<ipython-input-1-5718d3c23bf2>\u001b[0m in \u001b[0;36m<module>\u001b[1;34m\u001b[0m\n\u001b[0;32m     15\u001b[0m     \u001b[0mget_sr15_scenarios\u001b[0m\u001b[1;33m\u001b[0m\u001b[1;33m\u001b[0m\u001b[0m\n\u001b[0;32m     16\u001b[0m )\n\u001b[1;32m---> 17\u001b[1;33m \u001b[1;32mimport\u001b[0m \u001b[0msilicone\u001b[0m\u001b[1;33m.\u001b[0m\u001b[0mscripts\u001b[0m\u001b[1;33m\u001b[0m\u001b[1;33m\u001b[0m\u001b[0m\n\u001b[0m",
      "\u001b[1;31mModuleNotFoundError\u001b[0m: No module named 'silicone.scripts'"
     ]
    }
   ],
   "source": [
    "import os.path\n",
    "import traceback\n",
    "\n",
    "import pandas as pd\n",
    "import pyam\n",
    "import matplotlib.pyplot as plt\n",
    "import numpy as np\n",
    "\n",
    "import silicone.database_crunchers\n",
    "from silicone.utils import (\n",
    "    _get_unit_of_variable,\n",
    "    find_matching_scenarios,\n",
    "    _make_interpolator,\n",
    "    _make_wide_db, \n",
    "    get_sr15_scenarios\n",
    ")\n",
    "import silicone.scripts"
   ]
  },
  {
   "cell_type": "markdown",
   "metadata": {},
   "source": [
    "## Assembling example data\n",
    "\n",
    "Here we pull some example data by downloading it from the IAMC 1.5°C Scenario Explorer and Data hosted by IIASA (for details, see Huppman et al 2019, Integrated Assessment Modeling Consortium & International Institute for Applied Systems Analysis, 2018). If the data has already been downloaded before, we will use that instead for brevity, handled by a convenient wrapper function. We select only a few cases. "
   ]
  },
  {
   "cell_type": "code",
   "execution_count": null,
   "metadata": {},
   "outputs": [],
   "source": [
    "valid_model_ids = [\n",
    "        \"MESSAGE*\",\n",
    "        \"AIM*\",\n",
    "        \"C-ROADS*\",\n",
    "        \"GCAM*\",\n",
    "        #\"IEA*\",\n",
    "        #\"IMAGE*\",\n",
    "        #\"MERGE*\",\n",
    "        #\"POLES*\",\n",
    "        #\"REMIND*\",\n",
    "        \"WITCH*\"\n",
    "    ]\n",
    "SR15_SCENARIOS = \"./sr15_scenarios.csv\"\n",
    "sr15_data = download_or_load_sr15(SR15_SCENARIOS, valid_model_ids)"
   ]
  },
  {
   "cell_type": "markdown",
   "metadata": {},
   "source": [
    "### Starting point\n",
    "\n",
    "Our starting point is the test data, loaded as a `pyam.IamDataFrame`. It may be helpful for understanding some of this tutorial for you to know more about IamDataFrames, documented at https://pyam-iamc.readthedocs.io/en/latest/. The key functions are `.filter()`, which selects a subset of data, and `.timeseries()`, which restructures the data into columns by date, with long indexes containing information other than the value. "
   ]
  },
  {
   "cell_type": "code",
   "execution_count": null,
   "metadata": {},
   "outputs": [],
   "source": [
    "sr15_data = pyam.IamDataFrame(SR15_SCENARIOS)\n",
    "sr15_data.timeseries().head()"
   ]
  },
  {
   "cell_type": "markdown",
   "metadata": {},
   "source": [
    "## Crunchers\n",
    "\n",
    "Silicone's 'crunchers' are used to determine the relationship between a 'follower variable' and 'lead variable(s)' from a given database. The 'follower variable' is the variable for which we want to generate data e.g. `Emissions|C3F8` while the 'lead variable(s)' is the variable we want to use in order to infer a timeseries of the 'follower variable'. The lead variable is currently always a list with only a single item, e.g. `[Emissions|HFC]` but in future may be able to deal with several elements. The follower is always a single string - to infill multiple values in a collective way (e.g. splitting HFC into its various components) see Multiple Infillers. \n",
    "\n",
    "Each cruncher needs to be initialised with a database and has a `derive_relationship` method, which returns the infilling function. Its docstring describes what it does."
   ]
  },
  {
   "cell_type": "code",
   "execution_count": null,
   "metadata": {},
   "outputs": [],
   "source": [
    "print(silicone.database_crunchers.base._DatabaseCruncher.derive_relationship.__doc__)\n",
    "# # an alternative, pop-up interface is shown if you uncomment the line below\n",
    "#silicone.database_crunchers.base._DatabaseCruncher.derive_relationship?"
   ]
  },
  {
   "cell_type": "markdown",
   "metadata": {},
   "source": [
    "These crunchers are best explored by looking at the examples below.\n",
    "\n",
    "### Closest Root Mean Square cruncher\n",
    "\n",
    "This cruncher finds the scenario and model in the infiller database that minimises the RMS distance between the the lead emissions in the infiller and infillee data. The follow data is then directly taken from that scenario. \n",
    "The full documentation is as follows:"
   ]
  },
  {
   "cell_type": "code",
   "execution_count": null,
   "metadata": {},
   "outputs": [],
   "source": [
    "print(silicone.database_crunchers.DatabaseCruncherRMSClosest.__doc__)"
   ]
  },
  {
   "cell_type": "markdown",
   "metadata": {},
   "source": [
    "#### Infilling\n",
    "\n",
    "Firstly, let's cut the database down to a size that is comprehensible."
   ]
  },
  {
   "cell_type": "code",
   "execution_count": null,
   "metadata": {
    "scrolled": true
   },
   "outputs": [],
   "source": [
    "sr15_data_closest_rms = sr15_data.filter(model=[\"WITCH-GLOBIOM 4.2\"])\n",
    "sr15_data_closest_rms.head()"
   ]
  },
  {
   "cell_type": "markdown",
   "metadata": {},
   "source": [
    "Next, we initialise the type of cruncher we want with the infiller database. "
   ]
  },
  {
   "cell_type": "code",
   "execution_count": null,
   "metadata": {},
   "outputs": [],
   "source": [
    "cruncher = silicone.database_crunchers.DatabaseCruncherRMSClosest(sr15_data_closest_rms)"
   ]
  },
  {
   "cell_type": "markdown",
   "metadata": {},
   "source": [
    "Now we can derive the relationship between the follower and leader, here `Emissions|CO2` and `Emissions|VOC` respectively. This returns a infiller function, which we will use later. Firstly we will check out the docstring. "
   ]
  },
  {
   "cell_type": "code",
   "execution_count": null,
   "metadata": {},
   "outputs": [],
   "source": [
    "filler = cruncher.derive_relationship(\"Emissions|VOC\", [\"Emissions|CO2\"])\n",
    "print(filler.__doc__)\n",
    "# filler info:"
   ]
  },
  {
   "cell_type": "markdown",
   "metadata": {},
   "source": [
    "Now we can use this relationship to do some infilling. As a sanity check, we firstly make sure that if we pass in a CO$_2$ timeseries which is already in the database, we get back its VOC emissions timeseries. "
   ]
  },
  {
   "cell_type": "code",
   "execution_count": null,
   "metadata": {},
   "outputs": [],
   "source": [
    "example_model_scen = {\n",
    "    \"model\": \"WITCH-GLOBIOM 4.2\",\n",
    "    \"scenario\": \"ADVANCE_INDC\",\n",
    "}\n",
    "example_input = sr15_data_closest_rms.filter(**example_model_scen).data\n",
    "example_input[\"model\"] = \"example\"\n",
    "example_input[\"scenario\"] = \"example\"\n",
    "example_input = pyam.IamDataFrame(example_input)"
   ]
  },
  {
   "cell_type": "markdown",
   "metadata": {},
   "source": [
    "We can now use the function we returned above to infill the example data, and see that we recover the data we put in. "
   ]
  },
  {
   "cell_type": "code",
   "execution_count": null,
   "metadata": {},
   "outputs": [],
   "source": [
    "example_input_filled = filler(example_input)\n",
    "example_input_filled.timeseries()"
   ]
  },
  {
   "cell_type": "code",
   "execution_count": null,
   "metadata": {},
   "outputs": [],
   "source": [
    "sr15_data_closest_rms.filter(variable=\"Emissions|VOC\", **example_model_scen).timeseries()"
   ]
  },
  {
   "cell_type": "markdown",
   "metadata": {},
   "source": [
    "As expected, the cruncher has picked out the scenario which matches and returned its VOC timeseries. This can also be seen in a plot below, where the dashed (infilled) line perfectly matches the pink line. "
   ]
  },
  {
   "cell_type": "code",
   "execution_count": null,
   "metadata": {},
   "outputs": [],
   "source": [
    "pkwargs = {\"color\": \"scenario\", \"linewidth\": 2}\n",
    "\n",
    "fig = plt.figure(figsize=(16, 9))\n",
    "ax = fig.add_subplot(121)\n",
    "sr15_data_closest_rms.filter(variable=\"*CO2\").line_plot(ax=ax, **pkwargs)\n",
    "example_input.filter(variable=\"*CO2\").line_plot(ax=ax, color=\"black\", linestyle=\"--\", dashes=(10, 15), label=\"To infill\")\n",
    "ax.set_title(\"Database CO$_2$ and lead emissions timeseries\")\n",
    "\n",
    "ax = fig.add_subplot(122)\n",
    "sr15_data_closest_rms.filter(variable=\"*VOC\").line_plot(ax=ax, **pkwargs)\n",
    "example_input_filled.filter(variable=\"*VOC\").line_plot(ax=ax, color=\"black\", linestyle=\"--\", dashes=(10, 15), label=\"Infilled\")\n",
    "ax.set_title(\"Database VOC and filled follower emissions timeseries\")\n",
    "\n",
    "plt.tight_layout()"
   ]
  },
  {
   "cell_type": "markdown",
   "metadata": {},
   "source": [
    "Now we can use our filler to infill other timeseries not present in our infiller database."
   ]
  },
  {
   "cell_type": "code",
   "execution_count": null,
   "metadata": {},
   "outputs": [],
   "source": [
    "filler_input = sr15_data.filter(model=\"MESSAGEix-GLOBIOM 1.0\", scenario=\"CD-LINKS_NPi2020_1600\")\n",
    "# This scenario is missing `Emissions|VOC`. \n",
    "filler_input.filter(variable=\"Emissions|VOC\").data"
   ]
  },
  {
   "cell_type": "code",
   "execution_count": null,
   "metadata": {},
   "outputs": [],
   "source": [
    "# It can go in the same infiller we defined previously.\n",
    "filler_input_filled = filler(filler_input)"
   ]
  },
  {
   "cell_type": "code",
   "execution_count": null,
   "metadata": {},
   "outputs": [],
   "source": [
    "pkwargs = {\"color\": \"scenario\", \"linewidth\": 2}\n",
    "\n",
    "fig = plt.figure(figsize=(16, 9))\n",
    "ax = fig.add_subplot(121)\n",
    "sr15_data_closest_rms.filter(variable=\"*CO2\").line_plot(ax=ax, **pkwargs)\n",
    "filler_input.filter(variable=\"*CO2\").line_plot(ax=ax, color=\"black\", linestyle=\"--\", dashes=(10, 15), label=\"To infill\")\n",
    "ax.set_title(\"Database CO$_2$ and lead emissions timeseries\")\n",
    "\n",
    "ax = fig.add_subplot(122)\n",
    "sr15_data_closest_rms.filter(variable=\"*VOC\").line_plot(ax=ax, **pkwargs)\n",
    "filler_input_filled.filter(variable=\"*VOC\").line_plot(ax=ax, color=\"black\", linestyle=\"--\", dashes=(10, 15), label=\"Infilled\")\n",
    "ax.set_title(\"Database VOC and filled follower emissions timeseries\")\n",
    "\n",
    "plt.tight_layout()"
   ]
  },
  {
   "cell_type": "markdown",
   "metadata": {},
   "source": [
    "As we can see, on an RMS basis our input timeseries is closest to the 'ADVANCE_2030_Med2C' scenario and hence its `Emissions|VOC` pathway is returned."
   ]
  },
  {
   "cell_type": "code",
   "execution_count": null,
   "metadata": {},
   "outputs": [],
   "source": [
    "filler_input_filled.timeseries()"
   ]
  },
  {
   "cell_type": "code",
   "execution_count": null,
   "metadata": {},
   "outputs": [],
   "source": [
    "sr15_data_closest_rms.filter(scenario=\"ADVANCE_2030_Med2C\", variable=\"Emissions|VOC\").timeseries()"
   ]
  },
  {
   "cell_type": "markdown",
   "metadata": {},
   "source": [
    "This may be regarded as conceptually the simplest of the data-based crunchers. The other crunchers are introduced in other notebooks. "
   ]
  }
 ],
 "metadata": {
  "kernelspec": {
   "display_name": "Python 3",
   "language": "python",
   "name": "python3"
  },
  "language_info": {
   "codemirror_mode": {
    "name": "ipython",
    "version": 3
   },
   "file_extension": ".py",
   "mimetype": "text/x-python",
   "name": "python",
   "nbconvert_exporter": "python",
   "pygments_lexer": "ipython3",
   "version": "3.7.6"
  }
 },
 "nbformat": 4,
 "nbformat_minor": 2
}
